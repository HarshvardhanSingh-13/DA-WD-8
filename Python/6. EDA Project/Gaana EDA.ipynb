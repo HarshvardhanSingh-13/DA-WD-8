{
  "cells": [
    {
      "cell_type": "markdown",
      "metadata": {
        "id": "Yo_EGT2L0s4Z"
      },
      "source": [
        "# Q. Find Compound Interest"
      ]
    },
    {
      "cell_type": "code",
      "execution_count": null,
      "metadata": {
        "colab": {
          "base_uri": "https://localhost:8080/"
        },
        "id": "UVh_ekyg0saF",
        "outputId": "45565039-90b9-481a-f783-ac2516e08695"
      },
      "outputs": [
        {
          "name": "stdout",
          "output_type": "stream",
          "text": [
            "Give initial principal balance100\n",
            "Give interest rate5\n",
            "Give number of time periods elapsed2\n",
            "Give number of times interest applied per time period2\n",
            "Your Compound Interest value is 15006.25\n"
          ]
        }
      ],
      "source": [
        "p = int(input(\"Give initial principal balance\"))\n",
        "r = int(input(\"Give interest rate\"))\n",
        "t = int(input(\"Give number of time periods elapsed\"))\n",
        "n = int(input(\"Give number of times interest applied per time period\"))\n",
        "\n",
        "amount = p * ((1+r/n))**(n*t)\n",
        "print(\"Your Compound Interest value is\", amount)"
      ]
    },
    {
      "cell_type": "markdown",
      "metadata": {
        "id": "-8XZzAX41roM"
      },
      "source": [
        "# Q. Find Volume of a Cylinder"
      ]
    },
    {
      "cell_type": "code",
      "execution_count": null,
      "metadata": {
        "colab": {
          "base_uri": "https://localhost:8080/"
        },
        "id": "yqnas0bC0maO",
        "outputId": "1d7703ab-f165-4cdf-85ea-30cf939f49a7"
      },
      "outputs": [
        {
          "name": "stdout",
          "output_type": "stream",
          "text": [
            "Give Radius7.5\n",
            "Give Height3.7\n",
            "The Volume is 653.5125\n"
          ]
        }
      ],
      "source": [
        "r = float(input(\"Give Radius\"))\n",
        "h = float(input(\"Give Height\"))\n",
        "vol = 3.14 * (r)**2 * h\n",
        "print('The Volume is', vol)"
      ]
    },
    {
      "cell_type": "markdown",
      "metadata": {
        "id": "wX81w_GAHXy-"
      },
      "source": [
        "# Conditional Statements"
      ]
    },
    {
      "cell_type": "code",
      "execution_count": null,
      "metadata": {
        "colab": {
          "base_uri": "https://localhost:8080/"
        },
        "id": "R_l6BefQ4bYV",
        "outputId": "cdc36a84-5997-4923-91e9-3a8c814ba083"
      },
      "outputs": [
        {
          "name": "stdout",
          "output_type": "stream",
          "text": [
            "Harsh\n"
          ]
        }
      ],
      "source": [
        "print(\"Harsh\")"
      ]
    },
    {
      "cell_type": "markdown",
      "metadata": {
        "id": "qzz3KWhfIHOy"
      },
      "source": [
        "### Find if the age is eligible for voting"
      ]
    },
    {
      "cell_type": "code",
      "execution_count": null,
      "metadata": {
        "colab": {
          "base_uri": "https://localhost:8080/"
        },
        "id": "JHnhKTar4bm-",
        "outputId": "3f7b0759-5b39-4624-ed39-5e70d6f6ccfc"
      },
      "outputs": [
        {
          "name": "stdout",
          "output_type": "stream",
          "text": [
            "Minor\n"
          ]
        }
      ],
      "source": [
        "age = 17\n",
        "\n",
        "if (age >= 18):\n",
        "  if (age < 100):\n",
        "    print(\"Eligible\")\n",
        "elif (age >= 0):\n",
        "  if (age < 18):\n",
        "    print(\"Minor\")\n",
        "else:\n",
        "  print(\"Invalid\")"
      ]
    },
    {
      "cell_type": "markdown",
      "metadata": {
        "id": "IA-yDZ-pQyHb"
      },
      "source": [
        "# Q. Find if the number is even or odd"
      ]
    },
    {
      "cell_type": "code",
      "execution_count": null,
      "metadata": {
        "colab": {
          "base_uri": "https://localhost:8080/"
        },
        "id": "WZr73d0_4cQ4",
        "outputId": "d478069c-cda9-473a-a46b-9372a66fc4f6"
      },
      "outputs": [
        {
          "name": "stdout",
          "output_type": "stream",
          "text": [
            "Give Number12\n",
            "even\n"
          ]
        }
      ],
      "source": [
        "a = int(input(\"Give Number\"))\n",
        "if (a % 2 == 0):\n",
        "  print(\"even\")\n",
        "else:\n",
        "  print(\"Odd\")"
      ]
    },
    {
      "cell_type": "markdown",
      "metadata": {
        "id": "ocAany5f4v2I"
      },
      "source": [
        "# Q. Find if number is +ve. If yes then find if it is even or odd else tell -ve"
      ]
    },
    {
      "cell_type": "code",
      "execution_count": null,
      "metadata": {
        "colab": {
          "base_uri": "https://localhost:8080/"
        },
        "id": "24Fqnesu5HAW",
        "outputId": "afc53bf1-7ac5-4af1-e352-5e72b52977e6"
      },
      "outputs": [
        {
          "name": "stdout",
          "output_type": "stream",
          "text": [
            "Please Give Number-12\n",
            "The Number is -ve\n"
          ]
        }
      ],
      "source": [
        "num = int(input(\"Please Give Number\"))\n",
        "if num > 0:\n",
        "  print(\"The Number is +ve\")\n",
        "  if num %2 == 0:\n",
        "    print(\"The number is even\")\n",
        "  else:\n",
        "    print(\"The number is odd\")\n",
        "else:\n",
        "  print(\"The Number is -ve\")"
      ]
    },
    {
      "cell_type": "code",
      "execution_count": null,
      "metadata": {
        "id": "FTyMPNI4T3iy"
      },
      "outputs": [],
      "source": []
    },
    {
      "cell_type": "code",
      "execution_count": null,
      "metadata": {
        "id": "WQWQBPT9T3Nx"
      },
      "outputs": [],
      "source": []
    },
    {
      "cell_type": "code",
      "execution_count": null,
      "metadata": {
        "id": "GPcOlLO2Vb7j"
      },
      "outputs": [],
      "source": []
    },
    {
      "cell_type": "code",
      "execution_count": null,
      "metadata": {
        "id": "v5l4tmTvxcJt"
      },
      "outputs": [],
      "source": []
    },
    {
      "cell_type": "code",
      "execution_count": null,
      "metadata": {
        "id": "9sIsxfr1xcCF"
      },
      "outputs": [],
      "source": []
    },
    {
      "cell_type": "code",
      "execution_count": null,
      "metadata": {
        "id": "T-G47_vcxbx4"
      },
      "outputs": [],
      "source": []
    },
    {
      "cell_type": "markdown",
      "metadata": {
        "id": "bNW7FwksskZ0"
      },
      "source": [
        "# Q. Determine a person's stage of life (child, teen, adult, senior) based on age."
      ]
    },
    {
      "cell_type": "code",
      "execution_count": null,
      "metadata": {
        "id": "jK8Kw03CVbvJ"
      },
      "outputs": [],
      "source": [
        "## child - 0 to 12\n",
        "## teen - 13 to 17\n",
        "## adult - 18 to 60\n",
        "## senior - 60+"
      ]
    },
    {
      "cell_type": "code",
      "execution_count": null,
      "metadata": {
        "colab": {
          "base_uri": "https://localhost:8080/"
        },
        "id": "0DAoDU3d16Kw",
        "outputId": "d7f5b0f3-6620-41e2-80a5-fef70886e8d4"
      },
      "outputs": [
        {
          "name": "stdout",
          "output_type": "stream",
          "text": [
            "Give Age1\n",
            "child\n"
          ]
        }
      ],
      "source": [
        "age = int(input(\"Give Age\"))\n",
        "if (age > 60):\n",
        "  print(\"Senior\")\n",
        "elif (age >= 18):\n",
        "  print(\"Adult\")\n",
        "elif (age >= 13):\n",
        "  print(\"Teen\")\n",
        "elif (age >= 0):\n",
        "  print(\"child\")"
      ]
    },
    {
      "cell_type": "code",
      "execution_count": null,
      "metadata": {
        "colab": {
          "base_uri": "https://localhost:8080/"
        },
        "id": "PPFT402X16DB",
        "outputId": "5bd5cd3d-ad3b-4114-cac5-9847c5f49035"
      },
      "outputs": [
        {
          "name": "stdout",
          "output_type": "stream",
          "text": [
            "Give Age60\n",
            "Child\n"
          ]
        }
      ],
      "source": [
        "age = int(input(\"Give Age\"))\n",
        "if (age > 0):\n",
        "  print(\"Child\")\n",
        "elif (age >= 13):\n",
        "  print(\"Teen\")\n",
        "elif (age >= 18):\n",
        "  print(\"Adult\")\n",
        "elif (age >= 60):\n",
        "  print(\"Senior\")"
      ]
    },
    {
      "cell_type": "code",
      "execution_count": null,
      "metadata": {
        "id": "TgdDutXnCrj_"
      },
      "outputs": [],
      "source": []
    },
    {
      "cell_type": "code",
      "execution_count": null,
      "metadata": {
        "id": "Czb3o-EnCrce"
      },
      "outputs": [],
      "source": []
    },
    {
      "cell_type": "code",
      "execution_count": null,
      "metadata": {
        "id": "eoHTuWO815xL"
      },
      "outputs": [],
      "source": []
    },
    {
      "cell_type": "markdown",
      "metadata": {
        "id": "r1dM_7tB5IqE"
      },
      "source": [
        "# Q. Create a simple Calculator"
      ]
    },
    {
      "cell_type": "code",
      "execution_count": null,
      "metadata": {
        "colab": {
          "base_uri": "https://localhost:8080/"
        },
        "id": "2ecKbTFC6cif",
        "outputId": "ee3a356e-ecd6-436d-dc2d-224890b752f5"
      },
      "outputs": [
        {
          "name": "stdout",
          "output_type": "stream",
          "text": [
            "Give num 1 12\n",
            "Give num 2 0\n",
            "Pick one (+,-,*,/)/\n",
            "Invalid Operation\n"
          ]
        }
      ],
      "source": [
        "num1 = int(input(\"Give num 1 \"))\n",
        "num2 = int(input(\"Give num 2 \"))\n",
        "oper = input(\"Pick one (+,-,*,/)\")\n",
        "\n",
        "if (oper == \"+\"):\n",
        "  print(num1 + num2)\n",
        "elif (oper == \"-\"):\n",
        "  print(num1 - num2)\n",
        "elif (oper == \"*\"):\n",
        "  print(num1 * num2)\n",
        "elif (oper == \"/\"):\n",
        "  if (num2 == 0):\n",
        "    print(\"Invalid Operation\")\n",
        "  else:\n",
        "    print(num1 /num2)"
      ]
    },
    {
      "cell_type": "code",
      "execution_count": null,
      "metadata": {
        "id": "66v4FHr_6cf-"
      },
      "outputs": [],
      "source": []
    },
    {
      "cell_type": "code",
      "execution_count": null,
      "metadata": {
        "id": "TlHlZiDn6cdl"
      },
      "outputs": [],
      "source": []
    },
    {
      "cell_type": "code",
      "execution_count": null,
      "metadata": {
        "id": "jyH7Dq_N6cWM"
      },
      "outputs": [],
      "source": []
    },
    {
      "cell_type": "code",
      "execution_count": null,
      "metadata": {
        "id": "4jXypcJl5LTr"
      },
      "outputs": [],
      "source": []
    },
    {
      "cell_type": "markdown",
      "metadata": {
        "id": "q9g6RvCo5OO8"
      },
      "source": [
        "# Q. A simple user login system that checks the username and password."
      ]
    },
    {
      "cell_type": "code",
      "execution_count": null,
      "metadata": {
        "colab": {
          "base_uri": "https://localhost:8080/"
        },
        "id": "e1fi2zjC5PhR",
        "outputId": "8eba4510-8703-43af-d5fe-4318d189280d"
      },
      "outputs": [
        {
          "name": "stdout",
          "output_type": "stream",
          "text": [
            "GIve Usernameas\n",
            "GIve passas\n",
            "Invalid Username\n"
          ]
        }
      ],
      "source": [
        "stored_user = \"user@123\"\n",
        "stored_pass = 'abc123'\n",
        "\n",
        "user_name = input(\"GIve Username\")\n",
        "passw = input(\"GIve pass\")\n",
        "\n",
        "\n",
        "if (user_name == stored_user):\n",
        "  if (passw == stored_pass):\n",
        "    print(\"Login Successful\")\n",
        "  else:\n",
        "    print(\"Invalid Password\")\n",
        "else:\n",
        "  print(\"Invalid Username\")"
      ]
    },
    {
      "cell_type": "code",
      "execution_count": null,
      "metadata": {
        "id": "0rVBAkZh6_64"
      },
      "outputs": [],
      "source": []
    },
    {
      "cell_type": "code",
      "execution_count": null,
      "metadata": {
        "id": "NqHrkeJn6_05"
      },
      "outputs": [],
      "source": []
    },
    {
      "cell_type": "code",
      "execution_count": null,
      "metadata": {
        "id": "K_3E2m4h6_yg"
      },
      "outputs": [],
      "source": []
    },
    {
      "cell_type": "code",
      "execution_count": null,
      "metadata": {
        "id": "4pkl2Lbp6_wV"
      },
      "outputs": [],
      "source": []
    },
    {
      "cell_type": "code",
      "execution_count": null,
      "metadata": {
        "id": "t8CTMTU66_uK"
      },
      "outputs": [],
      "source": []
    },
    {
      "cell_type": "markdown",
      "metadata": {
        "id": "X97IimIL5RlT"
      },
      "source": [
        "# Q. Report Card Generator"
      ]
    },
    {
      "cell_type": "code",
      "execution_count": null,
      "metadata": {
        "colab": {
          "base_uri": "https://localhost:8080/"
        },
        "id": "4giYkFou5S_o",
        "outputId": "f5bcfbe9-fef4-4f6f-b645-92c66448052b"
      },
      "outputs": [
        {
          "name": "stdout",
          "output_type": "stream",
          "text": [
            "Give Your marks51\n",
            "Your grade is E\n"
          ]
        }
      ],
      "source": [
        "## 100 - 91 -> A\n",
        "## 81 - 90 -> B\n",
        "## 71 - 80 -> C\n",
        "## 61 - 70 -> D\n",
        "## 51 - 60 -> E\n",
        "## Else Fail\n",
        "\n",
        "marks = int(input(\"Give Your marks\"))\n",
        "\n",
        "if (marks >= 91):\n",
        "  print(\"Your grade is A\")\n",
        "elif (marks >= 81):\n",
        "  print(\"Your grade is B\")\n",
        "elif (marks >= 71):\n",
        "  print(\"Your grade is C\")\n",
        "elif (marks >= 61):\n",
        "  print(\"Your grade is D\")\n",
        "elif (marks >= 51):\n",
        "  print(\"Your grade is E\")\n",
        "else:\n",
        "  print(\"You Failed\")"
      ]
    },
    {
      "cell_type": "code",
      "execution_count": null,
      "metadata": {
        "id": "f515ediN9-hf"
      },
      "outputs": [],
      "source": []
    },
    {
      "cell_type": "code",
      "execution_count": null,
      "metadata": {
        "id": "U2ZfeEs99-fv"
      },
      "outputs": [],
      "source": []
    },
    {
      "cell_type": "code",
      "execution_count": null,
      "metadata": {
        "id": "5cV91hX79-dS"
      },
      "outputs": [],
      "source": []
    },
    {
      "cell_type": "code",
      "execution_count": null,
      "metadata": {
        "id": "2C-S30I-9-bG"
      },
      "outputs": [],
      "source": []
    },
    {
      "cell_type": "code",
      "execution_count": null,
      "metadata": {
        "id": "x94pOBq59-Xq"
      },
      "outputs": [],
      "source": []
    },
    {
      "cell_type": "code",
      "execution_count": null,
      "metadata": {
        "id": "tTiXTaqy9-Us"
      },
      "outputs": [],
      "source": []
    },
    {
      "cell_type": "markdown",
      "metadata": {
        "id": "tCuaN0wU5Yjx"
      },
      "source": [
        "# Q. Calculate an employee's bonus based on their performance rating and years of service."
      ]
    },
    {
      "cell_type": "code",
      "execution_count": null,
      "metadata": {
        "id": "rJIsR_D-5aHO"
      },
      "outputs": [],
      "source": [
        "## Take salary\n",
        "## Take years of Experince\n",
        "## Take your rating\n",
        "\n",
        "## rating > 4.5\n",
        "  ## yrs > 10\n",
        "    ## 20%\n",
        "  ## yrs > 5\n",
        "    ## 10%\n",
        "## rating > 3.5\n",
        "  ## yrs > 10\n",
        "    ## 10%\n",
        "  ## yrs > 5\n",
        "    ## 5%\n",
        "## else no bonus"
      ]
    },
    {
      "cell_type": "code",
      "execution_count": null,
      "metadata": {
        "colab": {
          "base_uri": "https://localhost:8080/"
        },
        "id": "2vakJLCWydZm",
        "outputId": "388571af-7485-41bc-bba3-6e53e827da66"
      },
      "outputs": [
        {
          "name": "stdout",
          "output_type": "stream",
          "text": [
            "Give Salary20000\n",
            "Give Years of Experience11\n",
            "Give Rating4.6\n",
            "HI your bonus % is 20 Your FInal Salary is 24000.0\n"
          ]
        }
      ],
      "source": [
        "salary = int(input(\"Give Salary\"))\n",
        "yrs = int(input(\"Give Years of Experience\"))\n",
        "rating = float(input(\"Give Rating\"))\n",
        "\n",
        "if rating > 4.5:\n",
        "  if yrs >= 10:\n",
        "    bonus = 20\n",
        "  elif yrs > 5:\n",
        "    bonus = 10\n",
        "elif rating > 3.5:\n",
        "  if yrs >= 10:\n",
        "    bonus = 10\n",
        "  elif yrs > 5:\n",
        "    bonus = 5\n",
        "else:\n",
        "  bonus = 0\n",
        "\n",
        "final_salary = (salary + ((bonus/100)*salary))\n",
        "print(\"HI your bonus % is\",bonus, \"Your FInal Salary is\", final_salary)"
      ]
    },
    {
      "cell_type": "markdown",
      "metadata": {
        "id": "t5c82cab_7du"
      },
      "source": [
        "# Loops"
      ]
    },
    {
      "cell_type": "code",
      "execution_count": null,
      "metadata": {
        "colab": {
          "base_uri": "https://localhost:8080/"
        },
        "id": "-rUmF45sydXe",
        "outputId": "ae5ce7a4-7a29-4d96-84a0-aba9d7dafed9"
      },
      "outputs": [
        {
          "data": {
            "text/plain": [
              "range(0, 10)"
            ]
          },
          "execution_count": 4,
          "metadata": {},
          "output_type": "execute_result"
        }
      ],
      "source": [
        "range(10)"
      ]
    },
    {
      "cell_type": "code",
      "execution_count": null,
      "metadata": {
        "colab": {
          "base_uri": "https://localhost:8080/"
        },
        "id": "1S_Y07DLydVH",
        "outputId": "6d9e12a3-b4e3-4704-c440-ee564de81dec"
      },
      "outputs": [
        {
          "name": "stdout",
          "output_type": "stream",
          "text": [
            "1\n",
            "3\n",
            "5\n",
            "7\n",
            "9\n"
          ]
        }
      ],
      "source": [
        "for i in range(1,11,2):\n",
        "  print(i)"
      ]
    },
    {
      "cell_type": "code",
      "execution_count": null,
      "metadata": {
        "colab": {
          "base_uri": "https://localhost:8080/"
        },
        "id": "r5vn525TydTE",
        "outputId": "c1a2eef6-b27a-47cd-ba2d-8ec56c5201b9"
      },
      "outputs": [
        {
          "name": "stdout",
          "output_type": "stream",
          "text": [
            "5\n",
            "10\n",
            "15\n",
            "20\n",
            "25\n",
            "30\n",
            "35\n",
            "40\n",
            "45\n",
            "50\n"
          ]
        }
      ],
      "source": [
        "for i in range(5,51,5):\n",
        "  print(i)"
      ]
    },
    {
      "cell_type": "code",
      "execution_count": null,
      "metadata": {
        "colab": {
          "base_uri": "https://localhost:8080/"
        },
        "id": "lK4oDGaWydQ5",
        "outputId": "93ce5442-d756-4eb1-b66b-7055f3203453"
      },
      "outputs": [
        {
          "name": "stdout",
          "output_type": "stream",
          "text": [
            "5\n",
            "10\n",
            "15\n",
            "20\n",
            "25\n",
            "30\n",
            "35\n",
            "40\n",
            "45\n",
            "50\n"
          ]
        }
      ],
      "source": [
        "num = 5\n",
        "\n",
        "for i in range(num,(num*10)+1,num):\n",
        "  print(i)\n"
      ]
    },
    {
      "cell_type": "code",
      "execution_count": null,
      "metadata": {
        "id": "-3y6M5iaydOX"
      },
      "outputs": [],
      "source": [
        "for i in range(50,1,-5):\n",
        "  print(i)"
      ]
    },
    {
      "cell_type": "code",
      "execution_count": null,
      "metadata": {
        "colab": {
          "base_uri": "https://localhost:8080/"
        },
        "id": "2o9DKeuGydLa",
        "outputId": "7275d8c8-e3d9-4067-fb98-178c22fbbc6b"
      },
      "outputs": [
        {
          "name": "stdout",
          "output_type": "stream",
          "text": [
            "20\n",
            "18\n",
            "16\n",
            "14\n",
            "12\n",
            "10\n",
            "8\n",
            "6\n",
            "4\n",
            "2\n"
          ]
        }
      ],
      "source": [
        "num = 2\n",
        "\n",
        "for i in range(num*10,num-1,-num):\n",
        "  print(i)"
      ]
    },
    {
      "cell_type": "code",
      "execution_count": null,
      "metadata": {
        "id": "gZznDGbBydJH"
      },
      "outputs": [],
      "source": []
    },
    {
      "cell_type": "code",
      "execution_count": null,
      "metadata": {
        "id": "gwbXaoL_DbiS"
      },
      "outputs": [],
      "source": []
    },
    {
      "cell_type": "code",
      "execution_count": null,
      "metadata": {
        "id": "EQVjnUamDbgP"
      },
      "outputs": [],
      "source": []
    },
    {
      "cell_type": "code",
      "execution_count": null,
      "metadata": {
        "id": "mNNYhvcrDbaC"
      },
      "outputs": [],
      "source": []
    },
    {
      "cell_type": "code",
      "execution_count": null,
      "metadata": {
        "id": "3irc4YkWDbX2"
      },
      "outputs": [],
      "source": []
    },
    {
      "cell_type": "markdown",
      "metadata": {
        "id": "mMR6lzkGyeKC"
      },
      "source": [
        "# Q. Find numbers between 1 to 100 and are divisible by both 3 and 5"
      ]
    },
    {
      "cell_type": "code",
      "execution_count": null,
      "metadata": {
        "colab": {
          "base_uri": "https://localhost:8080/"
        },
        "id": "cLtVxTt0ydGh",
        "outputId": "d6436b8b-e914-4f3b-85ce-3cf29730e826"
      },
      "outputs": [
        {
          "name": "stdout",
          "output_type": "stream",
          "text": [
            "15\n",
            "30\n",
            "45\n",
            "60\n",
            "75\n",
            "90\n"
          ]
        }
      ],
      "source": [
        "for i in range(1,101):\n",
        "  if (i%3==0 and i%5 == 0):\n",
        "    print(i)\n"
      ]
    },
    {
      "cell_type": "code",
      "execution_count": null,
      "metadata": {
        "id": "sqPB2imZIu1X"
      },
      "outputs": [],
      "source": []
    },
    {
      "cell_type": "code",
      "execution_count": null,
      "metadata": {
        "id": "4q4PEN6tItms"
      },
      "outputs": [],
      "source": []
    },
    {
      "cell_type": "code",
      "execution_count": null,
      "metadata": {
        "id": "FHRkozsmIti2"
      },
      "outputs": [],
      "source": []
    },
    {
      "cell_type": "code",
      "execution_count": null,
      "metadata": {
        "id": "zjhhbPizItac"
      },
      "outputs": [],
      "source": []
    },
    {
      "cell_type": "code",
      "execution_count": null,
      "metadata": {
        "id": "qlOudrZfItIl"
      },
      "outputs": [],
      "source": []
    },
    {
      "cell_type": "markdown",
      "metadata": {
        "id": "yR6Z67poys8b"
      },
      "source": [
        "# Q. Count the numbers between 1 to 100 and are divisible by both 3 and 5"
      ]
    },
    {
      "cell_type": "code",
      "execution_count": null,
      "metadata": {
        "colab": {
          "base_uri": "https://localhost:8080/"
        },
        "id": "i2cVcSXPKYur",
        "outputId": "ce638583-e9d2-4e26-866c-fc10772bd28f"
      },
      "outputs": [
        {
          "name": "stdout",
          "output_type": "stream",
          "text": [
            "15\n",
            "30\n",
            "45\n",
            "60\n",
            "75\n",
            "90\n",
            "The counter value is 1\n"
          ]
        }
      ],
      "source": [
        "counter = 0\n",
        "\n",
        "for i in range(1,101):\n",
        "  if (i%3 == 0 and i%5 == 0):\n",
        "    # print(i)\n",
        "    counter = counter + 1\n",
        "\n",
        "print(\"The counter value is\",counter)"
      ]
    },
    {
      "cell_type": "code",
      "execution_count": null,
      "metadata": {
        "id": "R7TD6NVYKYeI"
      },
      "outputs": [],
      "source": []
    },
    {
      "cell_type": "markdown",
      "metadata": {
        "id": "OjsOx2yhNt0L"
      },
      "source": [
        "# Q. FInd the sum of first N natural numbers"
      ]
    },
    {
      "cell_type": "code",
      "execution_count": null,
      "metadata": {
        "colab": {
          "base_uri": "https://localhost:8080/"
        },
        "id": "USEz_F61NtUL",
        "outputId": "dfc59bb1-1d29-436f-909d-19986aea36ab"
      },
      "outputs": [
        {
          "name": "stdout",
          "output_type": "stream",
          "text": [
            "210\n"
          ]
        }
      ],
      "source": [
        "N = 20\n",
        "counter = 0\n",
        "\n",
        "for i in range(1,N+1):\n",
        "  counter = counter + i\n",
        "\n",
        "print(counter)"
      ]
    },
    {
      "cell_type": "code",
      "execution_count": null,
      "metadata": {
        "id": "bXwn_qVzKYa9"
      },
      "outputs": [],
      "source": []
    },
    {
      "cell_type": "code",
      "execution_count": null,
      "metadata": {
        "id": "bVJaHRSoKXr0"
      },
      "outputs": [],
      "source": []
    },
    {
      "cell_type": "code",
      "execution_count": null,
      "metadata": {
        "id": "siILrANbKXo4"
      },
      "outputs": [],
      "source": []
    },
    {
      "cell_type": "code",
      "execution_count": null,
      "metadata": {
        "id": "xUIxzUfPKXhe"
      },
      "outputs": [],
      "source": []
    },
    {
      "cell_type": "code",
      "execution_count": null,
      "metadata": {
        "id": "elxSNYSOyvf8"
      },
      "outputs": [],
      "source": []
    },
    {
      "cell_type": "markdown",
      "metadata": {
        "id": "cBj36MR3zjX2"
      },
      "source": [
        "# Q. Find First 10 number between 1 and 10,000 those who are divisible by 3, 5 and 7"
      ]
    },
    {
      "cell_type": "code",
      "execution_count": null,
      "metadata": {
        "colab": {
          "base_uri": "https://localhost:8080/"
        },
        "id": "l8EDYEnBP-CB",
        "outputId": "0720e8b2-5d05-4ffa-a0a9-854fa23adab9"
      },
      "outputs": [
        {
          "name": "stdout",
          "output_type": "stream",
          "text": [
            "0\n"
          ]
        }
      ],
      "source": [
        "counter = 0\n",
        "\n",
        "for i in range(1,10000):\n",
        "  if (i%3 == 0 and i%5 == 0 and i%7 == 0):\n",
        "    counter += 1\n",
        "    print(i)\n",
        "\n",
        "  if (counter == 10):\n",
        "    break\n",
        "\n",
        "print(counter)"
      ]
    },
    {
      "cell_type": "code",
      "execution_count": null,
      "metadata": {
        "colab": {
          "base_uri": "https://localhost:8080/"
        },
        "id": "XVVO1qTkP9-4",
        "outputId": "720abf04-beeb-4d35-8c8f-f7af3a206e23"
      },
      "outputs": [
        {
          "name": "stdout",
          "output_type": "stream",
          "text": [
            "H\n",
            "a\n",
            "r\n",
            "s\n",
            "h\n"
          ]
        }
      ],
      "source": [
        "for i in \"Harsh\":\n",
        "  print(i)"
      ]
    },
    {
      "cell_type": "code",
      "execution_count": null,
      "metadata": {
        "colab": {
          "base_uri": "https://localhost:8080/"
        },
        "id": "REDMnAslDvCF",
        "outputId": "e6deee0d-d254-49aa-e9b0-7a326847b0ae"
      },
      "outputs": [
        {
          "name": "stdout",
          "output_type": "stream",
          "text": [
            "H\n",
            "a\n",
            "r\n",
            "s\n",
            "h\n",
            "v\n",
            "a\n",
            "r\n",
            "d\n",
            "h\n",
            "a\n",
            "n\n",
            " \n",
            "S\n",
            "i\n",
            "n\n",
            "g\n",
            "h\n"
          ]
        }
      ],
      "source": [
        "for i in \"Harshvardhan Singh\":\n",
        "  print(i)"
      ]
    },
    {
      "cell_type": "code",
      "execution_count": null,
      "metadata": {
        "id": "NqySFAh2P8B2"
      },
      "outputs": [],
      "source": []
    },
    {
      "cell_type": "code",
      "execution_count": null,
      "metadata": {
        "id": "rsRHG7tOzi86"
      },
      "outputs": [],
      "source": []
    },
    {
      "cell_type": "markdown",
      "metadata": {
        "id": "qCqpKXR22XkE"
      },
      "source": [
        "# Q. Print only the vowels from a given string using a for loop."
      ]
    },
    {
      "cell_type": "code",
      "execution_count": null,
      "metadata": {
        "colab": {
          "base_uri": "https://localhost:8080/"
        },
        "id": "L_5YX8wuFRSG",
        "outputId": "6faa71a5-886b-4113-aa75-89b97810443a"
      },
      "outputs": [
        {
          "name": "stdout",
          "output_type": "stream",
          "text": [
            "Give NameHarshvardhan\n",
            "3\n"
          ]
        }
      ],
      "source": [
        "s = input(\"Give Name\")\n",
        "v = 'aeiouAEIOU'\n",
        "c = 0\n",
        "\n",
        "for i in s:\n",
        "  if i in v:\n",
        "    c += 1\n",
        "\n",
        "print(c)"
      ]
    },
    {
      "cell_type": "code",
      "execution_count": null,
      "metadata": {
        "id": "Bu6ctyH6FTug"
      },
      "outputs": [],
      "source": []
    },
    {
      "cell_type": "code",
      "execution_count": null,
      "metadata": {
        "id": "LAQdHmGAFTrs"
      },
      "outputs": [],
      "source": []
    },
    {
      "cell_type": "code",
      "execution_count": null,
      "metadata": {
        "id": "Q2p4NDIMFToa"
      },
      "outputs": [],
      "source": []
    },
    {
      "cell_type": "code",
      "execution_count": null,
      "metadata": {
        "id": "R1Ca6hmjFTlX"
      },
      "outputs": [],
      "source": []
    },
    {
      "cell_type": "code",
      "execution_count": null,
      "metadata": {
        "id": "_Zk812FwFTgB"
      },
      "outputs": [],
      "source": []
    },
    {
      "cell_type": "code",
      "execution_count": null,
      "metadata": {
        "id": "v6Vh5_wXFTc-"
      },
      "outputs": [],
      "source": []
    },
    {
      "cell_type": "markdown",
      "metadata": {
        "id": "BZSJIdyC1GEH"
      },
      "source": [
        "# Pattern Printing"
      ]
    },
    {
      "cell_type": "code",
      "execution_count": null,
      "metadata": {
        "colab": {
          "base_uri": "https://localhost:8080/"
        },
        "id": "_UxEBc3KI3vH",
        "outputId": "d82c7dd7-ec04-4394-da27-6d8fc1a57878"
      },
      "outputs": [
        {
          "name": "stdout",
          "output_type": "stream",
          "text": [
            "* \n",
            "* * \n",
            "* * * \n",
            "* * * * \n",
            "* * * * * \n"
          ]
        }
      ],
      "source": [
        "num = 5\n",
        "\n",
        "for i in range(1,num+1):\n",
        "  print(\"* \"*i)"
      ]
    },
    {
      "cell_type": "code",
      "execution_count": null,
      "metadata": {
        "colab": {
          "base_uri": "https://localhost:8080/"
        },
        "id": "SqZA4BDxJmtE",
        "outputId": "8e30c9f1-349a-444b-ecdb-add5fc5cd4d9"
      },
      "outputs": [
        {
          "name": "stdout",
          "output_type": "stream",
          "text": [
            "* * * * * \n",
            "* * * * \n",
            "* * * \n",
            "* * \n",
            "* \n"
          ]
        }
      ],
      "source": [
        "num = 5\n",
        "\n",
        "for i in range(num,0,-1):\n",
        "  print(\"* \"*i)"
      ]
    },
    {
      "cell_type": "code",
      "execution_count": null,
      "metadata": {
        "colab": {
          "base_uri": "https://localhost:8080/"
        },
        "id": "3ctsPe7sMp5K",
        "outputId": "61d7661e-3b52-454e-c586-d4fea5926f95"
      },
      "outputs": [
        {
          "name": "stdout",
          "output_type": "stream",
          "text": [
            "* \n",
            "* * \n",
            "* * * \n",
            "* * * * \n",
            "* * * * * \n",
            "* * * * * \n",
            "* * * * \n",
            "* * * \n",
            "* * \n",
            "* \n"
          ]
        }
      ],
      "source": [
        "num = 5\n",
        "\n",
        "for i in range(1,num+1):\n",
        "  print(\"* \"*i)\n",
        "\n",
        "for i in range(num,0,-1):\n",
        "  print(\"* \"*i)"
      ]
    },
    {
      "cell_type": "code",
      "execution_count": null,
      "metadata": {
        "colab": {
          "base_uri": "https://localhost:8080/"
        },
        "id": "JiaAVh0eKeXY",
        "outputId": "de7f8ccd-63f9-4414-af7a-a1377a15b048"
      },
      "outputs": [
        {
          "name": "stdout",
          "output_type": "stream",
          "text": [
            "* * * * * \n",
            "* * * * * \n",
            "* * * * * \n",
            "* * * * * \n",
            "* * * * * \n"
          ]
        }
      ],
      "source": [
        "num = 5\n",
        "\n",
        "for i in range(1, num+1):\n",
        "  print(\"* \"*num)"
      ]
    },
    {
      "cell_type": "code",
      "execution_count": null,
      "metadata": {
        "id": "Cl5j-46FMm5o"
      },
      "outputs": [],
      "source": []
    },
    {
      "cell_type": "markdown",
      "metadata": {
        "id": "K_uRqrYkL1wE"
      },
      "source": [
        "******\n",
        "*    *\n",
        "*    *\n",
        "*    *\n",
        "*    *\n",
        "******"
      ]
    },
    {
      "cell_type": "code",
      "execution_count": null,
      "metadata": {
        "colab": {
          "base_uri": "https://localhost:8080/"
        },
        "id": "v_OhZI6pOEUM",
        "outputId": "38a4bd87-f19f-45c9-a1b3-f40188673130"
      },
      "outputs": [
        {
          "name": "stdout",
          "output_type": "stream",
          "text": [
            "A A A A A A A A A A \n",
            "|                 |\n",
            "|                 |\n",
            "|                 |\n",
            "|                 |\n",
            "|                 |\n",
            "|                 |\n",
            "|                 |\n",
            "|                 |\n",
            "A A A A A A A A A A \n"
          ]
        }
      ],
      "source": [
        "num = 10\n",
        "\n",
        "print(\"A \"*num)\n",
        "\n",
        "for i in range(num-2):\n",
        "  print(\"| \"+\"  \"*(num-2)+\"|\")\n",
        "\n",
        "print(\"A \"*num)"
      ]
    },
    {
      "cell_type": "markdown",
      "metadata": {
        "id": "7sgpRN0mR6mg"
      },
      "source": [
        "*\n",
        "**\n",
        "* *\n",
        "*  *\n",
        "*   *\n",
        "******"
      ]
    },
    {
      "cell_type": "code",
      "execution_count": null,
      "metadata": {
        "colab": {
          "base_uri": "https://localhost:8080/"
        },
        "id": "ZQhp5eYZQoJb",
        "outputId": "33007d46-670a-4076-9cd3-b144b878e0c6"
      },
      "outputs": [
        {
          "name": "stdout",
          "output_type": "stream",
          "text": [
            "*\n",
            "* *\n",
            "*  *\n",
            "*   *\n",
            "*    *\n",
            "*     *\n",
            "*      *\n",
            "*       *\n",
            "**********\n"
          ]
        }
      ],
      "source": [
        "num = 10\n",
        "\n",
        "print(\"*\"*1)\n",
        "\n",
        "for i in range(1, num - 2):\n",
        "    print(\"*\" + \" \" * i + \"*\")\n",
        "\n",
        "print(\"*\"*num)"
      ]
    },
    {
      "cell_type": "markdown",
      "metadata": {
        "id": "MECLpFiVVTGn"
      },
      "source": [
        "### Prime Numbers"
      ]
    },
    {
      "cell_type": "markdown",
      "metadata": {
        "id": "O5ky4kwju_0z"
      },
      "source": [
        "### Q. Find the sum of first 100 odd numbers"
      ]
    },
    {
      "cell_type": "code",
      "execution_count": null,
      "metadata": {
        "colab": {
          "base_uri": "https://localhost:8080/"
        },
        "id": "IqNAuljau6Kj",
        "outputId": "19c0fb58-6fac-4ded-cf99-7b0ce88c4867"
      },
      "outputs": [
        {
          "name": "stdout",
          "output_type": "stream",
          "text": [
            "The Sum is  10000\n"
          ]
        }
      ],
      "source": [
        "sum = 0\n",
        "count = 0\n",
        "\n",
        "for i in range(10000):\n",
        "  if i%2 != 0:\n",
        "    sum = sum + i\n",
        "    count = count + 1\n",
        "\n",
        "    if count == 100:\n",
        "      break\n",
        "\n",
        "\n",
        "print(\"The Sum is \",sum)"
      ]
    },
    {
      "cell_type": "markdown",
      "metadata": {
        "id": "JybURfv01NGw"
      },
      "source": [
        "# Prime Numbers"
      ]
    },
    {
      "cell_type": "code",
      "execution_count": null,
      "metadata": {
        "id": "x56fryFv4QXW"
      },
      "outputs": [],
      "source": []
    },
    {
      "cell_type": "code",
      "source": [
        "## Nested Loops\n",
        "\n",
        "for i in range(1,7):\n",
        "  for j in range(1,7):\n",
        "    for k in range(1,7):\n",
        "      print(i,j,k)\n",
        "  print(\"*\"*20)"
      ],
      "metadata": {
        "colab": {
          "base_uri": "https://localhost:8080/"
        },
        "id": "LfTKOZHw7_XM",
        "outputId": "40e5c247-2780-4dec-ee9b-1dba60e5c5ea"
      },
      "execution_count": null,
      "outputs": [
        {
          "output_type": "stream",
          "name": "stdout",
          "text": [
            "1 1 1\n",
            "1 1 2\n",
            "1 1 3\n",
            "1 1 4\n",
            "1 1 5\n",
            "1 1 6\n",
            "********************\n",
            "1 2 1\n",
            "1 2 2\n",
            "1 2 3\n",
            "1 2 4\n",
            "1 2 5\n",
            "1 2 6\n",
            "********************\n",
            "1 3 1\n",
            "1 3 2\n",
            "1 3 3\n",
            "1 3 4\n",
            "1 3 5\n",
            "1 3 6\n",
            "********************\n",
            "1 4 1\n",
            "1 4 2\n",
            "1 4 3\n",
            "1 4 4\n",
            "1 4 5\n",
            "1 4 6\n",
            "********************\n",
            "1 5 1\n",
            "1 5 2\n",
            "1 5 3\n",
            "1 5 4\n",
            "1 5 5\n",
            "1 5 6\n",
            "********************\n",
            "1 6 1\n",
            "1 6 2\n",
            "1 6 3\n",
            "1 6 4\n",
            "1 6 5\n",
            "1 6 6\n",
            "********************\n",
            "2 1 1\n",
            "2 1 2\n",
            "2 1 3\n",
            "2 1 4\n",
            "2 1 5\n",
            "2 1 6\n",
            "********************\n",
            "2 2 1\n",
            "2 2 2\n",
            "2 2 3\n",
            "2 2 4\n",
            "2 2 5\n",
            "2 2 6\n",
            "********************\n",
            "2 3 1\n",
            "2 3 2\n",
            "2 3 3\n",
            "2 3 4\n",
            "2 3 5\n",
            "2 3 6\n",
            "********************\n",
            "2 4 1\n",
            "2 4 2\n",
            "2 4 3\n",
            "2 4 4\n",
            "2 4 5\n",
            "2 4 6\n",
            "********************\n",
            "2 5 1\n",
            "2 5 2\n",
            "2 5 3\n",
            "2 5 4\n",
            "2 5 5\n",
            "2 5 6\n",
            "********************\n",
            "2 6 1\n",
            "2 6 2\n",
            "2 6 3\n",
            "2 6 4\n",
            "2 6 5\n",
            "2 6 6\n",
            "********************\n",
            "3 1 1\n",
            "3 1 2\n",
            "3 1 3\n",
            "3 1 4\n",
            "3 1 5\n",
            "3 1 6\n",
            "********************\n",
            "3 2 1\n",
            "3 2 2\n",
            "3 2 3\n",
            "3 2 4\n",
            "3 2 5\n",
            "3 2 6\n",
            "********************\n",
            "3 3 1\n",
            "3 3 2\n",
            "3 3 3\n",
            "3 3 4\n",
            "3 3 5\n",
            "3 3 6\n",
            "********************\n",
            "3 4 1\n",
            "3 4 2\n",
            "3 4 3\n",
            "3 4 4\n",
            "3 4 5\n",
            "3 4 6\n",
            "********************\n",
            "3 5 1\n",
            "3 5 2\n",
            "3 5 3\n",
            "3 5 4\n",
            "3 5 5\n",
            "3 5 6\n",
            "********************\n",
            "3 6 1\n",
            "3 6 2\n",
            "3 6 3\n",
            "3 6 4\n",
            "3 6 5\n",
            "3 6 6\n",
            "********************\n",
            "4 1 1\n",
            "4 1 2\n",
            "4 1 3\n",
            "4 1 4\n",
            "4 1 5\n",
            "4 1 6\n",
            "********************\n",
            "4 2 1\n",
            "4 2 2\n",
            "4 2 3\n",
            "4 2 4\n",
            "4 2 5\n",
            "4 2 6\n",
            "********************\n",
            "4 3 1\n",
            "4 3 2\n",
            "4 3 3\n",
            "4 3 4\n",
            "4 3 5\n",
            "4 3 6\n",
            "********************\n",
            "4 4 1\n",
            "4 4 2\n",
            "4 4 3\n",
            "4 4 4\n",
            "4 4 5\n",
            "4 4 6\n",
            "********************\n",
            "4 5 1\n",
            "4 5 2\n",
            "4 5 3\n",
            "4 5 4\n",
            "4 5 5\n",
            "4 5 6\n",
            "********************\n",
            "4 6 1\n",
            "4 6 2\n",
            "4 6 3\n",
            "4 6 4\n",
            "4 6 5\n",
            "4 6 6\n",
            "********************\n",
            "5 1 1\n",
            "5 1 2\n",
            "5 1 3\n",
            "5 1 4\n",
            "5 1 5\n",
            "5 1 6\n",
            "********************\n",
            "5 2 1\n",
            "5 2 2\n",
            "5 2 3\n",
            "5 2 4\n",
            "5 2 5\n",
            "5 2 6\n",
            "********************\n",
            "5 3 1\n",
            "5 3 2\n",
            "5 3 3\n",
            "5 3 4\n",
            "5 3 5\n",
            "5 3 6\n",
            "********************\n",
            "5 4 1\n",
            "5 4 2\n",
            "5 4 3\n",
            "5 4 4\n",
            "5 4 5\n",
            "5 4 6\n",
            "********************\n",
            "5 5 1\n",
            "5 5 2\n",
            "5 5 3\n",
            "5 5 4\n",
            "5 5 5\n",
            "5 5 6\n",
            "********************\n",
            "5 6 1\n",
            "5 6 2\n",
            "5 6 3\n",
            "5 6 4\n",
            "5 6 5\n",
            "5 6 6\n",
            "********************\n",
            "6 1 1\n",
            "6 1 2\n",
            "6 1 3\n",
            "6 1 4\n",
            "6 1 5\n",
            "6 1 6\n",
            "********************\n",
            "6 2 1\n",
            "6 2 2\n",
            "6 2 3\n",
            "6 2 4\n",
            "6 2 5\n",
            "6 2 6\n",
            "********************\n",
            "6 3 1\n",
            "6 3 2\n",
            "6 3 3\n",
            "6 3 4\n",
            "6 3 5\n",
            "6 3 6\n",
            "********************\n",
            "6 4 1\n",
            "6 4 2\n",
            "6 4 3\n",
            "6 4 4\n",
            "6 4 5\n",
            "6 4 6\n",
            "********************\n",
            "6 5 1\n",
            "6 5 2\n",
            "6 5 3\n",
            "6 5 4\n",
            "6 5 5\n",
            "6 5 6\n",
            "********************\n",
            "6 6 1\n",
            "6 6 2\n",
            "6 6 3\n",
            "6 6 4\n",
            "6 6 5\n",
            "6 6 6\n",
            "********************\n"
          ]
        }
      ]
    },
    {
      "cell_type": "code",
      "source": [
        "roll_number\n",
        "name\n",
        "class_\n",
        "phone_number\n",
        "address_\n",
        "stream_\n",
        "physics\n",
        "maths\n",
        "chem\n",
        "eng\n",
        "hindi"
      ],
      "metadata": {
        "id": "bLQfSMzL8ZJs"
      },
      "execution_count": null,
      "outputs": []
    },
    {
      "cell_type": "markdown",
      "source": [
        "# List"
      ],
      "metadata": {
        "id": "awe0UKfjAilp"
      }
    },
    {
      "cell_type": "code",
      "source": [
        "lst = []\n",
        "print(type(lst))"
      ],
      "metadata": {
        "colab": {
          "base_uri": "https://localhost:8080/"
        },
        "id": "I1Zjoh6pAiA7",
        "outputId": "0f4b9dc1-c431-4249-9b99-695562934482"
      },
      "execution_count": null,
      "outputs": [
        {
          "output_type": "stream",
          "name": "stdout",
          "text": [
            "<class 'list'>\n"
          ]
        }
      ]
    },
    {
      "cell_type": "code",
      "source": [
        "lst"
      ],
      "metadata": {
        "colab": {
          "base_uri": "https://localhost:8080/"
        },
        "id": "23z_J5UvAshE",
        "outputId": "ef43797b-7b30-45c2-e0bb-1fc07b3b57d5"
      },
      "execution_count": null,
      "outputs": [
        {
          "output_type": "execute_result",
          "data": {
            "text/plain": [
              "[]"
            ]
          },
          "metadata": {},
          "execution_count": 44
        }
      ]
    },
    {
      "cell_type": "code",
      "source": [
        "name = [1,2,3,4,5,6,23,34,245.65,'harsh','singh',4.123,True]"
      ],
      "metadata": {
        "id": "EcwnQk8LAtk8"
      },
      "execution_count": null,
      "outputs": []
    },
    {
      "cell_type": "code",
      "source": [
        "name[9]"
      ],
      "metadata": {
        "colab": {
          "base_uri": "https://localhost:8080/",
          "height": 35
        },
        "id": "IjBmVARa-F6K",
        "outputId": "725d6ce0-254f-409c-f288-07e3dd869486"
      },
      "execution_count": null,
      "outputs": [
        {
          "output_type": "execute_result",
          "data": {
            "text/plain": [
              "'harsh'"
            ],
            "application/vnd.google.colaboratory.intrinsic+json": {
              "type": "string"
            }
          },
          "metadata": {},
          "execution_count": 7
        }
      ]
    },
    {
      "cell_type": "code",
      "source": [
        "name[9] = \"Vidit\""
      ],
      "metadata": {
        "id": "Kp7_Wz3y-UPq"
      },
      "execution_count": null,
      "outputs": []
    },
    {
      "cell_type": "code",
      "source": [
        "name"
      ],
      "metadata": {
        "colab": {
          "base_uri": "https://localhost:8080/"
        },
        "id": "erBuUsfT-bUQ",
        "outputId": "abcdc152-12f0-4679-e7e0-f35001534e4f"
      },
      "execution_count": null,
      "outputs": [
        {
          "output_type": "execute_result",
          "data": {
            "text/plain": [
              "[1, 2, 3, 4, 5, 6, 23, 34, 245.65, 'Vidit', 'singh', 4.123, True]"
            ]
          },
          "metadata": {},
          "execution_count": 9
        }
      ]
    },
    {
      "cell_type": "code",
      "source": [
        "name.append(223)"
      ],
      "metadata": {
        "id": "9p5-MTPz-kDA"
      },
      "execution_count": null,
      "outputs": []
    },
    {
      "cell_type": "code",
      "source": [
        "name"
      ],
      "metadata": {
        "colab": {
          "base_uri": "https://localhost:8080/"
        },
        "id": "twh3zSFA-q0N",
        "outputId": "cb99f17c-f8b2-4e14-812e-e123165e329f"
      },
      "execution_count": null,
      "outputs": [
        {
          "output_type": "execute_result",
          "data": {
            "text/plain": [
              "[1, 2, 3, 4, 5, 6, 23, 34, 245.65, 'Vidit', 'singh', 4.123, True, 223]"
            ]
          },
          "metadata": {},
          "execution_count": 11
        }
      ]
    },
    {
      "cell_type": "markdown",
      "source": [
        "## Q. Create a list with numbers between 1 to 10 and the value should be squared"
      ],
      "metadata": {
        "id": "8Q0qlb-o-0Mi"
      }
    },
    {
      "cell_type": "code",
      "source": [
        "lst = []\n",
        "\n",
        "for i in range(1,11):\n",
        "  lst.append(i**2)\n",
        "\n",
        "lst"
      ],
      "metadata": {
        "colab": {
          "base_uri": "https://localhost:8080/"
        },
        "id": "pS65wPMtAL4n",
        "outputId": "a8bf82b8-c091-4091-8ef1-563290b729b8"
      },
      "execution_count": null,
      "outputs": [
        {
          "output_type": "execute_result",
          "data": {
            "text/plain": [
              "[1, 4, 9, 16, 25, 36, 49, 64, 81, 100]"
            ]
          },
          "metadata": {},
          "execution_count": 17
        }
      ]
    },
    {
      "cell_type": "markdown",
      "source": [
        "## Q. Create a list with numbers between 1 to 100 and the value should contain only even numbers"
      ],
      "metadata": {
        "id": "XDXgQE5wA8vo"
      }
    },
    {
      "cell_type": "code",
      "source": [
        "lst = []\n",
        "\n",
        "for i in range(1,101):\n",
        "  if i%2 == 0:\n",
        "    lst.append(i)\n",
        "\n",
        "print(lst)"
      ],
      "metadata": {
        "colab": {
          "base_uri": "https://localhost:8080/"
        },
        "id": "XL_z_JRbBE_a",
        "outputId": "d76d116a-1012-4596-8a8d-0094a725f3ec"
      },
      "execution_count": null,
      "outputs": [
        {
          "output_type": "stream",
          "name": "stdout",
          "text": [
            "[2, 4, 6, 8, 10, 12, 14, 16, 18, 20, 22, 24, 26, 28, 30, 32, 34, 36, 38, 40, 42, 44, 46, 48, 50, 52, 54, 56, 58, 60, 62, 64, 66, 68, 70, 72, 74, 76, 78, 80, 82, 84, 86, 88, 90, 92, 94, 96, 98, 100]\n"
          ]
        }
      ]
    },
    {
      "cell_type": "code",
      "source": [
        "flag = False\n",
        "\n",
        "for i in range(len(name)):\n",
        "  if str(name[i]).lower() == 'vidit':\n",
        "    flag = True\n",
        "\n",
        "if flag == True:\n",
        "  print(\"Found\")\n",
        "else:\n",
        "  print(\"Not Found\")"
      ],
      "metadata": {
        "colab": {
          "base_uri": "https://localhost:8080/"
        },
        "id": "SdOUxNzEDxhd",
        "outputId": "d6c6fa32-25a9-4364-e10c-578027765d74"
      },
      "execution_count": null,
      "outputs": [
        {
          "output_type": "stream",
          "name": "stdout",
          "text": [
            "Found\n"
          ]
        }
      ]
    },
    {
      "cell_type": "code",
      "source": [
        "print(name[-1].lower)"
      ],
      "metadata": {
        "colab": {
          "base_uri": "https://localhost:8080/"
        },
        "id": "Lc-8egupE83n",
        "outputId": "587dfb7b-841c-43ea-94b3-827a33f5bf1c"
      },
      "execution_count": null,
      "outputs": [
        {
          "output_type": "stream",
          "name": "stdout",
          "text": [
            "<built-in method lower of str object at 0x796bf34e7230>\n"
          ]
        }
      ]
    },
    {
      "cell_type": "markdown",
      "source": [
        "## List Comprehension\n",
        "\n",
        "* Basics Syantax [expression for item in iterable]\n",
        "\n",
        "* with conditional logic [expression for item in iterable if condition]\n",
        "\n",
        "* Nested List Comprehension [expression for item1 in iterable1 for item2 in iterable2]"
      ],
      "metadata": {
        "id": "wJweeJhd6RRA"
      }
    },
    {
      "cell_type": "code",
      "source": [
        "lst = [(i,j) for i in range(1,7) for j in range(1,7)]\n",
        "print(lst)"
      ],
      "metadata": {
        "colab": {
          "base_uri": "https://localhost:8080/"
        },
        "id": "c-0ilE6uEAtZ",
        "outputId": "96d7ea89-c470-4055-97f8-af3609b26cbd"
      },
      "execution_count": null,
      "outputs": [
        {
          "output_type": "stream",
          "name": "stdout",
          "text": [
            "[{1}, {1, 2}, {1, 3}, {1, 4}, {1, 5}, {1, 6}, {1, 2}, {2}, {2, 3}, {2, 4}, {2, 5}, {2, 6}, {1, 3}, {2, 3}, {3}, {3, 4}, {3, 5}, {3, 6}, {1, 4}, {2, 4}, {3, 4}, {4}, {4, 5}, {4, 6}, {1, 5}, {2, 5}, {3, 5}, {4, 5}, {5}, {5, 6}, {1, 6}, {2, 6}, {3, 6}, {4, 6}, {5, 6}, {6}]\n"
          ]
        }
      ]
    },
    {
      "cell_type": "code",
      "source": [
        "lst = []\n",
        "\n",
        "for i in range(1,7):\n",
        "  for j in range(1,7):\n",
        "    print"
      ],
      "metadata": {
        "colab": {
          "base_uri": "https://localhost:8080/"
        },
        "id": "MPSy-BD4D1Rt",
        "outputId": "0a34c9b2-5b6c-49fd-fe1d-250ac035e59c"
      },
      "execution_count": null,
      "outputs": [
        {
          "output_type": "stream",
          "name": "stdout",
          "text": [
            "1 1\n",
            "1 2\n",
            "1 3\n",
            "1 4\n",
            "1 5\n",
            "1 6\n",
            "2 1\n",
            "2 2\n",
            "2 3\n",
            "2 4\n",
            "2 5\n",
            "2 6\n",
            "3 1\n",
            "3 2\n",
            "3 3\n",
            "3 4\n",
            "3 5\n",
            "3 6\n",
            "4 1\n",
            "4 2\n",
            "4 3\n",
            "4 4\n",
            "4 5\n",
            "4 6\n",
            "5 1\n",
            "5 2\n",
            "5 3\n",
            "5 4\n",
            "5 5\n",
            "5 6\n",
            "6 1\n",
            "6 2\n",
            "6 3\n",
            "6 4\n",
            "6 5\n",
            "6 6\n"
          ]
        }
      ]
    },
    {
      "cell_type": "code",
      "source": [
        "lst = [i for i in range(1,101) if i%2 == 0]\n",
        "print(lst)"
      ],
      "metadata": {
        "colab": {
          "base_uri": "https://localhost:8080/"
        },
        "id": "-YuzqGu8DPKp",
        "outputId": "90e0c4d4-07a3-4d3d-90c4-afc13ce1c3fd"
      },
      "execution_count": null,
      "outputs": [
        {
          "output_type": "stream",
          "name": "stdout",
          "text": [
            "[2, 4, 6, 8, 10, 12, 14, 16, 18, 20, 22, 24, 26, 28, 30, 32, 34, 36, 38, 40, 42, 44, 46, 48, 50, 52, 54, 56, 58, 60, 62, 64, 66, 68, 70, 72, 74, 76, 78, 80, 82, 84, 86, 88, 90, 92, 94, 96, 98, 100]\n"
          ]
        }
      ]
    },
    {
      "cell_type": "code",
      "source": [
        "lst = []\n",
        "\n",
        "for i in range(10):\n",
        "  lst.append(i**2)\n",
        "\n",
        "print(lst)"
      ],
      "metadata": {
        "colab": {
          "base_uri": "https://localhost:8080/"
        },
        "id": "jSBRJsyVCEId",
        "outputId": "5111ba4f-63fd-4fa7-d23f-b72457424e93"
      },
      "execution_count": null,
      "outputs": [
        {
          "output_type": "stream",
          "name": "stdout",
          "text": [
            "[0, 1, 4, 9, 16, 25, 36, 49, 64, 81]\n"
          ]
        }
      ]
    },
    {
      "cell_type": "code",
      "source": [
        "lst = [i**3 for i in range(10)]\n",
        "print(lst)"
      ],
      "metadata": {
        "colab": {
          "base_uri": "https://localhost:8080/"
        },
        "id": "fezgcyiUC6Cl",
        "outputId": "755ec7f7-17a7-4dd2-e9a5-760d247093c7"
      },
      "execution_count": null,
      "outputs": [
        {
          "output_type": "stream",
          "name": "stdout",
          "text": [
            "[0, 1, 8, 27, 64, 125, 216, 343, 512, 729]\n"
          ]
        }
      ]
    },
    {
      "cell_type": "code",
      "source": [
        "lst = [i**2 for i in range(10)]\n",
        "print(lst)"
      ],
      "metadata": {
        "colab": {
          "base_uri": "https://localhost:8080/"
        },
        "id": "8jEhDf_sCD54",
        "outputId": "e98f6057-d520-4d25-a09c-609ff8e4ae6c"
      },
      "execution_count": null,
      "outputs": [
        {
          "output_type": "stream",
          "name": "stdout",
          "text": [
            "[0, 1, 4, 9, 16, 25, 36, 49, 64, 81]\n"
          ]
        }
      ]
    },
    {
      "cell_type": "code",
      "source": [
        "lst = []\n",
        "\n",
        "for i in range(1,101):\n",
        "  if i%2 == 0:\n",
        "    lst.append(i)\n",
        "\n",
        "print(lst)"
      ],
      "metadata": {
        "id": "S8WswIm4CD2N"
      },
      "execution_count": null,
      "outputs": []
    },
    {
      "cell_type": "code",
      "source": [
        "fruits = ['apple','mango','kiwi','orange','banana']"
      ],
      "metadata": {
        "id": "v-Pist6IFsUG"
      },
      "execution_count": null,
      "outputs": []
    },
    {
      "cell_type": "code",
      "source": [
        "fruits.append(\"Watermelon\")\n",
        "print(fruits)"
      ],
      "metadata": {
        "colab": {
          "base_uri": "https://localhost:8080/"
        },
        "id": "Jo9jRQdhF5fP",
        "outputId": "dbac96ba-00ff-4c0d-9cad-e9b7232db382"
      },
      "execution_count": null,
      "outputs": [
        {
          "output_type": "stream",
          "name": "stdout",
          "text": [
            "['apple', 'mango', 'kiwi', 'orange', 'banana', 'Watermelon']\n"
          ]
        }
      ]
    },
    {
      "cell_type": "code",
      "source": [
        "fruits.insert(1,'avacodo')"
      ],
      "metadata": {
        "id": "NUKZsWHwF4ym"
      },
      "execution_count": null,
      "outputs": []
    },
    {
      "cell_type": "code",
      "source": [
        "fruits"
      ],
      "metadata": {
        "colab": {
          "base_uri": "https://localhost:8080/"
        },
        "id": "FjGzzVP4FtgB",
        "outputId": "d2adcdde-aeaf-4f7e-8f7f-ddaa8635422e"
      },
      "execution_count": null,
      "outputs": [
        {
          "output_type": "execute_result",
          "data": {
            "text/plain": [
              "['apple', 'avacodo', 'mango', 'kiwi', 'orange', 'banana', 'Watermelon']"
            ]
          },
          "metadata": {},
          "execution_count": 45
        }
      ]
    },
    {
      "cell_type": "code",
      "source": [
        "fruits.reverse()"
      ],
      "metadata": {
        "id": "j0wrAvifGRL6"
      },
      "execution_count": null,
      "outputs": []
    },
    {
      "cell_type": "code",
      "source": [
        "fruits"
      ],
      "metadata": {
        "colab": {
          "base_uri": "https://localhost:8080/"
        },
        "id": "b4Imi4ajFtJW",
        "outputId": "ba91a48a-ee2b-47fd-86d5-aacac6a88a75"
      },
      "execution_count": null,
      "outputs": [
        {
          "output_type": "execute_result",
          "data": {
            "text/plain": [
              "['Watermelon', 'banana', 'orange', 'kiwi', 'mango', 'avacodo', 'apple']"
            ]
          },
          "metadata": {},
          "execution_count": 47
        }
      ]
    },
    {
      "cell_type": "code",
      "source": [
        "popped_value = fruits.pop()\n",
        "print(popped_value)\n",
        "print(fruits)"
      ],
      "metadata": {
        "colab": {
          "base_uri": "https://localhost:8080/",
          "height": 176
        },
        "id": "c11hkmR7GVjb",
        "outputId": "364542b7-52e8-45c1-833c-305c50ea4d7f"
      },
      "execution_count": null,
      "outputs": [
        {
          "output_type": "error",
          "ename": "IndexError",
          "evalue": "pop from empty list",
          "traceback": [
            "\u001b[0;31m---------------------------------------------------------------------------\u001b[0m",
            "\u001b[0;31mIndexError\u001b[0m                                Traceback (most recent call last)",
            "\u001b[0;32m<ipython-input-55-c6b20887d092>\u001b[0m in \u001b[0;36m<cell line: 0>\u001b[0;34m()\u001b[0m\n\u001b[0;32m----> 1\u001b[0;31m \u001b[0mpopped_value\u001b[0m \u001b[0;34m=\u001b[0m \u001b[0mfruits\u001b[0m\u001b[0;34m.\u001b[0m\u001b[0mpop\u001b[0m\u001b[0;34m(\u001b[0m\u001b[0;34m)\u001b[0m\u001b[0;34m\u001b[0m\u001b[0;34m\u001b[0m\u001b[0m\n\u001b[0m\u001b[1;32m      2\u001b[0m \u001b[0mprint\u001b[0m\u001b[0;34m(\u001b[0m\u001b[0mpopped_value\u001b[0m\u001b[0;34m)\u001b[0m\u001b[0;34m\u001b[0m\u001b[0;34m\u001b[0m\u001b[0m\n\u001b[1;32m      3\u001b[0m \u001b[0mprint\u001b[0m\u001b[0;34m(\u001b[0m\u001b[0mfruits\u001b[0m\u001b[0;34m)\u001b[0m\u001b[0;34m\u001b[0m\u001b[0;34m\u001b[0m\u001b[0m\n",
            "\u001b[0;31mIndexError\u001b[0m: pop from empty list"
          ]
        }
      ]
    },
    {
      "cell_type": "code",
      "source": [
        "fruits.remove('banana')"
      ],
      "metadata": {
        "id": "ZdeNDmFTGVgC"
      },
      "execution_count": null,
      "outputs": []
    },
    {
      "cell_type": "code",
      "source": [
        "fruits"
      ],
      "metadata": {
        "colab": {
          "base_uri": "https://localhost:8080/"
        },
        "id": "WHsNTKo915Bu",
        "outputId": "56d33322-3204-4a6c-d2d4-c40e74571173"
      },
      "execution_count": null,
      "outputs": [
        {
          "output_type": "execute_result",
          "data": {
            "text/plain": [
              "['apple', 'mango', 'kiwi', 'orange', 'banana']"
            ]
          },
          "metadata": {},
          "execution_count": 63
        }
      ]
    },
    {
      "cell_type": "code",
      "source": [
        "fruits = ['apple','mango','kiwi','orange','banana']"
      ],
      "metadata": {
        "id": "Et8pAfSGHC4b"
      },
      "execution_count": null,
      "outputs": []
    },
    {
      "cell_type": "code",
      "source": [
        "fruits[0:4:2]"
      ],
      "metadata": {
        "colab": {
          "base_uri": "https://localhost:8080/"
        },
        "id": "0rFiF0b_HC2g",
        "outputId": "654a5a05-69eb-4c56-c0b4-f7d406d6308e"
      },
      "execution_count": null,
      "outputs": [
        {
          "output_type": "execute_result",
          "data": {
            "text/plain": [
              "['apple', 'kiwi']"
            ]
          },
          "metadata": {},
          "execution_count": 71
        }
      ]
    },
    {
      "cell_type": "code",
      "source": [
        "len(lst)"
      ],
      "metadata": {
        "colab": {
          "base_uri": "https://localhost:8080/"
        },
        "id": "urCoiJ73LIcr",
        "outputId": "c6ecac69-607a-4bc8-800e-9f1eae6187d8"
      },
      "execution_count": null,
      "outputs": [
        {
          "output_type": "execute_result",
          "data": {
            "text/plain": [
              "4"
            ]
          },
          "metadata": {},
          "execution_count": 86
        }
      ]
    },
    {
      "cell_type": "code",
      "source": [
        "lst = [[1,2,3,3],\n",
        "       [2,3,4,6],\n",
        "       [5,6,3,5],\n",
        "       [3,5,7,7]]\n",
        "\n",
        "(0,3)\n",
        "(1,2)\n",
        "(2,1)\n",
        "(3,0)"
      ],
      "metadata": {
        "colab": {
          "base_uri": "https://localhost:8080/"
        },
        "id": "0bo40DDuLuff",
        "outputId": "457c8291-0282-4ecf-9598-0e37886bedb5"
      },
      "execution_count": null,
      "outputs": [
        {
          "output_type": "stream",
          "name": "stdout",
          "text": [
            "1\n",
            "2\n",
            "3\n",
            "3\n",
            "2\n",
            "3\n",
            "4\n",
            "6\n",
            "5\n",
            "6\n",
            "3\n",
            "5\n",
            "3\n",
            "5\n",
            "7\n",
            "7\n"
          ]
        }
      ]
    },
    {
      "cell_type": "code",
      "source": [
        "s = 0\n",
        "\n",
        "for i in range(len(lst)):\n",
        "  for j in range(len(lst)):\n",
        "    if i == j:\n",
        "      s = s + lst[i][j]\n",
        "\n",
        "print(s)"
      ],
      "metadata": {
        "colab": {
          "base_uri": "https://localhost:8080/"
        },
        "id": "2cbQhLzARdSJ",
        "outputId": "e7e95b8c-7ebf-4221-9654-913295fb0f58"
      },
      "execution_count": null,
      "outputs": [
        {
          "output_type": "stream",
          "name": "stdout",
          "text": [
            "14\n"
          ]
        }
      ]
    },
    {
      "cell_type": "code",
      "source": [
        "s = 0\n",
        "\n",
        "for i in range(len(lst)):\n",
        "  for j in range(len(lst)):\n",
        "    if i + j == 3:\n",
        "      s = s + lst[i][j]\n",
        "\n",
        "print(s)"
      ],
      "metadata": {
        "colab": {
          "base_uri": "https://localhost:8080/"
        },
        "id": "YDViJdwdRefl",
        "outputId": "4728cb43-dde5-49fc-addb-8b3e768f2b4f"
      },
      "execution_count": null,
      "outputs": [
        {
          "output_type": "stream",
          "name": "stdout",
          "text": [
            "16\n"
          ]
        }
      ]
    },
    {
      "cell_type": "code",
      "source": [],
      "metadata": {
        "id": "Lp3_pK6XReXo"
      },
      "execution_count": null,
      "outputs": []
    },
    {
      "cell_type": "code",
      "source": [
        "lst = [[1,2,3],\n",
        "       [4,5,6],\n",
        "       [7,8,9]]\n",
        "\n",
        "(0,1)\n",
        "(0,2)\n",
        "(0,3)\n",
        "(1,1)\n",
        "(1,2)"
      ],
      "metadata": {
        "id": "G0auioh6HNht"
      },
      "execution_count": null,
      "outputs": []
    },
    {
      "cell_type": "code",
      "source": [
        "for i in range(len(lst)):\n",
        "  for j in range(len(lst)):\n",
        "    print(lst[i][j])"
      ],
      "metadata": {
        "colab": {
          "base_uri": "https://localhost:8080/"
        },
        "id": "_kHHzcwQHNfk",
        "outputId": "90b19410-557e-4465-8b2d-dc25c9766ad2"
      },
      "execution_count": null,
      "outputs": [
        {
          "output_type": "stream",
          "name": "stdout",
          "text": [
            "1\n",
            "2\n",
            "3\n",
            "4\n",
            "5\n",
            "6\n",
            "7\n",
            "8\n",
            "9\n"
          ]
        }
      ]
    },
    {
      "cell_type": "code",
      "source": [
        "marks = [23,45,34,56,77,56]\n",
        "subject = ['English','Hindi','Punjabi','Physics','Chemistry','Python']"
      ],
      "metadata": {
        "id": "Q8dE5tZi91Vi"
      },
      "execution_count": null,
      "outputs": []
    },
    {
      "cell_type": "code",
      "source": [],
      "metadata": {
        "id": "bUuUtSzPF7-j"
      },
      "execution_count": null,
      "outputs": []
    },
    {
      "cell_type": "code",
      "source": [],
      "metadata": {
        "id": "unwYPsKAF7y3"
      },
      "execution_count": null,
      "outputs": []
    },
    {
      "cell_type": "markdown",
      "source": [
        "## Find the average marks the student has scored\n"
      ],
      "metadata": {
        "id": "SaJFp-Hd-Di-"
      }
    },
    {
      "cell_type": "code",
      "source": [
        "s = 0\n",
        "\n",
        "for i in range(len(marks)):\n",
        "  s = s + marks[i]\n",
        "\n",
        "print(s/len(marks))"
      ],
      "metadata": {
        "colab": {
          "base_uri": "https://localhost:8080/"
        },
        "id": "P2MCX-ynGxDb",
        "outputId": "b052425b-6d5a-42bc-8b72-d671817f38f4"
      },
      "execution_count": null,
      "outputs": [
        {
          "output_type": "stream",
          "name": "stdout",
          "text": [
            "48.5\n"
          ]
        }
      ]
    },
    {
      "cell_type": "code",
      "source": [
        "marks = [23,45,34,56,77,56]\n",
        "subject = ['English','Hindi','Punjabi','Physics','Chemistry','Python']"
      ],
      "metadata": {
        "id": "JFiMia1IIZPb"
      },
      "execution_count": null,
      "outputs": []
    },
    {
      "cell_type": "code",
      "source": [
        "'''\n",
        "English 23 FAIL\n",
        "Hindi 45 PASS\n",
        "Punjabi 34 PASS\n",
        "Physics 56 PASS\n",
        "Chemistry 77 PASS\n",
        "Python 56 PASS\n",
        "'''"
      ],
      "metadata": {
        "id": "vcjgaZbKGAfs"
      },
      "execution_count": null,
      "outputs": []
    },
    {
      "cell_type": "code",
      "source": [
        "for i in range(len(subject)):\n",
        "  print(subject[i],marks[i])"
      ],
      "metadata": {
        "colab": {
          "base_uri": "https://localhost:8080/"
        },
        "id": "7CWIzFBOIaWy",
        "outputId": "3b0ba464-c907-4e0c-d633-d3077ca73933"
      },
      "execution_count": null,
      "outputs": [
        {
          "output_type": "stream",
          "name": "stdout",
          "text": [
            "English 23\n",
            "Hindi 45\n",
            "Punjabi 34\n",
            "Physics 56\n",
            "Chemistry 77\n",
            "Python 56\n"
          ]
        }
      ]
    },
    {
      "cell_type": "code",
      "source": [],
      "metadata": {
        "id": "a0faakEMIaRV"
      },
      "execution_count": null,
      "outputs": []
    },
    {
      "cell_type": "markdown",
      "source": [
        "## Check if the student failed in any exam. Count the frequency"
      ],
      "metadata": {
        "id": "DlaHXwhi-Tgp"
      }
    },
    {
      "cell_type": "code",
      "source": [
        "for i in range(len(subject)):\n",
        "  if marks[i] < 33:\n",
        "    print(subject[i],marks[i],\"FaIL\")\n",
        "  else:\n",
        "    print(subject[i],marks[i],\"PASS\")"
      ],
      "metadata": {
        "colab": {
          "base_uri": "https://localhost:8080/"
        },
        "id": "H4Y2H-QsMC3J",
        "outputId": "542de89e-8fec-41ed-8611-11ddf0401113"
      },
      "execution_count": null,
      "outputs": [
        {
          "output_type": "stream",
          "name": "stdout",
          "text": [
            "English 23 FaIL\n",
            "Hindi 45 PASS\n",
            "Punjabi 34 PASS\n",
            "Physics 56 PASS\n",
            "Chemistry 77 PASS\n",
            "Python 56 PASS\n"
          ]
        }
      ]
    },
    {
      "cell_type": "markdown",
      "source": [
        "#### anything less than 33 is fail"
      ],
      "metadata": {
        "id": "ZZdUXoEDKdg0"
      }
    },
    {
      "cell_type": "code",
      "source": [],
      "metadata": {
        "id": "8ASU-N2l-YE-"
      },
      "execution_count": null,
      "outputs": []
    },
    {
      "cell_type": "code",
      "source": [],
      "metadata": {
        "id": "kqBs9HzAKZJm"
      },
      "execution_count": null,
      "outputs": []
    },
    {
      "cell_type": "code",
      "source": [],
      "metadata": {
        "id": "Ma5Svnj-KY_X"
      },
      "execution_count": null,
      "outputs": []
    },
    {
      "cell_type": "markdown",
      "source": [
        "## Create a Credit History"
      ],
      "metadata": {
        "id": "jGuWCplQ_iHd"
      }
    },
    {
      "cell_type": "code",
      "source": [
        "'''\n",
        "80 - 100 A+\n",
        "60 - 80 B\n",
        "40 - 60 C\n",
        "20 - 40 D\n",
        "else F\n",
        "\n",
        "'''"
      ],
      "metadata": {
        "colab": {
          "base_uri": "https://localhost:8080/",
          "height": 35
        },
        "id": "FEe-rf-x_mhZ",
        "outputId": "5a5f4ffd-7504-48d2-81b0-09d0be761ce3"
      },
      "execution_count": null,
      "outputs": [
        {
          "output_type": "execute_result",
          "data": {
            "text/plain": [
              "'\\n80 - 100 A+\\n60 - 80 B\\n40 - 60 C\\n50 - 60 D\\nelse F\\n\\n'"
            ],
            "application/vnd.google.colaboratory.intrinsic+json": {
              "type": "string"
            }
          },
          "metadata": {},
          "execution_count": 4
        }
      ]
    },
    {
      "cell_type": "code",
      "source": [
        "marks = [23,45,34,56,77,56]\n",
        "subject = ['English','Hindi','Punjabi','Physics','Chemistry','Python']"
      ],
      "metadata": {
        "id": "Usy4JCs3NUPO"
      },
      "execution_count": null,
      "outputs": []
    },
    {
      "cell_type": "code",
      "source": [
        "'''\n",
        "English 23 D\n",
        "Hindi 45\n",
        "Punjabi 34\n",
        "Physics 56\n",
        "Chemistry 77\n",
        "Python 56\n",
        "'''"
      ],
      "metadata": {
        "id": "wrHvoL7zBswB"
      },
      "execution_count": null,
      "outputs": []
    },
    {
      "cell_type": "code",
      "source": [
        "for i in range(len(subject)):\n",
        "  if marks[i] >= 80 :\n",
        "    print(subject[i],marks[i],\"A+\")\n",
        "  elif marks[i] >= 60:\n",
        "    print(subject[i],marks[i],\"B\")\n",
        "  elif marks[i] >= 40:\n",
        "    print(subject[i],marks[i],\"C\")\n",
        "  elif marks[i] >= 20:\n",
        "    print(subject[i],marks[i],\"D\")\n",
        "  else:\n",
        "    print(subject[i],marks[i],\"F\")"
      ],
      "metadata": {
        "colab": {
          "base_uri": "https://localhost:8080/"
        },
        "id": "k2fRYO7uNeOD",
        "outputId": "c9e3ff73-71e8-40ab-f74b-3b8349b49534"
      },
      "execution_count": null,
      "outputs": [
        {
          "output_type": "stream",
          "name": "stdout",
          "text": [
            "English 23 D\n",
            "Hindi 45 C\n",
            "Punjabi 34 D\n",
            "Physics 56 C\n",
            "Chemistry 77 B\n",
            "Python 56 C\n"
          ]
        }
      ]
    },
    {
      "cell_type": "markdown",
      "source": [
        "# Tuple"
      ],
      "metadata": {
        "id": "3FFMKljxTESD"
      }
    },
    {
      "cell_type": "code",
      "source": [
        "tup = ()\n",
        "print(type(tup))"
      ],
      "metadata": {
        "colab": {
          "base_uri": "https://localhost:8080/"
        },
        "id": "AXz7nJ0hC5rn",
        "outputId": "e4d4b6b8-7882-449f-af19-31d0ab195a23"
      },
      "execution_count": null,
      "outputs": [
        {
          "output_type": "stream",
          "name": "stdout",
          "text": [
            "<class 'tuple'>\n"
          ]
        }
      ]
    },
    {
      "cell_type": "code",
      "source": [
        "tup = (1,2,3,3.23,34.65,\"Vidit\",True)\n",
        "print(tup)"
      ],
      "metadata": {
        "colab": {
          "base_uri": "https://localhost:8080/"
        },
        "id": "HbzK9bGaUfs_",
        "outputId": "9a2b4896-029a-48a8-e36e-22f5a7168cd6"
      },
      "execution_count": null,
      "outputs": [
        {
          "output_type": "stream",
          "name": "stdout",
          "text": [
            "(1, 2, 3, 3.23, 34.65, 'Vidit', True)\n"
          ]
        }
      ]
    },
    {
      "cell_type": "code",
      "source": [
        "print(tup[1])"
      ],
      "metadata": {
        "colab": {
          "base_uri": "https://localhost:8080/"
        },
        "id": "vCkUV_VdUfqT",
        "outputId": "030da841-1667-4e83-9403-9a894988b606"
      },
      "execution_count": null,
      "outputs": [
        {
          "output_type": "stream",
          "name": "stdout",
          "text": [
            "2\n"
          ]
        }
      ]
    },
    {
      "cell_type": "code",
      "source": [
        "tup[2] = 'Harsh'"
      ],
      "metadata": {
        "colab": {
          "base_uri": "https://localhost:8080/",
          "height": 141
        },
        "id": "1pqvghKIC5o4",
        "outputId": "56a881f9-0c3c-4bcb-cb74-392788ee9537"
      },
      "execution_count": null,
      "outputs": [
        {
          "output_type": "error",
          "ename": "TypeError",
          "evalue": "'tuple' object does not support item assignment",
          "traceback": [
            "\u001b[0;31m---------------------------------------------------------------------------\u001b[0m",
            "\u001b[0;31mTypeError\u001b[0m                                 Traceback (most recent call last)",
            "\u001b[0;32m<ipython-input-45-cd82253f8f0b>\u001b[0m in \u001b[0;36m<cell line: 0>\u001b[0;34m()\u001b[0m\n\u001b[0;32m----> 1\u001b[0;31m \u001b[0mtup\u001b[0m\u001b[0;34m[\u001b[0m\u001b[0;36m2\u001b[0m\u001b[0;34m]\u001b[0m \u001b[0;34m=\u001b[0m \u001b[0;34m'Harsh'\u001b[0m\u001b[0;34m\u001b[0m\u001b[0;34m\u001b[0m\u001b[0m\n\u001b[0m",
            "\u001b[0;31mTypeError\u001b[0m: 'tuple' object does not support item assignment"
          ]
        }
      ]
    },
    {
      "cell_type": "markdown",
      "source": [
        "# Set"
      ],
      "metadata": {
        "id": "rXp2Zu4oVKs4"
      }
    },
    {
      "cell_type": "code",
      "source": [
        "s = {1}\n",
        "print(type(s))"
      ],
      "metadata": {
        "colab": {
          "base_uri": "https://localhost:8080/"
        },
        "id": "I0iZH87sC5if",
        "outputId": "acc7e3ea-1cec-4469-e073-31c92433f212"
      },
      "execution_count": null,
      "outputs": [
        {
          "output_type": "stream",
          "name": "stdout",
          "text": [
            "<class 'set'>\n"
          ]
        }
      ]
    },
    {
      "cell_type": "code",
      "source": [
        "s = set()\n",
        "print(type(s))"
      ],
      "metadata": {
        "colab": {
          "base_uri": "https://localhost:8080/"
        },
        "id": "oYg7xx3aVNBt",
        "outputId": "8b448206-ecee-4393-f13f-ac3390d6b993"
      },
      "execution_count": null,
      "outputs": [
        {
          "output_type": "stream",
          "name": "stdout",
          "text": [
            "<class 'set'>\n"
          ]
        }
      ]
    },
    {
      "cell_type": "code",
      "source": [
        "s = {1,2,2,2,3,3,3,3,3,4,4,45,6,76,56,45,456}\n",
        "print(s)"
      ],
      "metadata": {
        "colab": {
          "base_uri": "https://localhost:8080/"
        },
        "id": "V5aAl5QHVM8k",
        "outputId": "0e33f849-7f3d-4ee2-dd70-b11851206bbf"
      },
      "execution_count": null,
      "outputs": [
        {
          "output_type": "stream",
          "name": "stdout",
          "text": [
            "{1, 2, 3, 4, 6, 456, 76, 45, 56}\n"
          ]
        }
      ]
    },
    {
      "cell_type": "code",
      "source": [],
      "metadata": {
        "id": "cjc76Tj2Vn0z"
      },
      "execution_count": null,
      "outputs": []
    },
    {
      "cell_type": "code",
      "source": [],
      "metadata": {
        "id": "UVY0DgbGVnx7"
      },
      "execution_count": null,
      "outputs": []
    },
    {
      "cell_type": "code",
      "source": [],
      "metadata": {
        "id": "LBSBEoswVntz"
      },
      "execution_count": null,
      "outputs": []
    },
    {
      "cell_type": "code",
      "source": [
        "# Counting Unique words in text"
      ],
      "metadata": {
        "id": "heeBFbO0C5bH"
      },
      "execution_count": null,
      "outputs": []
    },
    {
      "cell_type": "code",
      "source": [
        "word = \"This is the class of Set Tuple Dictionary and today we will finish core Python\"\n",
        "a = word.split()\n",
        "print(a)"
      ],
      "metadata": {
        "colab": {
          "base_uri": "https://localhost:8080/"
        },
        "id": "gusxgE-UV-Ev",
        "outputId": "0755acff-7ed7-40f5-a423-6f1d8a9e0f97"
      },
      "execution_count": null,
      "outputs": [
        {
          "output_type": "stream",
          "name": "stdout",
          "text": [
            "['This', 'is', 'the', 'class', 'of', 'Set', 'Tuple', 'Dictionary', 'and', 'today', 'we', 'will', 'finish', 'core', 'Python']\n"
          ]
        }
      ]
    },
    {
      "cell_type": "code",
      "source": [
        "# Q. FInd the Unique words in it\n",
        "\n",
        "word = 'This class class does contain contain some python Python Classes classes'\n",
        "\n",
        "a = word.split()\n",
        "a = set(a)\n",
        "print(a)"
      ],
      "metadata": {
        "colab": {
          "base_uri": "https://localhost:8080/"
        },
        "id": "JptcZ_pLWpSV",
        "outputId": "d5b5da2e-7279-4324-98b0-641c9919b71f"
      },
      "execution_count": null,
      "outputs": [
        {
          "output_type": "stream",
          "name": "stdout",
          "text": [
            "{'This', 'Python', 'python', 'some', 'does', 'classes', 'Classes', 'contain', 'class'}\n"
          ]
        }
      ]
    },
    {
      "cell_type": "markdown",
      "source": [
        "# Dictionary"
      ],
      "metadata": {
        "id": "LDjk0K9DYRvx"
      }
    },
    {
      "cell_type": "code",
      "source": [
        "dct = {}\n",
        "print(type(dct))"
      ],
      "metadata": {
        "colab": {
          "base_uri": "https://localhost:8080/"
        },
        "id": "8onjj9H6V-Bc",
        "outputId": "0a7868f6-868f-47e4-a7c9-75817f4a2fba"
      },
      "execution_count": null,
      "outputs": [
        {
          "output_type": "stream",
          "name": "stdout",
          "text": [
            "<class 'dict'>\n"
          ]
        }
      ]
    },
    {
      "cell_type": "code",
      "source": [
        "dct = {1:\"Harsh\",2:'Vidit',3:'Ansh'}\n",
        "print(dct)"
      ],
      "metadata": {
        "colab": {
          "base_uri": "https://localhost:8080/"
        },
        "id": "RYJvxxB3YOCO",
        "outputId": "beaa73b8-8fe8-4aff-ba36-bb536341b7d7"
      },
      "execution_count": null,
      "outputs": [
        {
          "output_type": "stream",
          "name": "stdout",
          "text": [
            "{1: 'Harsh', 2: 'Vidit', 3: 'Ansh'}\n"
          ]
        }
      ]
    },
    {
      "cell_type": "code",
      "source": [
        "print(dct.keys())\n",
        "print(dct.values())\n",
        "print(dct.items())"
      ],
      "metadata": {
        "colab": {
          "base_uri": "https://localhost:8080/"
        },
        "id": "3JxZPyYYV9My",
        "outputId": "98ed473e-bbbd-4f1b-af56-ce9c91de0bac"
      },
      "execution_count": null,
      "outputs": [
        {
          "output_type": "stream",
          "name": "stdout",
          "text": [
            "dict_keys([1, 2, 3])\n",
            "dict_values(['Harsh', 'Vidit', 'Ansh'])\n",
            "dict_items([(1, 'Harsh'), (2, 'Vidit'), (3, 'Ansh')])\n"
          ]
        }
      ]
    },
    {
      "cell_type": "code",
      "source": [],
      "metadata": {
        "id": "TvVCCNOCY-Dy"
      },
      "execution_count": null,
      "outputs": []
    },
    {
      "cell_type": "code",
      "source": [
        "dct = {\n",
        "    \"Roll_No\":[1,2,3,4,5],\n",
        "    \"Name\":[\"Harsh\",\"Vidit\",\"Ansh\",'Chinmoy',\"Amit\"]\n",
        "}"
      ],
      "metadata": {
        "id": "sRa4z6PSZZau"
      },
      "execution_count": null,
      "outputs": []
    },
    {
      "cell_type": "code",
      "source": [
        "dct = {1:'Harsh',2:'Amit',3:'Chinmoy',4:\"Vidit\"}\n",
        "print(dct)"
      ],
      "metadata": {
        "colab": {
          "base_uri": "https://localhost:8080/"
        },
        "id": "brBIn2qBY-BX",
        "outputId": "51f71247-0b19-49f0-fd45-c7b7db221b38"
      },
      "execution_count": null,
      "outputs": [
        {
          "output_type": "stream",
          "name": "stdout",
          "text": [
            "{1: 'Harsh', 2: 'Amit', 3: 'Chinmoy', 4: 'Vidit'}\n"
          ]
        }
      ]
    },
    {
      "cell_type": "code",
      "source": [
        "for i in dct:\n",
        "  print(dct[i])"
      ],
      "metadata": {
        "colab": {
          "base_uri": "https://localhost:8080/"
        },
        "id": "PZ-xoZdAa6oA",
        "outputId": "a8b544f0-5180-4448-d270-95e3a3c6c2c6"
      },
      "execution_count": null,
      "outputs": [
        {
          "output_type": "stream",
          "name": "stdout",
          "text": [
            "Harsh\n",
            "Amit\n",
            "Chinmoy\n",
            "Vidit\n"
          ]
        }
      ]
    },
    {
      "cell_type": "code",
      "source": [
        "dct = {\n",
        "    \"Roll_No\":[1,2,3,4,5],\n",
        "    \"Name\":[\"Harsh\",\"Vidit\",\"Ansh\",'Chinmoy',\"Amit\"]\n",
        "}"
      ],
      "metadata": {
        "id": "9oqXm8LnC7je"
      },
      "execution_count": null,
      "outputs": []
    },
    {
      "cell_type": "code",
      "source": [
        "students = {\n",
        "    101: {'name': 'Alice Johnson', 'age': 20, 'course': 'Computer Science', 'year': 2},\n",
        "    102: {'name': 'Bob Smith', 'age': 21, 'course': 'Electrical Engineering', 'year': 3},\n",
        "    103: {'name': 'Charlie Brown', 'age': 22, 'course': 'Mechanical Engineering', 'year': 4},\n",
        "    104: {'name': 'Diana White', 'age': 19, 'course': 'Biotechnology', 'year': 1},\n",
        "    105: {'name': 'Eve Davis', 'age': 23, 'course': 'Civil Engineering', 'year': 4}\n",
        "}"
      ],
      "metadata": {
        "id": "uITSWS_daY1_"
      },
      "execution_count": null,
      "outputs": []
    },
    {
      "cell_type": "code",
      "source": [
        "print(len(students))"
      ],
      "metadata": {
        "colab": {
          "base_uri": "https://localhost:8080/"
        },
        "id": "SaQNZuv_h1HK",
        "outputId": "21e29260-fb7c-4207-e634-d6d61a9915bb"
      },
      "execution_count": null,
      "outputs": [
        {
          "output_type": "stream",
          "name": "stdout",
          "text": [
            "5\n"
          ]
        }
      ]
    },
    {
      "cell_type": "code",
      "source": [
        "for i in students:\n",
        "  print(students[i]['name'])"
      ],
      "metadata": {
        "colab": {
          "base_uri": "https://localhost:8080/"
        },
        "id": "9_zBGuj_h99T",
        "outputId": "d56dfcd2-449a-497a-f78b-5a08f97532f1"
      },
      "execution_count": null,
      "outputs": [
        {
          "output_type": "stream",
          "name": "stdout",
          "text": [
            "Alice Johnson\n",
            "Bob Smith\n",
            "Charlie Brown\n",
            "Diana White\n",
            "Eve Davis\n"
          ]
        }
      ]
    },
    {
      "cell_type": "code",
      "source": [
        "'''\n",
        "Name:    Alice Johnson\n",
        "Age:     20\n",
        "Course:  Computer Science\n",
        "Year:    2\n",
        "**************************\n",
        "Name:    Bob Smith\n",
        "Age:     21\n",
        "Course:  Electrical Engineering\n",
        "Year:    3\n",
        "\n",
        "'''"
      ],
      "metadata": {
        "id": "IRvZZOiTgASR"
      },
      "execution_count": null,
      "outputs": []
    },
    {
      "cell_type": "code",
      "source": [
        "print(students[101]['age'])"
      ],
      "metadata": {
        "colab": {
          "base_uri": "https://localhost:8080/"
        },
        "id": "wZvD6WnLfQue",
        "outputId": "4d8a58d4-90f9-42fd-c647-b84c01e8b7cc"
      },
      "execution_count": null,
      "outputs": [
        {
          "output_type": "stream",
          "name": "stdout",
          "text": [
            "20\n"
          ]
        }
      ]
    },
    {
      "cell_type": "code",
      "source": [
        "for i in students:\n",
        "  print(students[i])"
      ],
      "metadata": {
        "colab": {
          "base_uri": "https://localhost:8080/"
        },
        "id": "EOQ3gKyeaYpX",
        "outputId": "da14c839-7c0f-46aa-cd23-55ffddbfda35"
      },
      "execution_count": null,
      "outputs": [
        {
          "output_type": "stream",
          "name": "stdout",
          "text": [
            "{'name': 'Alice Johnson', 'age': 20, 'course': 'Computer Science', 'year': 2}\n",
            "{'name': 'Bob Smith', 'age': 21, 'course': 'Electrical Engineering', 'year': 3}\n",
            "{'name': 'Charlie Brown', 'age': 22, 'course': 'Mechanical Engineering', 'year': 4}\n",
            "{'name': 'Diana White', 'age': 19, 'course': 'Biotechnology', 'year': 1}\n",
            "{'name': 'Eve Davis', 'age': 23, 'course': 'Civil Engineering', 'year': 4}\n"
          ]
        }
      ]
    },
    {
      "cell_type": "code",
      "source": [
        "print(students[101])"
      ],
      "metadata": {
        "colab": {
          "base_uri": "https://localhost:8080/"
        },
        "id": "WZDEQuSuaMvT",
        "outputId": "02b62c67-88a1-4233-ff06-d092cdef5179"
      },
      "execution_count": null,
      "outputs": [
        {
          "output_type": "stream",
          "name": "stdout",
          "text": [
            "{'name': 'Alice Johnson', 'age': 20, 'course': 'Computer Science', 'year': 2}\n"
          ]
        }
      ]
    },
    {
      "cell_type": "code",
      "source": [],
      "metadata": {
        "id": "pfaRGA08eJD4"
      },
      "execution_count": null,
      "outputs": []
    },
    {
      "cell_type": "code",
      "source": [],
      "metadata": {
        "id": "g756qe29eJBC"
      },
      "execution_count": null,
      "outputs": []
    },
    {
      "cell_type": "code",
      "source": [],
      "metadata": {
        "id": "pnGkNAc9eI-M"
      },
      "execution_count": null,
      "outputs": []
    },
    {
      "cell_type": "markdown",
      "source": [
        "##Problem:\n",
        "\n",
        "You are given a dictionary where the keys are student names and the values are lists of their scores in three subjects. Calculate and print the average score for each student."
      ],
      "metadata": {
        "id": "v5AI3G5ODO_H"
      }
    },
    {
      "cell_type": "code",
      "source": [
        "# Example Input:\n",
        "grades = {\n",
        "    \"Alice\": [85, 90, 78],\n",
        "    \"Bob\": [88, 76, 92],\n",
        "    \"Charlie\": [95, 100, 85]\n",
        "}"
      ],
      "metadata": {
        "id": "DgQZRKdyDVVx"
      },
      "execution_count": null,
      "outputs": []
    },
    {
      "cell_type": "code",
      "source": [
        "# Example Output:\n",
        "Alice: 84.33\n",
        "Bob: 85.33\n",
        "Charlie: 93.33"
      ],
      "metadata": {
        "id": "cJNLPEhsDXQh"
      },
      "execution_count": null,
      "outputs": []
    },
    {
      "cell_type": "markdown",
      "source": [
        "# Numpy"
      ],
      "metadata": {
        "id": "-7Kix6YL7fac"
      }
    },
    {
      "cell_type": "code",
      "source": [
        "import numpy as np"
      ],
      "metadata": {
        "id": "6w7JxED0J90g"
      },
      "execution_count": null,
      "outputs": []
    },
    {
      "cell_type": "code",
      "source": [
        "arr = np.array([1,2,3,4,5])\n",
        "arr"
      ],
      "metadata": {
        "colab": {
          "base_uri": "https://localhost:8080/"
        },
        "id": "hL3X52cBKCbi",
        "outputId": "6b3de49c-dc63-4bb0-8437-112d70003e7f"
      },
      "execution_count": null,
      "outputs": [
        {
          "output_type": "execute_result",
          "data": {
            "text/plain": [
              "array([1.  , 2.  , 3.  , 4.  , 5.  , 1.  , 3.14])"
            ]
          },
          "metadata": {},
          "execution_count": 7
        }
      ]
    },
    {
      "cell_type": "code",
      "source": [
        "[[[1,2,3,4,5],[1,2,3,4]]]"
      ],
      "metadata": {
        "id": "heqlzHGbLKdc"
      },
      "execution_count": null,
      "outputs": []
    },
    {
      "cell_type": "code",
      "source": [
        "np.zeros(shape = (8,8),dtype='int')"
      ],
      "metadata": {
        "colab": {
          "base_uri": "https://localhost:8080/"
        },
        "id": "KZ9B5IgTLkhU",
        "outputId": "999e91ea-dbbc-4158-be21-56d03d08cd01"
      },
      "execution_count": null,
      "outputs": [
        {
          "output_type": "execute_result",
          "data": {
            "text/plain": [
              "array([[0, 0, 0, 0, 0, 0, 0, 0],\n",
              "       [0, 0, 0, 0, 0, 0, 0, 0],\n",
              "       [0, 0, 0, 0, 0, 0, 0, 0],\n",
              "       [0, 0, 0, 0, 0, 0, 0, 0],\n",
              "       [0, 0, 0, 0, 0, 0, 0, 0],\n",
              "       [0, 0, 0, 0, 0, 0, 0, 0],\n",
              "       [0, 0, 0, 0, 0, 0, 0, 0],\n",
              "       [0, 0, 0, 0, 0, 0, 0, 0]])"
            ]
          },
          "metadata": {},
          "execution_count": 9
        }
      ]
    },
    {
      "cell_type": "code",
      "source": [
        "pip install streamlit"
      ],
      "metadata": {
        "colab": {
          "base_uri": "https://localhost:8080/"
        },
        "id": "md04uK7gMKYk",
        "outputId": "ceb0c275-b354-4438-8e8a-f7dd219acce6"
      },
      "execution_count": null,
      "outputs": [
        {
          "output_type": "stream",
          "name": "stdout",
          "text": [
            "Requirement already satisfied: streamlit in /usr/local/lib/python3.11/dist-packages (1.44.1)\n",
            "Requirement already satisfied: altair<6,>=4.0 in /usr/local/lib/python3.11/dist-packages (from streamlit) (5.5.0)\n",
            "Requirement already satisfied: blinker<2,>=1.0.0 in /usr/local/lib/python3.11/dist-packages (from streamlit) (1.9.0)\n",
            "Requirement already satisfied: cachetools<6,>=4.0 in /usr/local/lib/python3.11/dist-packages (from streamlit) (5.5.2)\n",
            "Requirement already satisfied: click<9,>=7.0 in /usr/local/lib/python3.11/dist-packages (from streamlit) (8.1.8)\n",
            "Requirement already satisfied: numpy<3,>=1.23 in /usr/local/lib/python3.11/dist-packages (from streamlit) (2.0.2)\n",
            "Requirement already satisfied: packaging<25,>=20 in /usr/local/lib/python3.11/dist-packages (from streamlit) (24.2)\n",
            "Requirement already satisfied: pandas<3,>=1.4.0 in /usr/local/lib/python3.11/dist-packages (from streamlit) (2.2.2)\n",
            "Requirement already satisfied: pillow<12,>=7.1.0 in /usr/local/lib/python3.11/dist-packages (from streamlit) (11.1.0)\n",
            "Requirement already satisfied: protobuf<6,>=3.20 in /usr/local/lib/python3.11/dist-packages (from streamlit) (5.29.4)\n",
            "Requirement already satisfied: pyarrow>=7.0 in /usr/local/lib/python3.11/dist-packages (from streamlit) (18.1.0)\n",
            "Requirement already satisfied: requests<3,>=2.27 in /usr/local/lib/python3.11/dist-packages (from streamlit) (2.32.3)\n",
            "Requirement already satisfied: tenacity<10,>=8.1.0 in /usr/local/lib/python3.11/dist-packages (from streamlit) (9.1.2)\n",
            "Requirement already satisfied: toml<2,>=0.10.1 in /usr/local/lib/python3.11/dist-packages (from streamlit) (0.10.2)\n",
            "Requirement already satisfied: typing-extensions<5,>=4.4.0 in /usr/local/lib/python3.11/dist-packages (from streamlit) (4.13.2)\n",
            "Requirement already satisfied: watchdog<7,>=2.1.5 in /usr/local/lib/python3.11/dist-packages (from streamlit) (6.0.0)\n",
            "Requirement already satisfied: gitpython!=3.1.19,<4,>=3.0.7 in /usr/local/lib/python3.11/dist-packages (from streamlit) (3.1.44)\n",
            "Requirement already satisfied: pydeck<1,>=0.8.0b4 in /usr/local/lib/python3.11/dist-packages (from streamlit) (0.9.1)\n",
            "Requirement already satisfied: tornado<7,>=6.0.3 in /usr/local/lib/python3.11/dist-packages (from streamlit) (6.4.2)\n",
            "Requirement already satisfied: jinja2 in /usr/local/lib/python3.11/dist-packages (from altair<6,>=4.0->streamlit) (3.1.6)\n",
            "Requirement already satisfied: jsonschema>=3.0 in /usr/local/lib/python3.11/dist-packages (from altair<6,>=4.0->streamlit) (4.23.0)\n",
            "Requirement already satisfied: narwhals>=1.14.2 in /usr/local/lib/python3.11/dist-packages (from altair<6,>=4.0->streamlit) (1.35.0)\n",
            "Requirement already satisfied: gitdb<5,>=4.0.1 in /usr/local/lib/python3.11/dist-packages (from gitpython!=3.1.19,<4,>=3.0.7->streamlit) (4.0.12)\n",
            "Requirement already satisfied: python-dateutil>=2.8.2 in /usr/local/lib/python3.11/dist-packages (from pandas<3,>=1.4.0->streamlit) (2.8.2)\n",
            "Requirement already satisfied: pytz>=2020.1 in /usr/local/lib/python3.11/dist-packages (from pandas<3,>=1.4.0->streamlit) (2025.2)\n",
            "Requirement already satisfied: tzdata>=2022.7 in /usr/local/lib/python3.11/dist-packages (from pandas<3,>=1.4.0->streamlit) (2025.2)\n",
            "Requirement already satisfied: charset-normalizer<4,>=2 in /usr/local/lib/python3.11/dist-packages (from requests<3,>=2.27->streamlit) (3.4.1)\n",
            "Requirement already satisfied: idna<4,>=2.5 in /usr/local/lib/python3.11/dist-packages (from requests<3,>=2.27->streamlit) (3.10)\n",
            "Requirement already satisfied: urllib3<3,>=1.21.1 in /usr/local/lib/python3.11/dist-packages (from requests<3,>=2.27->streamlit) (2.3.0)\n",
            "Requirement already satisfied: certifi>=2017.4.17 in /usr/local/lib/python3.11/dist-packages (from requests<3,>=2.27->streamlit) (2025.1.31)\n",
            "Requirement already satisfied: smmap<6,>=3.0.1 in /usr/local/lib/python3.11/dist-packages (from gitdb<5,>=4.0.1->gitpython!=3.1.19,<4,>=3.0.7->streamlit) (5.0.2)\n",
            "Requirement already satisfied: MarkupSafe>=2.0 in /usr/local/lib/python3.11/dist-packages (from jinja2->altair<6,>=4.0->streamlit) (3.0.2)\n",
            "Requirement already satisfied: attrs>=22.2.0 in /usr/local/lib/python3.11/dist-packages (from jsonschema>=3.0->altair<6,>=4.0->streamlit) (25.3.0)\n",
            "Requirement already satisfied: jsonschema-specifications>=2023.03.6 in /usr/local/lib/python3.11/dist-packages (from jsonschema>=3.0->altair<6,>=4.0->streamlit) (2024.10.1)\n",
            "Requirement already satisfied: referencing>=0.28.4 in /usr/local/lib/python3.11/dist-packages (from jsonschema>=3.0->altair<6,>=4.0->streamlit) (0.36.2)\n",
            "Requirement already satisfied: rpds-py>=0.7.1 in /usr/local/lib/python3.11/dist-packages (from jsonschema>=3.0->altair<6,>=4.0->streamlit) (0.24.0)\n",
            "Requirement already satisfied: six>=1.5 in /usr/local/lib/python3.11/dist-packages (from python-dateutil>=2.8.2->pandas<3,>=1.4.0->streamlit) (1.17.0)\n"
          ]
        }
      ]
    },
    {
      "cell_type": "code",
      "source": [
        "!git clone \"https://github.com/HarshvardhanSingh-13/Datasets\""
      ],
      "metadata": {
        "colab": {
          "base_uri": "https://localhost:8080/"
        },
        "id": "qLirGR_aMWb9",
        "outputId": "c9b8e651-5387-4ccc-90ca-3d7486c0881f"
      },
      "execution_count": null,
      "outputs": [
        {
          "output_type": "stream",
          "name": "stdout",
          "text": [
            "Cloning into 'Datasets'...\n",
            "remote: Enumerating objects: 267, done.\u001b[K\n",
            "remote: Counting objects: 100% (25/25), done.\u001b[K\n",
            "remote: Compressing objects: 100% (24/24), done.\u001b[K\n",
            "remote: Total 267 (delta 5), reused 0 (delta 0), pack-reused 242 (from 1)\u001b[K\n",
            "Receiving objects: 100% (267/267), 300.77 MiB | 21.25 MiB/s, done.\n",
            "Resolving deltas: 100% (119/119), done.\n",
            "Updating files: 100% (228/228), done.\n"
          ]
        }
      ]
    },
    {
      "cell_type": "code",
      "source": [
        "git"
      ],
      "metadata": {
        "colab": {
          "base_uri": "https://localhost:8080/",
          "height": 141
        },
        "id": "LpMaOopSMsot",
        "outputId": "a72f3a14-ebf0-44ee-8180-49707cb9b8e2"
      },
      "execution_count": null,
      "outputs": [
        {
          "output_type": "error",
          "ename": "NameError",
          "evalue": "name 'git' is not defined",
          "traceback": [
            "\u001b[0;31m---------------------------------------------------------------------------\u001b[0m",
            "\u001b[0;31mNameError\u001b[0m                                 Traceback (most recent call last)",
            "\u001b[0;32m<ipython-input-13-b40508769cb0>\u001b[0m in \u001b[0;36m<cell line: 0>\u001b[0;34m()\u001b[0m\n\u001b[0;32m----> 1\u001b[0;31m \u001b[0mgit\u001b[0m\u001b[0;34m\u001b[0m\u001b[0;34m\u001b[0m\u001b[0m\n\u001b[0m",
            "\u001b[0;31mNameError\u001b[0m: name 'git' is not defined"
          ]
        }
      ]
    },
    {
      "cell_type": "code",
      "source": [
        "import streamlit"
      ],
      "metadata": {
        "colab": {
          "base_uri": "https://localhost:8080/",
          "height": 314
        },
        "id": "_WAr1CzL7fF3",
        "outputId": "3dc08cff-1ef5-4d28-c2ed-3dacbff1e026"
      },
      "execution_count": null,
      "outputs": [
        {
          "output_type": "error",
          "ename": "ModuleNotFoundError",
          "evalue": "No module named 'streamlit'",
          "traceback": [
            "\u001b[0;31m---------------------------------------------------------------------------\u001b[0m",
            "\u001b[0;31mModuleNotFoundError\u001b[0m                       Traceback (most recent call last)",
            "\u001b[0;32m<ipython-input-10-12b511d36365>\u001b[0m in \u001b[0;36m<cell line: 0>\u001b[0;34m()\u001b[0m\n\u001b[0;32m----> 1\u001b[0;31m \u001b[0;32mimport\u001b[0m \u001b[0mstreamlit\u001b[0m\u001b[0;34m\u001b[0m\u001b[0;34m\u001b[0m\u001b[0m\n\u001b[0m",
            "\u001b[0;31mModuleNotFoundError\u001b[0m: No module named 'streamlit'",
            "",
            "\u001b[0;31m---------------------------------------------------------------------------\u001b[0;32m\nNOTE: If your import is failing due to a missing package, you can\nmanually install dependencies using either !pip or !apt.\n\nTo view examples of installing some common dependencies, click the\n\"Open Examples\" button below.\n\u001b[0;31m---------------------------------------------------------------------------\u001b[0m\n"
          ],
          "errorDetails": {
            "actions": [
              {
                "action": "open_url",
                "actionText": "Open Examples",
                "url": "/notebooks/snippets/importing_libraries.ipynb"
              }
            ]
          }
        }
      ]
    },
    {
      "cell_type": "code",
      "source": [
        "!pip install streamlit"
      ],
      "metadata": {
        "id": "DLGVzagXtGzn",
        "colab": {
          "base_uri": "https://localhost:8080/"
        },
        "outputId": "ee13e09a-7e60-4e7c-8395-177a6bca2ae5"
      },
      "execution_count": null,
      "outputs": [
        {
          "output_type": "stream",
          "name": "stdout",
          "text": [
            "Requirement already satisfied: streamlit in /usr/local/lib/python3.11/dist-packages (1.44.1)\n",
            "Requirement already satisfied: altair<6,>=4.0 in /usr/local/lib/python3.11/dist-packages (from streamlit) (5.5.0)\n",
            "Requirement already satisfied: blinker<2,>=1.0.0 in /usr/local/lib/python3.11/dist-packages (from streamlit) (1.9.0)\n",
            "Requirement already satisfied: cachetools<6,>=4.0 in /usr/local/lib/python3.11/dist-packages (from streamlit) (5.5.2)\n",
            "Requirement already satisfied: click<9,>=7.0 in /usr/local/lib/python3.11/dist-packages (from streamlit) (8.1.8)\n",
            "Requirement already satisfied: numpy<3,>=1.23 in /usr/local/lib/python3.11/dist-packages (from streamlit) (2.0.2)\n",
            "Requirement already satisfied: packaging<25,>=20 in /usr/local/lib/python3.11/dist-packages (from streamlit) (24.2)\n",
            "Requirement already satisfied: pandas<3,>=1.4.0 in /usr/local/lib/python3.11/dist-packages (from streamlit) (2.2.2)\n",
            "Requirement already satisfied: pillow<12,>=7.1.0 in /usr/local/lib/python3.11/dist-packages (from streamlit) (11.1.0)\n",
            "Requirement already satisfied: protobuf<6,>=3.20 in /usr/local/lib/python3.11/dist-packages (from streamlit) (5.29.4)\n",
            "Requirement already satisfied: pyarrow>=7.0 in /usr/local/lib/python3.11/dist-packages (from streamlit) (18.1.0)\n",
            "Requirement already satisfied: requests<3,>=2.27 in /usr/local/lib/python3.11/dist-packages (from streamlit) (2.32.3)\n",
            "Requirement already satisfied: tenacity<10,>=8.1.0 in /usr/local/lib/python3.11/dist-packages (from streamlit) (9.1.2)\n",
            "Requirement already satisfied: toml<2,>=0.10.1 in /usr/local/lib/python3.11/dist-packages (from streamlit) (0.10.2)\n",
            "Requirement already satisfied: typing-extensions<5,>=4.4.0 in /usr/local/lib/python3.11/dist-packages (from streamlit) (4.13.2)\n",
            "Requirement already satisfied: watchdog<7,>=2.1.5 in /usr/local/lib/python3.11/dist-packages (from streamlit) (6.0.0)\n",
            "Requirement already satisfied: gitpython!=3.1.19,<4,>=3.0.7 in /usr/local/lib/python3.11/dist-packages (from streamlit) (3.1.44)\n",
            "Requirement already satisfied: pydeck<1,>=0.8.0b4 in /usr/local/lib/python3.11/dist-packages (from streamlit) (0.9.1)\n",
            "Requirement already satisfied: tornado<7,>=6.0.3 in /usr/local/lib/python3.11/dist-packages (from streamlit) (6.4.2)\n",
            "Requirement already satisfied: jinja2 in /usr/local/lib/python3.11/dist-packages (from altair<6,>=4.0->streamlit) (3.1.6)\n",
            "Requirement already satisfied: jsonschema>=3.0 in /usr/local/lib/python3.11/dist-packages (from altair<6,>=4.0->streamlit) (4.23.0)\n",
            "Requirement already satisfied: narwhals>=1.14.2 in /usr/local/lib/python3.11/dist-packages (from altair<6,>=4.0->streamlit) (1.35.0)\n",
            "Requirement already satisfied: gitdb<5,>=4.0.1 in /usr/local/lib/python3.11/dist-packages (from gitpython!=3.1.19,<4,>=3.0.7->streamlit) (4.0.12)\n",
            "Requirement already satisfied: python-dateutil>=2.8.2 in /usr/local/lib/python3.11/dist-packages (from pandas<3,>=1.4.0->streamlit) (2.8.2)\n",
            "Requirement already satisfied: pytz>=2020.1 in /usr/local/lib/python3.11/dist-packages (from pandas<3,>=1.4.0->streamlit) (2025.2)\n",
            "Requirement already satisfied: tzdata>=2022.7 in /usr/local/lib/python3.11/dist-packages (from pandas<3,>=1.4.0->streamlit) (2025.2)\n",
            "Requirement already satisfied: charset-normalizer<4,>=2 in /usr/local/lib/python3.11/dist-packages (from requests<3,>=2.27->streamlit) (3.4.1)\n",
            "Requirement already satisfied: idna<4,>=2.5 in /usr/local/lib/python3.11/dist-packages (from requests<3,>=2.27->streamlit) (3.10)\n",
            "Requirement already satisfied: urllib3<3,>=1.21.1 in /usr/local/lib/python3.11/dist-packages (from requests<3,>=2.27->streamlit) (2.3.0)\n",
            "Requirement already satisfied: certifi>=2017.4.17 in /usr/local/lib/python3.11/dist-packages (from requests<3,>=2.27->streamlit) (2025.1.31)\n",
            "Requirement already satisfied: smmap<6,>=3.0.1 in /usr/local/lib/python3.11/dist-packages (from gitdb<5,>=4.0.1->gitpython!=3.1.19,<4,>=3.0.7->streamlit) (5.0.2)\n",
            "Requirement already satisfied: MarkupSafe>=2.0 in /usr/local/lib/python3.11/dist-packages (from jinja2->altair<6,>=4.0->streamlit) (3.0.2)\n",
            "Requirement already satisfied: attrs>=22.2.0 in /usr/local/lib/python3.11/dist-packages (from jsonschema>=3.0->altair<6,>=4.0->streamlit) (25.3.0)\n",
            "Requirement already satisfied: jsonschema-specifications>=2023.03.6 in /usr/local/lib/python3.11/dist-packages (from jsonschema>=3.0->altair<6,>=4.0->streamlit) (2024.10.1)\n",
            "Requirement already satisfied: referencing>=0.28.4 in /usr/local/lib/python3.11/dist-packages (from jsonschema>=3.0->altair<6,>=4.0->streamlit) (0.36.2)\n",
            "Requirement already satisfied: rpds-py>=0.7.1 in /usr/local/lib/python3.11/dist-packages (from jsonschema>=3.0->altair<6,>=4.0->streamlit) (0.24.0)\n",
            "Requirement already satisfied: six>=1.5 in /usr/local/lib/python3.11/dist-packages (from python-dateutil>=2.8.2->pandas<3,>=1.4.0->streamlit) (1.17.0)\n"
          ]
        }
      ]
    },
    {
      "cell_type": "code",
      "source": [
        "import numpy"
      ],
      "metadata": {
        "id": "hA_9ISNl8YjN"
      },
      "execution_count": null,
      "outputs": []
    },
    {
      "cell_type": "code",
      "source": [
        "lst = [1,2,3,4,5]\n",
        "print((lst))"
      ],
      "metadata": {
        "colab": {
          "base_uri": "https://localhost:8080/"
        },
        "id": "tv-NZ8FE84tt",
        "outputId": "b507032e-fa32-4de3-9072-e803081fa7a4"
      },
      "execution_count": null,
      "outputs": [
        {
          "output_type": "stream",
          "name": "stdout",
          "text": [
            "[1, 2, 3, 4, 5]\n"
          ]
        }
      ]
    },
    {
      "cell_type": "code",
      "source": [
        "arr = numpy.array([1,2,3,4,5])\n",
        "print(arr.mean())"
      ],
      "metadata": {
        "colab": {
          "base_uri": "https://localhost:8080/"
        },
        "id": "bon9jsfc9PMj",
        "outputId": "b0409f41-6417-4635-9f7f-c48ef1ebb4a4"
      },
      "execution_count": null,
      "outputs": [
        {
          "output_type": "stream",
          "name": "stdout",
          "text": [
            "3.0\n"
          ]
        }
      ]
    },
    {
      "cell_type": "code",
      "source": [
        "arr = np.arange(1,10,2)\n",
        "arr"
      ],
      "metadata": {
        "colab": {
          "base_uri": "https://localhost:8080/"
        },
        "id": "zFVodv3x9ZW4",
        "outputId": "bfe5dc43-3fff-4900-8efc-6532f5c0bea0"
      },
      "execution_count": null,
      "outputs": [
        {
          "output_type": "execute_result",
          "data": {
            "text/plain": [
              "array([1, 3, 5, 7, 9])"
            ]
          },
          "metadata": {},
          "execution_count": 32
        }
      ]
    },
    {
      "cell_type": "code",
      "source": [
        "lst = [[1,2,3],[4,5,6],[7,8,9],[1,2,3]]"
      ],
      "metadata": {
        "id": "Aov15Auq-59o"
      },
      "execution_count": null,
      "outputs": []
    },
    {
      "cell_type": "code",
      "source": [
        "arr = np.array([[1,2,3],[4,5,6],[7,8,9],[1,2,3]])\n",
        "\n",
        "print('Total : ', arr.size)\n",
        "print('Rows  : ', np.size(arr,0))\n",
        "print('Cols  : ', np.size(arr,1))\n",
        "\n",
        "arr"
      ],
      "metadata": {
        "colab": {
          "base_uri": "https://localhost:8080/"
        },
        "id": "O4IvJkBf-lAJ",
        "outputId": "acb067a8-faf4-4d04-c86e-22e74fc01313"
      },
      "execution_count": null,
      "outputs": [
        {
          "output_type": "stream",
          "name": "stdout",
          "text": [
            "Total :  12\n",
            "Rows  :  4\n",
            "Cols  :  3\n"
          ]
        },
        {
          "output_type": "execute_result",
          "data": {
            "text/plain": [
              "array([[1, 2, 3],\n",
              "       [4, 5, 6],\n",
              "       [7, 8, 9],\n",
              "       [1, 2, 3]])"
            ]
          },
          "metadata": {},
          "execution_count": 33
        }
      ]
    },
    {
      "cell_type": "code",
      "source": [
        "arr = np.array([[1,2,3],[4,5,6],[7,8,9],[1,2,3]])\n",
        "\n",
        "print(arr.shape)"
      ],
      "metadata": {
        "colab": {
          "base_uri": "https://localhost:8080/"
        },
        "id": "lcLv01RT_SeQ",
        "outputId": "33b867f7-5d55-45a1-dabd-7db42b5326de"
      },
      "execution_count": null,
      "outputs": [
        {
          "output_type": "stream",
          "name": "stdout",
          "text": [
            "(4, 3)\n"
          ]
        }
      ]
    },
    {
      "cell_type": "code",
      "source": [
        "arr1 = np.array([1,2,3,1,2,3])\n",
        "arr2 = np.array([[1,2,3],[1,2,3]])\n",
        "\n",
        "# print(arr1.ndim)\n",
        "# print(arr2.ndim)\n",
        "\n",
        "arr3 = np.array(arr1, ndmin = 3)\n",
        "print(arr3)"
      ],
      "metadata": {
        "colab": {
          "base_uri": "https://localhost:8080/"
        },
        "id": "a6QG8pOV_twV",
        "outputId": "7dd1735e-efb7-4619-f017-f32083a002b9"
      },
      "execution_count": null,
      "outputs": [
        {
          "output_type": "stream",
          "name": "stdout",
          "text": [
            "[[[1 2 3 1 2 3]]]\n"
          ]
        }
      ]
    },
    {
      "cell_type": "code",
      "source": [
        "arr = np.zeros(shape = (8,8),dtype='int')\n",
        "\n",
        "print(arr)"
      ],
      "metadata": {
        "colab": {
          "base_uri": "https://localhost:8080/"
        },
        "id": "bAKtGWpB_7j3",
        "outputId": "3b7c59ee-a79a-4e0c-d6ad-e79148827a6e"
      },
      "execution_count": null,
      "outputs": [
        {
          "output_type": "stream",
          "name": "stdout",
          "text": [
            "[[0 0 0 0 0 0 0 0]\n",
            " [0 0 0 0 0 0 0 0]\n",
            " [0 0 0 0 0 0 0 0]\n",
            " [0 0 0 0 0 0 0 0]\n",
            " [0 0 0 0 0 0 0 0]\n",
            " [0 0 0 0 0 0 0 0]\n",
            " [0 0 0 0 0 0 0 0]\n",
            " [0 0 0 0 0 0 0 0]]\n"
          ]
        }
      ]
    },
    {
      "cell_type": "code",
      "source": [
        "arr[2][1] = 12\n",
        "arr"
      ],
      "metadata": {
        "colab": {
          "base_uri": "https://localhost:8080/"
        },
        "id": "FaxpD6zsGW0D",
        "outputId": "b44f08a4-8bdc-47e1-ce61-a6d52b231d85"
      },
      "execution_count": null,
      "outputs": [
        {
          "output_type": "execute_result",
          "data": {
            "text/plain": [
              "array([[ 1,  0,  1,  0,  1,  0,  1,  0],\n",
              "       [ 0,  1,  0,  1,  0,  1,  0,  1],\n",
              "       [ 1, 12,  1,  0,  1,  0,  1,  0],\n",
              "       [ 0,  1,  0,  1,  0,  1,  0,  1],\n",
              "       [ 1,  0,  1,  0,  1,  0,  1,  0],\n",
              "       [ 0,  1,  0,  1,  0,  1,  0,  1],\n",
              "       [ 1,  0,  1,  0,  1,  0,  1,  0],\n",
              "       [ 0,  1,  0,  1,  0,  1,  0,  1]])"
            ]
          },
          "metadata": {},
          "execution_count": 56
        }
      ]
    },
    {
      "cell_type": "code",
      "source": [
        "(0,0),(0,2),(0,4)(0,6)\n",
        "(1,1),(1,3),(1,5),(1,7)"
      ],
      "metadata": {
        "id": "T8t6Nxf_AKPe"
      },
      "execution_count": null,
      "outputs": []
    },
    {
      "cell_type": "code",
      "source": [],
      "metadata": {
        "id": "CZU3DImqGQgi"
      },
      "execution_count": null,
      "outputs": []
    },
    {
      "cell_type": "code",
      "source": [
        "for i in range(len(arr)):\n",
        "  for j in range(len(arr)):\n",
        "    if (i+j)%2 == 0:\n",
        "      arr[i][j]=1\n",
        "\n",
        "arr"
      ],
      "metadata": {
        "colab": {
          "base_uri": "https://localhost:8080/"
        },
        "id": "FeAKddGMEjeY",
        "outputId": "b696718a-dd0e-426c-a78d-fc925351d251"
      },
      "execution_count": null,
      "outputs": [
        {
          "output_type": "execute_result",
          "data": {
            "text/plain": [
              "array([[1, 0, 1, 0, 1, 0, 1, 0],\n",
              "       [0, 1, 0, 1, 0, 1, 0, 1],\n",
              "       [1, 0, 1, 0, 1, 0, 1, 0],\n",
              "       [0, 1, 0, 1, 0, 1, 0, 1],\n",
              "       [1, 0, 1, 0, 1, 0, 1, 0],\n",
              "       [0, 1, 0, 1, 0, 1, 0, 1],\n",
              "       [1, 0, 1, 0, 1, 0, 1, 0],\n",
              "       [0, 1, 0, 1, 0, 1, 0, 1]])"
            ]
          },
          "metadata": {},
          "execution_count": 55
        }
      ]
    },
    {
      "cell_type": "code",
      "source": [
        "import matplotlib.pyplot as plt\n",
        "\n",
        "%matplotlib inline\n",
        "\n",
        "plt.hist(np.random.randn(10000000), bins = 1000);"
      ],
      "metadata": {
        "colab": {
          "base_uri": "https://localhost:8080/",
          "height": 430
        },
        "id": "akgr8n4SFYOQ",
        "outputId": "8ce56eb5-ded6-4386-ce69-a60e13c49906"
      },
      "execution_count": null,
      "outputs": [
        {
          "output_type": "display_data",
          "data": {
            "text/plain": [
              "<Figure size 640x480 with 1 Axes>"
            ],
            "image/png": "[encoded data removed]"
          },
          "metadata": {}
        }
      ]
    },
    {
      "cell_type": "code",
      "source": [
        "import pandas as pd\n",
        "\n",
        "lst = [1,2,3,4,5]\n",
        "\n",
        "pd.Series(lst)"
      ],
      "metadata": {
        "colab": {
          "base_uri": "https://localhost:8080/",
          "height": 241
        },
        "id": "GGPVXCj9HXV7",
        "outputId": "110caee6-ce2f-4739-be2b-8c1144fc6283"
      },
      "execution_count": null,
      "outputs": [
        {
          "output_type": "execute_result",
          "data": {
            "text/plain": [
              "0    1\n",
              "1    2\n",
              "2    3\n",
              "3    4\n",
              "4    5\n",
              "dtype: int64"
            ],
            "text/html": [
              "<div>\n",
              "<style scoped>\n",
              "    .dataframe tbody tr th:only-of-type {\n",
              "        vertical-align: middle;\n",
              "    }\n",
              "\n",
              "    .dataframe tbody tr th {\n",
              "        vertical-align: top;\n",
              "    }\n",
              "\n",
              "    .dataframe thead th {\n",
              "        text-align: right;\n",
              "    }\n",
              "</style>\n",
              "<table border=\"1\" class=\"dataframe\">\n",
              "  <thead>\n",
              "    <tr style=\"text-align: right;\">\n",
              "      <th></th>\n",
              "      <th>0</th>\n",
              "    </tr>\n",
              "  </thead>\n",
              "  <tbody>\n",
              "    <tr>\n",
              "      <th>0</th>\n",
              "      <td>1</td>\n",
              "    </tr>\n",
              "    <tr>\n",
              "      <th>1</th>\n",
              "      <td>2</td>\n",
              "    </tr>\n",
              "    <tr>\n",
              "      <th>2</th>\n",
              "      <td>3</td>\n",
              "    </tr>\n",
              "    <tr>\n",
              "      <th>3</th>\n",
              "      <td>4</td>\n",
              "    </tr>\n",
              "    <tr>\n",
              "      <th>4</th>\n",
              "      <td>5</td>\n",
              "    </tr>\n",
              "  </tbody>\n",
              "</table>\n",
              "</div><br><label><b>dtype:</b> int64</label>"
            ]
          },
          "metadata": {},
          "execution_count": 66
        }
      ]
    },
    {
      "cell_type": "code",
      "source": [
        "pd.Series(index = ['Eshant', 'Pranjal', 'Jayesh', 'Ashish'], data = [1,2,3,4])"
      ],
      "metadata": {
        "colab": {
          "base_uri": "https://localhost:8080/",
          "height": 210
        },
        "id": "A2S48xDFJG4E",
        "outputId": "ac3de9da-057b-4c35-9393-9208f68ff3ad"
      },
      "execution_count": null,
      "outputs": [
        {
          "output_type": "execute_result",
          "data": {
            "text/plain": [
              "Eshant     1\n",
              "Pranjal    2\n",
              "Jayesh     3\n",
              "Ashish     4\n",
              "dtype: int64"
            ],
            "text/html": [
              "<div>\n",
              "<style scoped>\n",
              "    .dataframe tbody tr th:only-of-type {\n",
              "        vertical-align: middle;\n",
              "    }\n",
              "\n",
              "    .dataframe tbody tr th {\n",
              "        vertical-align: top;\n",
              "    }\n",
              "\n",
              "    .dataframe thead th {\n",
              "        text-align: right;\n",
              "    }\n",
              "</style>\n",
              "<table border=\"1\" class=\"dataframe\">\n",
              "  <thead>\n",
              "    <tr style=\"text-align: right;\">\n",
              "      <th></th>\n",
              "      <th>0</th>\n",
              "    </tr>\n",
              "  </thead>\n",
              "  <tbody>\n",
              "    <tr>\n",
              "      <th>Eshant</th>\n",
              "      <td>1</td>\n",
              "    </tr>\n",
              "    <tr>\n",
              "      <th>Pranjal</th>\n",
              "      <td>2</td>\n",
              "    </tr>\n",
              "    <tr>\n",
              "      <th>Jayesh</th>\n",
              "      <td>3</td>\n",
              "    </tr>\n",
              "    <tr>\n",
              "      <th>Ashish</th>\n",
              "      <td>4</td>\n",
              "    </tr>\n",
              "  </tbody>\n",
              "</table>\n",
              "</div><br><label><b>dtype:</b> int64</label>"
            ]
          },
          "metadata": {},
          "execution_count": 67
        }
      ]
    },
    {
      "cell_type": "markdown",
      "source": [
        "# 1. Data Exploration"
      ],
      "metadata": {
        "id": "zat9vTr7W8PY"
      }
    },
    {
      "cell_type": "markdown",
      "source": [
        "## 1.1) Importing Library"
      ],
      "metadata": {
        "id": "LeHRniSiXAA0"
      }
    },
    {
      "cell_type": "code",
      "source": [
        "import pandas as pd"
      ],
      "metadata": {
        "id": "rdMucUxUNz_W"
      },
      "execution_count": null,
      "outputs": []
    },
    {
      "cell_type": "markdown",
      "source": [],
      "metadata": {
        "id": "ztY_gCi3XEXJ"
      }
    },
    {
      "cell_type": "code",
      "source": [
        "df = pd.read_csv('/content/Datasets/Gaana/songs.csv')"
      ],
      "metadata": {
        "id": "zD0ZDc_LN6kq"
      },
      "execution_count": null,
      "outputs": []
    },
    {
      "cell_type": "code",
      "source": [
        "df"
      ],
      "metadata": {
        "colab": {
          "base_uri": "https://localhost:8080/",
          "height": 493
        },
        "id": "4lgQhMDkOXcU",
        "outputId": "6bb6c636-102a-4de8-bd92-570add873345"
      },
      "execution_count": null,
      "outputs": [
        {
          "output_type": "execute_result",
          "data": {
            "text/plain": [
              "                                                    name  \\\n",
              "0                                  Dil - E - Nadan Tujhe   \n",
              "1                      Agar Hum Kahen Aur Woh Muskara De   \n",
              "2                                          Unke Dekhe Se   \n",
              "3                Yeh Na Thi Hamari Qismat - Chitra Singh   \n",
              "4                                Hazaron Khwahishen Aisi   \n",
              "...                                                  ...   \n",
              "41350  Chaaridike Paaper Andhar (Manush Janam Diye Bi...   \n",
              "41351                                Ei Ki Go Shesh Daan   \n",
              "41352                                       Ei Je Bangla   \n",
              "41353                               Jatone Hridaye Rekho   \n",
              "41354                            Tomar Je Oi Haater Mala   \n",
              "\n",
              "                               singer  \\\n",
              "0           Chitra Singh|Jagjit Singh   \n",
              "1           Chitra Singh|Jagjit Singh   \n",
              "2                        Jagjit Singh   \n",
              "3                        Chitra Singh   \n",
              "4                        Jagjit Singh   \n",
              "...                               ...   \n",
              "41350                   Kishore Kumar   \n",
              "41351                    Feroza Begum   \n",
              "41352  Sandhya Mukherjee|Hemant Kumar   \n",
              "41353                Ajoy Chakrabarty   \n",
              "41354                     Asha Bhosle   \n",
              "\n",
              "                                               singer_id duration  \\\n",
              "0           /artist/chitra-singh|/artist/jagjeet-singh-1    05:00   \n",
              "1           /artist/chitra-singh|/artist/jagjeet-singh-1    06:26   \n",
              "2                                /artist/jagjeet-singh-1    03:41   \n",
              "3                                   /artist/chitra-singh    04:26   \n",
              "4                                /artist/jagjeet-singh-1    05:39   \n",
              "...                                                  ...      ...   \n",
              "41350                              /artist/kishore-kumar    03:23   \n",
              "41351                               /artist/feroza-begum    03:56   \n",
              "41352  /artist/sandhya-mukherjee|/artist/hemanta-mukh...    07:36   \n",
              "41353                           /artist/ajoy-chakrabarty    04:29   \n",
              "41354                              /artist/asha-bhosle-1    03:22   \n",
              "\n",
              "                                                    link language  \n",
              "0                                   /dil-e-nadan-tujhe-3     Urdu  \n",
              "1                    /agar-hum-kahen-aur-woh-muskura-den     Urdu  \n",
              "2                                         /unke-dekhe-se     Urdu  \n",
              "3                            /yeh-na-thi-hamari-qismat-2     Urdu  \n",
              "4                             /hazaron-khwahishen-aisi-1     Urdu  \n",
              "...                                                  ...      ...  \n",
              "41350  /chaaridike-paaper-andhar-manush-janam-diye-bidhi  Bengali  \n",
              "41351                                 /ei-kigo-sesh-daan  Bengali  \n",
              "41352                                      /ei-je-bangla  Bengali  \n",
              "41353                              /jatone-hridaye-rekho  Bengali  \n",
              "41354                           /tomar-je-oi-haater-mala  Bengali  \n",
              "\n",
              "[41355 rows x 6 columns]"
            ],
            "text/html": [
              "\n",
              "  <div id=\"df-a45308df-305f-44a9-8bf9-cdfa3d65d6bb\" class=\"colab-df-container\">\n",
              "    <div>\n",
              "<style scoped>\n",
              "    .dataframe tbody tr th:only-of-type {\n",
              "        vertical-align: middle;\n",
              "    }\n",
              "\n",
              "    .dataframe tbody tr th {\n",
              "        vertical-align: top;\n",
              "    }\n",
              "\n",
              "    .dataframe thead th {\n",
              "        text-align: right;\n",
              "    }\n",
              "</style>\n",
              "<table border=\"1\" class=\"dataframe\">\n",
              "  <thead>\n",
              "    <tr style=\"text-align: right;\">\n",
              "      <th></th>\n",
              "      <th>name</th>\n",
              "      <th>singer</th>\n",
              "      <th>singer_id</th>\n",
              "      <th>duration</th>\n",
              "      <th>link</th>\n",
              "      <th>language</th>\n",
              "    </tr>\n",
              "  </thead>\n",
              "  <tbody>\n",
              "    <tr>\n",
              "      <th>0</th>\n",
              "      <td>Dil - E - Nadan Tujhe</td>\n",
              "      <td>Chitra Singh|Jagjit Singh</td>\n",
              "      <td>/artist/chitra-singh|/artist/jagjeet-singh-1</td>\n",
              "      <td>05:00</td>\n",
              "      <td>/dil-e-nadan-tujhe-3</td>\n",
              "      <td>Urdu</td>\n",
              "    </tr>\n",
              "    <tr>\n",
              "      <th>1</th>\n",
              "      <td>Agar Hum Kahen Aur Woh Muskara De</td>\n",
              "      <td>Chitra Singh|Jagjit Singh</td>\n",
              "      <td>/artist/chitra-singh|/artist/jagjeet-singh-1</td>\n",
              "      <td>06:26</td>\n",
              "      <td>/agar-hum-kahen-aur-woh-muskura-den</td>\n",
              "      <td>Urdu</td>\n",
              "    </tr>\n",
              "    <tr>\n",
              "      <th>2</th>\n",
              "      <td>Unke Dekhe Se</td>\n",
              "      <td>Jagjit Singh</td>\n",
              "      <td>/artist/jagjeet-singh-1</td>\n",
              "      <td>03:41</td>\n",
              "      <td>/unke-dekhe-se</td>\n",
              "      <td>Urdu</td>\n",
              "    </tr>\n",
              "    <tr>\n",
              "      <th>3</th>\n",
              "      <td>Yeh Na Thi Hamari Qismat - Chitra Singh</td>\n",
              "      <td>Chitra Singh</td>\n",
              "      <td>/artist/chitra-singh</td>\n",
              "      <td>04:26</td>\n",
              "      <td>/yeh-na-thi-hamari-qismat-2</td>\n",
              "      <td>Urdu</td>\n",
              "    </tr>\n",
              "    <tr>\n",
              "      <th>4</th>\n",
              "      <td>Hazaron Khwahishen Aisi</td>\n",
              "      <td>Jagjit Singh</td>\n",
              "      <td>/artist/jagjeet-singh-1</td>\n",
              "      <td>05:39</td>\n",
              "      <td>/hazaron-khwahishen-aisi-1</td>\n",
              "      <td>Urdu</td>\n",
              "    </tr>\n",
              "    <tr>\n",
              "      <th>...</th>\n",
              "      <td>...</td>\n",
              "      <td>...</td>\n",
              "      <td>...</td>\n",
              "      <td>...</td>\n",
              "      <td>...</td>\n",
              "      <td>...</td>\n",
              "    </tr>\n",
              "    <tr>\n",
              "      <th>41350</th>\n",
              "      <td>Chaaridike Paaper Andhar (Manush Janam Diye Bi...</td>\n",
              "      <td>Kishore Kumar</td>\n",
              "      <td>/artist/kishore-kumar</td>\n",
              "      <td>03:23</td>\n",
              "      <td>/chaaridike-paaper-andhar-manush-janam-diye-bidhi</td>\n",
              "      <td>Bengali</td>\n",
              "    </tr>\n",
              "    <tr>\n",
              "      <th>41351</th>\n",
              "      <td>Ei Ki Go Shesh Daan</td>\n",
              "      <td>Feroza Begum</td>\n",
              "      <td>/artist/feroza-begum</td>\n",
              "      <td>03:56</td>\n",
              "      <td>/ei-kigo-sesh-daan</td>\n",
              "      <td>Bengali</td>\n",
              "    </tr>\n",
              "    <tr>\n",
              "      <th>41352</th>\n",
              "      <td>Ei Je Bangla</td>\n",
              "      <td>Sandhya Mukherjee|Hemant Kumar</td>\n",
              "      <td>/artist/sandhya-mukherjee|/artist/hemanta-mukh...</td>\n",
              "      <td>07:36</td>\n",
              "      <td>/ei-je-bangla</td>\n",
              "      <td>Bengali</td>\n",
              "    </tr>\n",
              "    <tr>\n",
              "      <th>41353</th>\n",
              "      <td>Jatone Hridaye Rekho</td>\n",
              "      <td>Ajoy Chakrabarty</td>\n",
              "      <td>/artist/ajoy-chakrabarty</td>\n",
              "      <td>04:29</td>\n",
              "      <td>/jatone-hridaye-rekho</td>\n",
              "      <td>Bengali</td>\n",
              "    </tr>\n",
              "    <tr>\n",
              "      <th>41354</th>\n",
              "      <td>Tomar Je Oi Haater Mala</td>\n",
              "      <td>Asha Bhosle</td>\n",
              "      <td>/artist/asha-bhosle-1</td>\n",
              "      <td>03:22</td>\n",
              "      <td>/tomar-je-oi-haater-mala</td>\n",
              "      <td>Bengali</td>\n",
              "    </tr>\n",
              "  </tbody>\n",
              "</table>\n",
              "<p>41355 rows × 6 columns</p>\n",
              "</div>\n",
              "    <div class=\"colab-df-buttons\">\n",
              "\n",
              "  <div class=\"colab-df-container\">\n",
              "    <button class=\"colab-df-convert\" onclick=\"convertToInteractive('df-a45308df-305f-44a9-8bf9-cdfa3d65d6bb')\"\n",
              "            title=\"Convert this dataframe to an interactive table.\"\n",
              "            style=\"display:none;\">\n",
              "\n",
              "  <svg xmlns=\"http://www.w3.org/2000/svg\" height=\"24px\" viewBox=\"0 -960 960 960\">\n",
              "    <path d=\"M120-120v-720h720v720H120Zm60-500h600v-160H180v160Zm220 220h160v-160H400v160Zm0 220h160v-160H400v160ZM180-400h160v-160H180v160Zm440 0h160v-160H620v160ZM180-180h160v-160H180v160Zm440 0h160v-160H620v160Z\"/>\n",
              "  </svg>\n",
              "    </button>\n",
              "\n",
              "  <style>\n",
              "    .colab-df-container {\n",
              "      display:flex;\n",
              "      gap: 12px;\n",
              "    }\n",
              "\n",
              "    .colab-df-convert {\n",
              "      background-color: #E8F0FE;\n",
              "      border: none;\n",
              "      border-radius: 50%;\n",
              "      cursor: pointer;\n",
              "      display: none;\n",
              "      fill: #1967D2;\n",
              "      height: 32px;\n",
              "      padding: 0 0 0 0;\n",
              "      width: 32px;\n",
              "    }\n",
              "\n",
              "    .colab-df-convert:hover {\n",
              "      background-color: #E2EBFA;\n",
              "      box-shadow: 0px 1px 2px rgba(60, 64, 67, 0.3), 0px 1px 3px 1px rgba(60, 64, 67, 0.15);\n",
              "      fill: #174EA6;\n",
              "    }\n",
              "\n",
              "    .colab-df-buttons div {\n",
              "      margin-bottom: 4px;\n",
              "    }\n",
              "\n",
              "    [theme=dark] .colab-df-convert {\n",
              "      background-color: #3B4455;\n",
              "      fill: #D2E3FC;\n",
              "    }\n",
              "\n",
              "    [theme=dark] .colab-df-convert:hover {\n",
              "      background-color: #434B5C;\n",
              "      box-shadow: 0px 1px 3px 1px rgba(0, 0, 0, 0.15);\n",
              "      filter: drop-shadow(0px 1px 2px rgba(0, 0, 0, 0.3));\n",
              "      fill: #FFFFFF;\n",
              "    }\n",
              "  </style>\n",
              "\n",
              "    <script>\n",
              "      const buttonEl =\n",
              "        document.querySelector('#df-a45308df-305f-44a9-8bf9-cdfa3d65d6bb button.colab-df-convert');\n",
              "      buttonEl.style.display =\n",
              "        google.colab.kernel.accessAllowed ? 'block' : 'none';\n",
              "\n",
              "      async function convertToInteractive(key) {\n",
              "        const element = document.querySelector('#df-a45308df-305f-44a9-8bf9-cdfa3d65d6bb');\n",
              "        const dataTable =\n",
              "          await google.colab.kernel.invokeFunction('convertToInteractive',\n",
              "                                                    [key], {});\n",
              "        if (!dataTable) return;\n",
              "\n",
              "        const docLinkHtml = 'Like what you see? Visit the ' +\n",
              "          '<a target=\"_blank\" href=https://colab.research.google.com/notebooks/data_table.ipynb>data table notebook</a>'\n",
              "          + ' to learn more about interactive tables.';\n",
              "        element.innerHTML = '';\n",
              "        dataTable['output_type'] = 'display_data';\n",
              "        await google.colab.output.renderOutput(dataTable, element);\n",
              "        const docLink = document.createElement('div');\n",
              "        docLink.innerHTML = docLinkHtml;\n",
              "        element.appendChild(docLink);\n",
              "      }\n",
              "    </script>\n",
              "  </div>\n",
              "\n",
              "\n",
              "<div id=\"df-d1e22bdb-1fc4-4896-920f-84fe7e1238f4\">\n",
              "  <button class=\"colab-df-quickchart\" onclick=\"quickchart('df-d1e22bdb-1fc4-4896-920f-84fe7e1238f4')\"\n",
              "            title=\"Suggest charts\"\n",
              "            style=\"display:none;\">\n",
              "\n",
              "<svg xmlns=\"http://www.w3.org/2000/svg\" height=\"24px\"viewBox=\"0 0 24 24\"\n",
              "     width=\"24px\">\n",
              "    <g>\n",
              "        <path d=\"M19 3H5c-1.1 0-2 .9-2 2v14c0 1.1.9 2 2 2h14c1.1 0 2-.9 2-2V5c0-1.1-.9-2-2-2zM9 17H7v-7h2v7zm4 0h-2V7h2v10zm4 0h-2v-4h2v4z\"/>\n",
              "    </g>\n",
              "</svg>\n",
              "  </button>\n",
              "\n",
              "<style>\n",
              "  .colab-df-quickchart {\n",
              "      --bg-color: #E8F0FE;\n",
              "      --fill-color: #1967D2;\n",
              "      --hover-bg-color: #E2EBFA;\n",
              "      --hover-fill-color: #174EA6;\n",
              "      --disabled-fill-color: #AAA;\n",
              "      --disabled-bg-color: #DDD;\n",
              "  }\n",
              "\n",
              "  [theme=dark] .colab-df-quickchart {\n",
              "      --bg-color: #3B4455;\n",
              "      --fill-color: #D2E3FC;\n",
              "      --hover-bg-color: #434B5C;\n",
              "      --hover-fill-color: #FFFFFF;\n",
              "      --disabled-bg-color: #3B4455;\n",
              "      --disabled-fill-color: #666;\n",
              "  }\n",
              "\n",
              "  .colab-df-quickchart {\n",
              "    background-color: var(--bg-color);\n",
              "    border: none;\n",
              "    border-radius: 50%;\n",
              "    cursor: pointer;\n",
              "    display: none;\n",
              "    fill: var(--fill-color);\n",
              "    height: 32px;\n",
              "    padding: 0;\n",
              "    width: 32px;\n",
              "  }\n",
              "\n",
              "  .colab-df-quickchart:hover {\n",
              "    background-color: var(--hover-bg-color);\n",
              "    box-shadow: 0 1px 2px rgba(60, 64, 67, 0.3), 0 1px 3px 1px rgba(60, 64, 67, 0.15);\n",
              "    fill: var(--button-hover-fill-color);\n",
              "  }\n",
              "\n",
              "  .colab-df-quickchart-complete:disabled,\n",
              "  .colab-df-quickchart-complete:disabled:hover {\n",
              "    background-color: var(--disabled-bg-color);\n",
              "    fill: var(--disabled-fill-color);\n",
              "    box-shadow: none;\n",
              "  }\n",
              "\n",
              "  .colab-df-spinner {\n",
              "    border: 2px solid var(--fill-color);\n",
              "    border-color: transparent;\n",
              "    border-bottom-color: var(--fill-color);\n",
              "    animation:\n",
              "      spin 1s steps(1) infinite;\n",
              "  }\n",
              "\n",
              "  @keyframes spin {\n",
              "    0% {\n",
              "      border-color: transparent;\n",
              "      border-bottom-color: var(--fill-color);\n",
              "      border-left-color: var(--fill-color);\n",
              "    }\n",
              "    20% {\n",
              "      border-color: transparent;\n",
              "      border-left-color: var(--fill-color);\n",
              "      border-top-color: var(--fill-color);\n",
              "    }\n",
              "    30% {\n",
              "      border-color: transparent;\n",
              "      border-left-color: var(--fill-color);\n",
              "      border-top-color: var(--fill-color);\n",
              "      border-right-color: var(--fill-color);\n",
              "    }\n",
              "    40% {\n",
              "      border-color: transparent;\n",
              "      border-right-color: var(--fill-color);\n",
              "      border-top-color: var(--fill-color);\n",
              "    }\n",
              "    60% {\n",
              "      border-color: transparent;\n",
              "      border-right-color: var(--fill-color);\n",
              "    }\n",
              "    80% {\n",
              "      border-color: transparent;\n",
              "      border-right-color: var(--fill-color);\n",
              "      border-bottom-color: var(--fill-color);\n",
              "    }\n",
              "    90% {\n",
              "      border-color: transparent;\n",
              "      border-bottom-color: var(--fill-color);\n",
              "    }\n",
              "  }\n",
              "</style>\n",
              "\n",
              "  <script>\n",
              "    async function quickchart(key) {\n",
              "      const quickchartButtonEl =\n",
              "        document.querySelector('#' + key + ' button');\n",
              "      quickchartButtonEl.disabled = true;  // To prevent multiple clicks.\n",
              "      quickchartButtonEl.classList.add('colab-df-spinner');\n",
              "      try {\n",
              "        const charts = await google.colab.kernel.invokeFunction(\n",
              "            'suggestCharts', [key], {});\n",
              "      } catch (error) {\n",
              "        console.error('Error during call to suggestCharts:', error);\n",
              "      }\n",
              "      quickchartButtonEl.classList.remove('colab-df-spinner');\n",
              "      quickchartButtonEl.classList.add('colab-df-quickchart-complete');\n",
              "    }\n",
              "    (() => {\n",
              "      let quickchartButtonEl =\n",
              "        document.querySelector('#df-d1e22bdb-1fc4-4896-920f-84fe7e1238f4 button');\n",
              "      quickchartButtonEl.style.display =\n",
              "        google.colab.kernel.accessAllowed ? 'block' : 'none';\n",
              "    })();\n",
              "  </script>\n",
              "</div>\n",
              "\n",
              "  <div id=\"id_4f6a52b1-8ede-43f8-94e4-5e9176d28c0d\">\n",
              "    <style>\n",
              "      .colab-df-generate {\n",
              "        background-color: #E8F0FE;\n",
              "        border: none;\n",
              "        border-radius: 50%;\n",
              "        cursor: pointer;\n",
              "        display: none;\n",
              "        fill: #1967D2;\n",
              "        height: 32px;\n",
              "        padding: 0 0 0 0;\n",
              "        width: 32px;\n",
              "      }\n",
              "\n",
              "      .colab-df-generate:hover {\n",
              "        background-color: #E2EBFA;\n",
              "        box-shadow: 0px 1px 2px rgba(60, 64, 67, 0.3), 0px 1px 3px 1px rgba(60, 64, 67, 0.15);\n",
              "        fill: #174EA6;\n",
              "      }\n",
              "\n",
              "      [theme=dark] .colab-df-generate {\n",
              "        background-color: #3B4455;\n",
              "        fill: #D2E3FC;\n",
              "      }\n",
              "\n",
              "      [theme=dark] .colab-df-generate:hover {\n",
              "        background-color: #434B5C;\n",
              "        box-shadow: 0px 1px 3px 1px rgba(0, 0, 0, 0.15);\n",
              "        filter: drop-shadow(0px 1px 2px rgba(0, 0, 0, 0.3));\n",
              "        fill: #FFFFFF;\n",
              "      }\n",
              "    </style>\n",
              "    <button class=\"colab-df-generate\" onclick=\"generateWithVariable('df')\"\n",
              "            title=\"Generate code using this dataframe.\"\n",
              "            style=\"display:none;\">\n",
              "\n",
              "  <svg xmlns=\"http://www.w3.org/2000/svg\" height=\"24px\"viewBox=\"0 0 24 24\"\n",
              "       width=\"24px\">\n",
              "    <path d=\"M7,19H8.4L18.45,9,17,7.55,7,17.6ZM5,21V16.75L18.45,3.32a2,2,0,0,1,2.83,0l1.4,1.43a1.91,1.91,0,0,1,.58,1.4,1.91,1.91,0,0,1-.58,1.4L9.25,21ZM18.45,9,17,7.55Zm-12,3A5.31,5.31,0,0,0,4.9,8.1,5.31,5.31,0,0,0,1,6.5,5.31,5.31,0,0,0,4.9,4.9,5.31,5.31,0,0,0,6.5,1,5.31,5.31,0,0,0,8.1,4.9,5.31,5.31,0,0,0,12,6.5,5.46,5.46,0,0,0,6.5,12Z\"/>\n",
              "  </svg>\n",
              "    </button>\n",
              "    <script>\n",
              "      (() => {\n",
              "      const buttonEl =\n",
              "        document.querySelector('#id_4f6a52b1-8ede-43f8-94e4-5e9176d28c0d button.colab-df-generate');\n",
              "      buttonEl.style.display =\n",
              "        google.colab.kernel.accessAllowed ? 'block' : 'none';\n",
              "\n",
              "      buttonEl.onclick = () => {\n",
              "        google.colab.notebook.generateWithVariable('df');\n",
              "      }\n",
              "      })();\n",
              "    </script>\n",
              "  </div>\n",
              "\n",
              "    </div>\n",
              "  </div>\n"
            ],
            "application/vnd.google.colaboratory.intrinsic+json": {
              "type": "dataframe",
              "variable_name": "df",
              "summary": "{\n  \"name\": \"df\",\n  \"rows\": 41355,\n  \"fields\": [\n    {\n      \"column\": \"name\",\n      \"properties\": {\n        \"dtype\": \"string\",\n        \"num_unique_values\": 31534,\n        \"samples\": [\n          \"Tu Apni Awaz Mein Gum (Live)\",\n          \"Kader I Harkar Guru Gobind Singh\",\n          \"Siri Kannada Naadu\"\n        ],\n        \"semantic_type\": \"\",\n        \"description\": \"\"\n      }\n    },\n    {\n      \"column\": \"singer\",\n      \"properties\": {\n        \"dtype\": \"category\",\n        \"num_unique_values\": 6196,\n        \"samples\": [\n          \"Surinder Kohli|Savita Saathi\",\n          \"BIHARI KAVI|Sathi\",\n          \"Aruna|Malaysia Vasudevan|S. Janaki\"\n        ],\n        \"semantic_type\": \"\",\n        \"description\": \"\"\n      }\n    },\n    {\n      \"column\": \"singer_id\",\n      \"properties\": {\n        \"dtype\": \"category\",\n        \"num_unique_values\": 6580,\n        \"samples\": [\n          \"/artist/soli-kapadiya\",\n          \"/artist/asha-bhosle-1|/artist/khan-ghulam-khwaja|/artist/pramila-datar\",\n          \"/artist/kaoushik\"\n        ],\n        \"semantic_type\": \"\",\n        \"description\": \"\"\n      }\n    },\n    {\n      \"column\": \"duration\",\n      \"properties\": {\n        \"dtype\": \"category\",\n        \"num_unique_values\": 1309,\n        \"samples\": [\n          \"23:36\",\n          \"11:19\",\n          \"29:33\"\n        ],\n        \"semantic_type\": \"\",\n        \"description\": \"\"\n      }\n    },\n    {\n      \"column\": \"link\",\n      \"properties\": {\n        \"dtype\": \"string\",\n        \"num_unique_values\": 36361,\n        \"samples\": [\n          \"/saqia-aur-pila-3\",\n          \"/dhira-samire-yamuna-tire-1\",\n          \"/bhan-churhian\"\n        ],\n        \"semantic_type\": \"\",\n        \"description\": \"\"\n      }\n    },\n    {\n      \"column\": \"language\",\n      \"properties\": {\n        \"dtype\": \"category\",\n        \"num_unique_values\": 16,\n        \"samples\": [\n          \"Urdu\",\n          \"Gujarati\",\n          \"Haryanvi\"\n        ],\n        \"semantic_type\": \"\",\n        \"description\": \"\"\n      }\n    }\n  ]\n}"
            }
          },
          "metadata": {},
          "execution_count": 19
        }
      ]
    },
    {
      "cell_type": "code",
      "source": [
        "df.info()"
      ],
      "metadata": {
        "colab": {
          "base_uri": "https://localhost:8080/"
        },
        "id": "IPw1XQxbOYqn",
        "outputId": "e10794fe-02e0-4912-d20d-75f6100e40a2"
      },
      "execution_count": null,
      "outputs": [
        {
          "output_type": "stream",
          "name": "stdout",
          "text": [
            "<class 'pandas.core.frame.DataFrame'>\n",
            "RangeIndex: 41355 entries, 0 to 41354\n",
            "Data columns (total 6 columns):\n",
            " #   Column     Non-Null Count  Dtype \n",
            "---  ------     --------------  ----- \n",
            " 0   name       41355 non-null  object\n",
            " 1   singer     41355 non-null  object\n",
            " 2   singer_id  41355 non-null  object\n",
            " 3   duration   41355 non-null  object\n",
            " 4   link       41355 non-null  object\n",
            " 5   language   41355 non-null  object\n",
            "dtypes: object(6)\n",
            "memory usage: 1.9+ MB\n"
          ]
        }
      ]
    },
    {
      "cell_type": "code",
      "source": [
        "df.describe()"
      ],
      "metadata": {
        "colab": {
          "base_uri": "https://localhost:8080/",
          "height": 175
        },
        "id": "9blBxI_lT74g",
        "outputId": "0dbaf26e-19e0-43c4-ea2f-747ea749a856"
      },
      "execution_count": null,
      "outputs": [
        {
          "output_type": "execute_result",
          "data": {
            "text/plain": [
              "                       name           singer                singer_id  \\\n",
              "count                 41355            41355                    41355   \n",
              "unique                31534             6196                     6580   \n",
              "top     O Mere Dil Ke Chain  Lata Mangeshkar  /artist/lata-mangeshkar   \n",
              "freq                     26             1410                     1410   \n",
              "\n",
              "       duration                       link language  \n",
              "count     41355                      41355    41355  \n",
              "unique     1309                      36361       16  \n",
              "top       03:02  /ek-baar-zara-phir-keh-do   Telugu  \n",
              "freq        447                          2     4996  "
            ],
            "text/html": [
              "\n",
              "  <div id=\"df-eba4db88-405c-4c1d-9f21-1798262d809b\" class=\"colab-df-container\">\n",
              "    <div>\n",
              "<style scoped>\n",
              "    .dataframe tbody tr th:only-of-type {\n",
              "        vertical-align: middle;\n",
              "    }\n",
              "\n",
              "    .dataframe tbody tr th {\n",
              "        vertical-align: top;\n",
              "    }\n",
              "\n",
              "    .dataframe thead th {\n",
              "        text-align: right;\n",
              "    }\n",
              "</style>\n",
              "<table border=\"1\" class=\"dataframe\">\n",
              "  <thead>\n",
              "    <tr style=\"text-align: right;\">\n",
              "      <th></th>\n",
              "      <th>name</th>\n",
              "      <th>singer</th>\n",
              "      <th>singer_id</th>\n",
              "      <th>duration</th>\n",
              "      <th>link</th>\n",
              "      <th>language</th>\n",
              "    </tr>\n",
              "  </thead>\n",
              "  <tbody>\n",
              "    <tr>\n",
              "      <th>count</th>\n",
              "      <td>41355</td>\n",
              "      <td>41355</td>\n",
              "      <td>41355</td>\n",
              "      <td>41355</td>\n",
              "      <td>41355</td>\n",
              "      <td>41355</td>\n",
              "    </tr>\n",
              "    <tr>\n",
              "      <th>unique</th>\n",
              "      <td>31534</td>\n",
              "      <td>6196</td>\n",
              "      <td>6580</td>\n",
              "      <td>1309</td>\n",
              "      <td>36361</td>\n",
              "      <td>16</td>\n",
              "    </tr>\n",
              "    <tr>\n",
              "      <th>top</th>\n",
              "      <td>O Mere Dil Ke Chain</td>\n",
              "      <td>Lata Mangeshkar</td>\n",
              "      <td>/artist/lata-mangeshkar</td>\n",
              "      <td>03:02</td>\n",
              "      <td>/ek-baar-zara-phir-keh-do</td>\n",
              "      <td>Telugu</td>\n",
              "    </tr>\n",
              "    <tr>\n",
              "      <th>freq</th>\n",
              "      <td>26</td>\n",
              "      <td>1410</td>\n",
              "      <td>1410</td>\n",
              "      <td>447</td>\n",
              "      <td>2</td>\n",
              "      <td>4996</td>\n",
              "    </tr>\n",
              "  </tbody>\n",
              "</table>\n",
              "</div>\n",
              "    <div class=\"colab-df-buttons\">\n",
              "\n",
              "  <div class=\"colab-df-container\">\n",
              "    <button class=\"colab-df-convert\" onclick=\"convertToInteractive('df-eba4db88-405c-4c1d-9f21-1798262d809b')\"\n",
              "            title=\"Convert this dataframe to an interactive table.\"\n",
              "            style=\"display:none;\">\n",
              "\n",
              "  <svg xmlns=\"http://www.w3.org/2000/svg\" height=\"24px\" viewBox=\"0 -960 960 960\">\n",
              "    <path d=\"M120-120v-720h720v720H120Zm60-500h600v-160H180v160Zm220 220h160v-160H400v160Zm0 220h160v-160H400v160ZM180-400h160v-160H180v160Zm440 0h160v-160H620v160ZM180-180h160v-160H180v160Zm440 0h160v-160H620v160Z\"/>\n",
              "  </svg>\n",
              "    </button>\n",
              "\n",
              "  <style>\n",
              "    .colab-df-container {\n",
              "      display:flex;\n",
              "      gap: 12px;\n",
              "    }\n",
              "\n",
              "    .colab-df-convert {\n",
              "      background-color: #E8F0FE;\n",
              "      border: none;\n",
              "      border-radius: 50%;\n",
              "      cursor: pointer;\n",
              "      display: none;\n",
              "      fill: #1967D2;\n",
              "      height: 32px;\n",
              "      padding: 0 0 0 0;\n",
              "      width: 32px;\n",
              "    }\n",
              "\n",
              "    .colab-df-convert:hover {\n",
              "      background-color: #E2EBFA;\n",
              "      box-shadow: 0px 1px 2px rgba(60, 64, 67, 0.3), 0px 1px 3px 1px rgba(60, 64, 67, 0.15);\n",
              "      fill: #174EA6;\n",
              "    }\n",
              "\n",
              "    .colab-df-buttons div {\n",
              "      margin-bottom: 4px;\n",
              "    }\n",
              "\n",
              "    [theme=dark] .colab-df-convert {\n",
              "      background-color: #3B4455;\n",
              "      fill: #D2E3FC;\n",
              "    }\n",
              "\n",
              "    [theme=dark] .colab-df-convert:hover {\n",
              "      background-color: #434B5C;\n",
              "      box-shadow: 0px 1px 3px 1px rgba(0, 0, 0, 0.15);\n",
              "      filter: drop-shadow(0px 1px 2px rgba(0, 0, 0, 0.3));\n",
              "      fill: #FFFFFF;\n",
              "    }\n",
              "  </style>\n",
              "\n",
              "    <script>\n",
              "      const buttonEl =\n",
              "        document.querySelector('#df-eba4db88-405c-4c1d-9f21-1798262d809b button.colab-df-convert');\n",
              "      buttonEl.style.display =\n",
              "        google.colab.kernel.accessAllowed ? 'block' : 'none';\n",
              "\n",
              "      async function convertToInteractive(key) {\n",
              "        const element = document.querySelector('#df-eba4db88-405c-4c1d-9f21-1798262d809b');\n",
              "        const dataTable =\n",
              "          await google.colab.kernel.invokeFunction('convertToInteractive',\n",
              "                                                    [key], {});\n",
              "        if (!dataTable) return;\n",
              "\n",
              "        const docLinkHtml = 'Like what you see? Visit the ' +\n",
              "          '<a target=\"_blank\" href=https://colab.research.google.com/notebooks/data_table.ipynb>data table notebook</a>'\n",
              "          + ' to learn more about interactive tables.';\n",
              "        element.innerHTML = '';\n",
              "        dataTable['output_type'] = 'display_data';\n",
              "        await google.colab.output.renderOutput(dataTable, element);\n",
              "        const docLink = document.createElement('div');\n",
              "        docLink.innerHTML = docLinkHtml;\n",
              "        element.appendChild(docLink);\n",
              "      }\n",
              "    </script>\n",
              "  </div>\n",
              "\n",
              "\n",
              "<div id=\"df-8ed4bd3e-dc1c-481c-83d5-6a5873555bc3\">\n",
              "  <button class=\"colab-df-quickchart\" onclick=\"quickchart('df-8ed4bd3e-dc1c-481c-83d5-6a5873555bc3')\"\n",
              "            title=\"Suggest charts\"\n",
              "            style=\"display:none;\">\n",
              "\n",
              "<svg xmlns=\"http://www.w3.org/2000/svg\" height=\"24px\"viewBox=\"0 0 24 24\"\n",
              "     width=\"24px\">\n",
              "    <g>\n",
              "        <path d=\"M19 3H5c-1.1 0-2 .9-2 2v14c0 1.1.9 2 2 2h14c1.1 0 2-.9 2-2V5c0-1.1-.9-2-2-2zM9 17H7v-7h2v7zm4 0h-2V7h2v10zm4 0h-2v-4h2v4z\"/>\n",
              "    </g>\n",
              "</svg>\n",
              "  </button>\n",
              "\n",
              "<style>\n",
              "  .colab-df-quickchart {\n",
              "      --bg-color: #E8F0FE;\n",
              "      --fill-color: #1967D2;\n",
              "      --hover-bg-color: #E2EBFA;\n",
              "      --hover-fill-color: #174EA6;\n",
              "      --disabled-fill-color: #AAA;\n",
              "      --disabled-bg-color: #DDD;\n",
              "  }\n",
              "\n",
              "  [theme=dark] .colab-df-quickchart {\n",
              "      --bg-color: #3B4455;\n",
              "      --fill-color: #D2E3FC;\n",
              "      --hover-bg-color: #434B5C;\n",
              "      --hover-fill-color: #FFFFFF;\n",
              "      --disabled-bg-color: #3B4455;\n",
              "      --disabled-fill-color: #666;\n",
              "  }\n",
              "\n",
              "  .colab-df-quickchart {\n",
              "    background-color: var(--bg-color);\n",
              "    border: none;\n",
              "    border-radius: 50%;\n",
              "    cursor: pointer;\n",
              "    display: none;\n",
              "    fill: var(--fill-color);\n",
              "    height: 32px;\n",
              "    padding: 0;\n",
              "    width: 32px;\n",
              "  }\n",
              "\n",
              "  .colab-df-quickchart:hover {\n",
              "    background-color: var(--hover-bg-color);\n",
              "    box-shadow: 0 1px 2px rgba(60, 64, 67, 0.3), 0 1px 3px 1px rgba(60, 64, 67, 0.15);\n",
              "    fill: var(--button-hover-fill-color);\n",
              "  }\n",
              "\n",
              "  .colab-df-quickchart-complete:disabled,\n",
              "  .colab-df-quickchart-complete:disabled:hover {\n",
              "    background-color: var(--disabled-bg-color);\n",
              "    fill: var(--disabled-fill-color);\n",
              "    box-shadow: none;\n",
              "  }\n",
              "\n",
              "  .colab-df-spinner {\n",
              "    border: 2px solid var(--fill-color);\n",
              "    border-color: transparent;\n",
              "    border-bottom-color: var(--fill-color);\n",
              "    animation:\n",
              "      spin 1s steps(1) infinite;\n",
              "  }\n",
              "\n",
              "  @keyframes spin {\n",
              "    0% {\n",
              "      border-color: transparent;\n",
              "      border-bottom-color: var(--fill-color);\n",
              "      border-left-color: var(--fill-color);\n",
              "    }\n",
              "    20% {\n",
              "      border-color: transparent;\n",
              "      border-left-color: var(--fill-color);\n",
              "      border-top-color: var(--fill-color);\n",
              "    }\n",
              "    30% {\n",
              "      border-color: transparent;\n",
              "      border-left-color: var(--fill-color);\n",
              "      border-top-color: var(--fill-color);\n",
              "      border-right-color: var(--fill-color);\n",
              "    }\n",
              "    40% {\n",
              "      border-color: transparent;\n",
              "      border-right-color: var(--fill-color);\n",
              "      border-top-color: var(--fill-color);\n",
              "    }\n",
              "    60% {\n",
              "      border-color: transparent;\n",
              "      border-right-color: var(--fill-color);\n",
              "    }\n",
              "    80% {\n",
              "      border-color: transparent;\n",
              "      border-right-color: var(--fill-color);\n",
              "      border-bottom-color: var(--fill-color);\n",
              "    }\n",
              "    90% {\n",
              "      border-color: transparent;\n",
              "      border-bottom-color: var(--fill-color);\n",
              "    }\n",
              "  }\n",
              "</style>\n",
              "\n",
              "  <script>\n",
              "    async function quickchart(key) {\n",
              "      const quickchartButtonEl =\n",
              "        document.querySelector('#' + key + ' button');\n",
              "      quickchartButtonEl.disabled = true;  // To prevent multiple clicks.\n",
              "      quickchartButtonEl.classList.add('colab-df-spinner');\n",
              "      try {\n",
              "        const charts = await google.colab.kernel.invokeFunction(\n",
              "            'suggestCharts', [key], {});\n",
              "      } catch (error) {\n",
              "        console.error('Error during call to suggestCharts:', error);\n",
              "      }\n",
              "      quickchartButtonEl.classList.remove('colab-df-spinner');\n",
              "      quickchartButtonEl.classList.add('colab-df-quickchart-complete');\n",
              "    }\n",
              "    (() => {\n",
              "      let quickchartButtonEl =\n",
              "        document.querySelector('#df-8ed4bd3e-dc1c-481c-83d5-6a5873555bc3 button');\n",
              "      quickchartButtonEl.style.display =\n",
              "        google.colab.kernel.accessAllowed ? 'block' : 'none';\n",
              "    })();\n",
              "  </script>\n",
              "</div>\n",
              "\n",
              "    </div>\n",
              "  </div>\n"
            ],
            "application/vnd.google.colaboratory.intrinsic+json": {
              "type": "dataframe",
              "summary": "{\n  \"name\": \"df\",\n  \"rows\": 4,\n  \"fields\": [\n    {\n      \"column\": \"name\",\n      \"properties\": {\n        \"dtype\": \"string\",\n        \"num_unique_values\": 4,\n        \"samples\": [\n          31534,\n          \"26\",\n          \"41355\"\n        ],\n        \"semantic_type\": \"\",\n        \"description\": \"\"\n      }\n    },\n    {\n      \"column\": \"singer\",\n      \"properties\": {\n        \"dtype\": \"string\",\n        \"num_unique_values\": 4,\n        \"samples\": [\n          6196,\n          \"1410\",\n          \"41355\"\n        ],\n        \"semantic_type\": \"\",\n        \"description\": \"\"\n      }\n    },\n    {\n      \"column\": \"singer_id\",\n      \"properties\": {\n        \"dtype\": \"string\",\n        \"num_unique_values\": 4,\n        \"samples\": [\n          6580,\n          \"1410\",\n          \"41355\"\n        ],\n        \"semantic_type\": \"\",\n        \"description\": \"\"\n      }\n    },\n    {\n      \"column\": \"duration\",\n      \"properties\": {\n        \"dtype\": \"date\",\n        \"min\": \"1970-01-01 00:00:00.000000447\",\n        \"max\": \"2025-04-25 03:02:00\",\n        \"num_unique_values\": 4,\n        \"samples\": [\n          1309,\n          \"447\",\n          \"41355\"\n        ],\n        \"semantic_type\": \"\",\n        \"description\": \"\"\n      }\n    },\n    {\n      \"column\": \"link\",\n      \"properties\": {\n        \"dtype\": \"string\",\n        \"num_unique_values\": 4,\n        \"samples\": [\n          36361,\n          \"2\",\n          \"41355\"\n        ],\n        \"semantic_type\": \"\",\n        \"description\": \"\"\n      }\n    },\n    {\n      \"column\": \"language\",\n      \"properties\": {\n        \"dtype\": \"string\",\n        \"num_unique_values\": 4,\n        \"samples\": [\n          16,\n          \"4996\",\n          \"41355\"\n        ],\n        \"semantic_type\": \"\",\n        \"description\": \"\"\n      }\n    }\n  ]\n}"
            }
          },
          "metadata": {},
          "execution_count": 21
        }
      ]
    },
    {
      "cell_type": "code",
      "source": [
        "df.isnull().sum()"
      ],
      "metadata": {
        "colab": {
          "base_uri": "https://localhost:8080/",
          "height": 272
        },
        "id": "zC4oaK64TuqS",
        "outputId": "bd4f308d-4fe1-4218-9cd5-bccb95d683fd"
      },
      "execution_count": null,
      "outputs": [
        {
          "output_type": "execute_result",
          "data": {
            "text/plain": [
              "name         0\n",
              "singer       0\n",
              "singer_id    0\n",
              "duration     0\n",
              "link         0\n",
              "language     0\n",
              "dtype: int64"
            ],
            "text/html": [
              "<div>\n",
              "<style scoped>\n",
              "    .dataframe tbody tr th:only-of-type {\n",
              "        vertical-align: middle;\n",
              "    }\n",
              "\n",
              "    .dataframe tbody tr th {\n",
              "        vertical-align: top;\n",
              "    }\n",
              "\n",
              "    .dataframe thead th {\n",
              "        text-align: right;\n",
              "    }\n",
              "</style>\n",
              "<table border=\"1\" class=\"dataframe\">\n",
              "  <thead>\n",
              "    <tr style=\"text-align: right;\">\n",
              "      <th></th>\n",
              "      <th>0</th>\n",
              "    </tr>\n",
              "  </thead>\n",
              "  <tbody>\n",
              "    <tr>\n",
              "      <th>name</th>\n",
              "      <td>0</td>\n",
              "    </tr>\n",
              "    <tr>\n",
              "      <th>singer</th>\n",
              "      <td>0</td>\n",
              "    </tr>\n",
              "    <tr>\n",
              "      <th>singer_id</th>\n",
              "      <td>0</td>\n",
              "    </tr>\n",
              "    <tr>\n",
              "      <th>duration</th>\n",
              "      <td>0</td>\n",
              "    </tr>\n",
              "    <tr>\n",
              "      <th>link</th>\n",
              "      <td>0</td>\n",
              "    </tr>\n",
              "    <tr>\n",
              "      <th>language</th>\n",
              "      <td>0</td>\n",
              "    </tr>\n",
              "  </tbody>\n",
              "</table>\n",
              "</div><br><label><b>dtype:</b> int64</label>"
            ]
          },
          "metadata": {},
          "execution_count": 23
        }
      ]
    },
    {
      "cell_type": "code",
      "source": [
        "df[df['language'] == 'Urdu']"
      ],
      "metadata": {
        "colab": {
          "base_uri": "https://localhost:8080/",
          "height": 476
        },
        "id": "SJs_brraZUdY",
        "outputId": "cc1d8d07-1fae-4e6b-aa19-7e46703138ad"
      },
      "execution_count": null,
      "outputs": [
        {
          "output_type": "execute_result",
          "data": {
            "text/plain": [
              "                                         name                         singer  \\\n",
              "0                       Dil - E - Nadan Tujhe      Chitra Singh|Jagjit Singh   \n",
              "1           Agar Hum Kahen Aur Woh Muskara De      Chitra Singh|Jagjit Singh   \n",
              "2                               Unke Dekhe Se                   Jagjit Singh   \n",
              "3     Yeh Na Thi Hamari Qismat - Chitra Singh                   Chitra Singh   \n",
              "4                     Hazaron Khwahishen Aisi                   Jagjit Singh   \n",
              "...                                       ...                            ...   \n",
              "3111                                    Salam                   Farhat Shuja   \n",
              "3112      Thumri Tilang - Sajia Akeli Dukh De  Badar Uz Zaman|Qamar Uz Zaman   \n",
              "3113                        Sanwar Sanwar Kar                 Mumtaz Shirazi   \n",
              "3114                        Jo Teri Sana Mein                Muzaffar Warisi   \n",
              "3115             Lucky Seven & Lucky Thirteen            Karim Shahab ud Din   \n",
              "\n",
              "                                              singer_id duration  \\\n",
              "0          /artist/chitra-singh|/artist/jagjeet-singh-1    05:00   \n",
              "1          /artist/chitra-singh|/artist/jagjeet-singh-1    06:26   \n",
              "2                               /artist/jagjeet-singh-1    03:41   \n",
              "3                                  /artist/chitra-singh    04:26   \n",
              "4                               /artist/jagjeet-singh-1    05:39   \n",
              "...                                                 ...      ...   \n",
              "3111                               /artist/farhat-shuja    10:04   \n",
              "3112  /artist/badar-uz-zaman-1|/artist/qamar-uz-zaman-1    06:11   \n",
              "3113                             /artist/mumtaz-shirazi    04:45   \n",
              "3114                            /artist/muzaffar-warisi    06:16   \n",
              "3115                        /artist/karim-shahab-ud-din    03:04   \n",
              "\n",
              "                                     link language  \n",
              "0                    /dil-e-nadan-tujhe-3     Urdu  \n",
              "1     /agar-hum-kahen-aur-woh-muskura-den     Urdu  \n",
              "2                          /unke-dekhe-se     Urdu  \n",
              "3             /yeh-na-thi-hamari-qismat-2     Urdu  \n",
              "4              /hazaron-khwahishen-aisi-1     Urdu  \n",
              "...                                   ...      ...  \n",
              "3111                            /salam-44     Urdu  \n",
              "3112   /thumri-tilang-sajia-akeli-dukh-de     Urdu  \n",
              "3113                   /sanwar-sanwar-kar     Urdu  \n",
              "3114                   /jo-teri-sana-mein     Urdu  \n",
              "3115          /lucky-seven-lucky-thirteen     Urdu  \n",
              "\n",
              "[3116 rows x 6 columns]"
            ],
            "text/html": [
              "\n",
              "  <div id=\"df-faf79fdf-0cf3-435e-878f-7100599f81f0\" class=\"colab-df-container\">\n",
              "    <div>\n",
              "<style scoped>\n",
              "    .dataframe tbody tr th:only-of-type {\n",
              "        vertical-align: middle;\n",
              "    }\n",
              "\n",
              "    .dataframe tbody tr th {\n",
              "        vertical-align: top;\n",
              "    }\n",
              "\n",
              "    .dataframe thead th {\n",
              "        text-align: right;\n",
              "    }\n",
              "</style>\n",
              "<table border=\"1\" class=\"dataframe\">\n",
              "  <thead>\n",
              "    <tr style=\"text-align: right;\">\n",
              "      <th></th>\n",
              "      <th>name</th>\n",
              "      <th>singer</th>\n",
              "      <th>singer_id</th>\n",
              "      <th>duration</th>\n",
              "      <th>link</th>\n",
              "      <th>language</th>\n",
              "    </tr>\n",
              "  </thead>\n",
              "  <tbody>\n",
              "    <tr>\n",
              "      <th>0</th>\n",
              "      <td>Dil - E - Nadan Tujhe</td>\n",
              "      <td>Chitra Singh|Jagjit Singh</td>\n",
              "      <td>/artist/chitra-singh|/artist/jagjeet-singh-1</td>\n",
              "      <td>05:00</td>\n",
              "      <td>/dil-e-nadan-tujhe-3</td>\n",
              "      <td>Urdu</td>\n",
              "    </tr>\n",
              "    <tr>\n",
              "      <th>1</th>\n",
              "      <td>Agar Hum Kahen Aur Woh Muskara De</td>\n",
              "      <td>Chitra Singh|Jagjit Singh</td>\n",
              "      <td>/artist/chitra-singh|/artist/jagjeet-singh-1</td>\n",
              "      <td>06:26</td>\n",
              "      <td>/agar-hum-kahen-aur-woh-muskura-den</td>\n",
              "      <td>Urdu</td>\n",
              "    </tr>\n",
              "    <tr>\n",
              "      <th>2</th>\n",
              "      <td>Unke Dekhe Se</td>\n",
              "      <td>Jagjit Singh</td>\n",
              "      <td>/artist/jagjeet-singh-1</td>\n",
              "      <td>03:41</td>\n",
              "      <td>/unke-dekhe-se</td>\n",
              "      <td>Urdu</td>\n",
              "    </tr>\n",
              "    <tr>\n",
              "      <th>3</th>\n",
              "      <td>Yeh Na Thi Hamari Qismat - Chitra Singh</td>\n",
              "      <td>Chitra Singh</td>\n",
              "      <td>/artist/chitra-singh</td>\n",
              "      <td>04:26</td>\n",
              "      <td>/yeh-na-thi-hamari-qismat-2</td>\n",
              "      <td>Urdu</td>\n",
              "    </tr>\n",
              "    <tr>\n",
              "      <th>4</th>\n",
              "      <td>Hazaron Khwahishen Aisi</td>\n",
              "      <td>Jagjit Singh</td>\n",
              "      <td>/artist/jagjeet-singh-1</td>\n",
              "      <td>05:39</td>\n",
              "      <td>/hazaron-khwahishen-aisi-1</td>\n",
              "      <td>Urdu</td>\n",
              "    </tr>\n",
              "    <tr>\n",
              "      <th>...</th>\n",
              "      <td>...</td>\n",
              "      <td>...</td>\n",
              "      <td>...</td>\n",
              "      <td>...</td>\n",
              "      <td>...</td>\n",
              "      <td>...</td>\n",
              "    </tr>\n",
              "    <tr>\n",
              "      <th>3111</th>\n",
              "      <td>Salam</td>\n",
              "      <td>Farhat Shuja</td>\n",
              "      <td>/artist/farhat-shuja</td>\n",
              "      <td>10:04</td>\n",
              "      <td>/salam-44</td>\n",
              "      <td>Urdu</td>\n",
              "    </tr>\n",
              "    <tr>\n",
              "      <th>3112</th>\n",
              "      <td>Thumri Tilang - Sajia Akeli Dukh De</td>\n",
              "      <td>Badar Uz Zaman|Qamar Uz Zaman</td>\n",
              "      <td>/artist/badar-uz-zaman-1|/artist/qamar-uz-zaman-1</td>\n",
              "      <td>06:11</td>\n",
              "      <td>/thumri-tilang-sajia-akeli-dukh-de</td>\n",
              "      <td>Urdu</td>\n",
              "    </tr>\n",
              "    <tr>\n",
              "      <th>3113</th>\n",
              "      <td>Sanwar Sanwar Kar</td>\n",
              "      <td>Mumtaz Shirazi</td>\n",
              "      <td>/artist/mumtaz-shirazi</td>\n",
              "      <td>04:45</td>\n",
              "      <td>/sanwar-sanwar-kar</td>\n",
              "      <td>Urdu</td>\n",
              "    </tr>\n",
              "    <tr>\n",
              "      <th>3114</th>\n",
              "      <td>Jo Teri Sana Mein</td>\n",
              "      <td>Muzaffar Warisi</td>\n",
              "      <td>/artist/muzaffar-warisi</td>\n",
              "      <td>06:16</td>\n",
              "      <td>/jo-teri-sana-mein</td>\n",
              "      <td>Urdu</td>\n",
              "    </tr>\n",
              "    <tr>\n",
              "      <th>3115</th>\n",
              "      <td>Lucky Seven &amp; Lucky Thirteen</td>\n",
              "      <td>Karim Shahab ud Din</td>\n",
              "      <td>/artist/karim-shahab-ud-din</td>\n",
              "      <td>03:04</td>\n",
              "      <td>/lucky-seven-lucky-thirteen</td>\n",
              "      <td>Urdu</td>\n",
              "    </tr>\n",
              "  </tbody>\n",
              "</table>\n",
              "<p>3116 rows × 6 columns</p>\n",
              "</div>\n",
              "    <div class=\"colab-df-buttons\">\n",
              "\n",
              "  <div class=\"colab-df-container\">\n",
              "    <button class=\"colab-df-convert\" onclick=\"convertToInteractive('df-faf79fdf-0cf3-435e-878f-7100599f81f0')\"\n",
              "            title=\"Convert this dataframe to an interactive table.\"\n",
              "            style=\"display:none;\">\n",
              "\n",
              "  <svg xmlns=\"http://www.w3.org/2000/svg\" height=\"24px\" viewBox=\"0 -960 960 960\">\n",
              "    <path d=\"M120-120v-720h720v720H120Zm60-500h600v-160H180v160Zm220 220h160v-160H400v160Zm0 220h160v-160H400v160ZM180-400h160v-160H180v160Zm440 0h160v-160H620v160ZM180-180h160v-160H180v160Zm440 0h160v-160H620v160Z\"/>\n",
              "  </svg>\n",
              "    </button>\n",
              "\n",
              "  <style>\n",
              "    .colab-df-container {\n",
              "      display:flex;\n",
              "      gap: 12px;\n",
              "    }\n",
              "\n",
              "    .colab-df-convert {\n",
              "      background-color: #E8F0FE;\n",
              "      border: none;\n",
              "      border-radius: 50%;\n",
              "      cursor: pointer;\n",
              "      display: none;\n",
              "      fill: #1967D2;\n",
              "      height: 32px;\n",
              "      padding: 0 0 0 0;\n",
              "      width: 32px;\n",
              "    }\n",
              "\n",
              "    .colab-df-convert:hover {\n",
              "      background-color: #E2EBFA;\n",
              "      box-shadow: 0px 1px 2px rgba(60, 64, 67, 0.3), 0px 1px 3px 1px rgba(60, 64, 67, 0.15);\n",
              "      fill: #174EA6;\n",
              "    }\n",
              "\n",
              "    .colab-df-buttons div {\n",
              "      margin-bottom: 4px;\n",
              "    }\n",
              "\n",
              "    [theme=dark] .colab-df-convert {\n",
              "      background-color: #3B4455;\n",
              "      fill: #D2E3FC;\n",
              "    }\n",
              "\n",
              "    [theme=dark] .colab-df-convert:hover {\n",
              "      background-color: #434B5C;\n",
              "      box-shadow: 0px 1px 3px 1px rgba(0, 0, 0, 0.15);\n",
              "      filter: drop-shadow(0px 1px 2px rgba(0, 0, 0, 0.3));\n",
              "      fill: #FFFFFF;\n",
              "    }\n",
              "  </style>\n",
              "\n",
              "    <script>\n",
              "      const buttonEl =\n",
              "        document.querySelector('#df-faf79fdf-0cf3-435e-878f-7100599f81f0 button.colab-df-convert');\n",
              "      buttonEl.style.display =\n",
              "        google.colab.kernel.accessAllowed ? 'block' : 'none';\n",
              "\n",
              "      async function convertToInteractive(key) {\n",
              "        const element = document.querySelector('#df-faf79fdf-0cf3-435e-878f-7100599f81f0');\n",
              "        const dataTable =\n",
              "          await google.colab.kernel.invokeFunction('convertToInteractive',\n",
              "                                                    [key], {});\n",
              "        if (!dataTable) return;\n",
              "\n",
              "        const docLinkHtml = 'Like what you see? Visit the ' +\n",
              "          '<a target=\"_blank\" href=https://colab.research.google.com/notebooks/data_table.ipynb>data table notebook</a>'\n",
              "          + ' to learn more about interactive tables.';\n",
              "        element.innerHTML = '';\n",
              "        dataTable['output_type'] = 'display_data';\n",
              "        await google.colab.output.renderOutput(dataTable, element);\n",
              "        const docLink = document.createElement('div');\n",
              "        docLink.innerHTML = docLinkHtml;\n",
              "        element.appendChild(docLink);\n",
              "      }\n",
              "    </script>\n",
              "  </div>\n",
              "\n",
              "\n",
              "<div id=\"df-3bcb226b-8942-4b5e-946c-6496e524faa5\">\n",
              "  <button class=\"colab-df-quickchart\" onclick=\"quickchart('df-3bcb226b-8942-4b5e-946c-6496e524faa5')\"\n",
              "            title=\"Suggest charts\"\n",
              "            style=\"display:none;\">\n",
              "\n",
              "<svg xmlns=\"http://www.w3.org/2000/svg\" height=\"24px\"viewBox=\"0 0 24 24\"\n",
              "     width=\"24px\">\n",
              "    <g>\n",
              "        <path d=\"M19 3H5c-1.1 0-2 .9-2 2v14c0 1.1.9 2 2 2h14c1.1 0 2-.9 2-2V5c0-1.1-.9-2-2-2zM9 17H7v-7h2v7zm4 0h-2V7h2v10zm4 0h-2v-4h2v4z\"/>\n",
              "    </g>\n",
              "</svg>\n",
              "  </button>\n",
              "\n",
              "<style>\n",
              "  .colab-df-quickchart {\n",
              "      --bg-color: #E8F0FE;\n",
              "      --fill-color: #1967D2;\n",
              "      --hover-bg-color: #E2EBFA;\n",
              "      --hover-fill-color: #174EA6;\n",
              "      --disabled-fill-color: #AAA;\n",
              "      --disabled-bg-color: #DDD;\n",
              "  }\n",
              "\n",
              "  [theme=dark] .colab-df-quickchart {\n",
              "      --bg-color: #3B4455;\n",
              "      --fill-color: #D2E3FC;\n",
              "      --hover-bg-color: #434B5C;\n",
              "      --hover-fill-color: #FFFFFF;\n",
              "      --disabled-bg-color: #3B4455;\n",
              "      --disabled-fill-color: #666;\n",
              "  }\n",
              "\n",
              "  .colab-df-quickchart {\n",
              "    background-color: var(--bg-color);\n",
              "    border: none;\n",
              "    border-radius: 50%;\n",
              "    cursor: pointer;\n",
              "    display: none;\n",
              "    fill: var(--fill-color);\n",
              "    height: 32px;\n",
              "    padding: 0;\n",
              "    width: 32px;\n",
              "  }\n",
              "\n",
              "  .colab-df-quickchart:hover {\n",
              "    background-color: var(--hover-bg-color);\n",
              "    box-shadow: 0 1px 2px rgba(60, 64, 67, 0.3), 0 1px 3px 1px rgba(60, 64, 67, 0.15);\n",
              "    fill: var(--button-hover-fill-color);\n",
              "  }\n",
              "\n",
              "  .colab-df-quickchart-complete:disabled,\n",
              "  .colab-df-quickchart-complete:disabled:hover {\n",
              "    background-color: var(--disabled-bg-color);\n",
              "    fill: var(--disabled-fill-color);\n",
              "    box-shadow: none;\n",
              "  }\n",
              "\n",
              "  .colab-df-spinner {\n",
              "    border: 2px solid var(--fill-color);\n",
              "    border-color: transparent;\n",
              "    border-bottom-color: var(--fill-color);\n",
              "    animation:\n",
              "      spin 1s steps(1) infinite;\n",
              "  }\n",
              "\n",
              "  @keyframes spin {\n",
              "    0% {\n",
              "      border-color: transparent;\n",
              "      border-bottom-color: var(--fill-color);\n",
              "      border-left-color: var(--fill-color);\n",
              "    }\n",
              "    20% {\n",
              "      border-color: transparent;\n",
              "      border-left-color: var(--fill-color);\n",
              "      border-top-color: var(--fill-color);\n",
              "    }\n",
              "    30% {\n",
              "      border-color: transparent;\n",
              "      border-left-color: var(--fill-color);\n",
              "      border-top-color: var(--fill-color);\n",
              "      border-right-color: var(--fill-color);\n",
              "    }\n",
              "    40% {\n",
              "      border-color: transparent;\n",
              "      border-right-color: var(--fill-color);\n",
              "      border-top-color: var(--fill-color);\n",
              "    }\n",
              "    60% {\n",
              "      border-color: transparent;\n",
              "      border-right-color: var(--fill-color);\n",
              "    }\n",
              "    80% {\n",
              "      border-color: transparent;\n",
              "      border-right-color: var(--fill-color);\n",
              "      border-bottom-color: var(--fill-color);\n",
              "    }\n",
              "    90% {\n",
              "      border-color: transparent;\n",
              "      border-bottom-color: var(--fill-color);\n",
              "    }\n",
              "  }\n",
              "</style>\n",
              "\n",
              "  <script>\n",
              "    async function quickchart(key) {\n",
              "      const quickchartButtonEl =\n",
              "        document.querySelector('#' + key + ' button');\n",
              "      quickchartButtonEl.disabled = true;  // To prevent multiple clicks.\n",
              "      quickchartButtonEl.classList.add('colab-df-spinner');\n",
              "      try {\n",
              "        const charts = await google.colab.kernel.invokeFunction(\n",
              "            'suggestCharts', [key], {});\n",
              "      } catch (error) {\n",
              "        console.error('Error during call to suggestCharts:', error);\n",
              "      }\n",
              "      quickchartButtonEl.classList.remove('colab-df-spinner');\n",
              "      quickchartButtonEl.classList.add('colab-df-quickchart-complete');\n",
              "    }\n",
              "    (() => {\n",
              "      let quickchartButtonEl =\n",
              "        document.querySelector('#df-3bcb226b-8942-4b5e-946c-6496e524faa5 button');\n",
              "      quickchartButtonEl.style.display =\n",
              "        google.colab.kernel.accessAllowed ? 'block' : 'none';\n",
              "    })();\n",
              "  </script>\n",
              "</div>\n",
              "\n",
              "    </div>\n",
              "  </div>\n"
            ],
            "application/vnd.google.colaboratory.intrinsic+json": {
              "type": "dataframe",
              "summary": "{\n  \"name\": \"df[df['language'] == 'Urdu']\",\n  \"rows\": 3116,\n  \"fields\": [\n    {\n      \"column\": \"name\",\n      \"properties\": {\n        \"dtype\": \"string\",\n        \"num_unique_values\": 3018,\n        \"samples\": [\n          \"Mere Hamnafas Mere (Live)\",\n          \"Yeh Paisa Kya Karega\",\n          \"Ya Rab Gham-E-Hijran Mein\"\n        ],\n        \"semantic_type\": \"\",\n        \"description\": \"\"\n      }\n    },\n    {\n      \"column\": \"singer\",\n      \"properties\": {\n        \"dtype\": \"category\",\n        \"num_unique_values\": 440,\n        \"samples\": [\n          \"Mohd. Ali Shahiki\",\n          \"M.Javed|Saima Khalid|Zahida Khan\",\n          \"Mohammad Azam Chishti\"\n        ],\n        \"semantic_type\": \"\",\n        \"description\": \"\"\n      }\n    },\n    {\n      \"column\": \"singer_id\",\n      \"properties\": {\n        \"dtype\": \"category\",\n        \"num_unique_values\": 476,\n        \"samples\": [\n          \"/artist/ahmadi-begum-chopra\",\n          \"/artist/nusrat-fateh-ali-khan\",\n          \"/artist/chhaya-ganguli\"\n        ],\n        \"semantic_type\": \"\",\n        \"description\": \"\"\n      }\n    },\n    {\n      \"column\": \"duration\",\n      \"properties\": {\n        \"dtype\": \"category\",\n        \"num_unique_values\": 770,\n        \"samples\": [\n          \"18:31\",\n          \"01:00:08\",\n          \"12:29\"\n        ],\n        \"semantic_type\": \"\",\n        \"description\": \"\"\n      }\n    },\n    {\n      \"column\": \"link\",\n      \"properties\": {\n        \"dtype\": \"string\",\n        \"num_unique_values\": 3116,\n        \"samples\": [\n          \"/dudh-ka-dudh-aur-pani-ka-pani\",\n          \"/tu-jo-chale-saath-saath\",\n          \"/aankhen-5\"\n        ],\n        \"semantic_type\": \"\",\n        \"description\": \"\"\n      }\n    },\n    {\n      \"column\": \"language\",\n      \"properties\": {\n        \"dtype\": \"category\",\n        \"num_unique_values\": 1,\n        \"samples\": [\n          \"Urdu\"\n        ],\n        \"semantic_type\": \"\",\n        \"description\": \"\"\n      }\n    }\n  ]\n}"
            }
          },
          "metadata": {},
          "execution_count": 33
        }
      ]
    },
    {
      "cell_type": "markdown",
      "source": [
        "## Q1) Find songs of singer name Lata Mangeshkar\n"
      ],
      "metadata": {
        "id": "Q9VUizUKachw"
      }
    },
    {
      "cell_type": "markdown",
      "source": [
        "## Q2) FInd songs of singer Lata Mangeshkar which have language Hindi"
      ],
      "metadata": {
        "id": "-Xw93K_xax76"
      }
    },
    {
      "cell_type": "code",
      "source": [
        "df[(df['singer'] == 'Lata Mangeshkar') & (df['language']=='Hindi')]"
      ],
      "metadata": {
        "colab": {
          "base_uri": "https://localhost:8080/",
          "height": 424
        },
        "id": "W6hhkIedaxd7",
        "outputId": "e47d26bc-b156-4e97-c59b-f7068a2d326e"
      },
      "execution_count": null,
      "outputs": [
        {
          "output_type": "execute_result",
          "data": {
            "text/plain": [
              "                                  name           singer  \\\n",
              "18060              Lag Ja Gale Se Phir  Lata Mangeshkar   \n",
              "18074           Tere Bina Jiya Jaye Na  Lata Mangeshkar   \n",
              "18094              Ajib Dastan Hai Yeh  Lata Mangeshkar   \n",
              "18108                  Tune O Rangeele  Lata Mangeshkar   \n",
              "18110  Ab To Hai Tumse Har Khushi Apni  Lata Mangeshkar   \n",
              "...                                ...              ...   \n",
              "22973       Main Hoon Teri Prem Diwani  Lata Mangeshkar   \n",
              "22988                  Thoda Sa Thahro  Lata Mangeshkar   \n",
              "22995     Ja Re Ja Re Ud Ja Re Panchhi  Lata Mangeshkar   \n",
              "23005         Ehsan Tera Hoga Mujh Par  Lata Mangeshkar   \n",
              "23018      Maa Mujhe Apne Aanchal Mein  Lata Mangeshkar   \n",
              "\n",
              "                     singer_id duration                              link  \\\n",
              "18060  /artist/lata-mangeshkar    04:18              /lag-ja-gale-se-phir   \n",
              "18074  /artist/lata-mangeshkar    05:46           /tere-bina-jiya-jaye-na   \n",
              "18094  /artist/lata-mangeshkar    05:15              /ajib-dastan-hai-yeh   \n",
              "18108  /artist/lata-mangeshkar    03:33                  /tune-o-rangeele   \n",
              "18110  /artist/lata-mangeshkar    04:45  /ab-to-hai-tumse-har-khushi-apni   \n",
              "...                        ...      ...                               ...   \n",
              "22973  /artist/lata-mangeshkar    05:15       /main-hoon-teri-prem-diwani   \n",
              "22988  /artist/lata-mangeshkar    04:09                  /thoda-sa-thahro   \n",
              "22995  /artist/lata-mangeshkar    04:16   /ja-re-ja-re-ud-ja-re-panchhi-4   \n",
              "23005  /artist/lata-mangeshkar    03:03      /ehsan-tera-hoga-mujh-par-11   \n",
              "23018  /artist/lata-mangeshkar    03:03      /maa-mujhe-apne-aanchal-mein   \n",
              "\n",
              "      language  \n",
              "18060    Hindi  \n",
              "18074    Hindi  \n",
              "18094    Hindi  \n",
              "18108    Hindi  \n",
              "18110    Hindi  \n",
              "...        ...  \n",
              "22973    Hindi  \n",
              "22988    Hindi  \n",
              "22995    Hindi  \n",
              "23005    Hindi  \n",
              "23018    Hindi  \n",
              "\n",
              "[554 rows x 6 columns]"
            ],
            "text/html": [
              "\n",
              "  <div id=\"df-1eb24c18-d900-46bf-97a9-fe43adba2e4a\" class=\"colab-df-container\">\n",
              "    <div>\n",
              "<style scoped>\n",
              "    .dataframe tbody tr th:only-of-type {\n",
              "        vertical-align: middle;\n",
              "    }\n",
              "\n",
              "    .dataframe tbody tr th {\n",
              "        vertical-align: top;\n",
              "    }\n",
              "\n",
              "    .dataframe thead th {\n",
              "        text-align: right;\n",
              "    }\n",
              "</style>\n",
              "<table border=\"1\" class=\"dataframe\">\n",
              "  <thead>\n",
              "    <tr style=\"text-align: right;\">\n",
              "      <th></th>\n",
              "      <th>name</th>\n",
              "      <th>singer</th>\n",
              "      <th>singer_id</th>\n",
              "      <th>duration</th>\n",
              "      <th>link</th>\n",
              "      <th>language</th>\n",
              "    </tr>\n",
              "  </thead>\n",
              "  <tbody>\n",
              "    <tr>\n",
              "      <th>18060</th>\n",
              "      <td>Lag Ja Gale Se Phir</td>\n",
              "      <td>Lata Mangeshkar</td>\n",
              "      <td>/artist/lata-mangeshkar</td>\n",
              "      <td>04:18</td>\n",
              "      <td>/lag-ja-gale-se-phir</td>\n",
              "      <td>Hindi</td>\n",
              "    </tr>\n",
              "    <tr>\n",
              "      <th>18074</th>\n",
              "      <td>Tere Bina Jiya Jaye Na</td>\n",
              "      <td>Lata Mangeshkar</td>\n",
              "      <td>/artist/lata-mangeshkar</td>\n",
              "      <td>05:46</td>\n",
              "      <td>/tere-bina-jiya-jaye-na</td>\n",
              "      <td>Hindi</td>\n",
              "    </tr>\n",
              "    <tr>\n",
              "      <th>18094</th>\n",
              "      <td>Ajib Dastan Hai Yeh</td>\n",
              "      <td>Lata Mangeshkar</td>\n",
              "      <td>/artist/lata-mangeshkar</td>\n",
              "      <td>05:15</td>\n",
              "      <td>/ajib-dastan-hai-yeh</td>\n",
              "      <td>Hindi</td>\n",
              "    </tr>\n",
              "    <tr>\n",
              "      <th>18108</th>\n",
              "      <td>Tune O Rangeele</td>\n",
              "      <td>Lata Mangeshkar</td>\n",
              "      <td>/artist/lata-mangeshkar</td>\n",
              "      <td>03:33</td>\n",
              "      <td>/tune-o-rangeele</td>\n",
              "      <td>Hindi</td>\n",
              "    </tr>\n",
              "    <tr>\n",
              "      <th>18110</th>\n",
              "      <td>Ab To Hai Tumse Har Khushi Apni</td>\n",
              "      <td>Lata Mangeshkar</td>\n",
              "      <td>/artist/lata-mangeshkar</td>\n",
              "      <td>04:45</td>\n",
              "      <td>/ab-to-hai-tumse-har-khushi-apni</td>\n",
              "      <td>Hindi</td>\n",
              "    </tr>\n",
              "    <tr>\n",
              "      <th>...</th>\n",
              "      <td>...</td>\n",
              "      <td>...</td>\n",
              "      <td>...</td>\n",
              "      <td>...</td>\n",
              "      <td>...</td>\n",
              "      <td>...</td>\n",
              "    </tr>\n",
              "    <tr>\n",
              "      <th>22973</th>\n",
              "      <td>Main Hoon Teri Prem Diwani</td>\n",
              "      <td>Lata Mangeshkar</td>\n",
              "      <td>/artist/lata-mangeshkar</td>\n",
              "      <td>05:15</td>\n",
              "      <td>/main-hoon-teri-prem-diwani</td>\n",
              "      <td>Hindi</td>\n",
              "    </tr>\n",
              "    <tr>\n",
              "      <th>22988</th>\n",
              "      <td>Thoda Sa Thahro</td>\n",
              "      <td>Lata Mangeshkar</td>\n",
              "      <td>/artist/lata-mangeshkar</td>\n",
              "      <td>04:09</td>\n",
              "      <td>/thoda-sa-thahro</td>\n",
              "      <td>Hindi</td>\n",
              "    </tr>\n",
              "    <tr>\n",
              "      <th>22995</th>\n",
              "      <td>Ja Re Ja Re Ud Ja Re Panchhi</td>\n",
              "      <td>Lata Mangeshkar</td>\n",
              "      <td>/artist/lata-mangeshkar</td>\n",
              "      <td>04:16</td>\n",
              "      <td>/ja-re-ja-re-ud-ja-re-panchhi-4</td>\n",
              "      <td>Hindi</td>\n",
              "    </tr>\n",
              "    <tr>\n",
              "      <th>23005</th>\n",
              "      <td>Ehsan Tera Hoga Mujh Par</td>\n",
              "      <td>Lata Mangeshkar</td>\n",
              "      <td>/artist/lata-mangeshkar</td>\n",
              "      <td>03:03</td>\n",
              "      <td>/ehsan-tera-hoga-mujh-par-11</td>\n",
              "      <td>Hindi</td>\n",
              "    </tr>\n",
              "    <tr>\n",
              "      <th>23018</th>\n",
              "      <td>Maa Mujhe Apne Aanchal Mein</td>\n",
              "      <td>Lata Mangeshkar</td>\n",
              "      <td>/artist/lata-mangeshkar</td>\n",
              "      <td>03:03</td>\n",
              "      <td>/maa-mujhe-apne-aanchal-mein</td>\n",
              "      <td>Hindi</td>\n",
              "    </tr>\n",
              "  </tbody>\n",
              "</table>\n",
              "<p>554 rows × 6 columns</p>\n",
              "</div>\n",
              "    <div class=\"colab-df-buttons\">\n",
              "\n",
              "  <div class=\"colab-df-container\">\n",
              "    <button class=\"colab-df-convert\" onclick=\"convertToInteractive('df-1eb24c18-d900-46bf-97a9-fe43adba2e4a')\"\n",
              "            title=\"Convert this dataframe to an interactive table.\"\n",
              "            style=\"display:none;\">\n",
              "\n",
              "  <svg xmlns=\"http://www.w3.org/2000/svg\" height=\"24px\" viewBox=\"0 -960 960 960\">\n",
              "    <path d=\"M120-120v-720h720v720H120Zm60-500h600v-160H180v160Zm220 220h160v-160H400v160Zm0 220h160v-160H400v160ZM180-400h160v-160H180v160Zm440 0h160v-160H620v160ZM180-180h160v-160H180v160Zm440 0h160v-160H620v160Z\"/>\n",
              "  </svg>\n",
              "    </button>\n",
              "\n",
              "  <style>\n",
              "    .colab-df-container {\n",
              "      display:flex;\n",
              "      gap: 12px;\n",
              "    }\n",
              "\n",
              "    .colab-df-convert {\n",
              "      background-color: #E8F0FE;\n",
              "      border: none;\n",
              "      border-radius: 50%;\n",
              "      cursor: pointer;\n",
              "      display: none;\n",
              "      fill: #1967D2;\n",
              "      height: 32px;\n",
              "      padding: 0 0 0 0;\n",
              "      width: 32px;\n",
              "    }\n",
              "\n",
              "    .colab-df-convert:hover {\n",
              "      background-color: #E2EBFA;\n",
              "      box-shadow: 0px 1px 2px rgba(60, 64, 67, 0.3), 0px 1px 3px 1px rgba(60, 64, 67, 0.15);\n",
              "      fill: #174EA6;\n",
              "    }\n",
              "\n",
              "    .colab-df-buttons div {\n",
              "      margin-bottom: 4px;\n",
              "    }\n",
              "\n",
              "    [theme=dark] .colab-df-convert {\n",
              "      background-color: #3B4455;\n",
              "      fill: #D2E3FC;\n",
              "    }\n",
              "\n",
              "    [theme=dark] .colab-df-convert:hover {\n",
              "      background-color: #434B5C;\n",
              "      box-shadow: 0px 1px 3px 1px rgba(0, 0, 0, 0.15);\n",
              "      filter: drop-shadow(0px 1px 2px rgba(0, 0, 0, 0.3));\n",
              "      fill: #FFFFFF;\n",
              "    }\n",
              "  </style>\n",
              "\n",
              "    <script>\n",
              "      const buttonEl =\n",
              "        document.querySelector('#df-1eb24c18-d900-46bf-97a9-fe43adba2e4a button.colab-df-convert');\n",
              "      buttonEl.style.display =\n",
              "        google.colab.kernel.accessAllowed ? 'block' : 'none';\n",
              "\n",
              "      async function convertToInteractive(key) {\n",
              "        const element = document.querySelector('#df-1eb24c18-d900-46bf-97a9-fe43adba2e4a');\n",
              "        const dataTable =\n",
              "          await google.colab.kernel.invokeFunction('convertToInteractive',\n",
              "                                                    [key], {});\n",
              "        if (!dataTable) return;\n",
              "\n",
              "        const docLinkHtml = 'Like what you see? Visit the ' +\n",
              "          '<a target=\"_blank\" href=https://colab.research.google.com/notebooks/data_table.ipynb>data table notebook</a>'\n",
              "          + ' to learn more about interactive tables.';\n",
              "        element.innerHTML = '';\n",
              "        dataTable['output_type'] = 'display_data';\n",
              "        await google.colab.output.renderOutput(dataTable, element);\n",
              "        const docLink = document.createElement('div');\n",
              "        docLink.innerHTML = docLinkHtml;\n",
              "        element.appendChild(docLink);\n",
              "      }\n",
              "    </script>\n",
              "  </div>\n",
              "\n",
              "\n",
              "<div id=\"df-302d6b72-e07f-49fd-b406-9e5ec3fea8cd\">\n",
              "  <button class=\"colab-df-quickchart\" onclick=\"quickchart('df-302d6b72-e07f-49fd-b406-9e5ec3fea8cd')\"\n",
              "            title=\"Suggest charts\"\n",
              "            style=\"display:none;\">\n",
              "\n",
              "<svg xmlns=\"http://www.w3.org/2000/svg\" height=\"24px\"viewBox=\"0 0 24 24\"\n",
              "     width=\"24px\">\n",
              "    <g>\n",
              "        <path d=\"M19 3H5c-1.1 0-2 .9-2 2v14c0 1.1.9 2 2 2h14c1.1 0 2-.9 2-2V5c0-1.1-.9-2-2-2zM9 17H7v-7h2v7zm4 0h-2V7h2v10zm4 0h-2v-4h2v4z\"/>\n",
              "    </g>\n",
              "</svg>\n",
              "  </button>\n",
              "\n",
              "<style>\n",
              "  .colab-df-quickchart {\n",
              "      --bg-color: #E8F0FE;\n",
              "      --fill-color: #1967D2;\n",
              "      --hover-bg-color: #E2EBFA;\n",
              "      --hover-fill-color: #174EA6;\n",
              "      --disabled-fill-color: #AAA;\n",
              "      --disabled-bg-color: #DDD;\n",
              "  }\n",
              "\n",
              "  [theme=dark] .colab-df-quickchart {\n",
              "      --bg-color: #3B4455;\n",
              "      --fill-color: #D2E3FC;\n",
              "      --hover-bg-color: #434B5C;\n",
              "      --hover-fill-color: #FFFFFF;\n",
              "      --disabled-bg-color: #3B4455;\n",
              "      --disabled-fill-color: #666;\n",
              "  }\n",
              "\n",
              "  .colab-df-quickchart {\n",
              "    background-color: var(--bg-color);\n",
              "    border: none;\n",
              "    border-radius: 50%;\n",
              "    cursor: pointer;\n",
              "    display: none;\n",
              "    fill: var(--fill-color);\n",
              "    height: 32px;\n",
              "    padding: 0;\n",
              "    width: 32px;\n",
              "  }\n",
              "\n",
              "  .colab-df-quickchart:hover {\n",
              "    background-color: var(--hover-bg-color);\n",
              "    box-shadow: 0 1px 2px rgba(60, 64, 67, 0.3), 0 1px 3px 1px rgba(60, 64, 67, 0.15);\n",
              "    fill: var(--button-hover-fill-color);\n",
              "  }\n",
              "\n",
              "  .colab-df-quickchart-complete:disabled,\n",
              "  .colab-df-quickchart-complete:disabled:hover {\n",
              "    background-color: var(--disabled-bg-color);\n",
              "    fill: var(--disabled-fill-color);\n",
              "    box-shadow: none;\n",
              "  }\n",
              "\n",
              "  .colab-df-spinner {\n",
              "    border: 2px solid var(--fill-color);\n",
              "    border-color: transparent;\n",
              "    border-bottom-color: var(--fill-color);\n",
              "    animation:\n",
              "      spin 1s steps(1) infinite;\n",
              "  }\n",
              "\n",
              "  @keyframes spin {\n",
              "    0% {\n",
              "      border-color: transparent;\n",
              "      border-bottom-color: var(--fill-color);\n",
              "      border-left-color: var(--fill-color);\n",
              "    }\n",
              "    20% {\n",
              "      border-color: transparent;\n",
              "      border-left-color: var(--fill-color);\n",
              "      border-top-color: var(--fill-color);\n",
              "    }\n",
              "    30% {\n",
              "      border-color: transparent;\n",
              "      border-left-color: var(--fill-color);\n",
              "      border-top-color: var(--fill-color);\n",
              "      border-right-color: var(--fill-color);\n",
              "    }\n",
              "    40% {\n",
              "      border-color: transparent;\n",
              "      border-right-color: var(--fill-color);\n",
              "      border-top-color: var(--fill-color);\n",
              "    }\n",
              "    60% {\n",
              "      border-color: transparent;\n",
              "      border-right-color: var(--fill-color);\n",
              "    }\n",
              "    80% {\n",
              "      border-color: transparent;\n",
              "      border-right-color: var(--fill-color);\n",
              "      border-bottom-color: var(--fill-color);\n",
              "    }\n",
              "    90% {\n",
              "      border-color: transparent;\n",
              "      border-bottom-color: var(--fill-color);\n",
              "    }\n",
              "  }\n",
              "</style>\n",
              "\n",
              "  <script>\n",
              "    async function quickchart(key) {\n",
              "      const quickchartButtonEl =\n",
              "        document.querySelector('#' + key + ' button');\n",
              "      quickchartButtonEl.disabled = true;  // To prevent multiple clicks.\n",
              "      quickchartButtonEl.classList.add('colab-df-spinner');\n",
              "      try {\n",
              "        const charts = await google.colab.kernel.invokeFunction(\n",
              "            'suggestCharts', [key], {});\n",
              "      } catch (error) {\n",
              "        console.error('Error during call to suggestCharts:', error);\n",
              "      }\n",
              "      quickchartButtonEl.classList.remove('colab-df-spinner');\n",
              "      quickchartButtonEl.classList.add('colab-df-quickchart-complete');\n",
              "    }\n",
              "    (() => {\n",
              "      let quickchartButtonEl =\n",
              "        document.querySelector('#df-302d6b72-e07f-49fd-b406-9e5ec3fea8cd button');\n",
              "      quickchartButtonEl.style.display =\n",
              "        google.colab.kernel.accessAllowed ? 'block' : 'none';\n",
              "    })();\n",
              "  </script>\n",
              "</div>\n",
              "\n",
              "    </div>\n",
              "  </div>\n"
            ],
            "application/vnd.google.colaboratory.intrinsic+json": {
              "type": "dataframe",
              "summary": "{\n  \"name\": \"df[(df['singer'] == 'Lata Mangeshkar') & (df['language']=='Hindi')]\",\n  \"rows\": 554,\n  \"fields\": [\n    {\n      \"column\": \"name\",\n      \"properties\": {\n        \"dtype\": \"string\",\n        \"num_unique_values\": 469,\n        \"samples\": [\n          \"Inhin Logon Ne\",\n          \"Rahen Na Rahen (Female)\",\n          \"Ruke Ruke Se Qadam\"\n        ],\n        \"semantic_type\": \"\",\n        \"description\": \"\"\n      }\n    },\n    {\n      \"column\": \"singer\",\n      \"properties\": {\n        \"dtype\": \"category\",\n        \"num_unique_values\": 1,\n        \"samples\": [\n          \"Lata Mangeshkar\"\n        ],\n        \"semantic_type\": \"\",\n        \"description\": \"\"\n      }\n    },\n    {\n      \"column\": \"singer_id\",\n      \"properties\": {\n        \"dtype\": \"category\",\n        \"num_unique_values\": 1,\n        \"samples\": [\n          \"/artist/lata-mangeshkar\"\n        ],\n        \"semantic_type\": \"\",\n        \"description\": \"\"\n      }\n    },\n    {\n      \"column\": \"duration\",\n      \"properties\": {\n        \"dtype\": \"category\",\n        \"num_unique_values\": 204,\n        \"samples\": [\n          \"04:41\"\n        ],\n        \"semantic_type\": \"\",\n        \"description\": \"\"\n      }\n    },\n    {\n      \"column\": \"link\",\n      \"properties\": {\n        \"dtype\": \"string\",\n        \"num_unique_values\": 554,\n        \"samples\": [\n          \"/main-teri-dushman-dushman-tu\"\n        ],\n        \"semantic_type\": \"\",\n        \"description\": \"\"\n      }\n    },\n    {\n      \"column\": \"language\",\n      \"properties\": {\n        \"dtype\": \"category\",\n        \"num_unique_values\": 1,\n        \"samples\": [\n          \"Hindi\"\n        ],\n        \"semantic_type\": \"\",\n        \"description\": \"\"\n      }\n    }\n  ]\n}"
            }
          },
          "metadata": {},
          "execution_count": 40
        }
      ]
    },
    {
      "cell_type": "code",
      "source": [
        "df[(df['singer'] == 'Jagjit Singh') & (df['language']=='Urdu')]"
      ],
      "metadata": {
        "colab": {
          "base_uri": "https://localhost:8080/",
          "height": 1000
        },
        "id": "BbqGLEJJYzxK",
        "outputId": "0444a198-ac02-4cb9-a84b-1932e992b901"
      },
      "execution_count": null,
      "outputs": [
        {
          "output_type": "execute_result",
          "data": {
            "text/plain": [
              "                                                  name        singer  \\\n",
              "2                                        Unke Dekhe Se  Jagjit Singh   \n",
              "4                              Hazaron Khwahishen Aisi  Jagjit Singh   \n",
              "7                          Tum Itna Jo Muskura Rahe Ho  Jagjit Singh   \n",
              "10                        Zindagi Se Badi Saza Hi Nahi  Jagjit Singh   \n",
              "11                               Kabse Hoon Kya Bataon  Jagjit Singh   \n",
              "13                             Hazaron Khwahishen Aisi  Jagjit Singh   \n",
              "15                               Zulmat Kade Mein Mere  Jagjit Singh   \n",
              "16                           Na Tha Kuchh To Khuda Tha  Jagjit Singh   \n",
              "22                      Woh Firaaq Aur Woh Visal Kahan  Jagjit Singh   \n",
              "23                    Phir Kuch Ek Dil Ko Beqarari Hai  Jagjit Singh   \n",
              "24                           Kabhi Ghuncha Kabhi Shola  Jagjit Singh   \n",
              "25                          Naksh Rariyaaadi Hai Kiski  Jagjit Singh   \n",
              "30         Bas Ke Dusavar Hain Har Kaam Ka Aasaan Hona  Jagjit Singh   \n",
              "32                      Sab Kahan Kuchh Lala - O - Gul  Jagjit Singh   \n",
              "36                                Jhuki Jhuki Si Nazar  Jagjit Singh   \n",
              "37                                      Log Har Mod Pe  Jagjit Singh   \n",
              "40       Dost Ghamkhwari Mein Meri Sahi Farmayenge Kya  Jagjit Singh   \n",
              "41                        Dil Hi To Hai - Jagjit Singh  Jagjit Singh   \n",
              "46   Yeh Misaale Tasaffuff And Phir Kuchh Ek Dil Ko...  Jagjit Singh   \n",
              "47                        Woh Kagaz Ki Kashti (Part 1)  Jagjit Singh   \n",
              "48                            Bazeecha - E - Atfal Hai  Jagjit Singh   \n",
              "49                                Koi Yeh Kaise Bataye  Jagjit Singh   \n",
              "52                        Tere Khushboo Mein Base Khat  Jagjit Singh   \n",
              "53                     Pathar Ke Khuda Pathar Ke Sanam  Jagjit Singh   \n",
              "54                                Pyar Mujh Se Jo Kiya  Jagjit Singh   \n",
              "61                               Zulmat Kade Mein Mere  Jagjit Singh   \n",
              "62         Yeh Mojiza Bhi Mohabbat Kabhi Dikhaye Mujhe  Jagjit Singh   \n",
              "64      Gham Badhe Aate Hain Qatil Ki Nigahon Ki Tarah  Jagjit Singh   \n",
              "67                                      Aah Ko Chahiye  Jagjit Singh   \n",
              "77                               Kabse Hoon Kya Bataon  Jagjit Singh   \n",
              "78                                   Hans Ke Bola Karo  Jagjit Singh   \n",
              "79                          Yeh Bhi Kya Ehsaan Kam Hai  Jagjit Singh   \n",
              "90                       Apni Aankhon Ke Samundar Mein  Jagjit Singh   \n",
              "92              Tumne Sooli Pe Latakte Jise Dekha Hoga  Jagjit Singh   \n",
              "95                              Yeh Inayaten Ghazab Ki  Jagjit Singh   \n",
              "107                     Jawani Ke Heele Haya Ke Bahane  Jagjit Singh   \n",
              "122                     Mai Pila Kar Aap Ka Kya Jayega  Jagjit Singh   \n",
              "143                            Hazaron Khwahishen Aisi  Jagjit Singh   \n",
              "151                           Shayad Aa Jayega Saqi Ko  Jagjit Singh   \n",
              "171                     Woh Firaaq Aur Woh Visal Kahan  Jagjit Singh   \n",
              "\n",
              "                   singer_id duration  \\\n",
              "2    /artist/jagjeet-singh-1    03:41   \n",
              "4    /artist/jagjeet-singh-1    05:39   \n",
              "7    /artist/jagjeet-singh-1    05:21   \n",
              "10   /artist/jagjeet-singh-1    05:03   \n",
              "11   /artist/jagjeet-singh-1    04:00   \n",
              "13   /artist/jagjeet-singh-1    05:39   \n",
              "15   /artist/jagjeet-singh-1    03:48   \n",
              "16   /artist/jagjeet-singh-1    03:24   \n",
              "22   /artist/jagjeet-singh-1    04:23   \n",
              "23   /artist/jagjeet-singh-1    02:36   \n",
              "24   /artist/jagjeet-singh-1    04:49   \n",
              "25   /artist/jagjeet-singh-1    04:40   \n",
              "30   /artist/jagjeet-singh-1    03:37   \n",
              "32   /artist/jagjeet-singh-1    03:36   \n",
              "36   /artist/jagjeet-singh-1    05:02   \n",
              "37   /artist/jagjeet-singh-1    05:43   \n",
              "40   /artist/jagjeet-singh-1    02:35   \n",
              "41   /artist/jagjeet-singh-1    04:48   \n",
              "46   /artist/jagjeet-singh-1    02:35   \n",
              "47   /artist/jagjeet-singh-1    04:01   \n",
              "48   /artist/jagjeet-singh-1    05:07   \n",
              "49   /artist/jagjeet-singh-1    03:17   \n",
              "52   /artist/jagjeet-singh-1    01:24   \n",
              "53   /artist/jagjeet-singh-1    05:29   \n",
              "54   /artist/jagjeet-singh-1    04:36   \n",
              "61   /artist/jagjeet-singh-1    03:48   \n",
              "62   /artist/jagjeet-singh-1    05:09   \n",
              "64   /artist/jagjeet-singh-1    03:58   \n",
              "67   /artist/jagjeet-singh-1    07:22   \n",
              "77   /artist/jagjeet-singh-1    04:00   \n",
              "78   /artist/jagjeet-singh-1    03:46   \n",
              "79   /artist/jagjeet-singh-1    04:52   \n",
              "90   /artist/jagjeet-singh-1    06:12   \n",
              "92   /artist/jagjeet-singh-1    04:09   \n",
              "95   /artist/jagjeet-singh-1    07:44   \n",
              "107  /artist/jagjeet-singh-1    06:21   \n",
              "122  /artist/jagjeet-singh-1    04:36   \n",
              "143  /artist/jagjeet-singh-1    05:39   \n",
              "151  /artist/jagjeet-singh-1    07:04   \n",
              "171  /artist/jagjeet-singh-1    04:23   \n",
              "\n",
              "                                                  link language  \n",
              "2                                       /unke-dekhe-se     Urdu  \n",
              "4                           /hazaron-khwahishen-aisi-1     Urdu  \n",
              "7                      /tum-itna-jo-muskura-rahe-ho-12     Urdu  \n",
              "10                          /tujhe-milne-ki-saza-denge     Urdu  \n",
              "11                            /kab-se-hoon-kya-bataoon     Urdu  \n",
              "13                            /hazaron-khwahishen-aisi     Urdu  \n",
              "15                              /zulmat-kade-mein-mere     Urdu  \n",
              "16                          /na-tha-kuchh-to-khuda-tha     Urdu  \n",
              "22                     /woh-firaaq-aur-woh-visal-kahan     Urdu  \n",
              "23                   /phir-kuch-ek-dil-ko-beqarari-hai     Urdu  \n",
              "24                          /kabhi-ghuncha-kabhi-shola     Urdu  \n",
              "25                         /naksh-rariyaaadi-hai-kiski     Urdu  \n",
              "30        /bas-ke-dusavar-hain-har-kaam-ka-aasaan-hona     Urdu  \n",
              "32                         /sab-kahan-kuchh-lala-o-gul     Urdu  \n",
              "36                        /jhuki-jhuki-si-nazar-jagjit     Urdu  \n",
              "37                                     /log-har-mod-pe     Urdu  \n",
              "40      /dost-ghamkhwari-mein-meri-sahi-farmayenge-kya     Urdu  \n",
              "41                                    /dil-hi-to-hai-4     Urdu  \n",
              "46   /yeh-misaale-tasaffuff-phir-kuchh-ek-dil-ko-be...     Urdu  \n",
              "47                       /woh-kagaz-ki-kashti-part-1-3     Urdu  \n",
              "48                             /bazeecha-e-atfal-hai-1     Urdu  \n",
              "49                             /koi-yeh-kaise-bataye-4     Urdu  \n",
              "52                     /tere-khushboo-mein-base-khat-2     Urdu  \n",
              "53                  /patthar-ke-khuda-patthar-ke-sanam     Urdu  \n",
              "54                             /pyar-mujh-se-jo-kiya-1     Urdu  \n",
              "61                            /zulmat-kade-mein-mere-1     Urdu  \n",
              "62      /yeh-mojeza-bhi-mohabbat-kabhi-dikhaye-mujhe-1     Urdu  \n",
              "64     /gham-badhe-aate-hain-qatil-ki-nigahon-ki-tarah     Urdu  \n",
              "67                                  /aah-ko-chahiye-18     Urdu  \n",
              "77                            /kabse-hoon-kya-bataon-1     Urdu  \n",
              "78                             /hans-ke-bola-karo-live     Urdu  \n",
              "79                         /yeh-bhi-kya-ehsaan-kam-hai     Urdu  \n",
              "90                      /apni-aankhon-ke-samundar-mein     Urdu  \n",
              "92             /tumne-sooli-pe-latakte-jise-dekha-hoga     Urdu  \n",
              "95                        /yeh-inayaten-ghazab-ki-live     Urdu  \n",
              "107                    /jawani-ke-heele-haya-ke-bahane     Urdu  \n",
              "122                      /mai-pilakar-aapka-kya-jayega     Urdu  \n",
              "143                         /hazaron-khwahishen-aisi-5     Urdu  \n",
              "151                          /shayad-aa-jayega-saqi-ko     Urdu  \n",
              "171                  /woh-firaaq-aur-woh-visal-kahan-2     Urdu  "
            ],
            "text/html": [
              "\n",
              "  <div id=\"df-b361c7ba-896a-4c46-a274-9b54e25b9af1\" class=\"colab-df-container\">\n",
              "    <div>\n",
              "<style scoped>\n",
              "    .dataframe tbody tr th:only-of-type {\n",
              "        vertical-align: middle;\n",
              "    }\n",
              "\n",
              "    .dataframe tbody tr th {\n",
              "        vertical-align: top;\n",
              "    }\n",
              "\n",
              "    .dataframe thead th {\n",
              "        text-align: right;\n",
              "    }\n",
              "</style>\n",
              "<table border=\"1\" class=\"dataframe\">\n",
              "  <thead>\n",
              "    <tr style=\"text-align: right;\">\n",
              "      <th></th>\n",
              "      <th>name</th>\n",
              "      <th>singer</th>\n",
              "      <th>singer_id</th>\n",
              "      <th>duration</th>\n",
              "      <th>link</th>\n",
              "      <th>language</th>\n",
              "    </tr>\n",
              "  </thead>\n",
              "  <tbody>\n",
              "    <tr>\n",
              "      <th>2</th>\n",
              "      <td>Unke Dekhe Se</td>\n",
              "      <td>Jagjit Singh</td>\n",
              "      <td>/artist/jagjeet-singh-1</td>\n",
              "      <td>03:41</td>\n",
              "      <td>/unke-dekhe-se</td>\n",
              "      <td>Urdu</td>\n",
              "    </tr>\n",
              "    <tr>\n",
              "      <th>4</th>\n",
              "      <td>Hazaron Khwahishen Aisi</td>\n",
              "      <td>Jagjit Singh</td>\n",
              "      <td>/artist/jagjeet-singh-1</td>\n",
              "      <td>05:39</td>\n",
              "      <td>/hazaron-khwahishen-aisi-1</td>\n",
              "      <td>Urdu</td>\n",
              "    </tr>\n",
              "    <tr>\n",
              "      <th>7</th>\n",
              "      <td>Tum Itna Jo Muskura Rahe Ho</td>\n",
              "      <td>Jagjit Singh</td>\n",
              "      <td>/artist/jagjeet-singh-1</td>\n",
              "      <td>05:21</td>\n",
              "      <td>/tum-itna-jo-muskura-rahe-ho-12</td>\n",
              "      <td>Urdu</td>\n",
              "    </tr>\n",
              "    <tr>\n",
              "      <th>10</th>\n",
              "      <td>Zindagi Se Badi Saza Hi Nahi</td>\n",
              "      <td>Jagjit Singh</td>\n",
              "      <td>/artist/jagjeet-singh-1</td>\n",
              "      <td>05:03</td>\n",
              "      <td>/tujhe-milne-ki-saza-denge</td>\n",
              "      <td>Urdu</td>\n",
              "    </tr>\n",
              "    <tr>\n",
              "      <th>11</th>\n",
              "      <td>Kabse Hoon Kya Bataon</td>\n",
              "      <td>Jagjit Singh</td>\n",
              "      <td>/artist/jagjeet-singh-1</td>\n",
              "      <td>04:00</td>\n",
              "      <td>/kab-se-hoon-kya-bataoon</td>\n",
              "      <td>Urdu</td>\n",
              "    </tr>\n",
              "    <tr>\n",
              "      <th>13</th>\n",
              "      <td>Hazaron Khwahishen Aisi</td>\n",
              "      <td>Jagjit Singh</td>\n",
              "      <td>/artist/jagjeet-singh-1</td>\n",
              "      <td>05:39</td>\n",
              "      <td>/hazaron-khwahishen-aisi</td>\n",
              "      <td>Urdu</td>\n",
              "    </tr>\n",
              "    <tr>\n",
              "      <th>15</th>\n",
              "      <td>Zulmat Kade Mein Mere</td>\n",
              "      <td>Jagjit Singh</td>\n",
              "      <td>/artist/jagjeet-singh-1</td>\n",
              "      <td>03:48</td>\n",
              "      <td>/zulmat-kade-mein-mere</td>\n",
              "      <td>Urdu</td>\n",
              "    </tr>\n",
              "    <tr>\n",
              "      <th>16</th>\n",
              "      <td>Na Tha Kuchh To Khuda Tha</td>\n",
              "      <td>Jagjit Singh</td>\n",
              "      <td>/artist/jagjeet-singh-1</td>\n",
              "      <td>03:24</td>\n",
              "      <td>/na-tha-kuchh-to-khuda-tha</td>\n",
              "      <td>Urdu</td>\n",
              "    </tr>\n",
              "    <tr>\n",
              "      <th>22</th>\n",
              "      <td>Woh Firaaq Aur Woh Visal Kahan</td>\n",
              "      <td>Jagjit Singh</td>\n",
              "      <td>/artist/jagjeet-singh-1</td>\n",
              "      <td>04:23</td>\n",
              "      <td>/woh-firaaq-aur-woh-visal-kahan</td>\n",
              "      <td>Urdu</td>\n",
              "    </tr>\n",
              "    <tr>\n",
              "      <th>23</th>\n",
              "      <td>Phir Kuch Ek Dil Ko Beqarari Hai</td>\n",
              "      <td>Jagjit Singh</td>\n",
              "      <td>/artist/jagjeet-singh-1</td>\n",
              "      <td>02:36</td>\n",
              "      <td>/phir-kuch-ek-dil-ko-beqarari-hai</td>\n",
              "      <td>Urdu</td>\n",
              "    </tr>\n",
              "    <tr>\n",
              "      <th>24</th>\n",
              "      <td>Kabhi Ghuncha Kabhi Shola</td>\n",
              "      <td>Jagjit Singh</td>\n",
              "      <td>/artist/jagjeet-singh-1</td>\n",
              "      <td>04:49</td>\n",
              "      <td>/kabhi-ghuncha-kabhi-shola</td>\n",
              "      <td>Urdu</td>\n",
              "    </tr>\n",
              "    <tr>\n",
              "      <th>25</th>\n",
              "      <td>Naksh Rariyaaadi Hai Kiski</td>\n",
              "      <td>Jagjit Singh</td>\n",
              "      <td>/artist/jagjeet-singh-1</td>\n",
              "      <td>04:40</td>\n",
              "      <td>/naksh-rariyaaadi-hai-kiski</td>\n",
              "      <td>Urdu</td>\n",
              "    </tr>\n",
              "    <tr>\n",
              "      <th>30</th>\n",
              "      <td>Bas Ke Dusavar Hain Har Kaam Ka Aasaan Hona</td>\n",
              "      <td>Jagjit Singh</td>\n",
              "      <td>/artist/jagjeet-singh-1</td>\n",
              "      <td>03:37</td>\n",
              "      <td>/bas-ke-dusavar-hain-har-kaam-ka-aasaan-hona</td>\n",
              "      <td>Urdu</td>\n",
              "    </tr>\n",
              "    <tr>\n",
              "      <th>32</th>\n",
              "      <td>Sab Kahan Kuchh Lala - O - Gul</td>\n",
              "      <td>Jagjit Singh</td>\n",
              "      <td>/artist/jagjeet-singh-1</td>\n",
              "      <td>03:36</td>\n",
              "      <td>/sab-kahan-kuchh-lala-o-gul</td>\n",
              "      <td>Urdu</td>\n",
              "    </tr>\n",
              "    <tr>\n",
              "      <th>36</th>\n",
              "      <td>Jhuki Jhuki Si Nazar</td>\n",
              "      <td>Jagjit Singh</td>\n",
              "      <td>/artist/jagjeet-singh-1</td>\n",
              "      <td>05:02</td>\n",
              "      <td>/jhuki-jhuki-si-nazar-jagjit</td>\n",
              "      <td>Urdu</td>\n",
              "    </tr>\n",
              "    <tr>\n",
              "      <th>37</th>\n",
              "      <td>Log Har Mod Pe</td>\n",
              "      <td>Jagjit Singh</td>\n",
              "      <td>/artist/jagjeet-singh-1</td>\n",
              "      <td>05:43</td>\n",
              "      <td>/log-har-mod-pe</td>\n",
              "      <td>Urdu</td>\n",
              "    </tr>\n",
              "    <tr>\n",
              "      <th>40</th>\n",
              "      <td>Dost Ghamkhwari Mein Meri Sahi Farmayenge Kya</td>\n",
              "      <td>Jagjit Singh</td>\n",
              "      <td>/artist/jagjeet-singh-1</td>\n",
              "      <td>02:35</td>\n",
              "      <td>/dost-ghamkhwari-mein-meri-sahi-farmayenge-kya</td>\n",
              "      <td>Urdu</td>\n",
              "    </tr>\n",
              "    <tr>\n",
              "      <th>41</th>\n",
              "      <td>Dil Hi To Hai - Jagjit Singh</td>\n",
              "      <td>Jagjit Singh</td>\n",
              "      <td>/artist/jagjeet-singh-1</td>\n",
              "      <td>04:48</td>\n",
              "      <td>/dil-hi-to-hai-4</td>\n",
              "      <td>Urdu</td>\n",
              "    </tr>\n",
              "    <tr>\n",
              "      <th>46</th>\n",
              "      <td>Yeh Misaale Tasaffuff And Phir Kuchh Ek Dil Ko...</td>\n",
              "      <td>Jagjit Singh</td>\n",
              "      <td>/artist/jagjeet-singh-1</td>\n",
              "      <td>02:35</td>\n",
              "      <td>/yeh-misaale-tasaffuff-phir-kuchh-ek-dil-ko-be...</td>\n",
              "      <td>Urdu</td>\n",
              "    </tr>\n",
              "    <tr>\n",
              "      <th>47</th>\n",
              "      <td>Woh Kagaz Ki Kashti (Part 1)</td>\n",
              "      <td>Jagjit Singh</td>\n",
              "      <td>/artist/jagjeet-singh-1</td>\n",
              "      <td>04:01</td>\n",
              "      <td>/woh-kagaz-ki-kashti-part-1-3</td>\n",
              "      <td>Urdu</td>\n",
              "    </tr>\n",
              "    <tr>\n",
              "      <th>48</th>\n",
              "      <td>Bazeecha - E - Atfal Hai</td>\n",
              "      <td>Jagjit Singh</td>\n",
              "      <td>/artist/jagjeet-singh-1</td>\n",
              "      <td>05:07</td>\n",
              "      <td>/bazeecha-e-atfal-hai-1</td>\n",
              "      <td>Urdu</td>\n",
              "    </tr>\n",
              "    <tr>\n",
              "      <th>49</th>\n",
              "      <td>Koi Yeh Kaise Bataye</td>\n",
              "      <td>Jagjit Singh</td>\n",
              "      <td>/artist/jagjeet-singh-1</td>\n",
              "      <td>03:17</td>\n",
              "      <td>/koi-yeh-kaise-bataye-4</td>\n",
              "      <td>Urdu</td>\n",
              "    </tr>\n",
              "    <tr>\n",
              "      <th>52</th>\n",
              "      <td>Tere Khushboo Mein Base Khat</td>\n",
              "      <td>Jagjit Singh</td>\n",
              "      <td>/artist/jagjeet-singh-1</td>\n",
              "      <td>01:24</td>\n",
              "      <td>/tere-khushboo-mein-base-khat-2</td>\n",
              "      <td>Urdu</td>\n",
              "    </tr>\n",
              "    <tr>\n",
              "      <th>53</th>\n",
              "      <td>Pathar Ke Khuda Pathar Ke Sanam</td>\n",
              "      <td>Jagjit Singh</td>\n",
              "      <td>/artist/jagjeet-singh-1</td>\n",
              "      <td>05:29</td>\n",
              "      <td>/patthar-ke-khuda-patthar-ke-sanam</td>\n",
              "      <td>Urdu</td>\n",
              "    </tr>\n",
              "    <tr>\n",
              "      <th>54</th>\n",
              "      <td>Pyar Mujh Se Jo Kiya</td>\n",
              "      <td>Jagjit Singh</td>\n",
              "      <td>/artist/jagjeet-singh-1</td>\n",
              "      <td>04:36</td>\n",
              "      <td>/pyar-mujh-se-jo-kiya-1</td>\n",
              "      <td>Urdu</td>\n",
              "    </tr>\n",
              "    <tr>\n",
              "      <th>61</th>\n",
              "      <td>Zulmat Kade Mein Mere</td>\n",
              "      <td>Jagjit Singh</td>\n",
              "      <td>/artist/jagjeet-singh-1</td>\n",
              "      <td>03:48</td>\n",
              "      <td>/zulmat-kade-mein-mere-1</td>\n",
              "      <td>Urdu</td>\n",
              "    </tr>\n",
              "    <tr>\n",
              "      <th>62</th>\n",
              "      <td>Yeh Mojiza Bhi Mohabbat Kabhi Dikhaye Mujhe</td>\n",
              "      <td>Jagjit Singh</td>\n",
              "      <td>/artist/jagjeet-singh-1</td>\n",
              "      <td>05:09</td>\n",
              "      <td>/yeh-mojeza-bhi-mohabbat-kabhi-dikhaye-mujhe-1</td>\n",
              "      <td>Urdu</td>\n",
              "    </tr>\n",
              "    <tr>\n",
              "      <th>64</th>\n",
              "      <td>Gham Badhe Aate Hain Qatil Ki Nigahon Ki Tarah</td>\n",
              "      <td>Jagjit Singh</td>\n",
              "      <td>/artist/jagjeet-singh-1</td>\n",
              "      <td>03:58</td>\n",
              "      <td>/gham-badhe-aate-hain-qatil-ki-nigahon-ki-tarah</td>\n",
              "      <td>Urdu</td>\n",
              "    </tr>\n",
              "    <tr>\n",
              "      <th>67</th>\n",
              "      <td>Aah Ko Chahiye</td>\n",
              "      <td>Jagjit Singh</td>\n",
              "      <td>/artist/jagjeet-singh-1</td>\n",
              "      <td>07:22</td>\n",
              "      <td>/aah-ko-chahiye-18</td>\n",
              "      <td>Urdu</td>\n",
              "    </tr>\n",
              "    <tr>\n",
              "      <th>77</th>\n",
              "      <td>Kabse Hoon Kya Bataon</td>\n",
              "      <td>Jagjit Singh</td>\n",
              "      <td>/artist/jagjeet-singh-1</td>\n",
              "      <td>04:00</td>\n",
              "      <td>/kabse-hoon-kya-bataon-1</td>\n",
              "      <td>Urdu</td>\n",
              "    </tr>\n",
              "    <tr>\n",
              "      <th>78</th>\n",
              "      <td>Hans Ke Bola Karo</td>\n",
              "      <td>Jagjit Singh</td>\n",
              "      <td>/artist/jagjeet-singh-1</td>\n",
              "      <td>03:46</td>\n",
              "      <td>/hans-ke-bola-karo-live</td>\n",
              "      <td>Urdu</td>\n",
              "    </tr>\n",
              "    <tr>\n",
              "      <th>79</th>\n",
              "      <td>Yeh Bhi Kya Ehsaan Kam Hai</td>\n",
              "      <td>Jagjit Singh</td>\n",
              "      <td>/artist/jagjeet-singh-1</td>\n",
              "      <td>04:52</td>\n",
              "      <td>/yeh-bhi-kya-ehsaan-kam-hai</td>\n",
              "      <td>Urdu</td>\n",
              "    </tr>\n",
              "    <tr>\n",
              "      <th>90</th>\n",
              "      <td>Apni Aankhon Ke Samundar Mein</td>\n",
              "      <td>Jagjit Singh</td>\n",
              "      <td>/artist/jagjeet-singh-1</td>\n",
              "      <td>06:12</td>\n",
              "      <td>/apni-aankhon-ke-samundar-mein</td>\n",
              "      <td>Urdu</td>\n",
              "    </tr>\n",
              "    <tr>\n",
              "      <th>92</th>\n",
              "      <td>Tumne Sooli Pe Latakte Jise Dekha Hoga</td>\n",
              "      <td>Jagjit Singh</td>\n",
              "      <td>/artist/jagjeet-singh-1</td>\n",
              "      <td>04:09</td>\n",
              "      <td>/tumne-sooli-pe-latakte-jise-dekha-hoga</td>\n",
              "      <td>Urdu</td>\n",
              "    </tr>\n",
              "    <tr>\n",
              "      <th>95</th>\n",
              "      <td>Yeh Inayaten Ghazab Ki</td>\n",
              "      <td>Jagjit Singh</td>\n",
              "      <td>/artist/jagjeet-singh-1</td>\n",
              "      <td>07:44</td>\n",
              "      <td>/yeh-inayaten-ghazab-ki-live</td>\n",
              "      <td>Urdu</td>\n",
              "    </tr>\n",
              "    <tr>\n",
              "      <th>107</th>\n",
              "      <td>Jawani Ke Heele Haya Ke Bahane</td>\n",
              "      <td>Jagjit Singh</td>\n",
              "      <td>/artist/jagjeet-singh-1</td>\n",
              "      <td>06:21</td>\n",
              "      <td>/jawani-ke-heele-haya-ke-bahane</td>\n",
              "      <td>Urdu</td>\n",
              "    </tr>\n",
              "    <tr>\n",
              "      <th>122</th>\n",
              "      <td>Mai Pila Kar Aap Ka Kya Jayega</td>\n",
              "      <td>Jagjit Singh</td>\n",
              "      <td>/artist/jagjeet-singh-1</td>\n",
              "      <td>04:36</td>\n",
              "      <td>/mai-pilakar-aapka-kya-jayega</td>\n",
              "      <td>Urdu</td>\n",
              "    </tr>\n",
              "    <tr>\n",
              "      <th>143</th>\n",
              "      <td>Hazaron Khwahishen Aisi</td>\n",
              "      <td>Jagjit Singh</td>\n",
              "      <td>/artist/jagjeet-singh-1</td>\n",
              "      <td>05:39</td>\n",
              "      <td>/hazaron-khwahishen-aisi-5</td>\n",
              "      <td>Urdu</td>\n",
              "    </tr>\n",
              "    <tr>\n",
              "      <th>151</th>\n",
              "      <td>Shayad Aa Jayega Saqi Ko</td>\n",
              "      <td>Jagjit Singh</td>\n",
              "      <td>/artist/jagjeet-singh-1</td>\n",
              "      <td>07:04</td>\n",
              "      <td>/shayad-aa-jayega-saqi-ko</td>\n",
              "      <td>Urdu</td>\n",
              "    </tr>\n",
              "    <tr>\n",
              "      <th>171</th>\n",
              "      <td>Woh Firaaq Aur Woh Visal Kahan</td>\n",
              "      <td>Jagjit Singh</td>\n",
              "      <td>/artist/jagjeet-singh-1</td>\n",
              "      <td>04:23</td>\n",
              "      <td>/woh-firaaq-aur-woh-visal-kahan-2</td>\n",
              "      <td>Urdu</td>\n",
              "    </tr>\n",
              "  </tbody>\n",
              "</table>\n",
              "</div>\n",
              "    <div class=\"colab-df-buttons\">\n",
              "\n",
              "  <div class=\"colab-df-container\">\n",
              "    <button class=\"colab-df-convert\" onclick=\"convertToInteractive('df-b361c7ba-896a-4c46-a274-9b54e25b9af1')\"\n",
              "            title=\"Convert this dataframe to an interactive table.\"\n",
              "            style=\"display:none;\">\n",
              "\n",
              "  <svg xmlns=\"http://www.w3.org/2000/svg\" height=\"24px\" viewBox=\"0 -960 960 960\">\n",
              "    <path d=\"M120-120v-720h720v720H120Zm60-500h600v-160H180v160Zm220 220h160v-160H400v160Zm0 220h160v-160H400v160ZM180-400h160v-160H180v160Zm440 0h160v-160H620v160ZM180-180h160v-160H180v160Zm440 0h160v-160H620v160Z\"/>\n",
              "  </svg>\n",
              "    </button>\n",
              "\n",
              "  <style>\n",
              "    .colab-df-container {\n",
              "      display:flex;\n",
              "      gap: 12px;\n",
              "    }\n",
              "\n",
              "    .colab-df-convert {\n",
              "      background-color: #E8F0FE;\n",
              "      border: none;\n",
              "      border-radius: 50%;\n",
              "      cursor: pointer;\n",
              "      display: none;\n",
              "      fill: #1967D2;\n",
              "      height: 32px;\n",
              "      padding: 0 0 0 0;\n",
              "      width: 32px;\n",
              "    }\n",
              "\n",
              "    .colab-df-convert:hover {\n",
              "      background-color: #E2EBFA;\n",
              "      box-shadow: 0px 1px 2px rgba(60, 64, 67, 0.3), 0px 1px 3px 1px rgba(60, 64, 67, 0.15);\n",
              "      fill: #174EA6;\n",
              "    }\n",
              "\n",
              "    .colab-df-buttons div {\n",
              "      margin-bottom: 4px;\n",
              "    }\n",
              "\n",
              "    [theme=dark] .colab-df-convert {\n",
              "      background-color: #3B4455;\n",
              "      fill: #D2E3FC;\n",
              "    }\n",
              "\n",
              "    [theme=dark] .colab-df-convert:hover {\n",
              "      background-color: #434B5C;\n",
              "      box-shadow: 0px 1px 3px 1px rgba(0, 0, 0, 0.15);\n",
              "      filter: drop-shadow(0px 1px 2px rgba(0, 0, 0, 0.3));\n",
              "      fill: #FFFFFF;\n",
              "    }\n",
              "  </style>\n",
              "\n",
              "    <script>\n",
              "      const buttonEl =\n",
              "        document.querySelector('#df-b361c7ba-896a-4c46-a274-9b54e25b9af1 button.colab-df-convert');\n",
              "      buttonEl.style.display =\n",
              "        google.colab.kernel.accessAllowed ? 'block' : 'none';\n",
              "\n",
              "      async function convertToInteractive(key) {\n",
              "        const element = document.querySelector('#df-b361c7ba-896a-4c46-a274-9b54e25b9af1');\n",
              "        const dataTable =\n",
              "          await google.colab.kernel.invokeFunction('convertToInteractive',\n",
              "                                                    [key], {});\n",
              "        if (!dataTable) return;\n",
              "\n",
              "        const docLinkHtml = 'Like what you see? Visit the ' +\n",
              "          '<a target=\"_blank\" href=https://colab.research.google.com/notebooks/data_table.ipynb>data table notebook</a>'\n",
              "          + ' to learn more about interactive tables.';\n",
              "        element.innerHTML = '';\n",
              "        dataTable['output_type'] = 'display_data';\n",
              "        await google.colab.output.renderOutput(dataTable, element);\n",
              "        const docLink = document.createElement('div');\n",
              "        docLink.innerHTML = docLinkHtml;\n",
              "        element.appendChild(docLink);\n",
              "      }\n",
              "    </script>\n",
              "  </div>\n",
              "\n",
              "\n",
              "<div id=\"df-f146112a-d055-493a-8a4b-ff3f80175b2f\">\n",
              "  <button class=\"colab-df-quickchart\" onclick=\"quickchart('df-f146112a-d055-493a-8a4b-ff3f80175b2f')\"\n",
              "            title=\"Suggest charts\"\n",
              "            style=\"display:none;\">\n",
              "\n",
              "<svg xmlns=\"http://www.w3.org/2000/svg\" height=\"24px\"viewBox=\"0 0 24 24\"\n",
              "     width=\"24px\">\n",
              "    <g>\n",
              "        <path d=\"M19 3H5c-1.1 0-2 .9-2 2v14c0 1.1.9 2 2 2h14c1.1 0 2-.9 2-2V5c0-1.1-.9-2-2-2zM9 17H7v-7h2v7zm4 0h-2V7h2v10zm4 0h-2v-4h2v4z\"/>\n",
              "    </g>\n",
              "</svg>\n",
              "  </button>\n",
              "\n",
              "<style>\n",
              "  .colab-df-quickchart {\n",
              "      --bg-color: #E8F0FE;\n",
              "      --fill-color: #1967D2;\n",
              "      --hover-bg-color: #E2EBFA;\n",
              "      --hover-fill-color: #174EA6;\n",
              "      --disabled-fill-color: #AAA;\n",
              "      --disabled-bg-color: #DDD;\n",
              "  }\n",
              "\n",
              "  [theme=dark] .colab-df-quickchart {\n",
              "      --bg-color: #3B4455;\n",
              "      --fill-color: #D2E3FC;\n",
              "      --hover-bg-color: #434B5C;\n",
              "      --hover-fill-color: #FFFFFF;\n",
              "      --disabled-bg-color: #3B4455;\n",
              "      --disabled-fill-color: #666;\n",
              "  }\n",
              "\n",
              "  .colab-df-quickchart {\n",
              "    background-color: var(--bg-color);\n",
              "    border: none;\n",
              "    border-radius: 50%;\n",
              "    cursor: pointer;\n",
              "    display: none;\n",
              "    fill: var(--fill-color);\n",
              "    height: 32px;\n",
              "    padding: 0;\n",
              "    width: 32px;\n",
              "  }\n",
              "\n",
              "  .colab-df-quickchart:hover {\n",
              "    background-color: var(--hover-bg-color);\n",
              "    box-shadow: 0 1px 2px rgba(60, 64, 67, 0.3), 0 1px 3px 1px rgba(60, 64, 67, 0.15);\n",
              "    fill: var(--button-hover-fill-color);\n",
              "  }\n",
              "\n",
              "  .colab-df-quickchart-complete:disabled,\n",
              "  .colab-df-quickchart-complete:disabled:hover {\n",
              "    background-color: var(--disabled-bg-color);\n",
              "    fill: var(--disabled-fill-color);\n",
              "    box-shadow: none;\n",
              "  }\n",
              "\n",
              "  .colab-df-spinner {\n",
              "    border: 2px solid var(--fill-color);\n",
              "    border-color: transparent;\n",
              "    border-bottom-color: var(--fill-color);\n",
              "    animation:\n",
              "      spin 1s steps(1) infinite;\n",
              "  }\n",
              "\n",
              "  @keyframes spin {\n",
              "    0% {\n",
              "      border-color: transparent;\n",
              "      border-bottom-color: var(--fill-color);\n",
              "      border-left-color: var(--fill-color);\n",
              "    }\n",
              "    20% {\n",
              "      border-color: transparent;\n",
              "      border-left-color: var(--fill-color);\n",
              "      border-top-color: var(--fill-color);\n",
              "    }\n",
              "    30% {\n",
              "      border-color: transparent;\n",
              "      border-left-color: var(--fill-color);\n",
              "      border-top-color: var(--fill-color);\n",
              "      border-right-color: var(--fill-color);\n",
              "    }\n",
              "    40% {\n",
              "      border-color: transparent;\n",
              "      border-right-color: var(--fill-color);\n",
              "      border-top-color: var(--fill-color);\n",
              "    }\n",
              "    60% {\n",
              "      border-color: transparent;\n",
              "      border-right-color: var(--fill-color);\n",
              "    }\n",
              "    80% {\n",
              "      border-color: transparent;\n",
              "      border-right-color: var(--fill-color);\n",
              "      border-bottom-color: var(--fill-color);\n",
              "    }\n",
              "    90% {\n",
              "      border-color: transparent;\n",
              "      border-bottom-color: var(--fill-color);\n",
              "    }\n",
              "  }\n",
              "</style>\n",
              "\n",
              "  <script>\n",
              "    async function quickchart(key) {\n",
              "      const quickchartButtonEl =\n",
              "        document.querySelector('#' + key + ' button');\n",
              "      quickchartButtonEl.disabled = true;  // To prevent multiple clicks.\n",
              "      quickchartButtonEl.classList.add('colab-df-spinner');\n",
              "      try {\n",
              "        const charts = await google.colab.kernel.invokeFunction(\n",
              "            'suggestCharts', [key], {});\n",
              "      } catch (error) {\n",
              "        console.error('Error during call to suggestCharts:', error);\n",
              "      }\n",
              "      quickchartButtonEl.classList.remove('colab-df-spinner');\n",
              "      quickchartButtonEl.classList.add('colab-df-quickchart-complete');\n",
              "    }\n",
              "    (() => {\n",
              "      let quickchartButtonEl =\n",
              "        document.querySelector('#df-f146112a-d055-493a-8a4b-ff3f80175b2f button');\n",
              "      quickchartButtonEl.style.display =\n",
              "        google.colab.kernel.accessAllowed ? 'block' : 'none';\n",
              "    })();\n",
              "  </script>\n",
              "</div>\n",
              "\n",
              "    </div>\n",
              "  </div>\n"
            ],
            "application/vnd.google.colaboratory.intrinsic+json": {
              "type": "dataframe",
              "repr_error": "0"
            }
          },
          "metadata": {},
          "execution_count": 35
        }
      ]
    },
    {
      "cell_type": "code",
      "source": [
        "df[df['singer'] == 'Jagjit Singh']"
      ],
      "metadata": {
        "colab": {
          "base_uri": "https://localhost:8080/",
          "height": 424
        },
        "id": "vbG9LRZeYXW8",
        "outputId": "7c9cef67-656d-4f35-ddaa-af27eb123893"
      },
      "execution_count": null,
      "outputs": [
        {
          "output_type": "execute_result",
          "data": {
            "text/plain": [
              "                                    name        singer  \\\n",
              "2                          Unke Dekhe Se  Jagjit Singh   \n",
              "4                Hazaron Khwahishen Aisi  Jagjit Singh   \n",
              "7            Tum Itna Jo Muskura Rahe Ho  Jagjit Singh   \n",
              "10          Zindagi Se Badi Saza Hi Nahi  Jagjit Singh   \n",
              "11                 Kabse Hoon Kya Bataon  Jagjit Singh   \n",
              "...                                  ...           ...   \n",
              "27093  Woh Kagaz Ki Kasti (Part 1 And 2)  Jagjit Singh   \n",
              "27157       Woh Kagaz Ki Kashti (Part 2)  Jagjit Singh   \n",
              "27369         Tujhse Milne Ki Saza Denge  Jagjit Singh   \n",
              "27393               Pyar Mujh Se Jo Kiya  Jagjit Singh   \n",
              "27852       Shayad Main Zindagi Ki Sahar  Jagjit Singh   \n",
              "\n",
              "                     singer_id duration                             link  \\\n",
              "2      /artist/jagjeet-singh-1    03:41                   /unke-dekhe-se   \n",
              "4      /artist/jagjeet-singh-1    05:39       /hazaron-khwahishen-aisi-1   \n",
              "7      /artist/jagjeet-singh-1    05:21  /tum-itna-jo-muskura-rahe-ho-12   \n",
              "10     /artist/jagjeet-singh-1    05:03       /tujhe-milne-ki-saza-denge   \n",
              "11     /artist/jagjeet-singh-1    04:00         /kab-se-hoon-kya-bataoon   \n",
              "...                        ...      ...                              ...   \n",
              "27093  /artist/jagjeet-singh-1    05:57     /woh-kagaz-ki-kasti-part-iii   \n",
              "27157  /artist/jagjeet-singh-1    01:57      /woh-kagaz-ki-kashti-part-2   \n",
              "27369  /artist/jagjeet-singh-1    05:14      /tujhse-milne-ki-saza-denge   \n",
              "27393  /artist/jagjeet-singh-1    04:36          /pyar-mujh-se-jo-kiya-4   \n",
              "27852  /artist/jagjeet-singh-1    06:51  /shayad-main-zindagi-ki-sahar-4   \n",
              "\n",
              "      language  \n",
              "2         Urdu  \n",
              "4         Urdu  \n",
              "7         Urdu  \n",
              "10        Urdu  \n",
              "11        Urdu  \n",
              "...        ...  \n",
              "27093      Old  \n",
              "27157      Old  \n",
              "27369      Old  \n",
              "27393      Old  \n",
              "27852      Old  \n",
              "\n",
              "[172 rows x 6 columns]"
            ],
            "text/html": [
              "\n",
              "  <div id=\"df-0e80e325-9404-470a-966a-dba184c08e20\" class=\"colab-df-container\">\n",
              "    <div>\n",
              "<style scoped>\n",
              "    .dataframe tbody tr th:only-of-type {\n",
              "        vertical-align: middle;\n",
              "    }\n",
              "\n",
              "    .dataframe tbody tr th {\n",
              "        vertical-align: top;\n",
              "    }\n",
              "\n",
              "    .dataframe thead th {\n",
              "        text-align: right;\n",
              "    }\n",
              "</style>\n",
              "<table border=\"1\" class=\"dataframe\">\n",
              "  <thead>\n",
              "    <tr style=\"text-align: right;\">\n",
              "      <th></th>\n",
              "      <th>name</th>\n",
              "      <th>singer</th>\n",
              "      <th>singer_id</th>\n",
              "      <th>duration</th>\n",
              "      <th>link</th>\n",
              "      <th>language</th>\n",
              "    </tr>\n",
              "  </thead>\n",
              "  <tbody>\n",
              "    <tr>\n",
              "      <th>2</th>\n",
              "      <td>Unke Dekhe Se</td>\n",
              "      <td>Jagjit Singh</td>\n",
              "      <td>/artist/jagjeet-singh-1</td>\n",
              "      <td>03:41</td>\n",
              "      <td>/unke-dekhe-se</td>\n",
              "      <td>Urdu</td>\n",
              "    </tr>\n",
              "    <tr>\n",
              "      <th>4</th>\n",
              "      <td>Hazaron Khwahishen Aisi</td>\n",
              "      <td>Jagjit Singh</td>\n",
              "      <td>/artist/jagjeet-singh-1</td>\n",
              "      <td>05:39</td>\n",
              "      <td>/hazaron-khwahishen-aisi-1</td>\n",
              "      <td>Urdu</td>\n",
              "    </tr>\n",
              "    <tr>\n",
              "      <th>7</th>\n",
              "      <td>Tum Itna Jo Muskura Rahe Ho</td>\n",
              "      <td>Jagjit Singh</td>\n",
              "      <td>/artist/jagjeet-singh-1</td>\n",
              "      <td>05:21</td>\n",
              "      <td>/tum-itna-jo-muskura-rahe-ho-12</td>\n",
              "      <td>Urdu</td>\n",
              "    </tr>\n",
              "    <tr>\n",
              "      <th>10</th>\n",
              "      <td>Zindagi Se Badi Saza Hi Nahi</td>\n",
              "      <td>Jagjit Singh</td>\n",
              "      <td>/artist/jagjeet-singh-1</td>\n",
              "      <td>05:03</td>\n",
              "      <td>/tujhe-milne-ki-saza-denge</td>\n",
              "      <td>Urdu</td>\n",
              "    </tr>\n",
              "    <tr>\n",
              "      <th>11</th>\n",
              "      <td>Kabse Hoon Kya Bataon</td>\n",
              "      <td>Jagjit Singh</td>\n",
              "      <td>/artist/jagjeet-singh-1</td>\n",
              "      <td>04:00</td>\n",
              "      <td>/kab-se-hoon-kya-bataoon</td>\n",
              "      <td>Urdu</td>\n",
              "    </tr>\n",
              "    <tr>\n",
              "      <th>...</th>\n",
              "      <td>...</td>\n",
              "      <td>...</td>\n",
              "      <td>...</td>\n",
              "      <td>...</td>\n",
              "      <td>...</td>\n",
              "      <td>...</td>\n",
              "    </tr>\n",
              "    <tr>\n",
              "      <th>27093</th>\n",
              "      <td>Woh Kagaz Ki Kasti (Part 1 And 2)</td>\n",
              "      <td>Jagjit Singh</td>\n",
              "      <td>/artist/jagjeet-singh-1</td>\n",
              "      <td>05:57</td>\n",
              "      <td>/woh-kagaz-ki-kasti-part-iii</td>\n",
              "      <td>Old</td>\n",
              "    </tr>\n",
              "    <tr>\n",
              "      <th>27157</th>\n",
              "      <td>Woh Kagaz Ki Kashti (Part 2)</td>\n",
              "      <td>Jagjit Singh</td>\n",
              "      <td>/artist/jagjeet-singh-1</td>\n",
              "      <td>01:57</td>\n",
              "      <td>/woh-kagaz-ki-kashti-part-2</td>\n",
              "      <td>Old</td>\n",
              "    </tr>\n",
              "    <tr>\n",
              "      <th>27369</th>\n",
              "      <td>Tujhse Milne Ki Saza Denge</td>\n",
              "      <td>Jagjit Singh</td>\n",
              "      <td>/artist/jagjeet-singh-1</td>\n",
              "      <td>05:14</td>\n",
              "      <td>/tujhse-milne-ki-saza-denge</td>\n",
              "      <td>Old</td>\n",
              "    </tr>\n",
              "    <tr>\n",
              "      <th>27393</th>\n",
              "      <td>Pyar Mujh Se Jo Kiya</td>\n",
              "      <td>Jagjit Singh</td>\n",
              "      <td>/artist/jagjeet-singh-1</td>\n",
              "      <td>04:36</td>\n",
              "      <td>/pyar-mujh-se-jo-kiya-4</td>\n",
              "      <td>Old</td>\n",
              "    </tr>\n",
              "    <tr>\n",
              "      <th>27852</th>\n",
              "      <td>Shayad Main Zindagi Ki Sahar</td>\n",
              "      <td>Jagjit Singh</td>\n",
              "      <td>/artist/jagjeet-singh-1</td>\n",
              "      <td>06:51</td>\n",
              "      <td>/shayad-main-zindagi-ki-sahar-4</td>\n",
              "      <td>Old</td>\n",
              "    </tr>\n",
              "  </tbody>\n",
              "</table>\n",
              "<p>172 rows × 6 columns</p>\n",
              "</div>\n",
              "    <div class=\"colab-df-buttons\">\n",
              "\n",
              "  <div class=\"colab-df-container\">\n",
              "    <button class=\"colab-df-convert\" onclick=\"convertToInteractive('df-0e80e325-9404-470a-966a-dba184c08e20')\"\n",
              "            title=\"Convert this dataframe to an interactive table.\"\n",
              "            style=\"display:none;\">\n",
              "\n",
              "  <svg xmlns=\"http://www.w3.org/2000/svg\" height=\"24px\" viewBox=\"0 -960 960 960\">\n",
              "    <path d=\"M120-120v-720h720v720H120Zm60-500h600v-160H180v160Zm220 220h160v-160H400v160Zm0 220h160v-160H400v160ZM180-400h160v-160H180v160Zm440 0h160v-160H620v160ZM180-180h160v-160H180v160Zm440 0h160v-160H620v160Z\"/>\n",
              "  </svg>\n",
              "    </button>\n",
              "\n",
              "  <style>\n",
              "    .colab-df-container {\n",
              "      display:flex;\n",
              "      gap: 12px;\n",
              "    }\n",
              "\n",
              "    .colab-df-convert {\n",
              "      background-color: #E8F0FE;\n",
              "      border: none;\n",
              "      border-radius: 50%;\n",
              "      cursor: pointer;\n",
              "      display: none;\n",
              "      fill: #1967D2;\n",
              "      height: 32px;\n",
              "      padding: 0 0 0 0;\n",
              "      width: 32px;\n",
              "    }\n",
              "\n",
              "    .colab-df-convert:hover {\n",
              "      background-color: #E2EBFA;\n",
              "      box-shadow: 0px 1px 2px rgba(60, 64, 67, 0.3), 0px 1px 3px 1px rgba(60, 64, 67, 0.15);\n",
              "      fill: #174EA6;\n",
              "    }\n",
              "\n",
              "    .colab-df-buttons div {\n",
              "      margin-bottom: 4px;\n",
              "    }\n",
              "\n",
              "    [theme=dark] .colab-df-convert {\n",
              "      background-color: #3B4455;\n",
              "      fill: #D2E3FC;\n",
              "    }\n",
              "\n",
              "    [theme=dark] .colab-df-convert:hover {\n",
              "      background-color: #434B5C;\n",
              "      box-shadow: 0px 1px 3px 1px rgba(0, 0, 0, 0.15);\n",
              "      filter: drop-shadow(0px 1px 2px rgba(0, 0, 0, 0.3));\n",
              "      fill: #FFFFFF;\n",
              "    }\n",
              "  </style>\n",
              "\n",
              "    <script>\n",
              "      const buttonEl =\n",
              "        document.querySelector('#df-0e80e325-9404-470a-966a-dba184c08e20 button.colab-df-convert');\n",
              "      buttonEl.style.display =\n",
              "        google.colab.kernel.accessAllowed ? 'block' : 'none';\n",
              "\n",
              "      async function convertToInteractive(key) {\n",
              "        const element = document.querySelector('#df-0e80e325-9404-470a-966a-dba184c08e20');\n",
              "        const dataTable =\n",
              "          await google.colab.kernel.invokeFunction('convertToInteractive',\n",
              "                                                    [key], {});\n",
              "        if (!dataTable) return;\n",
              "\n",
              "        const docLinkHtml = 'Like what you see? Visit the ' +\n",
              "          '<a target=\"_blank\" href=https://colab.research.google.com/notebooks/data_table.ipynb>data table notebook</a>'\n",
              "          + ' to learn more about interactive tables.';\n",
              "        element.innerHTML = '';\n",
              "        dataTable['output_type'] = 'display_data';\n",
              "        await google.colab.output.renderOutput(dataTable, element);\n",
              "        const docLink = document.createElement('div');\n",
              "        docLink.innerHTML = docLinkHtml;\n",
              "        element.appendChild(docLink);\n",
              "      }\n",
              "    </script>\n",
              "  </div>\n",
              "\n",
              "\n",
              "<div id=\"df-5e67af6f-86a4-447d-8f99-3e037cc2c75d\">\n",
              "  <button class=\"colab-df-quickchart\" onclick=\"quickchart('df-5e67af6f-86a4-447d-8f99-3e037cc2c75d')\"\n",
              "            title=\"Suggest charts\"\n",
              "            style=\"display:none;\">\n",
              "\n",
              "<svg xmlns=\"http://www.w3.org/2000/svg\" height=\"24px\"viewBox=\"0 0 24 24\"\n",
              "     width=\"24px\">\n",
              "    <g>\n",
              "        <path d=\"M19 3H5c-1.1 0-2 .9-2 2v14c0 1.1.9 2 2 2h14c1.1 0 2-.9 2-2V5c0-1.1-.9-2-2-2zM9 17H7v-7h2v7zm4 0h-2V7h2v10zm4 0h-2v-4h2v4z\"/>\n",
              "    </g>\n",
              "</svg>\n",
              "  </button>\n",
              "\n",
              "<style>\n",
              "  .colab-df-quickchart {\n",
              "      --bg-color: #E8F0FE;\n",
              "      --fill-color: #1967D2;\n",
              "      --hover-bg-color: #E2EBFA;\n",
              "      --hover-fill-color: #174EA6;\n",
              "      --disabled-fill-color: #AAA;\n",
              "      --disabled-bg-color: #DDD;\n",
              "  }\n",
              "\n",
              "  [theme=dark] .colab-df-quickchart {\n",
              "      --bg-color: #3B4455;\n",
              "      --fill-color: #D2E3FC;\n",
              "      --hover-bg-color: #434B5C;\n",
              "      --hover-fill-color: #FFFFFF;\n",
              "      --disabled-bg-color: #3B4455;\n",
              "      --disabled-fill-color: #666;\n",
              "  }\n",
              "\n",
              "  .colab-df-quickchart {\n",
              "    background-color: var(--bg-color);\n",
              "    border: none;\n",
              "    border-radius: 50%;\n",
              "    cursor: pointer;\n",
              "    display: none;\n",
              "    fill: var(--fill-color);\n",
              "    height: 32px;\n",
              "    padding: 0;\n",
              "    width: 32px;\n",
              "  }\n",
              "\n",
              "  .colab-df-quickchart:hover {\n",
              "    background-color: var(--hover-bg-color);\n",
              "    box-shadow: 0 1px 2px rgba(60, 64, 67, 0.3), 0 1px 3px 1px rgba(60, 64, 67, 0.15);\n",
              "    fill: var(--button-hover-fill-color);\n",
              "  }\n",
              "\n",
              "  .colab-df-quickchart-complete:disabled,\n",
              "  .colab-df-quickchart-complete:disabled:hover {\n",
              "    background-color: var(--disabled-bg-color);\n",
              "    fill: var(--disabled-fill-color);\n",
              "    box-shadow: none;\n",
              "  }\n",
              "\n",
              "  .colab-df-spinner {\n",
              "    border: 2px solid var(--fill-color);\n",
              "    border-color: transparent;\n",
              "    border-bottom-color: var(--fill-color);\n",
              "    animation:\n",
              "      spin 1s steps(1) infinite;\n",
              "  }\n",
              "\n",
              "  @keyframes spin {\n",
              "    0% {\n",
              "      border-color: transparent;\n",
              "      border-bottom-color: var(--fill-color);\n",
              "      border-left-color: var(--fill-color);\n",
              "    }\n",
              "    20% {\n",
              "      border-color: transparent;\n",
              "      border-left-color: var(--fill-color);\n",
              "      border-top-color: var(--fill-color);\n",
              "    }\n",
              "    30% {\n",
              "      border-color: transparent;\n",
              "      border-left-color: var(--fill-color);\n",
              "      border-top-color: var(--fill-color);\n",
              "      border-right-color: var(--fill-color);\n",
              "    }\n",
              "    40% {\n",
              "      border-color: transparent;\n",
              "      border-right-color: var(--fill-color);\n",
              "      border-top-color: var(--fill-color);\n",
              "    }\n",
              "    60% {\n",
              "      border-color: transparent;\n",
              "      border-right-color: var(--fill-color);\n",
              "    }\n",
              "    80% {\n",
              "      border-color: transparent;\n",
              "      border-right-color: var(--fill-color);\n",
              "      border-bottom-color: var(--fill-color);\n",
              "    }\n",
              "    90% {\n",
              "      border-color: transparent;\n",
              "      border-bottom-color: var(--fill-color);\n",
              "    }\n",
              "  }\n",
              "</style>\n",
              "\n",
              "  <script>\n",
              "    async function quickchart(key) {\n",
              "      const quickchartButtonEl =\n",
              "        document.querySelector('#' + key + ' button');\n",
              "      quickchartButtonEl.disabled = true;  // To prevent multiple clicks.\n",
              "      quickchartButtonEl.classList.add('colab-df-spinner');\n",
              "      try {\n",
              "        const charts = await google.colab.kernel.invokeFunction(\n",
              "            'suggestCharts', [key], {});\n",
              "      } catch (error) {\n",
              "        console.error('Error during call to suggestCharts:', error);\n",
              "      }\n",
              "      quickchartButtonEl.classList.remove('colab-df-spinner');\n",
              "      quickchartButtonEl.classList.add('colab-df-quickchart-complete');\n",
              "    }\n",
              "    (() => {\n",
              "      let quickchartButtonEl =\n",
              "        document.querySelector('#df-5e67af6f-86a4-447d-8f99-3e037cc2c75d button');\n",
              "      quickchartButtonEl.style.display =\n",
              "        google.colab.kernel.accessAllowed ? 'block' : 'none';\n",
              "    })();\n",
              "  </script>\n",
              "</div>\n",
              "\n",
              "    </div>\n",
              "  </div>\n"
            ],
            "application/vnd.google.colaboratory.intrinsic+json": {
              "type": "dataframe",
              "repr_error": "0"
            }
          },
          "metadata": {},
          "execution_count": 26
        }
      ]
    },
    {
      "cell_type": "code",
      "source": [],
      "metadata": {
        "id": "-P64BTICdoh4"
      },
      "execution_count": null,
      "outputs": []
    },
    {
      "cell_type": "code",
      "source": [],
      "metadata": {
        "id": "zo2FQEHDdoem"
      },
      "execution_count": null,
      "outputs": []
    },
    {
      "cell_type": "code",
      "source": [
        "df['language'].unique()"
      ],
      "metadata": {
        "colab": {
          "base_uri": "https://localhost:8080/"
        },
        "id": "R_ulN4xJYnsk",
        "outputId": "2f461e20-7f42-4df9-df3a-67aa1bf09007"
      },
      "execution_count": null,
      "outputs": [
        {
          "output_type": "execute_result",
          "data": {
            "text/plain": [
              "array(['Urdu', 'Gujarati', 'Tamil', 'Kannada', 'Rajasthani', 'Haryanvi',\n",
              "       'Punjabi', 'Hindi', 'Old', 'Malayalam', 'Marathi', 'Telugu',\n",
              "       'Odia', 'Bhojpuri', 'Assamese', 'Bengali'], dtype=object)"
            ]
          },
          "metadata": {},
          "execution_count": 61
        }
      ]
    },
    {
      "cell_type": "code",
      "source": [],
      "metadata": {
        "id": "z991tLRednv_"
      },
      "execution_count": null,
      "outputs": []
    },
    {
      "cell_type": "code",
      "source": [],
      "metadata": {
        "id": "qQa5tgRjdntY"
      },
      "execution_count": null,
      "outputs": []
    },
    {
      "cell_type": "code",
      "source": [
        "df[df['language']=='Urdu'].nunique()"
      ],
      "metadata": {
        "colab": {
          "base_uri": "https://localhost:8080/",
          "height": 272
        },
        "id": "ws-cAV1ucVmv",
        "outputId": "708e9a1a-2ed5-4b18-91cc-f5e52ae84e46"
      },
      "execution_count": null,
      "outputs": [
        {
          "output_type": "execute_result",
          "data": {
            "text/plain": [
              "name         3018\n",
              "singer        440\n",
              "singer_id     476\n",
              "duration      770\n",
              "link         3116\n",
              "language        1\n",
              "dtype: int64"
            ],
            "text/html": [
              "<div>\n",
              "<style scoped>\n",
              "    .dataframe tbody tr th:only-of-type {\n",
              "        vertical-align: middle;\n",
              "    }\n",
              "\n",
              "    .dataframe tbody tr th {\n",
              "        vertical-align: top;\n",
              "    }\n",
              "\n",
              "    .dataframe thead th {\n",
              "        text-align: right;\n",
              "    }\n",
              "</style>\n",
              "<table border=\"1\" class=\"dataframe\">\n",
              "  <thead>\n",
              "    <tr style=\"text-align: right;\">\n",
              "      <th></th>\n",
              "      <th>0</th>\n",
              "    </tr>\n",
              "  </thead>\n",
              "  <tbody>\n",
              "    <tr>\n",
              "      <th>name</th>\n",
              "      <td>3018</td>\n",
              "    </tr>\n",
              "    <tr>\n",
              "      <th>singer</th>\n",
              "      <td>440</td>\n",
              "    </tr>\n",
              "    <tr>\n",
              "      <th>singer_id</th>\n",
              "      <td>476</td>\n",
              "    </tr>\n",
              "    <tr>\n",
              "      <th>duration</th>\n",
              "      <td>770</td>\n",
              "    </tr>\n",
              "    <tr>\n",
              "      <th>link</th>\n",
              "      <td>3116</td>\n",
              "    </tr>\n",
              "    <tr>\n",
              "      <th>language</th>\n",
              "      <td>1</td>\n",
              "    </tr>\n",
              "  </tbody>\n",
              "</table>\n",
              "</div><br><label><b>dtype:</b> int64</label>"
            ]
          },
          "metadata": {},
          "execution_count": 70
        }
      ]
    },
    {
      "cell_type": "markdown",
      "source": [
        "## Q. Find number of values where language is Telugu"
      ],
      "metadata": {
        "id": "xgJGAWuLd5Xf"
      }
    },
    {
      "cell_type": "code",
      "source": [
        "df[df['language'] == 'Telugu']['name']"
      ],
      "metadata": {
        "colab": {
          "base_uri": "https://localhost:8080/",
          "height": 458
        },
        "id": "pQ1wFptrc5pR",
        "outputId": "93ca6492-7ca3-42aa-9788-c85b73bb6f9f"
      },
      "execution_count": null,
      "outputs": [
        {
          "output_type": "execute_result",
          "data": {
            "text/plain": [
              "33218           Induvadana\n",
              "33219        Manchu Kurise\n",
              "33220               Yureka\n",
              "33221            Keeravani\n",
              "33222         Are Emaindhi\n",
              "               ...        \n",
              "38209     Theesko Cocacola\n",
              "38210        Raama Krishna\n",
              "38211    Kala Kanda Paluku\n",
              "38212    Raave Raave Cheli\n",
              "38213       Alavatuledhani\n",
              "Name: name, Length: 4996, dtype: object"
            ],
            "text/html": [
              "<div>\n",
              "<style scoped>\n",
              "    .dataframe tbody tr th:only-of-type {\n",
              "        vertical-align: middle;\n",
              "    }\n",
              "\n",
              "    .dataframe tbody tr th {\n",
              "        vertical-align: top;\n",
              "    }\n",
              "\n",
              "    .dataframe thead th {\n",
              "        text-align: right;\n",
              "    }\n",
              "</style>\n",
              "<table border=\"1\" class=\"dataframe\">\n",
              "  <thead>\n",
              "    <tr style=\"text-align: right;\">\n",
              "      <th></th>\n",
              "      <th>name</th>\n",
              "    </tr>\n",
              "  </thead>\n",
              "  <tbody>\n",
              "    <tr>\n",
              "      <th>33218</th>\n",
              "      <td>Induvadana</td>\n",
              "    </tr>\n",
              "    <tr>\n",
              "      <th>33219</th>\n",
              "      <td>Manchu Kurise</td>\n",
              "    </tr>\n",
              "    <tr>\n",
              "      <th>33220</th>\n",
              "      <td>Yureka</td>\n",
              "    </tr>\n",
              "    <tr>\n",
              "      <th>33221</th>\n",
              "      <td>Keeravani</td>\n",
              "    </tr>\n",
              "    <tr>\n",
              "      <th>33222</th>\n",
              "      <td>Are Emaindhi</td>\n",
              "    </tr>\n",
              "    <tr>\n",
              "      <th>...</th>\n",
              "      <td>...</td>\n",
              "    </tr>\n",
              "    <tr>\n",
              "      <th>38209</th>\n",
              "      <td>Theesko Cocacola</td>\n",
              "    </tr>\n",
              "    <tr>\n",
              "      <th>38210</th>\n",
              "      <td>Raama Krishna</td>\n",
              "    </tr>\n",
              "    <tr>\n",
              "      <th>38211</th>\n",
              "      <td>Kala Kanda Paluku</td>\n",
              "    </tr>\n",
              "    <tr>\n",
              "      <th>38212</th>\n",
              "      <td>Raave Raave Cheli</td>\n",
              "    </tr>\n",
              "    <tr>\n",
              "      <th>38213</th>\n",
              "      <td>Alavatuledhani</td>\n",
              "    </tr>\n",
              "  </tbody>\n",
              "</table>\n",
              "<p>4996 rows × 1 columns</p>\n",
              "</div><br><label><b>dtype:</b> object</label>"
            ]
          },
          "metadata": {},
          "execution_count": 79
        }
      ]
    },
    {
      "cell_type": "code",
      "source": [],
      "metadata": {
        "id": "S8sFY10SfdC5"
      },
      "execution_count": null,
      "outputs": []
    }
  ],
  "metadata": {
    "colab": {
      "provenance": []
    },
    "kernelspec": {
      "display_name": "Python 3",
      "name": "python3"
    },
    "language_info": {
      "name": "python"
    }
  },
  "nbformat": 4,
  "nbformat_minor": 0
}