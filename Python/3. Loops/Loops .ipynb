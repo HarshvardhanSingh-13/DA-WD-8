{
  "nbformat": 4,
  "nbformat_minor": 0,
  "metadata": {
    "colab": {
      "provenance": []
    },
    "kernelspec": {
      "name": "python3",
      "display_name": "Python 3"
    },
    "language_info": {
      "name": "python"
    }
  },
  "cells": [
    {
      "cell_type": "markdown",
      "source": [
        "# Q. Find Compound Interest"
      ],
      "metadata": {
        "id": "Yo_EGT2L0s4Z"
      }
    },
    {
      "cell_type": "code",
      "source": [
        "p = int(input(\"Give initial principal balance\"))\n",
        "r = int(input(\"Give interest rate\"))\n",
        "t = int(input(\"Give number of time periods elapsed\"))\n",
        "n = int(input(\"Give number of times interest applied per time period\"))\n",
        "\n",
        "amount = p * ((1+r/n))**(n*t)\n",
        "print(\"Your Compound Interest value is\", amount)"
      ],
      "metadata": {
        "colab": {
          "base_uri": "https://localhost:8080/"
        },
        "id": "UVh_ekyg0saF",
        "outputId": "45565039-90b9-481a-f783-ac2516e08695"
      },
      "execution_count": null,
      "outputs": [
        {
          "output_type": "stream",
          "name": "stdout",
          "text": [
            "Give initial principal balance100\n",
            "Give interest rate5\n",
            "Give number of time periods elapsed2\n",
            "Give number of times interest applied per time period2\n",
            "Your Compound Interest value is 15006.25\n"
          ]
        }
      ]
    },
    {
      "cell_type": "markdown",
      "source": [
        "# Q. Find Volume of a Cylinder"
      ],
      "metadata": {
        "id": "-8XZzAX41roM"
      }
    },
    {
      "cell_type": "code",
      "execution_count": null,
      "metadata": {
        "colab": {
          "base_uri": "https://localhost:8080/"
        },
        "id": "yqnas0bC0maO",
        "outputId": "1d7703ab-f165-4cdf-85ea-30cf939f49a7"
      },
      "outputs": [
        {
          "output_type": "stream",
          "name": "stdout",
          "text": [
            "Give Radius7.5\n",
            "Give Height3.7\n",
            "The Volume is 653.5125\n"
          ]
        }
      ],
      "source": [
        "r = float(input(\"Give Radius\"))\n",
        "h = float(input(\"Give Height\"))\n",
        "vol = 3.14 * (r)**2 * h\n",
        "print('The Volume is', vol)"
      ]
    },
    {
      "cell_type": "markdown",
      "source": [
        "# Conditional Statements"
      ],
      "metadata": {
        "id": "wX81w_GAHXy-"
      }
    },
    {
      "cell_type": "code",
      "source": [
        "print(\"Harsh\")"
      ],
      "metadata": {
        "colab": {
          "base_uri": "https://localhost:8080/"
        },
        "id": "R_l6BefQ4bYV",
        "outputId": "cdc36a84-5997-4923-91e9-3a8c814ba083"
      },
      "execution_count": null,
      "outputs": [
        {
          "output_type": "stream",
          "name": "stdout",
          "text": [
            "Harsh\n"
          ]
        }
      ]
    },
    {
      "cell_type": "markdown",
      "source": [
        "### Find if the age is eligible for voting"
      ],
      "metadata": {
        "id": "qzz3KWhfIHOy"
      }
    },
    {
      "cell_type": "code",
      "source": [
        "age = 17\n",
        "\n",
        "if (age >= 18):\n",
        "  if (age < 100):\n",
        "    print(\"Eligible\")\n",
        "elif (age >= 0):\n",
        "  if (age < 18):\n",
        "    print(\"Minor\")\n",
        "else:\n",
        "  print(\"Invalid\")"
      ],
      "metadata": {
        "colab": {
          "base_uri": "https://localhost:8080/"
        },
        "id": "JHnhKTar4bm-",
        "outputId": "3f7b0759-5b39-4624-ed39-5e70d6f6ccfc"
      },
      "execution_count": null,
      "outputs": [
        {
          "output_type": "stream",
          "name": "stdout",
          "text": [
            "Minor\n"
          ]
        }
      ]
    },
    {
      "cell_type": "markdown",
      "source": [
        "# Q. Find if the number is even or odd"
      ],
      "metadata": {
        "id": "IA-yDZ-pQyHb"
      }
    },
    {
      "cell_type": "code",
      "source": [
        "a = int(input(\"Give Number\"))\n",
        "if (a % 2 == 0):\n",
        "  print(\"even\")\n",
        "else:\n",
        "  print(\"Odd\")"
      ],
      "metadata": {
        "colab": {
          "base_uri": "https://localhost:8080/"
        },
        "id": "WZr73d0_4cQ4",
        "outputId": "d478069c-cda9-473a-a46b-9372a66fc4f6"
      },
      "execution_count": null,
      "outputs": [
        {
          "output_type": "stream",
          "name": "stdout",
          "text": [
            "Give Number12\n",
            "even\n"
          ]
        }
      ]
    },
    {
      "cell_type": "markdown",
      "source": [
        "# Q. Find if number is +ve. If yes then find if it is even or odd else tell -ve"
      ],
      "metadata": {
        "id": "ocAany5f4v2I"
      }
    },
    {
      "cell_type": "code",
      "source": [
        "num = int(input(\"Please Give Number\"))\n",
        "if num > 0:\n",
        "  print(\"The Number is +ve\")\n",
        "  if num %2 == 0:\n",
        "    print(\"The number is even\")\n",
        "  else:\n",
        "    print(\"The number is odd\")\n",
        "else:\n",
        "  print(\"The Number is -ve\")"
      ],
      "metadata": {
        "colab": {
          "base_uri": "https://localhost:8080/"
        },
        "id": "24Fqnesu5HAW",
        "outputId": "afc53bf1-7ac5-4af1-e352-5e72b52977e6"
      },
      "execution_count": null,
      "outputs": [
        {
          "output_type": "stream",
          "name": "stdout",
          "text": [
            "Please Give Number-12\n",
            "The Number is -ve\n"
          ]
        }
      ]
    },
    {
      "cell_type": "code",
      "source": [],
      "metadata": {
        "id": "FTyMPNI4T3iy"
      },
      "execution_count": null,
      "outputs": []
    },
    {
      "cell_type": "code",
      "source": [],
      "metadata": {
        "id": "WQWQBPT9T3Nx"
      },
      "execution_count": null,
      "outputs": []
    },
    {
      "cell_type": "code",
      "source": [],
      "metadata": {
        "id": "GPcOlLO2Vb7j"
      },
      "execution_count": null,
      "outputs": []
    },
    {
      "cell_type": "code",
      "source": [],
      "metadata": {
        "id": "v5l4tmTvxcJt"
      },
      "execution_count": null,
      "outputs": []
    },
    {
      "cell_type": "code",
      "source": [],
      "metadata": {
        "id": "9sIsxfr1xcCF"
      },
      "execution_count": null,
      "outputs": []
    },
    {
      "cell_type": "code",
      "source": [],
      "metadata": {
        "id": "T-G47_vcxbx4"
      },
      "execution_count": null,
      "outputs": []
    },
    {
      "cell_type": "markdown",
      "source": [
        "# Q. Determine a person's stage of life (child, teen, adult, senior) based on age."
      ],
      "metadata": {
        "id": "bNW7FwksskZ0"
      }
    },
    {
      "cell_type": "code",
      "source": [
        "## child - 0 to 12\n",
        "## teen - 13 to 17\n",
        "## adult - 18 to 60\n",
        "## senior - 60+"
      ],
      "metadata": {
        "id": "jK8Kw03CVbvJ"
      },
      "execution_count": null,
      "outputs": []
    },
    {
      "cell_type": "code",
      "source": [
        "age = int(input(\"Give Age\"))\n",
        "if (age > 60):\n",
        "  print(\"Senior\")\n",
        "elif (age >= 18):\n",
        "  print(\"Adult\")\n",
        "elif (age >= 13):\n",
        "  print(\"Teen\")\n",
        "elif (age >= 0):\n",
        "  print(\"child\")"
      ],
      "metadata": {
        "colab": {
          "base_uri": "https://localhost:8080/"
        },
        "id": "0DAoDU3d16Kw",
        "outputId": "d7f5b0f3-6620-41e2-80a5-fef70886e8d4"
      },
      "execution_count": null,
      "outputs": [
        {
          "output_type": "stream",
          "name": "stdout",
          "text": [
            "Give Age1\n",
            "child\n"
          ]
        }
      ]
    },
    {
      "cell_type": "code",
      "source": [
        "age = int(input(\"Give Age\"))\n",
        "if (age > 0):\n",
        "  print(\"Child\")\n",
        "elif (age >= 13):\n",
        "  print(\"Teen\")\n",
        "elif (age >= 18):\n",
        "  print(\"Adult\")\n",
        "elif (age >= 60):\n",
        "  print(\"Senior\")"
      ],
      "metadata": {
        "colab": {
          "base_uri": "https://localhost:8080/"
        },
        "id": "PPFT402X16DB",
        "outputId": "5bd5cd3d-ad3b-4114-cac5-9847c5f49035"
      },
      "execution_count": null,
      "outputs": [
        {
          "output_type": "stream",
          "name": "stdout",
          "text": [
            "Give Age60\n",
            "Child\n"
          ]
        }
      ]
    },
    {
      "cell_type": "code",
      "source": [],
      "metadata": {
        "id": "TgdDutXnCrj_"
      },
      "execution_count": null,
      "outputs": []
    },
    {
      "cell_type": "code",
      "source": [],
      "metadata": {
        "id": "Czb3o-EnCrce"
      },
      "execution_count": null,
      "outputs": []
    },
    {
      "cell_type": "code",
      "source": [],
      "metadata": {
        "id": "eoHTuWO815xL"
      },
      "execution_count": null,
      "outputs": []
    },
    {
      "cell_type": "markdown",
      "source": [
        "# Q. Create a simple Calculator"
      ],
      "metadata": {
        "id": "r1dM_7tB5IqE"
      }
    },
    {
      "cell_type": "code",
      "source": [
        "num1 = int(input(\"Give num 1 \"))\n",
        "num2 = int(input(\"Give num 2 \"))\n",
        "oper = input(\"Pick one (+,-,*,/)\")\n",
        "\n",
        "if (oper == \"+\"):\n",
        "  print(num1 + num2)\n",
        "elif (oper == \"-\"):\n",
        "  print(num1 - num2)\n",
        "elif (oper == \"*\"):\n",
        "  print(num1 * num2)\n",
        "elif (oper == \"/\"):\n",
        "  if (num2 == 0):\n",
        "    print(\"Invalid Operation\")\n",
        "  else:\n",
        "    print(num1 /num2)"
      ],
      "metadata": {
        "colab": {
          "base_uri": "https://localhost:8080/"
        },
        "id": "2ecKbTFC6cif",
        "outputId": "ee3a356e-ecd6-436d-dc2d-224890b752f5"
      },
      "execution_count": null,
      "outputs": [
        {
          "output_type": "stream",
          "name": "stdout",
          "text": [
            "Give num 1 12\n",
            "Give num 2 0\n",
            "Pick one (+,-,*,/)/\n",
            "Invalid Operation\n"
          ]
        }
      ]
    },
    {
      "cell_type": "code",
      "source": [],
      "metadata": {
        "id": "66v4FHr_6cf-"
      },
      "execution_count": null,
      "outputs": []
    },
    {
      "cell_type": "code",
      "source": [],
      "metadata": {
        "id": "TlHlZiDn6cdl"
      },
      "execution_count": null,
      "outputs": []
    },
    {
      "cell_type": "code",
      "source": [],
      "metadata": {
        "id": "jyH7Dq_N6cWM"
      },
      "execution_count": null,
      "outputs": []
    },
    {
      "cell_type": "code",
      "source": [],
      "metadata": {
        "id": "4jXypcJl5LTr"
      },
      "execution_count": null,
      "outputs": []
    },
    {
      "cell_type": "markdown",
      "source": [
        "# Q. A simple user login system that checks the username and password."
      ],
      "metadata": {
        "id": "q9g6RvCo5OO8"
      }
    },
    {
      "cell_type": "code",
      "source": [
        "stored_user = \"user@123\"\n",
        "stored_pass = 'abc123'\n",
        "\n",
        "user_name = input(\"GIve Username\")\n",
        "passw = input(\"GIve pass\")\n",
        "\n",
        "\n",
        "if (user_name == stored_user):\n",
        "  if (passw == stored_pass):\n",
        "    print(\"Login Successful\")\n",
        "  else:\n",
        "    print(\"Invalid Password\")\n",
        "else:\n",
        "  print(\"Invalid Username\")"
      ],
      "metadata": {
        "id": "e1fi2zjC5PhR",
        "colab": {
          "base_uri": "https://localhost:8080/"
        },
        "outputId": "8eba4510-8703-43af-d5fe-4318d189280d"
      },
      "execution_count": null,
      "outputs": [
        {
          "output_type": "stream",
          "name": "stdout",
          "text": [
            "GIve Usernameas\n",
            "GIve passas\n",
            "Invalid Username\n"
          ]
        }
      ]
    },
    {
      "cell_type": "code",
      "source": [],
      "metadata": {
        "id": "0rVBAkZh6_64"
      },
      "execution_count": null,
      "outputs": []
    },
    {
      "cell_type": "code",
      "source": [],
      "metadata": {
        "id": "NqHrkeJn6_05"
      },
      "execution_count": null,
      "outputs": []
    },
    {
      "cell_type": "code",
      "source": [],
      "metadata": {
        "id": "K_3E2m4h6_yg"
      },
      "execution_count": null,
      "outputs": []
    },
    {
      "cell_type": "code",
      "source": [],
      "metadata": {
        "id": "4pkl2Lbp6_wV"
      },
      "execution_count": null,
      "outputs": []
    },
    {
      "cell_type": "code",
      "source": [],
      "metadata": {
        "id": "t8CTMTU66_uK"
      },
      "execution_count": null,
      "outputs": []
    },
    {
      "cell_type": "markdown",
      "source": [
        "# Q. Report Card Generator"
      ],
      "metadata": {
        "id": "X97IimIL5RlT"
      }
    },
    {
      "cell_type": "code",
      "source": [
        "## 100 - 91 -> A\n",
        "## 81 - 90 -> B\n",
        "## 71 - 80 -> C\n",
        "## 61 - 70 -> D\n",
        "## 51 - 60 -> E\n",
        "## Else Fail\n",
        "\n",
        "marks = int(input(\"Give Your marks\"))\n",
        "\n",
        "if (marks >= 91):\n",
        "  print(\"Your grade is A\")\n",
        "elif (marks >= 81):\n",
        "  print(\"Your grade is B\")\n",
        "elif (marks >= 71):\n",
        "  print(\"Your grade is C\")\n",
        "elif (marks >= 61):\n",
        "  print(\"Your grade is D\")\n",
        "elif (marks >= 51):\n",
        "  print(\"Your grade is E\")\n",
        "else:\n",
        "  print(\"You Failed\")"
      ],
      "metadata": {
        "id": "4giYkFou5S_o",
        "colab": {
          "base_uri": "https://localhost:8080/"
        },
        "outputId": "f5bcfbe9-fef4-4f6f-b645-92c66448052b"
      },
      "execution_count": null,
      "outputs": [
        {
          "output_type": "stream",
          "name": "stdout",
          "text": [
            "Give Your marks51\n",
            "Your grade is E\n"
          ]
        }
      ]
    },
    {
      "cell_type": "code",
      "source": [],
      "metadata": {
        "id": "f515ediN9-hf"
      },
      "execution_count": null,
      "outputs": []
    },
    {
      "cell_type": "code",
      "source": [],
      "metadata": {
        "id": "U2ZfeEs99-fv"
      },
      "execution_count": null,
      "outputs": []
    },
    {
      "cell_type": "code",
      "source": [],
      "metadata": {
        "id": "5cV91hX79-dS"
      },
      "execution_count": null,
      "outputs": []
    },
    {
      "cell_type": "code",
      "source": [],
      "metadata": {
        "id": "2C-S30I-9-bG"
      },
      "execution_count": null,
      "outputs": []
    },
    {
      "cell_type": "code",
      "source": [],
      "metadata": {
        "id": "x94pOBq59-Xq"
      },
      "execution_count": null,
      "outputs": []
    },
    {
      "cell_type": "code",
      "source": [],
      "metadata": {
        "id": "tTiXTaqy9-Us"
      },
      "execution_count": null,
      "outputs": []
    },
    {
      "cell_type": "markdown",
      "source": [
        "# Q. Calculate an employee's bonus based on their performance rating and years of service."
      ],
      "metadata": {
        "id": "tCuaN0wU5Yjx"
      }
    },
    {
      "cell_type": "code",
      "source": [
        "## Take salary\n",
        "## Take years of Experince\n",
        "## Take your rating\n",
        "\n",
        "## rating > 4.5\n",
        "  ## yrs > 10\n",
        "    ## 20%\n",
        "  ## yrs > 5\n",
        "    ## 10%\n",
        "## rating > 3.5\n",
        "  ## yrs > 10\n",
        "    ## 10%\n",
        "  ## yrs > 5\n",
        "    ## 5%\n",
        "## else no bonus"
      ],
      "metadata": {
        "id": "rJIsR_D-5aHO"
      },
      "execution_count": null,
      "outputs": []
    },
    {
      "cell_type": "code",
      "source": [
        "salary = int(input(\"Give Salary\"))\n",
        "yrs = int(input(\"Give Years of Experience\"))\n",
        "rating = float(input(\"Give Rating\"))\n",
        "\n",
        "if rating > 4.5:\n",
        "  if yrs >= 10:\n",
        "    bonus = 20\n",
        "  elif yrs > 5:\n",
        "    bonus = 10\n",
        "elif rating > 3.5:\n",
        "  if yrs >= 10:\n",
        "    bonus = 10\n",
        "  elif yrs > 5:\n",
        "    bonus = 5\n",
        "else:\n",
        "  bonus = 0\n",
        "\n",
        "final_salary = (salary + ((bonus/100)*salary))\n",
        "print(\"HI your bonus % is\",bonus, \"Your FInal Salary is\", final_salary)"
      ],
      "metadata": {
        "colab": {
          "base_uri": "https://localhost:8080/"
        },
        "id": "2vakJLCWydZm",
        "outputId": "388571af-7485-41bc-bba3-6e53e827da66"
      },
      "execution_count": null,
      "outputs": [
        {
          "output_type": "stream",
          "name": "stdout",
          "text": [
            "Give Salary20000\n",
            "Give Years of Experience11\n",
            "Give Rating4.6\n",
            "HI your bonus % is 20 Your FInal Salary is 24000.0\n"
          ]
        }
      ]
    },
    {
      "cell_type": "markdown",
      "source": [
        "# Loops"
      ],
      "metadata": {
        "id": "t5c82cab_7du"
      }
    },
    {
      "cell_type": "code",
      "source": [
        "range(10)"
      ],
      "metadata": {
        "colab": {
          "base_uri": "https://localhost:8080/"
        },
        "id": "-rUmF45sydXe",
        "outputId": "ae5ce7a4-7a29-4d96-84a0-aba9d7dafed9"
      },
      "execution_count": null,
      "outputs": [
        {
          "output_type": "execute_result",
          "data": {
            "text/plain": [
              "range(0, 10)"
            ]
          },
          "metadata": {},
          "execution_count": 4
        }
      ]
    },
    {
      "cell_type": "code",
      "source": [
        "for i in range(1,11,2):\n",
        "  print(i)"
      ],
      "metadata": {
        "colab": {
          "base_uri": "https://localhost:8080/"
        },
        "id": "1S_Y07DLydVH",
        "outputId": "6d9e12a3-b4e3-4704-c440-ee564de81dec"
      },
      "execution_count": null,
      "outputs": [
        {
          "output_type": "stream",
          "name": "stdout",
          "text": [
            "1\n",
            "3\n",
            "5\n",
            "7\n",
            "9\n"
          ]
        }
      ]
    },
    {
      "cell_type": "code",
      "source": [
        "for i in range(5,51,5):\n",
        "  print(i)"
      ],
      "metadata": {
        "colab": {
          "base_uri": "https://localhost:8080/"
        },
        "id": "r5vn525TydTE",
        "outputId": "c1a2eef6-b27a-47cd-ba2d-8ec56c5201b9"
      },
      "execution_count": null,
      "outputs": [
        {
          "output_type": "stream",
          "name": "stdout",
          "text": [
            "5\n",
            "10\n",
            "15\n",
            "20\n",
            "25\n",
            "30\n",
            "35\n",
            "40\n",
            "45\n",
            "50\n"
          ]
        }
      ]
    },
    {
      "cell_type": "code",
      "source": [
        "num = 5\n",
        "\n",
        "for i in range(num,(num*10)+1,num):\n",
        "  print(i)\n"
      ],
      "metadata": {
        "colab": {
          "base_uri": "https://localhost:8080/"
        },
        "id": "lK4oDGaWydQ5",
        "outputId": "93ce5442-d756-4eb1-b66b-7055f3203453"
      },
      "execution_count": null,
      "outputs": [
        {
          "output_type": "stream",
          "name": "stdout",
          "text": [
            "5\n",
            "10\n",
            "15\n",
            "20\n",
            "25\n",
            "30\n",
            "35\n",
            "40\n",
            "45\n",
            "50\n"
          ]
        }
      ]
    },
    {
      "cell_type": "code",
      "source": [
        "for i in range(50,1,-5):\n",
        "  print(i)"
      ],
      "metadata": {
        "id": "-3y6M5iaydOX"
      },
      "execution_count": null,
      "outputs": []
    },
    {
      "cell_type": "code",
      "source": [
        "num = 2\n",
        "\n",
        "for i in range(num*10,num-1,-num):\n",
        "  print(i)"
      ],
      "metadata": {
        "colab": {
          "base_uri": "https://localhost:8080/"
        },
        "id": "2o9DKeuGydLa",
        "outputId": "7275d8c8-e3d9-4067-fb98-178c22fbbc6b"
      },
      "execution_count": null,
      "outputs": [
        {
          "output_type": "stream",
          "name": "stdout",
          "text": [
            "20\n",
            "18\n",
            "16\n",
            "14\n",
            "12\n",
            "10\n",
            "8\n",
            "6\n",
            "4\n",
            "2\n"
          ]
        }
      ]
    },
    {
      "cell_type": "code",
      "source": [],
      "metadata": {
        "id": "gZznDGbBydJH"
      },
      "execution_count": null,
      "outputs": []
    },
    {
      "cell_type": "code",
      "source": [],
      "metadata": {
        "id": "gwbXaoL_DbiS"
      },
      "execution_count": null,
      "outputs": []
    },
    {
      "cell_type": "code",
      "source": [],
      "metadata": {
        "id": "EQVjnUamDbgP"
      },
      "execution_count": null,
      "outputs": []
    },
    {
      "cell_type": "code",
      "source": [],
      "metadata": {
        "id": "mNNYhvcrDbaC"
      },
      "execution_count": null,
      "outputs": []
    },
    {
      "cell_type": "code",
      "source": [],
      "metadata": {
        "id": "3irc4YkWDbX2"
      },
      "execution_count": null,
      "outputs": []
    },
    {
      "cell_type": "markdown",
      "source": [
        "# Q. Find numbers between 1 to 100 and are divisible by both 3 and 5"
      ],
      "metadata": {
        "id": "mMR6lzkGyeKC"
      }
    },
    {
      "cell_type": "code",
      "source": [
        "for i in range(1,101):\n",
        "  if (i%3==0 and i%5 == 0):\n",
        "    print(i)\n"
      ],
      "metadata": {
        "colab": {
          "base_uri": "https://localhost:8080/"
        },
        "id": "cLtVxTt0ydGh",
        "outputId": "d6436b8b-e914-4f3b-85ce-3cf29730e826"
      },
      "execution_count": null,
      "outputs": [
        {
          "output_type": "stream",
          "name": "stdout",
          "text": [
            "15\n",
            "30\n",
            "45\n",
            "60\n",
            "75\n",
            "90\n"
          ]
        }
      ]
    },
    {
      "cell_type": "code",
      "source": [],
      "metadata": {
        "id": "sqPB2imZIu1X"
      },
      "execution_count": null,
      "outputs": []
    },
    {
      "cell_type": "code",
      "source": [],
      "metadata": {
        "id": "4q4PEN6tItms"
      },
      "execution_count": null,
      "outputs": []
    },
    {
      "cell_type": "code",
      "source": [],
      "metadata": {
        "id": "FHRkozsmIti2"
      },
      "execution_count": null,
      "outputs": []
    },
    {
      "cell_type": "code",
      "source": [],
      "metadata": {
        "id": "zjhhbPizItac"
      },
      "execution_count": null,
      "outputs": []
    },
    {
      "cell_type": "code",
      "source": [],
      "metadata": {
        "id": "qlOudrZfItIl"
      },
      "execution_count": null,
      "outputs": []
    },
    {
      "cell_type": "markdown",
      "source": [
        "# Q. Count the numbers between 1 to 100 and are divisible by both 3 and 5"
      ],
      "metadata": {
        "id": "yR6Z67poys8b"
      }
    },
    {
      "cell_type": "code",
      "source": [
        "counter = 0\n",
        "\n",
        "for i in range(1,101):\n",
        "  if (i%3 == 0 and i%5 == 0):\n",
        "    # print(i)\n",
        "    counter = counter + 1\n",
        "\n",
        "print(\"The counter value is\",counter)"
      ],
      "metadata": {
        "colab": {
          "base_uri": "https://localhost:8080/"
        },
        "id": "i2cVcSXPKYur",
        "outputId": "ce638583-e9d2-4e26-866c-fc10772bd28f"
      },
      "execution_count": null,
      "outputs": [
        {
          "output_type": "stream",
          "name": "stdout",
          "text": [
            "15\n",
            "30\n",
            "45\n",
            "60\n",
            "75\n",
            "90\n",
            "The counter value is 1\n"
          ]
        }
      ]
    },
    {
      "cell_type": "code",
      "source": [],
      "metadata": {
        "id": "R7TD6NVYKYeI"
      },
      "execution_count": null,
      "outputs": []
    },
    {
      "cell_type": "markdown",
      "source": [
        "# Q. FInd the sum of first N natural numbers"
      ],
      "metadata": {
        "id": "OjsOx2yhNt0L"
      }
    },
    {
      "cell_type": "code",
      "source": [
        "N = 20\n",
        "counter = 0\n",
        "\n",
        "for i in range(1,N+1):\n",
        "  counter = counter + i\n",
        "\n",
        "print(counter)"
      ],
      "metadata": {
        "colab": {
          "base_uri": "https://localhost:8080/"
        },
        "id": "USEz_F61NtUL",
        "outputId": "dfc59bb1-1d29-436f-909d-19986aea36ab"
      },
      "execution_count": null,
      "outputs": [
        {
          "output_type": "stream",
          "name": "stdout",
          "text": [
            "210\n"
          ]
        }
      ]
    },
    {
      "cell_type": "code",
      "source": [],
      "metadata": {
        "id": "bXwn_qVzKYa9"
      },
      "execution_count": null,
      "outputs": []
    },
    {
      "cell_type": "code",
      "source": [],
      "metadata": {
        "id": "bVJaHRSoKXr0"
      },
      "execution_count": null,
      "outputs": []
    },
    {
      "cell_type": "code",
      "source": [],
      "metadata": {
        "id": "siILrANbKXo4"
      },
      "execution_count": null,
      "outputs": []
    },
    {
      "cell_type": "code",
      "source": [],
      "metadata": {
        "id": "xUIxzUfPKXhe"
      },
      "execution_count": null,
      "outputs": []
    },
    {
      "cell_type": "code",
      "source": [],
      "metadata": {
        "id": "elxSNYSOyvf8"
      },
      "execution_count": null,
      "outputs": []
    },
    {
      "cell_type": "markdown",
      "source": [
        "# Q. Find First 10 number between 1 and 10,000 those who are divisible by 3, 5 and 7"
      ],
      "metadata": {
        "id": "cBj36MR3zjX2"
      }
    },
    {
      "cell_type": "code",
      "source": [
        "counter = 0\n",
        "\n",
        "for i in range(1,10000):\n",
        "  if (i%3 == 0 and i%5 == 0 and i%7 == 0):\n",
        "    counter += 1\n",
        "    print(i)\n",
        "\n",
        "  if (counter == 10):\n",
        "    break\n",
        "\n",
        "print(counter)"
      ],
      "metadata": {
        "colab": {
          "base_uri": "https://localhost:8080/"
        },
        "id": "l8EDYEnBP-CB",
        "outputId": "0720e8b2-5d05-4ffa-a0a9-854fa23adab9"
      },
      "execution_count": null,
      "outputs": [
        {
          "output_type": "stream",
          "name": "stdout",
          "text": [
            "0\n"
          ]
        }
      ]
    },
    {
      "cell_type": "code",
      "source": [
        "for i in \"Harsh\":\n",
        "  print(i)"
      ],
      "metadata": {
        "colab": {
          "base_uri": "https://localhost:8080/"
        },
        "id": "XVVO1qTkP9-4",
        "outputId": "720abf04-beeb-4d35-8c8f-f7af3a206e23"
      },
      "execution_count": null,
      "outputs": [
        {
          "output_type": "stream",
          "name": "stdout",
          "text": [
            "H\n",
            "a\n",
            "r\n",
            "s\n",
            "h\n"
          ]
        }
      ]
    },
    {
      "cell_type": "code",
      "source": [
        "for i in \"Harshvardhan Singh\":\n",
        "  print(i)"
      ],
      "metadata": {
        "colab": {
          "base_uri": "https://localhost:8080/"
        },
        "id": "REDMnAslDvCF",
        "outputId": "e6deee0d-d254-49aa-e9b0-7a326847b0ae"
      },
      "execution_count": null,
      "outputs": [
        {
          "output_type": "stream",
          "name": "stdout",
          "text": [
            "H\n",
            "a\n",
            "r\n",
            "s\n",
            "h\n",
            "v\n",
            "a\n",
            "r\n",
            "d\n",
            "h\n",
            "a\n",
            "n\n",
            " \n",
            "S\n",
            "i\n",
            "n\n",
            "g\n",
            "h\n"
          ]
        }
      ]
    },
    {
      "cell_type": "code",
      "source": [],
      "metadata": {
        "id": "NqySFAh2P8B2"
      },
      "execution_count": null,
      "outputs": []
    },
    {
      "cell_type": "code",
      "source": [],
      "metadata": {
        "id": "rsRHG7tOzi86"
      },
      "execution_count": null,
      "outputs": []
    },
    {
      "cell_type": "markdown",
      "source": [
        "# Q. Print only the vowels from a given string using a for loop."
      ],
      "metadata": {
        "id": "qCqpKXR22XkE"
      }
    },
    {
      "cell_type": "code",
      "source": [
        "s = input(\"Give Name\")\n",
        "v = 'aeiouAEIOU'\n",
        "c = 0\n",
        "\n",
        "for i in s:\n",
        "  if i in v:\n",
        "    c += 1\n",
        "\n",
        "print(c)"
      ],
      "metadata": {
        "colab": {
          "base_uri": "https://localhost:8080/"
        },
        "id": "L_5YX8wuFRSG",
        "outputId": "6faa71a5-886b-4113-aa75-89b97810443a"
      },
      "execution_count": null,
      "outputs": [
        {
          "output_type": "stream",
          "name": "stdout",
          "text": [
            "Give NameHarshvardhan\n",
            "3\n"
          ]
        }
      ]
    },
    {
      "cell_type": "code",
      "source": [],
      "metadata": {
        "id": "Bu6ctyH6FTug"
      },
      "execution_count": null,
      "outputs": []
    },
    {
      "cell_type": "code",
      "source": [],
      "metadata": {
        "id": "LAQdHmGAFTrs"
      },
      "execution_count": null,
      "outputs": []
    },
    {
      "cell_type": "code",
      "source": [],
      "metadata": {
        "id": "Q2p4NDIMFToa"
      },
      "execution_count": null,
      "outputs": []
    },
    {
      "cell_type": "code",
      "source": [],
      "metadata": {
        "id": "R1Ca6hmjFTlX"
      },
      "execution_count": null,
      "outputs": []
    },
    {
      "cell_type": "code",
      "source": [],
      "metadata": {
        "id": "_Zk812FwFTgB"
      },
      "execution_count": null,
      "outputs": []
    },
    {
      "cell_type": "code",
      "source": [],
      "metadata": {
        "id": "v6Vh5_wXFTc-"
      },
      "execution_count": null,
      "outputs": []
    },
    {
      "cell_type": "markdown",
      "source": [
        "# Pattern Printing"
      ],
      "metadata": {
        "id": "BZSJIdyC1GEH"
      }
    },
    {
      "cell_type": "code",
      "source": [
        "num = 5\n",
        "\n",
        "for i in range(1,num+1):\n",
        "  print(\"* \"*i)"
      ],
      "metadata": {
        "colab": {
          "base_uri": "https://localhost:8080/"
        },
        "id": "_UxEBc3KI3vH",
        "outputId": "d82c7dd7-ec04-4394-da27-6d8fc1a57878"
      },
      "execution_count": null,
      "outputs": [
        {
          "output_type": "stream",
          "name": "stdout",
          "text": [
            "* \n",
            "* * \n",
            "* * * \n",
            "* * * * \n",
            "* * * * * \n"
          ]
        }
      ]
    },
    {
      "cell_type": "code",
      "source": [
        "num = 5\n",
        "\n",
        "for i in range(num,0,-1):\n",
        "  print(\"* \"*i)"
      ],
      "metadata": {
        "colab": {
          "base_uri": "https://localhost:8080/"
        },
        "id": "SqZA4BDxJmtE",
        "outputId": "8e30c9f1-349a-444b-ecdb-add5fc5cd4d9"
      },
      "execution_count": null,
      "outputs": [
        {
          "output_type": "stream",
          "name": "stdout",
          "text": [
            "* * * * * \n",
            "* * * * \n",
            "* * * \n",
            "* * \n",
            "* \n"
          ]
        }
      ]
    },
    {
      "cell_type": "code",
      "source": [
        "num = 5\n",
        "\n",
        "for i in range(1,num+1):\n",
        "  print(\"* \"*i)\n",
        "\n",
        "for i in range(num,0,-1):\n",
        "  print(\"* \"*i)"
      ],
      "metadata": {
        "colab": {
          "base_uri": "https://localhost:8080/"
        },
        "id": "3ctsPe7sMp5K",
        "outputId": "61d7661e-3b52-454e-c586-d4fea5926f95"
      },
      "execution_count": null,
      "outputs": [
        {
          "output_type": "stream",
          "name": "stdout",
          "text": [
            "* \n",
            "* * \n",
            "* * * \n",
            "* * * * \n",
            "* * * * * \n",
            "* * * * * \n",
            "* * * * \n",
            "* * * \n",
            "* * \n",
            "* \n"
          ]
        }
      ]
    },
    {
      "cell_type": "code",
      "source": [
        "num = 5\n",
        "\n",
        "for i in range(1, num+1):\n",
        "  print(\"* \"*num)"
      ],
      "metadata": {
        "colab": {
          "base_uri": "https://localhost:8080/"
        },
        "id": "JiaAVh0eKeXY",
        "outputId": "de7f8ccd-63f9-4414-af7a-a1377a15b048"
      },
      "execution_count": null,
      "outputs": [
        {
          "output_type": "stream",
          "name": "stdout",
          "text": [
            "* * * * * \n",
            "* * * * * \n",
            "* * * * * \n",
            "* * * * * \n",
            "* * * * * \n"
          ]
        }
      ]
    },
    {
      "cell_type": "code",
      "source": [],
      "metadata": {
        "id": "Cl5j-46FMm5o"
      },
      "execution_count": null,
      "outputs": []
    },
    {
      "cell_type": "markdown",
      "source": [
        "******\n",
        "*    *\n",
        "*    *\n",
        "*    *\n",
        "*    *\n",
        "******"
      ],
      "metadata": {
        "id": "K_uRqrYkL1wE"
      }
    },
    {
      "cell_type": "code",
      "source": [
        "num = 10\n",
        "\n",
        "print(\"A \"*num)\n",
        "\n",
        "for i in range(num-2):\n",
        "  print(\"| \"+\"  \"*(num-2)+\"|\")\n",
        "\n",
        "print(\"A \"*num)"
      ],
      "metadata": {
        "colab": {
          "base_uri": "https://localhost:8080/"
        },
        "id": "v_OhZI6pOEUM",
        "outputId": "38a4bd87-f19f-45c9-a1b3-f40188673130"
      },
      "execution_count": null,
      "outputs": [
        {
          "output_type": "stream",
          "name": "stdout",
          "text": [
            "A A A A A A A A A A \n",
            "|                 |\n",
            "|                 |\n",
            "|                 |\n",
            "|                 |\n",
            "|                 |\n",
            "|                 |\n",
            "|                 |\n",
            "|                 |\n",
            "A A A A A A A A A A \n"
          ]
        }
      ]
    },
    {
      "cell_type": "markdown",
      "source": [
        "*\n",
        "**\n",
        "* *\n",
        "*  *\n",
        "*   *\n",
        "******"
      ],
      "metadata": {
        "id": "7sgpRN0mR6mg"
      }
    },
    {
      "cell_type": "code",
      "source": [
        "num = 10\n",
        "\n",
        "print(\"*\"*1)\n",
        "\n",
        "for i in range(1, num - 2):\n",
        "    print(\"*\" + \" \" * i + \"*\")\n",
        "\n",
        "print(\"*\"*num)"
      ],
      "metadata": {
        "colab": {
          "base_uri": "https://localhost:8080/"
        },
        "id": "ZQhp5eYZQoJb",
        "outputId": "33007d46-670a-4076-9cd3-b144b878e0c6"
      },
      "execution_count": null,
      "outputs": [
        {
          "output_type": "stream",
          "name": "stdout",
          "text": [
            "*\n",
            "* *\n",
            "*  *\n",
            "*   *\n",
            "*    *\n",
            "*     *\n",
            "*      *\n",
            "*       *\n",
            "**********\n"
          ]
        }
      ]
    },
    {
      "cell_type": "markdown",
      "source": [
        "### Prime Numbers"
      ],
      "metadata": {
        "id": "MECLpFiVVTGn"
      }
    },
    {
      "cell_type": "code",
      "source": [
        "n = 324235325\n",
        "counter = 0\n",
        "\n",
        "for i in range(1,n+1):\n",
        "  if n%i == 0:\n",
        "    counter += 1\n",
        "\n",
        "if counter == 2:\n",
        "  print(\"Prime\")\n",
        "else:\n",
        "  print(\"Not Prime\")"
      ],
      "metadata": {
        "colab": {
          "base_uri": "https://localhost:8080/"
        },
        "id": "yImyr8kbU2yg",
        "outputId": "5f349be4-94e4-47a0-ad48-13796f196978"
      },
      "execution_count": null,
      "outputs": [
        {
          "output_type": "stream",
          "name": "stdout",
          "text": [
            "Not Prime\n"
          ]
        }
      ]
    }
  ]
}