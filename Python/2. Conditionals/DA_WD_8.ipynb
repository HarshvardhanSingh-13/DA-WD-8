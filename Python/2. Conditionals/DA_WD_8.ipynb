{
  "nbformat": 4,
  "nbformat_minor": 0,
  "metadata": {
    "colab": {
      "provenance": []
    },
    "kernelspec": {
      "name": "python3",
      "display_name": "Python 3"
    },
    "language_info": {
      "name": "python"
    }
  },
  "cells": [
    {
      "cell_type": "markdown",
      "source": [
        "# Q. Find Compound Interest"
      ],
      "metadata": {
        "id": "Yo_EGT2L0s4Z"
      }
    },
    {
      "cell_type": "code",
      "source": [
        "p = int(input(\"Give initial principal balance\"))\n",
        "r = int(input(\"Give interest rate\"))\n",
        "t = int(input(\"Give number of time periods elapsed\"))\n",
        "n = int(input(\"Give number of times interest applied per time period\"))\n",
        "\n",
        "amount = p * ((1+r/n))**(n*t)\n",
        "print(\"Your Compound Interest value is\", amount)"
      ],
      "metadata": {
        "colab": {
          "base_uri": "https://localhost:8080/"
        },
        "id": "UVh_ekyg0saF",
        "outputId": "45565039-90b9-481a-f783-ac2516e08695"
      },
      "execution_count": null,
      "outputs": [
        {
          "output_type": "stream",
          "name": "stdout",
          "text": [
            "Give initial principal balance100\n",
            "Give interest rate5\n",
            "Give number of time periods elapsed2\n",
            "Give number of times interest applied per time period2\n",
            "Your Compound Interest value is 15006.25\n"
          ]
        }
      ]
    },
    {
      "cell_type": "markdown",
      "source": [
        "# Q. Find Volume of a Cylinder"
      ],
      "metadata": {
        "id": "-8XZzAX41roM"
      }
    },
    {
      "cell_type": "code",
      "execution_count": null,
      "metadata": {
        "colab": {
          "base_uri": "https://localhost:8080/"
        },
        "id": "yqnas0bC0maO",
        "outputId": "1d7703ab-f165-4cdf-85ea-30cf939f49a7"
      },
      "outputs": [
        {
          "output_type": "stream",
          "name": "stdout",
          "text": [
            "Give Radius7.5\n",
            "Give Height3.7\n",
            "The Volume is 653.5125\n"
          ]
        }
      ],
      "source": [
        "r = float(input(\"Give Radius\"))\n",
        "h = float(input(\"Give Height\"))\n",
        "vol = 3.14 * (r)**2 * h\n",
        "print('The Volume is', vol)"
      ]
    },
    {
      "cell_type": "markdown",
      "source": [
        "# Conditional Statements"
      ],
      "metadata": {
        "id": "wX81w_GAHXy-"
      }
    },
    {
      "cell_type": "code",
      "source": [
        "print(\"Harsh\")"
      ],
      "metadata": {
        "colab": {
          "base_uri": "https://localhost:8080/"
        },
        "id": "R_l6BefQ4bYV",
        "outputId": "cdc36a84-5997-4923-91e9-3a8c814ba083"
      },
      "execution_count": null,
      "outputs": [
        {
          "output_type": "stream",
          "name": "stdout",
          "text": [
            "Harsh\n"
          ]
        }
      ]
    },
    {
      "cell_type": "markdown",
      "source": [
        "### Find if the age is eligible for voting"
      ],
      "metadata": {
        "id": "qzz3KWhfIHOy"
      }
    },
    {
      "cell_type": "code",
      "source": [
        "age = 17\n",
        "\n",
        "if (age >= 18):\n",
        "  if (age < 100):\n",
        "    print(\"Eligible\")\n",
        "elif (age >= 0):\n",
        "  if (age < 18):\n",
        "    print(\"Minor\")\n",
        "else:\n",
        "  print(\"Invalid\")"
      ],
      "metadata": {
        "colab": {
          "base_uri": "https://localhost:8080/"
        },
        "id": "JHnhKTar4bm-",
        "outputId": "3f7b0759-5b39-4624-ed39-5e70d6f6ccfc"
      },
      "execution_count": null,
      "outputs": [
        {
          "output_type": "stream",
          "name": "stdout",
          "text": [
            "Minor\n"
          ]
        }
      ]
    },
    {
      "cell_type": "markdown",
      "source": [
        "# Q. Find if the number is even or odd"
      ],
      "metadata": {
        "id": "IA-yDZ-pQyHb"
      }
    },
    {
      "cell_type": "code",
      "source": [
        "a = int(input(\"Give Number\"))\n",
        "if (a % 2 == 0):\n",
        "  print(\"even\")\n",
        "else:\n",
        "  print(\"Odd\")"
      ],
      "metadata": {
        "colab": {
          "base_uri": "https://localhost:8080/"
        },
        "id": "WZr73d0_4cQ4",
        "outputId": "d478069c-cda9-473a-a46b-9372a66fc4f6"
      },
      "execution_count": null,
      "outputs": [
        {
          "output_type": "stream",
          "name": "stdout",
          "text": [
            "Give Number12\n",
            "even\n"
          ]
        }
      ]
    },
    {
      "cell_type": "markdown",
      "source": [
        "# Q. Find if number is +ve. If yes then find if it is even or odd else tell -ve"
      ],
      "metadata": {
        "id": "ocAany5f4v2I"
      }
    },
    {
      "cell_type": "code",
      "source": [
        "num = int(input(\"Please Give Number\"))\n",
        "if num > 0:\n",
        "  print(\"The Number is +ve\")\n",
        "  if num %2 == 0:\n",
        "    print(\"The number is even\")\n",
        "  else:\n",
        "    print(\"The number is odd\")\n",
        "else:\n",
        "  print(\"The Number is -ve\")"
      ],
      "metadata": {
        "colab": {
          "base_uri": "https://localhost:8080/"
        },
        "id": "24Fqnesu5HAW",
        "outputId": "afc53bf1-7ac5-4af1-e352-5e72b52977e6"
      },
      "execution_count": null,
      "outputs": [
        {
          "output_type": "stream",
          "name": "stdout",
          "text": [
            "Please Give Number-12\n",
            "The Number is -ve\n"
          ]
        }
      ]
    },
    {
      "cell_type": "code",
      "source": [],
      "metadata": {
        "id": "FTyMPNI4T3iy"
      },
      "execution_count": null,
      "outputs": []
    },
    {
      "cell_type": "code",
      "source": [],
      "metadata": {
        "id": "WQWQBPT9T3Nx"
      },
      "execution_count": null,
      "outputs": []
    },
    {
      "cell_type": "code",
      "source": [],
      "metadata": {
        "id": "GPcOlLO2Vb7j"
      },
      "execution_count": null,
      "outputs": []
    },
    {
      "cell_type": "code",
      "source": [],
      "metadata": {
        "id": "v5l4tmTvxcJt"
      },
      "execution_count": null,
      "outputs": []
    },
    {
      "cell_type": "code",
      "source": [],
      "metadata": {
        "id": "9sIsxfr1xcCF"
      },
      "execution_count": null,
      "outputs": []
    },
    {
      "cell_type": "code",
      "source": [],
      "metadata": {
        "id": "T-G47_vcxbx4"
      },
      "execution_count": null,
      "outputs": []
    },
    {
      "cell_type": "markdown",
      "source": [
        "# Q. Determine a person's stage of life (child, teen, adult, senior) based on age."
      ],
      "metadata": {
        "id": "bNW7FwksskZ0"
      }
    },
    {
      "cell_type": "code",
      "source": [
        "## child - 0 to 12\n",
        "## teen - 13 to 17\n",
        "## adult - 18 to 60\n",
        "## senior - 60+"
      ],
      "metadata": {
        "id": "jK8Kw03CVbvJ"
      },
      "execution_count": null,
      "outputs": []
    },
    {
      "cell_type": "code",
      "source": [
        "age = int(input(\"Give Age\"))\n",
        "if (age > 60):\n",
        "  print(\"Senior\")\n",
        "elif (age >= 18):\n",
        "  print(\"Adult\")\n",
        "elif (age >= 13):\n",
        "  print(\"Teen\")\n",
        "elif (age >= 0):\n",
        "  print(\"child\")"
      ],
      "metadata": {
        "colab": {
          "base_uri": "https://localhost:8080/"
        },
        "id": "0DAoDU3d16Kw",
        "outputId": "d7f5b0f3-6620-41e2-80a5-fef70886e8d4"
      },
      "execution_count": null,
      "outputs": [
        {
          "output_type": "stream",
          "name": "stdout",
          "text": [
            "Give Age1\n",
            "child\n"
          ]
        }
      ]
    },
    {
      "cell_type": "code",
      "source": [
        "age = int(input(\"Give Age\"))\n",
        "if (age > 0):\n",
        "  print(\"Child\")\n",
        "elif (age >= 13):\n",
        "  print(\"Teen\")\n",
        "elif (age >= 18):\n",
        "  print(\"Adult\")\n",
        "elif (age >= 60):\n",
        "  print(\"Senior\")"
      ],
      "metadata": {
        "colab": {
          "base_uri": "https://localhost:8080/"
        },
        "id": "PPFT402X16DB",
        "outputId": "5bd5cd3d-ad3b-4114-cac5-9847c5f49035"
      },
      "execution_count": null,
      "outputs": [
        {
          "output_type": "stream",
          "name": "stdout",
          "text": [
            "Give Age60\n",
            "Child\n"
          ]
        }
      ]
    },
    {
      "cell_type": "code",
      "source": [],
      "metadata": {
        "id": "TgdDutXnCrj_"
      },
      "execution_count": null,
      "outputs": []
    },
    {
      "cell_type": "code",
      "source": [],
      "metadata": {
        "id": "Czb3o-EnCrce"
      },
      "execution_count": null,
      "outputs": []
    },
    {
      "cell_type": "code",
      "source": [],
      "metadata": {
        "id": "eoHTuWO815xL"
      },
      "execution_count": null,
      "outputs": []
    },
    {
      "cell_type": "markdown",
      "source": [
        "# Q. Create a simple Calculator"
      ],
      "metadata": {
        "id": "r1dM_7tB5IqE"
      }
    },
    {
      "cell_type": "code",
      "source": [
        "num1 = int(input(\"Give num 1 \"))\n",
        "num2 = int(input(\"Give num 2 \"))\n",
        "oper = input(\"Pick one (+,-,*,/)\")\n",
        "\n",
        "if (oper == \"+\"):\n",
        "  print(num1 + num2)\n",
        "elif (oper == \"-\"):\n",
        "  print(num1 - num2)\n",
        "elif (oper == \"*\"):\n",
        "  print(num1 * num2)\n",
        "elif (oper == \"/\"):\n",
        "  if (num2 == 0):\n",
        "    print(\"Invalid Operation\")\n",
        "  else:\n",
        "    print(num1 /num2)"
      ],
      "metadata": {
        "colab": {
          "base_uri": "https://localhost:8080/"
        },
        "id": "2ecKbTFC6cif",
        "outputId": "ee3a356e-ecd6-436d-dc2d-224890b752f5"
      },
      "execution_count": null,
      "outputs": [
        {
          "output_type": "stream",
          "name": "stdout",
          "text": [
            "Give num 1 12\n",
            "Give num 2 0\n",
            "Pick one (+,-,*,/)/\n",
            "Invalid Operation\n"
          ]
        }
      ]
    },
    {
      "cell_type": "code",
      "source": [],
      "metadata": {
        "id": "66v4FHr_6cf-"
      },
      "execution_count": null,
      "outputs": []
    },
    {
      "cell_type": "code",
      "source": [],
      "metadata": {
        "id": "TlHlZiDn6cdl"
      },
      "execution_count": null,
      "outputs": []
    },
    {
      "cell_type": "code",
      "source": [],
      "metadata": {
        "id": "jyH7Dq_N6cWM"
      },
      "execution_count": null,
      "outputs": []
    },
    {
      "cell_type": "code",
      "source": [],
      "metadata": {
        "id": "4jXypcJl5LTr"
      },
      "execution_count": null,
      "outputs": []
    },
    {
      "cell_type": "markdown",
      "source": [
        "# Q. A simple user login system that checks the username and password."
      ],
      "metadata": {
        "id": "q9g6RvCo5OO8"
      }
    },
    {
      "cell_type": "code",
      "source": [
        "stored_user = \"user@123\"\n",
        "stored_pass = 'abc123'\n",
        "\n",
        "user_name = input(\"GIve Username\")\n",
        "passw = input(\"GIve pass\")\n",
        "\n",
        "\n",
        "if (user_name == stored_user):\n",
        "  if (passw == stored_pass):\n",
        "    print(\"Login Successful\")\n",
        "  else:\n",
        "    print(\"Invalid Password\")\n",
        "else:\n",
        "  print(\"Invalid Username\")"
      ],
      "metadata": {
        "id": "e1fi2zjC5PhR",
        "colab": {
          "base_uri": "https://localhost:8080/"
        },
        "outputId": "8eba4510-8703-43af-d5fe-4318d189280d"
      },
      "execution_count": null,
      "outputs": [
        {
          "output_type": "stream",
          "name": "stdout",
          "text": [
            "GIve Usernameas\n",
            "GIve passas\n",
            "Invalid Username\n"
          ]
        }
      ]
    },
    {
      "cell_type": "code",
      "source": [],
      "metadata": {
        "id": "0rVBAkZh6_64"
      },
      "execution_count": null,
      "outputs": []
    },
    {
      "cell_type": "code",
      "source": [],
      "metadata": {
        "id": "NqHrkeJn6_05"
      },
      "execution_count": null,
      "outputs": []
    },
    {
      "cell_type": "code",
      "source": [],
      "metadata": {
        "id": "K_3E2m4h6_yg"
      },
      "execution_count": null,
      "outputs": []
    },
    {
      "cell_type": "code",
      "source": [],
      "metadata": {
        "id": "4pkl2Lbp6_wV"
      },
      "execution_count": null,
      "outputs": []
    },
    {
      "cell_type": "code",
      "source": [],
      "metadata": {
        "id": "t8CTMTU66_uK"
      },
      "execution_count": null,
      "outputs": []
    },
    {
      "cell_type": "markdown",
      "source": [
        "# Q. Report Card Generator"
      ],
      "metadata": {
        "id": "X97IimIL5RlT"
      }
    },
    {
      "cell_type": "code",
      "source": [
        "## 100 - 91 -> A\n",
        "## 81 - 90 -> B\n",
        "## 71 - 80 -> C\n",
        "## 61 - 70 -> D\n",
        "## 51 - 60 -> E\n",
        "## Else Fail\n",
        "\n",
        "marks = int(input(\"Give Your marks\"))\n",
        "\n",
        "if (marks >= 91):\n",
        "  print(\"Your grade is A\")\n",
        "elif (marks >= 81):\n",
        "  print(\"Your grade is B\")\n",
        "elif (marks >= 71):\n",
        "  print(\"Your grade is C\")\n",
        "elif (marks >= 61):\n",
        "  print(\"Your grade is D\")\n",
        "elif (marks >= 51):\n",
        "  print(\"Your grade is E\")\n",
        "else:\n",
        "  print(\"You Failed\")"
      ],
      "metadata": {
        "id": "4giYkFou5S_o",
        "colab": {
          "base_uri": "https://localhost:8080/"
        },
        "outputId": "f5bcfbe9-fef4-4f6f-b645-92c66448052b"
      },
      "execution_count": null,
      "outputs": [
        {
          "output_type": "stream",
          "name": "stdout",
          "text": [
            "Give Your marks51\n",
            "Your grade is E\n"
          ]
        }
      ]
    },
    {
      "cell_type": "code",
      "source": [],
      "metadata": {
        "id": "f515ediN9-hf"
      },
      "execution_count": null,
      "outputs": []
    },
    {
      "cell_type": "code",
      "source": [],
      "metadata": {
        "id": "U2ZfeEs99-fv"
      },
      "execution_count": null,
      "outputs": []
    },
    {
      "cell_type": "code",
      "source": [],
      "metadata": {
        "id": "5cV91hX79-dS"
      },
      "execution_count": null,
      "outputs": []
    },
    {
      "cell_type": "code",
      "source": [],
      "metadata": {
        "id": "2C-S30I-9-bG"
      },
      "execution_count": null,
      "outputs": []
    },
    {
      "cell_type": "code",
      "source": [],
      "metadata": {
        "id": "x94pOBq59-Xq"
      },
      "execution_count": null,
      "outputs": []
    },
    {
      "cell_type": "code",
      "source": [],
      "metadata": {
        "id": "tTiXTaqy9-Us"
      },
      "execution_count": null,
      "outputs": []
    },
    {
      "cell_type": "markdown",
      "source": [
        "# Q. Calculate an employee's bonus based on their performance rating and years of service."
      ],
      "metadata": {
        "id": "tCuaN0wU5Yjx"
      }
    },
    {
      "cell_type": "code",
      "source": [
        "## rating > 4.5\n",
        "  ## yrs > 10\n",
        "    ## 20%\n",
        "  ## yrs > 5\n",
        "    ## 10%"
      ],
      "metadata": {
        "id": "rJIsR_D-5aHO"
      },
      "execution_count": null,
      "outputs": []
    }
  ]
}