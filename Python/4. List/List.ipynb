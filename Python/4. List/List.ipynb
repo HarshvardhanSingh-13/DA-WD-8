{
  "cells": [
    {
      "cell_type": "markdown",
      "metadata": {
        "id": "Yo_EGT2L0s4Z"
      },
      "source": [
        "# Q. Find Compound Interest"
      ]
    },
    {
      "cell_type": "code",
      "execution_count": null,
      "metadata": {
        "colab": {
          "base_uri": "https://localhost:8080/"
        },
        "id": "UVh_ekyg0saF",
        "outputId": "45565039-90b9-481a-f783-ac2516e08695"
      },
      "outputs": [
        {
          "name": "stdout",
          "output_type": "stream",
          "text": [
            "Give initial principal balance100\n",
            "Give interest rate5\n",
            "Give number of time periods elapsed2\n",
            "Give number of times interest applied per time period2\n",
            "Your Compound Interest value is 15006.25\n"
          ]
        }
      ],
      "source": [
        "p = int(input(\"Give initial principal balance\"))\n",
        "r = int(input(\"Give interest rate\"))\n",
        "t = int(input(\"Give number of time periods elapsed\"))\n",
        "n = int(input(\"Give number of times interest applied per time period\"))\n",
        "\n",
        "amount = p * ((1+r/n))**(n*t)\n",
        "print(\"Your Compound Interest value is\", amount)"
      ]
    },
    {
      "cell_type": "markdown",
      "metadata": {
        "id": "-8XZzAX41roM"
      },
      "source": [
        "# Q. Find Volume of a Cylinder"
      ]
    },
    {
      "cell_type": "code",
      "execution_count": null,
      "metadata": {
        "colab": {
          "base_uri": "https://localhost:8080/"
        },
        "id": "yqnas0bC0maO",
        "outputId": "1d7703ab-f165-4cdf-85ea-30cf939f49a7"
      },
      "outputs": [
        {
          "name": "stdout",
          "output_type": "stream",
          "text": [
            "Give Radius7.5\n",
            "Give Height3.7\n",
            "The Volume is 653.5125\n"
          ]
        }
      ],
      "source": [
        "r = float(input(\"Give Radius\"))\n",
        "h = float(input(\"Give Height\"))\n",
        "vol = 3.14 * (r)**2 * h\n",
        "print('The Volume is', vol)"
      ]
    },
    {
      "cell_type": "markdown",
      "metadata": {
        "id": "wX81w_GAHXy-"
      },
      "source": [
        "# Conditional Statements"
      ]
    },
    {
      "cell_type": "code",
      "execution_count": null,
      "metadata": {
        "colab": {
          "base_uri": "https://localhost:8080/"
        },
        "id": "R_l6BefQ4bYV",
        "outputId": "cdc36a84-5997-4923-91e9-3a8c814ba083"
      },
      "outputs": [
        {
          "name": "stdout",
          "output_type": "stream",
          "text": [
            "Harsh\n"
          ]
        }
      ],
      "source": [
        "print(\"Harsh\")"
      ]
    },
    {
      "cell_type": "markdown",
      "metadata": {
        "id": "qzz3KWhfIHOy"
      },
      "source": [
        "### Find if the age is eligible for voting"
      ]
    },
    {
      "cell_type": "code",
      "execution_count": null,
      "metadata": {
        "colab": {
          "base_uri": "https://localhost:8080/"
        },
        "id": "JHnhKTar4bm-",
        "outputId": "3f7b0759-5b39-4624-ed39-5e70d6f6ccfc"
      },
      "outputs": [
        {
          "name": "stdout",
          "output_type": "stream",
          "text": [
            "Minor\n"
          ]
        }
      ],
      "source": [
        "age = 17\n",
        "\n",
        "if (age >= 18):\n",
        "  if (age < 100):\n",
        "    print(\"Eligible\")\n",
        "elif (age >= 0):\n",
        "  if (age < 18):\n",
        "    print(\"Minor\")\n",
        "else:\n",
        "  print(\"Invalid\")"
      ]
    },
    {
      "cell_type": "markdown",
      "metadata": {
        "id": "IA-yDZ-pQyHb"
      },
      "source": [
        "# Q. Find if the number is even or odd"
      ]
    },
    {
      "cell_type": "code",
      "execution_count": null,
      "metadata": {
        "colab": {
          "base_uri": "https://localhost:8080/"
        },
        "id": "WZr73d0_4cQ4",
        "outputId": "d478069c-cda9-473a-a46b-9372a66fc4f6"
      },
      "outputs": [
        {
          "name": "stdout",
          "output_type": "stream",
          "text": [
            "Give Number12\n",
            "even\n"
          ]
        }
      ],
      "source": [
        "a = int(input(\"Give Number\"))\n",
        "if (a % 2 == 0):\n",
        "  print(\"even\")\n",
        "else:\n",
        "  print(\"Odd\")"
      ]
    },
    {
      "cell_type": "markdown",
      "metadata": {
        "id": "ocAany5f4v2I"
      },
      "source": [
        "# Q. Find if number is +ve. If yes then find if it is even or odd else tell -ve"
      ]
    },
    {
      "cell_type": "code",
      "execution_count": null,
      "metadata": {
        "colab": {
          "base_uri": "https://localhost:8080/"
        },
        "id": "24Fqnesu5HAW",
        "outputId": "afc53bf1-7ac5-4af1-e352-5e72b52977e6"
      },
      "outputs": [
        {
          "name": "stdout",
          "output_type": "stream",
          "text": [
            "Please Give Number-12\n",
            "The Number is -ve\n"
          ]
        }
      ],
      "source": [
        "num = int(input(\"Please Give Number\"))\n",
        "if num > 0:\n",
        "  print(\"The Number is +ve\")\n",
        "  if num %2 == 0:\n",
        "    print(\"The number is even\")\n",
        "  else:\n",
        "    print(\"The number is odd\")\n",
        "else:\n",
        "  print(\"The Number is -ve\")"
      ]
    },
    {
      "cell_type": "code",
      "execution_count": null,
      "metadata": {
        "id": "FTyMPNI4T3iy"
      },
      "outputs": [],
      "source": []
    },
    {
      "cell_type": "code",
      "execution_count": null,
      "metadata": {
        "id": "WQWQBPT9T3Nx"
      },
      "outputs": [],
      "source": []
    },
    {
      "cell_type": "code",
      "execution_count": null,
      "metadata": {
        "id": "GPcOlLO2Vb7j"
      },
      "outputs": [],
      "source": []
    },
    {
      "cell_type": "code",
      "execution_count": null,
      "metadata": {
        "id": "v5l4tmTvxcJt"
      },
      "outputs": [],
      "source": []
    },
    {
      "cell_type": "code",
      "execution_count": null,
      "metadata": {
        "id": "9sIsxfr1xcCF"
      },
      "outputs": [],
      "source": []
    },
    {
      "cell_type": "code",
      "execution_count": null,
      "metadata": {
        "id": "T-G47_vcxbx4"
      },
      "outputs": [],
      "source": []
    },
    {
      "cell_type": "markdown",
      "metadata": {
        "id": "bNW7FwksskZ0"
      },
      "source": [
        "# Q. Determine a person's stage of life (child, teen, adult, senior) based on age."
      ]
    },
    {
      "cell_type": "code",
      "execution_count": null,
      "metadata": {
        "id": "jK8Kw03CVbvJ"
      },
      "outputs": [],
      "source": [
        "## child - 0 to 12\n",
        "## teen - 13 to 17\n",
        "## adult - 18 to 60\n",
        "## senior - 60+"
      ]
    },
    {
      "cell_type": "code",
      "execution_count": null,
      "metadata": {
        "colab": {
          "base_uri": "https://localhost:8080/"
        },
        "id": "0DAoDU3d16Kw",
        "outputId": "d7f5b0f3-6620-41e2-80a5-fef70886e8d4"
      },
      "outputs": [
        {
          "name": "stdout",
          "output_type": "stream",
          "text": [
            "Give Age1\n",
            "child\n"
          ]
        }
      ],
      "source": [
        "age = int(input(\"Give Age\"))\n",
        "if (age > 60):\n",
        "  print(\"Senior\")\n",
        "elif (age >= 18):\n",
        "  print(\"Adult\")\n",
        "elif (age >= 13):\n",
        "  print(\"Teen\")\n",
        "elif (age >= 0):\n",
        "  print(\"child\")"
      ]
    },
    {
      "cell_type": "code",
      "execution_count": null,
      "metadata": {
        "colab": {
          "base_uri": "https://localhost:8080/"
        },
        "id": "PPFT402X16DB",
        "outputId": "5bd5cd3d-ad3b-4114-cac5-9847c5f49035"
      },
      "outputs": [
        {
          "name": "stdout",
          "output_type": "stream",
          "text": [
            "Give Age60\n",
            "Child\n"
          ]
        }
      ],
      "source": [
        "age = int(input(\"Give Age\"))\n",
        "if (age > 0):\n",
        "  print(\"Child\")\n",
        "elif (age >= 13):\n",
        "  print(\"Teen\")\n",
        "elif (age >= 18):\n",
        "  print(\"Adult\")\n",
        "elif (age >= 60):\n",
        "  print(\"Senior\")"
      ]
    },
    {
      "cell_type": "code",
      "execution_count": null,
      "metadata": {
        "id": "TgdDutXnCrj_"
      },
      "outputs": [],
      "source": []
    },
    {
      "cell_type": "code",
      "execution_count": null,
      "metadata": {
        "id": "Czb3o-EnCrce"
      },
      "outputs": [],
      "source": []
    },
    {
      "cell_type": "code",
      "execution_count": null,
      "metadata": {
        "id": "eoHTuWO815xL"
      },
      "outputs": [],
      "source": []
    },
    {
      "cell_type": "markdown",
      "metadata": {
        "id": "r1dM_7tB5IqE"
      },
      "source": [
        "# Q. Create a simple Calculator"
      ]
    },
    {
      "cell_type": "code",
      "execution_count": null,
      "metadata": {
        "colab": {
          "base_uri": "https://localhost:8080/"
        },
        "id": "2ecKbTFC6cif",
        "outputId": "ee3a356e-ecd6-436d-dc2d-224890b752f5"
      },
      "outputs": [
        {
          "name": "stdout",
          "output_type": "stream",
          "text": [
            "Give num 1 12\n",
            "Give num 2 0\n",
            "Pick one (+,-,*,/)/\n",
            "Invalid Operation\n"
          ]
        }
      ],
      "source": [
        "num1 = int(input(\"Give num 1 \"))\n",
        "num2 = int(input(\"Give num 2 \"))\n",
        "oper = input(\"Pick one (+,-,*,/)\")\n",
        "\n",
        "if (oper == \"+\"):\n",
        "  print(num1 + num2)\n",
        "elif (oper == \"-\"):\n",
        "  print(num1 - num2)\n",
        "elif (oper == \"*\"):\n",
        "  print(num1 * num2)\n",
        "elif (oper == \"/\"):\n",
        "  if (num2 == 0):\n",
        "    print(\"Invalid Operation\")\n",
        "  else:\n",
        "    print(num1 /num2)"
      ]
    },
    {
      "cell_type": "code",
      "execution_count": null,
      "metadata": {
        "id": "66v4FHr_6cf-"
      },
      "outputs": [],
      "source": []
    },
    {
      "cell_type": "code",
      "execution_count": null,
      "metadata": {
        "id": "TlHlZiDn6cdl"
      },
      "outputs": [],
      "source": []
    },
    {
      "cell_type": "code",
      "execution_count": null,
      "metadata": {
        "id": "jyH7Dq_N6cWM"
      },
      "outputs": [],
      "source": []
    },
    {
      "cell_type": "code",
      "execution_count": null,
      "metadata": {
        "id": "4jXypcJl5LTr"
      },
      "outputs": [],
      "source": []
    },
    {
      "cell_type": "markdown",
      "metadata": {
        "id": "q9g6RvCo5OO8"
      },
      "source": [
        "# Q. A simple user login system that checks the username and password."
      ]
    },
    {
      "cell_type": "code",
      "execution_count": null,
      "metadata": {
        "colab": {
          "base_uri": "https://localhost:8080/"
        },
        "id": "e1fi2zjC5PhR",
        "outputId": "8eba4510-8703-43af-d5fe-4318d189280d"
      },
      "outputs": [
        {
          "name": "stdout",
          "output_type": "stream",
          "text": [
            "GIve Usernameas\n",
            "GIve passas\n",
            "Invalid Username\n"
          ]
        }
      ],
      "source": [
        "stored_user = \"user@123\"\n",
        "stored_pass = 'abc123'\n",
        "\n",
        "user_name = input(\"GIve Username\")\n",
        "passw = input(\"GIve pass\")\n",
        "\n",
        "\n",
        "if (user_name == stored_user):\n",
        "  if (passw == stored_pass):\n",
        "    print(\"Login Successful\")\n",
        "  else:\n",
        "    print(\"Invalid Password\")\n",
        "else:\n",
        "  print(\"Invalid Username\")"
      ]
    },
    {
      "cell_type": "code",
      "execution_count": null,
      "metadata": {
        "id": "0rVBAkZh6_64"
      },
      "outputs": [],
      "source": []
    },
    {
      "cell_type": "code",
      "execution_count": null,
      "metadata": {
        "id": "NqHrkeJn6_05"
      },
      "outputs": [],
      "source": []
    },
    {
      "cell_type": "code",
      "execution_count": null,
      "metadata": {
        "id": "K_3E2m4h6_yg"
      },
      "outputs": [],
      "source": []
    },
    {
      "cell_type": "code",
      "execution_count": null,
      "metadata": {
        "id": "4pkl2Lbp6_wV"
      },
      "outputs": [],
      "source": []
    },
    {
      "cell_type": "code",
      "execution_count": null,
      "metadata": {
        "id": "t8CTMTU66_uK"
      },
      "outputs": [],
      "source": []
    },
    {
      "cell_type": "markdown",
      "metadata": {
        "id": "X97IimIL5RlT"
      },
      "source": [
        "# Q. Report Card Generator"
      ]
    },
    {
      "cell_type": "code",
      "execution_count": null,
      "metadata": {
        "colab": {
          "base_uri": "https://localhost:8080/"
        },
        "id": "4giYkFou5S_o",
        "outputId": "f5bcfbe9-fef4-4f6f-b645-92c66448052b"
      },
      "outputs": [
        {
          "name": "stdout",
          "output_type": "stream",
          "text": [
            "Give Your marks51\n",
            "Your grade is E\n"
          ]
        }
      ],
      "source": [
        "## 100 - 91 -> A\n",
        "## 81 - 90 -> B\n",
        "## 71 - 80 -> C\n",
        "## 61 - 70 -> D\n",
        "## 51 - 60 -> E\n",
        "## Else Fail\n",
        "\n",
        "marks = int(input(\"Give Your marks\"))\n",
        "\n",
        "if (marks >= 91):\n",
        "  print(\"Your grade is A\")\n",
        "elif (marks >= 81):\n",
        "  print(\"Your grade is B\")\n",
        "elif (marks >= 71):\n",
        "  print(\"Your grade is C\")\n",
        "elif (marks >= 61):\n",
        "  print(\"Your grade is D\")\n",
        "elif (marks >= 51):\n",
        "  print(\"Your grade is E\")\n",
        "else:\n",
        "  print(\"You Failed\")"
      ]
    },
    {
      "cell_type": "code",
      "execution_count": null,
      "metadata": {
        "id": "f515ediN9-hf"
      },
      "outputs": [],
      "source": []
    },
    {
      "cell_type": "code",
      "execution_count": null,
      "metadata": {
        "id": "U2ZfeEs99-fv"
      },
      "outputs": [],
      "source": []
    },
    {
      "cell_type": "code",
      "execution_count": null,
      "metadata": {
        "id": "5cV91hX79-dS"
      },
      "outputs": [],
      "source": []
    },
    {
      "cell_type": "code",
      "execution_count": null,
      "metadata": {
        "id": "2C-S30I-9-bG"
      },
      "outputs": [],
      "source": []
    },
    {
      "cell_type": "code",
      "execution_count": null,
      "metadata": {
        "id": "x94pOBq59-Xq"
      },
      "outputs": [],
      "source": []
    },
    {
      "cell_type": "code",
      "execution_count": null,
      "metadata": {
        "id": "tTiXTaqy9-Us"
      },
      "outputs": [],
      "source": []
    },
    {
      "cell_type": "markdown",
      "metadata": {
        "id": "tCuaN0wU5Yjx"
      },
      "source": [
        "# Q. Calculate an employee's bonus based on their performance rating and years of service."
      ]
    },
    {
      "cell_type": "code",
      "execution_count": null,
      "metadata": {
        "id": "rJIsR_D-5aHO"
      },
      "outputs": [],
      "source": [
        "## Take salary\n",
        "## Take years of Experince\n",
        "## Take your rating\n",
        "\n",
        "## rating > 4.5\n",
        "  ## yrs > 10\n",
        "    ## 20%\n",
        "  ## yrs > 5\n",
        "    ## 10%\n",
        "## rating > 3.5\n",
        "  ## yrs > 10\n",
        "    ## 10%\n",
        "  ## yrs > 5\n",
        "    ## 5%\n",
        "## else no bonus"
      ]
    },
    {
      "cell_type": "code",
      "execution_count": null,
      "metadata": {
        "colab": {
          "base_uri": "https://localhost:8080/"
        },
        "id": "2vakJLCWydZm",
        "outputId": "388571af-7485-41bc-bba3-6e53e827da66"
      },
      "outputs": [
        {
          "name": "stdout",
          "output_type": "stream",
          "text": [
            "Give Salary20000\n",
            "Give Years of Experience11\n",
            "Give Rating4.6\n",
            "HI your bonus % is 20 Your FInal Salary is 24000.0\n"
          ]
        }
      ],
      "source": [
        "salary = int(input(\"Give Salary\"))\n",
        "yrs = int(input(\"Give Years of Experience\"))\n",
        "rating = float(input(\"Give Rating\"))\n",
        "\n",
        "if rating > 4.5:\n",
        "  if yrs >= 10:\n",
        "    bonus = 20\n",
        "  elif yrs > 5:\n",
        "    bonus = 10\n",
        "elif rating > 3.5:\n",
        "  if yrs >= 10:\n",
        "    bonus = 10\n",
        "  elif yrs > 5:\n",
        "    bonus = 5\n",
        "else:\n",
        "  bonus = 0\n",
        "\n",
        "final_salary = (salary + ((bonus/100)*salary))\n",
        "print(\"HI your bonus % is\",bonus, \"Your FInal Salary is\", final_salary)"
      ]
    },
    {
      "cell_type": "markdown",
      "metadata": {
        "id": "t5c82cab_7du"
      },
      "source": [
        "# Loops"
      ]
    },
    {
      "cell_type": "code",
      "execution_count": null,
      "metadata": {
        "colab": {
          "base_uri": "https://localhost:8080/"
        },
        "id": "-rUmF45sydXe",
        "outputId": "ae5ce7a4-7a29-4d96-84a0-aba9d7dafed9"
      },
      "outputs": [
        {
          "data": {
            "text/plain": [
              "range(0, 10)"
            ]
          },
          "execution_count": 4,
          "metadata": {},
          "output_type": "execute_result"
        }
      ],
      "source": [
        "range(10)"
      ]
    },
    {
      "cell_type": "code",
      "execution_count": null,
      "metadata": {
        "colab": {
          "base_uri": "https://localhost:8080/"
        },
        "id": "1S_Y07DLydVH",
        "outputId": "6d9e12a3-b4e3-4704-c440-ee564de81dec"
      },
      "outputs": [
        {
          "name": "stdout",
          "output_type": "stream",
          "text": [
            "1\n",
            "3\n",
            "5\n",
            "7\n",
            "9\n"
          ]
        }
      ],
      "source": [
        "for i in range(1,11,2):\n",
        "  print(i)"
      ]
    },
    {
      "cell_type": "code",
      "execution_count": null,
      "metadata": {
        "colab": {
          "base_uri": "https://localhost:8080/"
        },
        "id": "r5vn525TydTE",
        "outputId": "c1a2eef6-b27a-47cd-ba2d-8ec56c5201b9"
      },
      "outputs": [
        {
          "name": "stdout",
          "output_type": "stream",
          "text": [
            "5\n",
            "10\n",
            "15\n",
            "20\n",
            "25\n",
            "30\n",
            "35\n",
            "40\n",
            "45\n",
            "50\n"
          ]
        }
      ],
      "source": [
        "for i in range(5,51,5):\n",
        "  print(i)"
      ]
    },
    {
      "cell_type": "code",
      "execution_count": null,
      "metadata": {
        "colab": {
          "base_uri": "https://localhost:8080/"
        },
        "id": "lK4oDGaWydQ5",
        "outputId": "93ce5442-d756-4eb1-b66b-7055f3203453"
      },
      "outputs": [
        {
          "name": "stdout",
          "output_type": "stream",
          "text": [
            "5\n",
            "10\n",
            "15\n",
            "20\n",
            "25\n",
            "30\n",
            "35\n",
            "40\n",
            "45\n",
            "50\n"
          ]
        }
      ],
      "source": [
        "num = 5\n",
        "\n",
        "for i in range(num,(num*10)+1,num):\n",
        "  print(i)\n"
      ]
    },
    {
      "cell_type": "code",
      "execution_count": null,
      "metadata": {
        "id": "-3y6M5iaydOX"
      },
      "outputs": [],
      "source": [
        "for i in range(50,1,-5):\n",
        "  print(i)"
      ]
    },
    {
      "cell_type": "code",
      "execution_count": null,
      "metadata": {
        "colab": {
          "base_uri": "https://localhost:8080/"
        },
        "id": "2o9DKeuGydLa",
        "outputId": "7275d8c8-e3d9-4067-fb98-178c22fbbc6b"
      },
      "outputs": [
        {
          "name": "stdout",
          "output_type": "stream",
          "text": [
            "20\n",
            "18\n",
            "16\n",
            "14\n",
            "12\n",
            "10\n",
            "8\n",
            "6\n",
            "4\n",
            "2\n"
          ]
        }
      ],
      "source": [
        "num = 2\n",
        "\n",
        "for i in range(num*10,num-1,-num):\n",
        "  print(i)"
      ]
    },
    {
      "cell_type": "code",
      "execution_count": null,
      "metadata": {
        "id": "gZznDGbBydJH"
      },
      "outputs": [],
      "source": []
    },
    {
      "cell_type": "code",
      "execution_count": null,
      "metadata": {
        "id": "gwbXaoL_DbiS"
      },
      "outputs": [],
      "source": []
    },
    {
      "cell_type": "code",
      "execution_count": null,
      "metadata": {
        "id": "EQVjnUamDbgP"
      },
      "outputs": [],
      "source": []
    },
    {
      "cell_type": "code",
      "execution_count": null,
      "metadata": {
        "id": "mNNYhvcrDbaC"
      },
      "outputs": [],
      "source": []
    },
    {
      "cell_type": "code",
      "execution_count": null,
      "metadata": {
        "id": "3irc4YkWDbX2"
      },
      "outputs": [],
      "source": []
    },
    {
      "cell_type": "markdown",
      "metadata": {
        "id": "mMR6lzkGyeKC"
      },
      "source": [
        "# Q. Find numbers between 1 to 100 and are divisible by both 3 and 5"
      ]
    },
    {
      "cell_type": "code",
      "execution_count": null,
      "metadata": {
        "colab": {
          "base_uri": "https://localhost:8080/"
        },
        "id": "cLtVxTt0ydGh",
        "outputId": "d6436b8b-e914-4f3b-85ce-3cf29730e826"
      },
      "outputs": [
        {
          "name": "stdout",
          "output_type": "stream",
          "text": [
            "15\n",
            "30\n",
            "45\n",
            "60\n",
            "75\n",
            "90\n"
          ]
        }
      ],
      "source": [
        "for i in range(1,101):\n",
        "  if (i%3==0 and i%5 == 0):\n",
        "    print(i)\n"
      ]
    },
    {
      "cell_type": "code",
      "execution_count": null,
      "metadata": {
        "id": "sqPB2imZIu1X"
      },
      "outputs": [],
      "source": []
    },
    {
      "cell_type": "code",
      "execution_count": null,
      "metadata": {
        "id": "4q4PEN6tItms"
      },
      "outputs": [],
      "source": []
    },
    {
      "cell_type": "code",
      "execution_count": null,
      "metadata": {
        "id": "FHRkozsmIti2"
      },
      "outputs": [],
      "source": []
    },
    {
      "cell_type": "code",
      "execution_count": null,
      "metadata": {
        "id": "zjhhbPizItac"
      },
      "outputs": [],
      "source": []
    },
    {
      "cell_type": "code",
      "execution_count": null,
      "metadata": {
        "id": "qlOudrZfItIl"
      },
      "outputs": [],
      "source": []
    },
    {
      "cell_type": "markdown",
      "metadata": {
        "id": "yR6Z67poys8b"
      },
      "source": [
        "# Q. Count the numbers between 1 to 100 and are divisible by both 3 and 5"
      ]
    },
    {
      "cell_type": "code",
      "execution_count": null,
      "metadata": {
        "colab": {
          "base_uri": "https://localhost:8080/"
        },
        "id": "i2cVcSXPKYur",
        "outputId": "ce638583-e9d2-4e26-866c-fc10772bd28f"
      },
      "outputs": [
        {
          "name": "stdout",
          "output_type": "stream",
          "text": [
            "15\n",
            "30\n",
            "45\n",
            "60\n",
            "75\n",
            "90\n",
            "The counter value is 1\n"
          ]
        }
      ],
      "source": [
        "counter = 0\n",
        "\n",
        "for i in range(1,101):\n",
        "  if (i%3 == 0 and i%5 == 0):\n",
        "    # print(i)\n",
        "    counter = counter + 1\n",
        "\n",
        "print(\"The counter value is\",counter)"
      ]
    },
    {
      "cell_type": "code",
      "execution_count": null,
      "metadata": {
        "id": "R7TD6NVYKYeI"
      },
      "outputs": [],
      "source": []
    },
    {
      "cell_type": "markdown",
      "metadata": {
        "id": "OjsOx2yhNt0L"
      },
      "source": [
        "# Q. FInd the sum of first N natural numbers"
      ]
    },
    {
      "cell_type": "code",
      "execution_count": null,
      "metadata": {
        "colab": {
          "base_uri": "https://localhost:8080/"
        },
        "id": "USEz_F61NtUL",
        "outputId": "dfc59bb1-1d29-436f-909d-19986aea36ab"
      },
      "outputs": [
        {
          "name": "stdout",
          "output_type": "stream",
          "text": [
            "210\n"
          ]
        }
      ],
      "source": [
        "N = 20\n",
        "counter = 0\n",
        "\n",
        "for i in range(1,N+1):\n",
        "  counter = counter + i\n",
        "\n",
        "print(counter)"
      ]
    },
    {
      "cell_type": "code",
      "execution_count": null,
      "metadata": {
        "id": "bXwn_qVzKYa9"
      },
      "outputs": [],
      "source": []
    },
    {
      "cell_type": "code",
      "execution_count": null,
      "metadata": {
        "id": "bVJaHRSoKXr0"
      },
      "outputs": [],
      "source": []
    },
    {
      "cell_type": "code",
      "execution_count": null,
      "metadata": {
        "id": "siILrANbKXo4"
      },
      "outputs": [],
      "source": []
    },
    {
      "cell_type": "code",
      "execution_count": null,
      "metadata": {
        "id": "xUIxzUfPKXhe"
      },
      "outputs": [],
      "source": []
    },
    {
      "cell_type": "code",
      "execution_count": null,
      "metadata": {
        "id": "elxSNYSOyvf8"
      },
      "outputs": [],
      "source": []
    },
    {
      "cell_type": "markdown",
      "metadata": {
        "id": "cBj36MR3zjX2"
      },
      "source": [
        "# Q. Find First 10 number between 1 and 10,000 those who are divisible by 3, 5 and 7"
      ]
    },
    {
      "cell_type": "code",
      "execution_count": null,
      "metadata": {
        "colab": {
          "base_uri": "https://localhost:8080/"
        },
        "id": "l8EDYEnBP-CB",
        "outputId": "0720e8b2-5d05-4ffa-a0a9-854fa23adab9"
      },
      "outputs": [
        {
          "name": "stdout",
          "output_type": "stream",
          "text": [
            "0\n"
          ]
        }
      ],
      "source": [
        "counter = 0\n",
        "\n",
        "for i in range(1,10000):\n",
        "  if (i%3 == 0 and i%5 == 0 and i%7 == 0):\n",
        "    counter += 1\n",
        "    print(i)\n",
        "\n",
        "  if (counter == 10):\n",
        "    break\n",
        "\n",
        "print(counter)"
      ]
    },
    {
      "cell_type": "code",
      "execution_count": null,
      "metadata": {
        "colab": {
          "base_uri": "https://localhost:8080/"
        },
        "id": "XVVO1qTkP9-4",
        "outputId": "720abf04-beeb-4d35-8c8f-f7af3a206e23"
      },
      "outputs": [
        {
          "name": "stdout",
          "output_type": "stream",
          "text": [
            "H\n",
            "a\n",
            "r\n",
            "s\n",
            "h\n"
          ]
        }
      ],
      "source": [
        "for i in \"Harsh\":\n",
        "  print(i)"
      ]
    },
    {
      "cell_type": "code",
      "execution_count": null,
      "metadata": {
        "colab": {
          "base_uri": "https://localhost:8080/"
        },
        "id": "REDMnAslDvCF",
        "outputId": "e6deee0d-d254-49aa-e9b0-7a326847b0ae"
      },
      "outputs": [
        {
          "name": "stdout",
          "output_type": "stream",
          "text": [
            "H\n",
            "a\n",
            "r\n",
            "s\n",
            "h\n",
            "v\n",
            "a\n",
            "r\n",
            "d\n",
            "h\n",
            "a\n",
            "n\n",
            " \n",
            "S\n",
            "i\n",
            "n\n",
            "g\n",
            "h\n"
          ]
        }
      ],
      "source": [
        "for i in \"Harshvardhan Singh\":\n",
        "  print(i)"
      ]
    },
    {
      "cell_type": "code",
      "execution_count": null,
      "metadata": {
        "id": "NqySFAh2P8B2"
      },
      "outputs": [],
      "source": []
    },
    {
      "cell_type": "code",
      "execution_count": null,
      "metadata": {
        "id": "rsRHG7tOzi86"
      },
      "outputs": [],
      "source": []
    },
    {
      "cell_type": "markdown",
      "metadata": {
        "id": "qCqpKXR22XkE"
      },
      "source": [
        "# Q. Print only the vowels from a given string using a for loop."
      ]
    },
    {
      "cell_type": "code",
      "execution_count": null,
      "metadata": {
        "colab": {
          "base_uri": "https://localhost:8080/"
        },
        "id": "L_5YX8wuFRSG",
        "outputId": "6faa71a5-886b-4113-aa75-89b97810443a"
      },
      "outputs": [
        {
          "name": "stdout",
          "output_type": "stream",
          "text": [
            "Give NameHarshvardhan\n",
            "3\n"
          ]
        }
      ],
      "source": [
        "s = input(\"Give Name\")\n",
        "v = 'aeiouAEIOU'\n",
        "c = 0\n",
        "\n",
        "for i in s:\n",
        "  if i in v:\n",
        "    c += 1\n",
        "\n",
        "print(c)"
      ]
    },
    {
      "cell_type": "code",
      "execution_count": null,
      "metadata": {
        "id": "Bu6ctyH6FTug"
      },
      "outputs": [],
      "source": []
    },
    {
      "cell_type": "code",
      "execution_count": null,
      "metadata": {
        "id": "LAQdHmGAFTrs"
      },
      "outputs": [],
      "source": []
    },
    {
      "cell_type": "code",
      "execution_count": null,
      "metadata": {
        "id": "Q2p4NDIMFToa"
      },
      "outputs": [],
      "source": []
    },
    {
      "cell_type": "code",
      "execution_count": null,
      "metadata": {
        "id": "R1Ca6hmjFTlX"
      },
      "outputs": [],
      "source": []
    },
    {
      "cell_type": "code",
      "execution_count": null,
      "metadata": {
        "id": "_Zk812FwFTgB"
      },
      "outputs": [],
      "source": []
    },
    {
      "cell_type": "code",
      "execution_count": null,
      "metadata": {
        "id": "v6Vh5_wXFTc-"
      },
      "outputs": [],
      "source": []
    },
    {
      "cell_type": "markdown",
      "metadata": {
        "id": "BZSJIdyC1GEH"
      },
      "source": [
        "# Pattern Printing"
      ]
    },
    {
      "cell_type": "code",
      "execution_count": null,
      "metadata": {
        "colab": {
          "base_uri": "https://localhost:8080/"
        },
        "id": "_UxEBc3KI3vH",
        "outputId": "d82c7dd7-ec04-4394-da27-6d8fc1a57878"
      },
      "outputs": [
        {
          "name": "stdout",
          "output_type": "stream",
          "text": [
            "* \n",
            "* * \n",
            "* * * \n",
            "* * * * \n",
            "* * * * * \n"
          ]
        }
      ],
      "source": [
        "num = 5\n",
        "\n",
        "for i in range(1,num+1):\n",
        "  print(\"* \"*i)"
      ]
    },
    {
      "cell_type": "code",
      "execution_count": null,
      "metadata": {
        "colab": {
          "base_uri": "https://localhost:8080/"
        },
        "id": "SqZA4BDxJmtE",
        "outputId": "8e30c9f1-349a-444b-ecdb-add5fc5cd4d9"
      },
      "outputs": [
        {
          "name": "stdout",
          "output_type": "stream",
          "text": [
            "* * * * * \n",
            "* * * * \n",
            "* * * \n",
            "* * \n",
            "* \n"
          ]
        }
      ],
      "source": [
        "num = 5\n",
        "\n",
        "for i in range(num,0,-1):\n",
        "  print(\"* \"*i)"
      ]
    },
    {
      "cell_type": "code",
      "execution_count": null,
      "metadata": {
        "colab": {
          "base_uri": "https://localhost:8080/"
        },
        "id": "3ctsPe7sMp5K",
        "outputId": "61d7661e-3b52-454e-c586-d4fea5926f95"
      },
      "outputs": [
        {
          "name": "stdout",
          "output_type": "stream",
          "text": [
            "* \n",
            "* * \n",
            "* * * \n",
            "* * * * \n",
            "* * * * * \n",
            "* * * * * \n",
            "* * * * \n",
            "* * * \n",
            "* * \n",
            "* \n"
          ]
        }
      ],
      "source": [
        "num = 5\n",
        "\n",
        "for i in range(1,num+1):\n",
        "  print(\"* \"*i)\n",
        "\n",
        "for i in range(num,0,-1):\n",
        "  print(\"* \"*i)"
      ]
    },
    {
      "cell_type": "code",
      "execution_count": null,
      "metadata": {
        "colab": {
          "base_uri": "https://localhost:8080/"
        },
        "id": "JiaAVh0eKeXY",
        "outputId": "de7f8ccd-63f9-4414-af7a-a1377a15b048"
      },
      "outputs": [
        {
          "name": "stdout",
          "output_type": "stream",
          "text": [
            "* * * * * \n",
            "* * * * * \n",
            "* * * * * \n",
            "* * * * * \n",
            "* * * * * \n"
          ]
        }
      ],
      "source": [
        "num = 5\n",
        "\n",
        "for i in range(1, num+1):\n",
        "  print(\"* \"*num)"
      ]
    },
    {
      "cell_type": "code",
      "execution_count": null,
      "metadata": {
        "id": "Cl5j-46FMm5o"
      },
      "outputs": [],
      "source": []
    },
    {
      "cell_type": "markdown",
      "metadata": {
        "id": "K_uRqrYkL1wE"
      },
      "source": [
        "******\n",
        "*    *\n",
        "*    *\n",
        "*    *\n",
        "*    *\n",
        "******"
      ]
    },
    {
      "cell_type": "code",
      "execution_count": null,
      "metadata": {
        "colab": {
          "base_uri": "https://localhost:8080/"
        },
        "id": "v_OhZI6pOEUM",
        "outputId": "38a4bd87-f19f-45c9-a1b3-f40188673130"
      },
      "outputs": [
        {
          "name": "stdout",
          "output_type": "stream",
          "text": [
            "A A A A A A A A A A \n",
            "|                 |\n",
            "|                 |\n",
            "|                 |\n",
            "|                 |\n",
            "|                 |\n",
            "|                 |\n",
            "|                 |\n",
            "|                 |\n",
            "A A A A A A A A A A \n"
          ]
        }
      ],
      "source": [
        "num = 10\n",
        "\n",
        "print(\"A \"*num)\n",
        "\n",
        "for i in range(num-2):\n",
        "  print(\"| \"+\"  \"*(num-2)+\"|\")\n",
        "\n",
        "print(\"A \"*num)"
      ]
    },
    {
      "cell_type": "markdown",
      "metadata": {
        "id": "7sgpRN0mR6mg"
      },
      "source": [
        "*\n",
        "**\n",
        "* *\n",
        "*  *\n",
        "*   *\n",
        "******"
      ]
    },
    {
      "cell_type": "code",
      "execution_count": null,
      "metadata": {
        "colab": {
          "base_uri": "https://localhost:8080/"
        },
        "id": "ZQhp5eYZQoJb",
        "outputId": "33007d46-670a-4076-9cd3-b144b878e0c6"
      },
      "outputs": [
        {
          "name": "stdout",
          "output_type": "stream",
          "text": [
            "*\n",
            "* *\n",
            "*  *\n",
            "*   *\n",
            "*    *\n",
            "*     *\n",
            "*      *\n",
            "*       *\n",
            "**********\n"
          ]
        }
      ],
      "source": [
        "num = 10\n",
        "\n",
        "print(\"*\"*1)\n",
        "\n",
        "for i in range(1, num - 2):\n",
        "    print(\"*\" + \" \" * i + \"*\")\n",
        "\n",
        "print(\"*\"*num)"
      ]
    },
    {
      "cell_type": "markdown",
      "metadata": {
        "id": "MECLpFiVVTGn"
      },
      "source": [
        "### Prime Numbers"
      ]
    },
    {
      "cell_type": "markdown",
      "metadata": {
        "id": "O5ky4kwju_0z"
      },
      "source": [
        "### Q. Find the sum of first 100 odd numbers"
      ]
    },
    {
      "cell_type": "code",
      "execution_count": null,
      "metadata": {
        "colab": {
          "base_uri": "https://localhost:8080/"
        },
        "id": "IqNAuljau6Kj",
        "outputId": "19c0fb58-6fac-4ded-cf99-7b0ce88c4867"
      },
      "outputs": [
        {
          "name": "stdout",
          "output_type": "stream",
          "text": [
            "The Sum is  10000\n"
          ]
        }
      ],
      "source": [
        "sum = 0\n",
        "count = 0\n",
        "\n",
        "for i in range(10000):\n",
        "  if i%2 != 0:\n",
        "    sum = sum + i\n",
        "    count = count + 1\n",
        "\n",
        "    if count == 100:\n",
        "      break\n",
        "\n",
        "\n",
        "print(\"The Sum is \",sum)"
      ]
    },
    {
      "cell_type": "markdown",
      "metadata": {
        "id": "JybURfv01NGw"
      },
      "source": [
        "# Prime Numbers"
      ]
    },
    {
      "cell_type": "code",
      "execution_count": null,
      "metadata": {
        "id": "x56fryFv4QXW"
      },
      "outputs": [],
      "source": []
    },
    {
      "cell_type": "code",
      "source": [
        "## Nested Loops\n",
        "\n",
        "for i in range(1,7):\n",
        "  for j in range(1,7):\n",
        "    for k in range(1,7):\n",
        "      print(i,j,k)\n",
        "print(\"*\"*20)"
      ],
      "metadata": {
        "colab": {
          "base_uri": "https://localhost:8080/"
        },
        "id": "LfTKOZHw7_XM",
        "outputId": "aaffb777-4a86-4f50-9bcd-561cbaf2a430"
      },
      "execution_count": 42,
      "outputs": [
        {
          "output_type": "stream",
          "name": "stdout",
          "text": [
            "1 1 1\n",
            "1 1 2\n",
            "1 1 3\n",
            "1 1 4\n",
            "1 1 5\n",
            "1 1 6\n",
            "********************\n",
            "1 2 1\n",
            "1 2 2\n",
            "1 2 3\n",
            "1 2 4\n",
            "1 2 5\n",
            "1 2 6\n",
            "********************\n",
            "1 3 1\n",
            "1 3 2\n",
            "1 3 3\n",
            "1 3 4\n",
            "1 3 5\n",
            "1 3 6\n",
            "********************\n",
            "1 4 1\n",
            "1 4 2\n",
            "1 4 3\n",
            "1 4 4\n",
            "1 4 5\n",
            "1 4 6\n",
            "********************\n",
            "1 5 1\n",
            "1 5 2\n",
            "1 5 3\n",
            "1 5 4\n",
            "1 5 5\n",
            "1 5 6\n",
            "********************\n",
            "1 6 1\n",
            "1 6 2\n",
            "1 6 3\n",
            "1 6 4\n",
            "1 6 5\n",
            "1 6 6\n",
            "********************\n",
            "2 1 1\n",
            "2 1 2\n",
            "2 1 3\n",
            "2 1 4\n",
            "2 1 5\n",
            "2 1 6\n",
            "********************\n",
            "2 2 1\n",
            "2 2 2\n",
            "2 2 3\n",
            "2 2 4\n",
            "2 2 5\n",
            "2 2 6\n",
            "********************\n",
            "2 3 1\n",
            "2 3 2\n",
            "2 3 3\n",
            "2 3 4\n",
            "2 3 5\n",
            "2 3 6\n",
            "********************\n",
            "2 4 1\n",
            "2 4 2\n",
            "2 4 3\n",
            "2 4 4\n",
            "2 4 5\n",
            "2 4 6\n",
            "********************\n",
            "2 5 1\n",
            "2 5 2\n",
            "2 5 3\n",
            "2 5 4\n",
            "2 5 5\n",
            "2 5 6\n",
            "********************\n",
            "2 6 1\n",
            "2 6 2\n",
            "2 6 3\n",
            "2 6 4\n",
            "2 6 5\n",
            "2 6 6\n",
            "********************\n",
            "3 1 1\n",
            "3 1 2\n",
            "3 1 3\n",
            "3 1 4\n",
            "3 1 5\n",
            "3 1 6\n",
            "********************\n",
            "3 2 1\n",
            "3 2 2\n",
            "3 2 3\n",
            "3 2 4\n",
            "3 2 5\n",
            "3 2 6\n",
            "********************\n",
            "3 3 1\n",
            "3 3 2\n",
            "3 3 3\n",
            "3 3 4\n",
            "3 3 5\n",
            "3 3 6\n",
            "********************\n",
            "3 4 1\n",
            "3 4 2\n",
            "3 4 3\n",
            "3 4 4\n",
            "3 4 5\n",
            "3 4 6\n",
            "********************\n",
            "3 5 1\n",
            "3 5 2\n",
            "3 5 3\n",
            "3 5 4\n",
            "3 5 5\n",
            "3 5 6\n",
            "********************\n",
            "3 6 1\n",
            "3 6 2\n",
            "3 6 3\n",
            "3 6 4\n",
            "3 6 5\n",
            "3 6 6\n",
            "********************\n",
            "4 1 1\n",
            "4 1 2\n",
            "4 1 3\n",
            "4 1 4\n",
            "4 1 5\n",
            "4 1 6\n",
            "********************\n",
            "4 2 1\n",
            "4 2 2\n",
            "4 2 3\n",
            "4 2 4\n",
            "4 2 5\n",
            "4 2 6\n",
            "********************\n",
            "4 3 1\n",
            "4 3 2\n",
            "4 3 3\n",
            "4 3 4\n",
            "4 3 5\n",
            "4 3 6\n",
            "********************\n",
            "4 4 1\n",
            "4 4 2\n",
            "4 4 3\n",
            "4 4 4\n",
            "4 4 5\n",
            "4 4 6\n",
            "********************\n",
            "4 5 1\n",
            "4 5 2\n",
            "4 5 3\n",
            "4 5 4\n",
            "4 5 5\n",
            "4 5 6\n",
            "********************\n",
            "4 6 1\n",
            "4 6 2\n",
            "4 6 3\n",
            "4 6 4\n",
            "4 6 5\n",
            "4 6 6\n",
            "********************\n",
            "5 1 1\n",
            "5 1 2\n",
            "5 1 3\n",
            "5 1 4\n",
            "5 1 5\n",
            "5 1 6\n",
            "********************\n",
            "5 2 1\n",
            "5 2 2\n",
            "5 2 3\n",
            "5 2 4\n",
            "5 2 5\n",
            "5 2 6\n",
            "********************\n",
            "5 3 1\n",
            "5 3 2\n",
            "5 3 3\n",
            "5 3 4\n",
            "5 3 5\n",
            "5 3 6\n",
            "********************\n",
            "5 4 1\n",
            "5 4 2\n",
            "5 4 3\n",
            "5 4 4\n",
            "5 4 5\n",
            "5 4 6\n",
            "********************\n",
            "5 5 1\n",
            "5 5 2\n",
            "5 5 3\n",
            "5 5 4\n",
            "5 5 5\n",
            "5 5 6\n",
            "********************\n",
            "5 6 1\n",
            "5 6 2\n",
            "5 6 3\n",
            "5 6 4\n",
            "5 6 5\n",
            "5 6 6\n",
            "********************\n",
            "6 1 1\n",
            "6 1 2\n",
            "6 1 3\n",
            "6 1 4\n",
            "6 1 5\n",
            "6 1 6\n",
            "********************\n",
            "6 2 1\n",
            "6 2 2\n",
            "6 2 3\n",
            "6 2 4\n",
            "6 2 5\n",
            "6 2 6\n",
            "********************\n",
            "6 3 1\n",
            "6 3 2\n",
            "6 3 3\n",
            "6 3 4\n",
            "6 3 5\n",
            "6 3 6\n",
            "********************\n",
            "6 4 1\n",
            "6 4 2\n",
            "6 4 3\n",
            "6 4 4\n",
            "6 4 5\n",
            "6 4 6\n",
            "********************\n",
            "6 5 1\n",
            "6 5 2\n",
            "6 5 3\n",
            "6 5 4\n",
            "6 5 5\n",
            "6 5 6\n",
            "********************\n",
            "6 6 1\n",
            "6 6 2\n",
            "6 6 3\n",
            "6 6 4\n",
            "6 6 5\n",
            "6 6 6\n",
            "********************\n"
          ]
        }
      ]
    },
    {
      "cell_type": "code",
      "source": [
        "roll_number\n",
        "name\n",
        "class_\n",
        "phone_number\n",
        "address_\n",
        "stream_\n",
        "physics\n",
        "maths\n",
        "chem\n",
        "eng\n",
        "hindi"
      ],
      "metadata": {
        "id": "bLQfSMzL8ZJs"
      },
      "execution_count": null,
      "outputs": []
    },
    {
      "cell_type": "markdown",
      "source": [
        "# List"
      ],
      "metadata": {
        "id": "awe0UKfjAilp"
      }
    },
    {
      "cell_type": "code",
      "source": [
        "lst = []\n",
        "print(type(lst))"
      ],
      "metadata": {
        "colab": {
          "base_uri": "https://localhost:8080/"
        },
        "id": "I1Zjoh6pAiA7",
        "outputId": "0f4b9dc1-c431-4249-9b99-695562934482"
      },
      "execution_count": 43,
      "outputs": [
        {
          "output_type": "stream",
          "name": "stdout",
          "text": [
            "<class 'list'>\n"
          ]
        }
      ]
    },
    {
      "cell_type": "code",
      "source": [
        "lst"
      ],
      "metadata": {
        "colab": {
          "base_uri": "https://localhost:8080/"
        },
        "id": "23z_J5UvAshE",
        "outputId": "ef43797b-7b30-45c2-e0bb-1fc07b3b57d5"
      },
      "execution_count": 44,
      "outputs": [
        {
          "output_type": "execute_result",
          "data": {
            "text/plain": [
              "[]"
            ]
          },
          "metadata": {},
          "execution_count": 44
        }
      ]
    },
    {
      "cell_type": "code",
      "source": [
        "name = [1,2,3,4,5,6,23,34,245.65,'harsh','singh',4.123,True]"
      ],
      "metadata": {
        "id": "EcwnQk8LAtk8"
      },
      "execution_count": 45,
      "outputs": []
    },
    {
      "cell_type": "code",
      "source": [
        "print(name)"
      ],
      "metadata": {
        "colab": {
          "base_uri": "https://localhost:8080/"
        },
        "id": "IM3Gp431A914",
        "outputId": "e3017069-ed9a-4f35-fcde-9a283f09421c"
      },
      "execution_count": 46,
      "outputs": [
        {
          "output_type": "stream",
          "name": "stdout",
          "text": [
            "[1, 2, 3, 4, 5, 6, 23, 34, 245.65, 'harsh', 'singh', 4.123, True]\n"
          ]
        }
      ]
    },
    {
      "cell_type": "code",
      "source": [
        "print(len(name))"
      ],
      "metadata": {
        "colab": {
          "base_uri": "https://localhost:8080/"
        },
        "id": "wzLOgdqoA_3e",
        "outputId": "84cf60a6-d694-4c3f-8e3a-ecb5d6469ec7"
      },
      "execution_count": 47,
      "outputs": [
        {
          "output_type": "stream",
          "name": "stdout",
          "text": [
            "13\n"
          ]
        }
      ]
    },
    {
      "cell_type": "code",
      "source": [
        "print(name[1])"
      ],
      "metadata": {
        "colab": {
          "base_uri": "https://localhost:8080/"
        },
        "id": "vYQq9zVgBNKk",
        "outputId": "33f53c6e-1ad8-42cd-93cd-0f1e54ebd51f"
      },
      "execution_count": 48,
      "outputs": [
        {
          "output_type": "stream",
          "name": "stdout",
          "text": [
            "2\n"
          ]
        }
      ]
    },
    {
      "cell_type": "code",
      "source": [
        "print(name[-15])"
      ],
      "metadata": {
        "colab": {
          "base_uri": "https://localhost:8080/",
          "height": 141
        },
        "id": "p4FWl3tEBTQ0",
        "outputId": "cb6e64c1-2c1f-4a1f-c550-48f4027bcb8b"
      },
      "execution_count": 54,
      "outputs": [
        {
          "output_type": "error",
          "ename": "IndexError",
          "evalue": "list index out of range",
          "traceback": [
            "\u001b[0;31m---------------------------------------------------------------------------\u001b[0m",
            "\u001b[0;31mIndexError\u001b[0m                                Traceback (most recent call last)",
            "\u001b[0;32m<ipython-input-54-7e29b3a9fe16>\u001b[0m in \u001b[0;36m<cell line: 0>\u001b[0;34m()\u001b[0m\n\u001b[0;32m----> 1\u001b[0;31m \u001b[0mprint\u001b[0m\u001b[0;34m(\u001b[0m\u001b[0mname\u001b[0m\u001b[0;34m[\u001b[0m\u001b[0;34m-\u001b[0m\u001b[0;36m15\u001b[0m\u001b[0;34m]\u001b[0m\u001b[0;34m)\u001b[0m\u001b[0;34m\u001b[0m\u001b[0;34m\u001b[0m\u001b[0m\n\u001b[0m",
            "\u001b[0;31mIndexError\u001b[0m: list index out of range"
          ]
        }
      ]
    },
    {
      "cell_type": "code",
      "source": [
        "for i in name:\n",
        "  print(i)"
      ],
      "metadata": {
        "colab": {
          "base_uri": "https://localhost:8080/"
        },
        "id": "CRkEbDguBWqy",
        "outputId": "e8fa25cf-320e-446b-b6ff-2e520849e1b5"
      },
      "execution_count": 55,
      "outputs": [
        {
          "output_type": "stream",
          "name": "stdout",
          "text": [
            "1\n",
            "2\n",
            "3\n",
            "4\n",
            "5\n",
            "6\n",
            "23\n",
            "34\n",
            "245.65\n",
            "harsh\n",
            "singh\n",
            "4.123\n",
            "True\n"
          ]
        }
      ]
    },
    {
      "cell_type": "code",
      "source": [
        "for i in range(len(name)):\n",
        "  print(i,\":\",name[i])"
      ],
      "metadata": {
        "colab": {
          "base_uri": "https://localhost:8080/"
        },
        "id": "GCLLPGwSCQS2",
        "outputId": "a2d7ae3f-726f-456a-fc22-54edc642f4a1"
      },
      "execution_count": 56,
      "outputs": [
        {
          "output_type": "stream",
          "name": "stdout",
          "text": [
            "0 : 1\n",
            "1 : 2\n",
            "2 : 3\n",
            "3 : 4\n",
            "4 : 5\n",
            "5 : 6\n",
            "6 : 23\n",
            "7 : 34\n",
            "8 : 245.65\n",
            "9 : harsh\n",
            "10 : singh\n",
            "11 : 4.123\n",
            "12 : True\n"
          ]
        }
      ]
    },
    {
      "cell_type": "code",
      "source": [
        "print(name)"
      ],
      "metadata": {
        "colab": {
          "base_uri": "https://localhost:8080/"
        },
        "id": "ykpbiCTKDlAi",
        "outputId": "2096ad58-7716-412f-a2df-62554525ad5d"
      },
      "execution_count": 67,
      "outputs": [
        {
          "output_type": "stream",
          "name": "stdout",
          "text": [
            "[1, 2, 3, 4, 5, 6, 23, 34, 245.65, 'harsh', 'singh', 4.123, True, 'Vidit', 'VIDIT']\n"
          ]
        }
      ]
    },
    {
      "cell_type": "code",
      "source": [
        "flag = False\n",
        "\n",
        "for i in range(len(name)):\n",
        "  if str(name[i]).lower() == 'vidit':\n",
        "    flag = True\n",
        "\n",
        "if flag == True:\n",
        "  print(\"Found\")\n",
        "else:\n",
        "  print(\"Not Found\")"
      ],
      "metadata": {
        "colab": {
          "base_uri": "https://localhost:8080/"
        },
        "id": "SdOUxNzEDxhd",
        "outputId": "d6c6fa32-25a9-4364-e10c-578027765d74"
      },
      "execution_count": 78,
      "outputs": [
        {
          "output_type": "stream",
          "name": "stdout",
          "text": [
            "Found\n"
          ]
        }
      ]
    },
    {
      "cell_type": "code",
      "source": [
        "print(name[-1].lower)"
      ],
      "metadata": {
        "colab": {
          "base_uri": "https://localhost:8080/"
        },
        "id": "Lc-8egupE83n",
        "outputId": "587dfb7b-841c-43ea-94b3-827a33f5bf1c"
      },
      "execution_count": 74,
      "outputs": [
        {
          "output_type": "stream",
          "name": "stdout",
          "text": [
            "<built-in method lower of str object at 0x796bf34e7230>\n"
          ]
        }
      ]
    },
    {
      "cell_type": "code",
      "source": [],
      "metadata": {
        "id": "Fg01HKQdIJPt"
      },
      "execution_count": null,
      "outputs": []
    }
  ],
  "metadata": {
    "colab": {
      "provenance": []
    },
    "kernelspec": {
      "display_name": "Python 3",
      "name": "python3"
    },
    "language_info": {
      "name": "python"
    }
  },
  "nbformat": 4,
  "nbformat_minor": 0
}