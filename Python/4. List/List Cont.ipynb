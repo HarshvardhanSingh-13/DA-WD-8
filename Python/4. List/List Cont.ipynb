{
  "cells": [
    {
      "cell_type": "markdown",
      "metadata": {
        "id": "Yo_EGT2L0s4Z"
      },
      "source": [
        "# Q. Find Compound Interest"
      ]
    },
    {
      "cell_type": "code",
      "execution_count": null,
      "metadata": {
        "colab": {
          "base_uri": "https://localhost:8080/"
        },
        "id": "UVh_ekyg0saF",
        "outputId": "45565039-90b9-481a-f783-ac2516e08695"
      },
      "outputs": [
        {
          "name": "stdout",
          "output_type": "stream",
          "text": [
            "Give initial principal balance100\n",
            "Give interest rate5\n",
            "Give number of time periods elapsed2\n",
            "Give number of times interest applied per time period2\n",
            "Your Compound Interest value is 15006.25\n"
          ]
        }
      ],
      "source": [
        "p = int(input(\"Give initial principal balance\"))\n",
        "r = int(input(\"Give interest rate\"))\n",
        "t = int(input(\"Give number of time periods elapsed\"))\n",
        "n = int(input(\"Give number of times interest applied per time period\"))\n",
        "\n",
        "amount = p * ((1+r/n))**(n*t)\n",
        "print(\"Your Compound Interest value is\", amount)"
      ]
    },
    {
      "cell_type": "markdown",
      "metadata": {
        "id": "-8XZzAX41roM"
      },
      "source": [
        "# Q. Find Volume of a Cylinder"
      ]
    },
    {
      "cell_type": "code",
      "execution_count": null,
      "metadata": {
        "colab": {
          "base_uri": "https://localhost:8080/"
        },
        "id": "yqnas0bC0maO",
        "outputId": "1d7703ab-f165-4cdf-85ea-30cf939f49a7"
      },
      "outputs": [
        {
          "name": "stdout",
          "output_type": "stream",
          "text": [
            "Give Radius7.5\n",
            "Give Height3.7\n",
            "The Volume is 653.5125\n"
          ]
        }
      ],
      "source": [
        "r = float(input(\"Give Radius\"))\n",
        "h = float(input(\"Give Height\"))\n",
        "vol = 3.14 * (r)**2 * h\n",
        "print('The Volume is', vol)"
      ]
    },
    {
      "cell_type": "markdown",
      "metadata": {
        "id": "wX81w_GAHXy-"
      },
      "source": [
        "# Conditional Statements"
      ]
    },
    {
      "cell_type": "code",
      "execution_count": null,
      "metadata": {
        "colab": {
          "base_uri": "https://localhost:8080/"
        },
        "id": "R_l6BefQ4bYV",
        "outputId": "cdc36a84-5997-4923-91e9-3a8c814ba083"
      },
      "outputs": [
        {
          "name": "stdout",
          "output_type": "stream",
          "text": [
            "Harsh\n"
          ]
        }
      ],
      "source": [
        "print(\"Harsh\")"
      ]
    },
    {
      "cell_type": "markdown",
      "metadata": {
        "id": "qzz3KWhfIHOy"
      },
      "source": [
        "### Find if the age is eligible for voting"
      ]
    },
    {
      "cell_type": "code",
      "execution_count": null,
      "metadata": {
        "colab": {
          "base_uri": "https://localhost:8080/"
        },
        "id": "JHnhKTar4bm-",
        "outputId": "3f7b0759-5b39-4624-ed39-5e70d6f6ccfc"
      },
      "outputs": [
        {
          "name": "stdout",
          "output_type": "stream",
          "text": [
            "Minor\n"
          ]
        }
      ],
      "source": [
        "age = 17\n",
        "\n",
        "if (age >= 18):\n",
        "  if (age < 100):\n",
        "    print(\"Eligible\")\n",
        "elif (age >= 0):\n",
        "  if (age < 18):\n",
        "    print(\"Minor\")\n",
        "else:\n",
        "  print(\"Invalid\")"
      ]
    },
    {
      "cell_type": "markdown",
      "metadata": {
        "id": "IA-yDZ-pQyHb"
      },
      "source": [
        "# Q. Find if the number is even or odd"
      ]
    },
    {
      "cell_type": "code",
      "execution_count": null,
      "metadata": {
        "colab": {
          "base_uri": "https://localhost:8080/"
        },
        "id": "WZr73d0_4cQ4",
        "outputId": "d478069c-cda9-473a-a46b-9372a66fc4f6"
      },
      "outputs": [
        {
          "name": "stdout",
          "output_type": "stream",
          "text": [
            "Give Number12\n",
            "even\n"
          ]
        }
      ],
      "source": [
        "a = int(input(\"Give Number\"))\n",
        "if (a % 2 == 0):\n",
        "  print(\"even\")\n",
        "else:\n",
        "  print(\"Odd\")"
      ]
    },
    {
      "cell_type": "markdown",
      "metadata": {
        "id": "ocAany5f4v2I"
      },
      "source": [
        "# Q. Find if number is +ve. If yes then find if it is even or odd else tell -ve"
      ]
    },
    {
      "cell_type": "code",
      "execution_count": null,
      "metadata": {
        "colab": {
          "base_uri": "https://localhost:8080/"
        },
        "id": "24Fqnesu5HAW",
        "outputId": "afc53bf1-7ac5-4af1-e352-5e72b52977e6"
      },
      "outputs": [
        {
          "name": "stdout",
          "output_type": "stream",
          "text": [
            "Please Give Number-12\n",
            "The Number is -ve\n"
          ]
        }
      ],
      "source": [
        "num = int(input(\"Please Give Number\"))\n",
        "if num > 0:\n",
        "  print(\"The Number is +ve\")\n",
        "  if num %2 == 0:\n",
        "    print(\"The number is even\")\n",
        "  else:\n",
        "    print(\"The number is odd\")\n",
        "else:\n",
        "  print(\"The Number is -ve\")"
      ]
    },
    {
      "cell_type": "code",
      "execution_count": null,
      "metadata": {
        "id": "FTyMPNI4T3iy"
      },
      "outputs": [],
      "source": []
    },
    {
      "cell_type": "code",
      "execution_count": null,
      "metadata": {
        "id": "WQWQBPT9T3Nx"
      },
      "outputs": [],
      "source": []
    },
    {
      "cell_type": "code",
      "execution_count": null,
      "metadata": {
        "id": "GPcOlLO2Vb7j"
      },
      "outputs": [],
      "source": []
    },
    {
      "cell_type": "code",
      "execution_count": null,
      "metadata": {
        "id": "v5l4tmTvxcJt"
      },
      "outputs": [],
      "source": []
    },
    {
      "cell_type": "code",
      "execution_count": null,
      "metadata": {
        "id": "9sIsxfr1xcCF"
      },
      "outputs": [],
      "source": []
    },
    {
      "cell_type": "code",
      "execution_count": null,
      "metadata": {
        "id": "T-G47_vcxbx4"
      },
      "outputs": [],
      "source": []
    },
    {
      "cell_type": "markdown",
      "metadata": {
        "id": "bNW7FwksskZ0"
      },
      "source": [
        "# Q. Determine a person's stage of life (child, teen, adult, senior) based on age."
      ]
    },
    {
      "cell_type": "code",
      "execution_count": null,
      "metadata": {
        "id": "jK8Kw03CVbvJ"
      },
      "outputs": [],
      "source": [
        "## child - 0 to 12\n",
        "## teen - 13 to 17\n",
        "## adult - 18 to 60\n",
        "## senior - 60+"
      ]
    },
    {
      "cell_type": "code",
      "execution_count": null,
      "metadata": {
        "colab": {
          "base_uri": "https://localhost:8080/"
        },
        "id": "0DAoDU3d16Kw",
        "outputId": "d7f5b0f3-6620-41e2-80a5-fef70886e8d4"
      },
      "outputs": [
        {
          "name": "stdout",
          "output_type": "stream",
          "text": [
            "Give Age1\n",
            "child\n"
          ]
        }
      ],
      "source": [
        "age = int(input(\"Give Age\"))\n",
        "if (age > 60):\n",
        "  print(\"Senior\")\n",
        "elif (age >= 18):\n",
        "  print(\"Adult\")\n",
        "elif (age >= 13):\n",
        "  print(\"Teen\")\n",
        "elif (age >= 0):\n",
        "  print(\"child\")"
      ]
    },
    {
      "cell_type": "code",
      "execution_count": null,
      "metadata": {
        "colab": {
          "base_uri": "https://localhost:8080/"
        },
        "id": "PPFT402X16DB",
        "outputId": "5bd5cd3d-ad3b-4114-cac5-9847c5f49035"
      },
      "outputs": [
        {
          "name": "stdout",
          "output_type": "stream",
          "text": [
            "Give Age60\n",
            "Child\n"
          ]
        }
      ],
      "source": [
        "age = int(input(\"Give Age\"))\n",
        "if (age > 0):\n",
        "  print(\"Child\")\n",
        "elif (age >= 13):\n",
        "  print(\"Teen\")\n",
        "elif (age >= 18):\n",
        "  print(\"Adult\")\n",
        "elif (age >= 60):\n",
        "  print(\"Senior\")"
      ]
    },
    {
      "cell_type": "code",
      "execution_count": null,
      "metadata": {
        "id": "TgdDutXnCrj_"
      },
      "outputs": [],
      "source": []
    },
    {
      "cell_type": "code",
      "execution_count": null,
      "metadata": {
        "id": "Czb3o-EnCrce"
      },
      "outputs": [],
      "source": []
    },
    {
      "cell_type": "code",
      "execution_count": null,
      "metadata": {
        "id": "eoHTuWO815xL"
      },
      "outputs": [],
      "source": []
    },
    {
      "cell_type": "markdown",
      "metadata": {
        "id": "r1dM_7tB5IqE"
      },
      "source": [
        "# Q. Create a simple Calculator"
      ]
    },
    {
      "cell_type": "code",
      "execution_count": null,
      "metadata": {
        "colab": {
          "base_uri": "https://localhost:8080/"
        },
        "id": "2ecKbTFC6cif",
        "outputId": "ee3a356e-ecd6-436d-dc2d-224890b752f5"
      },
      "outputs": [
        {
          "name": "stdout",
          "output_type": "stream",
          "text": [
            "Give num 1 12\n",
            "Give num 2 0\n",
            "Pick one (+,-,*,/)/\n",
            "Invalid Operation\n"
          ]
        }
      ],
      "source": [
        "num1 = int(input(\"Give num 1 \"))\n",
        "num2 = int(input(\"Give num 2 \"))\n",
        "oper = input(\"Pick one (+,-,*,/)\")\n",
        "\n",
        "if (oper == \"+\"):\n",
        "  print(num1 + num2)\n",
        "elif (oper == \"-\"):\n",
        "  print(num1 - num2)\n",
        "elif (oper == \"*\"):\n",
        "  print(num1 * num2)\n",
        "elif (oper == \"/\"):\n",
        "  if (num2 == 0):\n",
        "    print(\"Invalid Operation\")\n",
        "  else:\n",
        "    print(num1 /num2)"
      ]
    },
    {
      "cell_type": "code",
      "execution_count": null,
      "metadata": {
        "id": "66v4FHr_6cf-"
      },
      "outputs": [],
      "source": []
    },
    {
      "cell_type": "code",
      "execution_count": null,
      "metadata": {
        "id": "TlHlZiDn6cdl"
      },
      "outputs": [],
      "source": []
    },
    {
      "cell_type": "code",
      "execution_count": null,
      "metadata": {
        "id": "jyH7Dq_N6cWM"
      },
      "outputs": [],
      "source": []
    },
    {
      "cell_type": "code",
      "execution_count": null,
      "metadata": {
        "id": "4jXypcJl5LTr"
      },
      "outputs": [],
      "source": []
    },
    {
      "cell_type": "markdown",
      "metadata": {
        "id": "q9g6RvCo5OO8"
      },
      "source": [
        "# Q. A simple user login system that checks the username and password."
      ]
    },
    {
      "cell_type": "code",
      "execution_count": null,
      "metadata": {
        "colab": {
          "base_uri": "https://localhost:8080/"
        },
        "id": "e1fi2zjC5PhR",
        "outputId": "8eba4510-8703-43af-d5fe-4318d189280d"
      },
      "outputs": [
        {
          "name": "stdout",
          "output_type": "stream",
          "text": [
            "GIve Usernameas\n",
            "GIve passas\n",
            "Invalid Username\n"
          ]
        }
      ],
      "source": [
        "stored_user = \"user@123\"\n",
        "stored_pass = 'abc123'\n",
        "\n",
        "user_name = input(\"GIve Username\")\n",
        "passw = input(\"GIve pass\")\n",
        "\n",
        "\n",
        "if (user_name == stored_user):\n",
        "  if (passw == stored_pass):\n",
        "    print(\"Login Successful\")\n",
        "  else:\n",
        "    print(\"Invalid Password\")\n",
        "else:\n",
        "  print(\"Invalid Username\")"
      ]
    },
    {
      "cell_type": "code",
      "execution_count": null,
      "metadata": {
        "id": "0rVBAkZh6_64"
      },
      "outputs": [],
      "source": []
    },
    {
      "cell_type": "code",
      "execution_count": null,
      "metadata": {
        "id": "NqHrkeJn6_05"
      },
      "outputs": [],
      "source": []
    },
    {
      "cell_type": "code",
      "execution_count": null,
      "metadata": {
        "id": "K_3E2m4h6_yg"
      },
      "outputs": [],
      "source": []
    },
    {
      "cell_type": "code",
      "execution_count": null,
      "metadata": {
        "id": "4pkl2Lbp6_wV"
      },
      "outputs": [],
      "source": []
    },
    {
      "cell_type": "code",
      "execution_count": null,
      "metadata": {
        "id": "t8CTMTU66_uK"
      },
      "outputs": [],
      "source": []
    },
    {
      "cell_type": "markdown",
      "metadata": {
        "id": "X97IimIL5RlT"
      },
      "source": [
        "# Q. Report Card Generator"
      ]
    },
    {
      "cell_type": "code",
      "execution_count": null,
      "metadata": {
        "colab": {
          "base_uri": "https://localhost:8080/"
        },
        "id": "4giYkFou5S_o",
        "outputId": "f5bcfbe9-fef4-4f6f-b645-92c66448052b"
      },
      "outputs": [
        {
          "name": "stdout",
          "output_type": "stream",
          "text": [
            "Give Your marks51\n",
            "Your grade is E\n"
          ]
        }
      ],
      "source": [
        "## 100 - 91 -> A\n",
        "## 81 - 90 -> B\n",
        "## 71 - 80 -> C\n",
        "## 61 - 70 -> D\n",
        "## 51 - 60 -> E\n",
        "## Else Fail\n",
        "\n",
        "marks = int(input(\"Give Your marks\"))\n",
        "\n",
        "if (marks >= 91):\n",
        "  print(\"Your grade is A\")\n",
        "elif (marks >= 81):\n",
        "  print(\"Your grade is B\")\n",
        "elif (marks >= 71):\n",
        "  print(\"Your grade is C\")\n",
        "elif (marks >= 61):\n",
        "  print(\"Your grade is D\")\n",
        "elif (marks >= 51):\n",
        "  print(\"Your grade is E\")\n",
        "else:\n",
        "  print(\"You Failed\")"
      ]
    },
    {
      "cell_type": "code",
      "execution_count": null,
      "metadata": {
        "id": "f515ediN9-hf"
      },
      "outputs": [],
      "source": []
    },
    {
      "cell_type": "code",
      "execution_count": null,
      "metadata": {
        "id": "U2ZfeEs99-fv"
      },
      "outputs": [],
      "source": []
    },
    {
      "cell_type": "code",
      "execution_count": null,
      "metadata": {
        "id": "5cV91hX79-dS"
      },
      "outputs": [],
      "source": []
    },
    {
      "cell_type": "code",
      "execution_count": null,
      "metadata": {
        "id": "2C-S30I-9-bG"
      },
      "outputs": [],
      "source": []
    },
    {
      "cell_type": "code",
      "execution_count": null,
      "metadata": {
        "id": "x94pOBq59-Xq"
      },
      "outputs": [],
      "source": []
    },
    {
      "cell_type": "code",
      "execution_count": null,
      "metadata": {
        "id": "tTiXTaqy9-Us"
      },
      "outputs": [],
      "source": []
    },
    {
      "cell_type": "markdown",
      "metadata": {
        "id": "tCuaN0wU5Yjx"
      },
      "source": [
        "# Q. Calculate an employee's bonus based on their performance rating and years of service."
      ]
    },
    {
      "cell_type": "code",
      "execution_count": null,
      "metadata": {
        "id": "rJIsR_D-5aHO"
      },
      "outputs": [],
      "source": [
        "## Take salary\n",
        "## Take years of Experince\n",
        "## Take your rating\n",
        "\n",
        "## rating > 4.5\n",
        "  ## yrs > 10\n",
        "    ## 20%\n",
        "  ## yrs > 5\n",
        "    ## 10%\n",
        "## rating > 3.5\n",
        "  ## yrs > 10\n",
        "    ## 10%\n",
        "  ## yrs > 5\n",
        "    ## 5%\n",
        "## else no bonus"
      ]
    },
    {
      "cell_type": "code",
      "execution_count": null,
      "metadata": {
        "colab": {
          "base_uri": "https://localhost:8080/"
        },
        "id": "2vakJLCWydZm",
        "outputId": "388571af-7485-41bc-bba3-6e53e827da66"
      },
      "outputs": [
        {
          "name": "stdout",
          "output_type": "stream",
          "text": [
            "Give Salary20000\n",
            "Give Years of Experience11\n",
            "Give Rating4.6\n",
            "HI your bonus % is 20 Your FInal Salary is 24000.0\n"
          ]
        }
      ],
      "source": [
        "salary = int(input(\"Give Salary\"))\n",
        "yrs = int(input(\"Give Years of Experience\"))\n",
        "rating = float(input(\"Give Rating\"))\n",
        "\n",
        "if rating > 4.5:\n",
        "  if yrs >= 10:\n",
        "    bonus = 20\n",
        "  elif yrs > 5:\n",
        "    bonus = 10\n",
        "elif rating > 3.5:\n",
        "  if yrs >= 10:\n",
        "    bonus = 10\n",
        "  elif yrs > 5:\n",
        "    bonus = 5\n",
        "else:\n",
        "  bonus = 0\n",
        "\n",
        "final_salary = (salary + ((bonus/100)*salary))\n",
        "print(\"HI your bonus % is\",bonus, \"Your FInal Salary is\", final_salary)"
      ]
    },
    {
      "cell_type": "markdown",
      "metadata": {
        "id": "t5c82cab_7du"
      },
      "source": [
        "# Loops"
      ]
    },
    {
      "cell_type": "code",
      "execution_count": null,
      "metadata": {
        "colab": {
          "base_uri": "https://localhost:8080/"
        },
        "id": "-rUmF45sydXe",
        "outputId": "ae5ce7a4-7a29-4d96-84a0-aba9d7dafed9"
      },
      "outputs": [
        {
          "data": {
            "text/plain": [
              "range(0, 10)"
            ]
          },
          "execution_count": 4,
          "metadata": {},
          "output_type": "execute_result"
        }
      ],
      "source": [
        "range(10)"
      ]
    },
    {
      "cell_type": "code",
      "execution_count": null,
      "metadata": {
        "colab": {
          "base_uri": "https://localhost:8080/"
        },
        "id": "1S_Y07DLydVH",
        "outputId": "6d9e12a3-b4e3-4704-c440-ee564de81dec"
      },
      "outputs": [
        {
          "name": "stdout",
          "output_type": "stream",
          "text": [
            "1\n",
            "3\n",
            "5\n",
            "7\n",
            "9\n"
          ]
        }
      ],
      "source": [
        "for i in range(1,11,2):\n",
        "  print(i)"
      ]
    },
    {
      "cell_type": "code",
      "execution_count": null,
      "metadata": {
        "colab": {
          "base_uri": "https://localhost:8080/"
        },
        "id": "r5vn525TydTE",
        "outputId": "c1a2eef6-b27a-47cd-ba2d-8ec56c5201b9"
      },
      "outputs": [
        {
          "name": "stdout",
          "output_type": "stream",
          "text": [
            "5\n",
            "10\n",
            "15\n",
            "20\n",
            "25\n",
            "30\n",
            "35\n",
            "40\n",
            "45\n",
            "50\n"
          ]
        }
      ],
      "source": [
        "for i in range(5,51,5):\n",
        "  print(i)"
      ]
    },
    {
      "cell_type": "code",
      "execution_count": null,
      "metadata": {
        "colab": {
          "base_uri": "https://localhost:8080/"
        },
        "id": "lK4oDGaWydQ5",
        "outputId": "93ce5442-d756-4eb1-b66b-7055f3203453"
      },
      "outputs": [
        {
          "name": "stdout",
          "output_type": "stream",
          "text": [
            "5\n",
            "10\n",
            "15\n",
            "20\n",
            "25\n",
            "30\n",
            "35\n",
            "40\n",
            "45\n",
            "50\n"
          ]
        }
      ],
      "source": [
        "num = 5\n",
        "\n",
        "for i in range(num,(num*10)+1,num):\n",
        "  print(i)\n"
      ]
    },
    {
      "cell_type": "code",
      "execution_count": null,
      "metadata": {
        "id": "-3y6M5iaydOX"
      },
      "outputs": [],
      "source": [
        "for i in range(50,1,-5):\n",
        "  print(i)"
      ]
    },
    {
      "cell_type": "code",
      "execution_count": null,
      "metadata": {
        "colab": {
          "base_uri": "https://localhost:8080/"
        },
        "id": "2o9DKeuGydLa",
        "outputId": "7275d8c8-e3d9-4067-fb98-178c22fbbc6b"
      },
      "outputs": [
        {
          "name": "stdout",
          "output_type": "stream",
          "text": [
            "20\n",
            "18\n",
            "16\n",
            "14\n",
            "12\n",
            "10\n",
            "8\n",
            "6\n",
            "4\n",
            "2\n"
          ]
        }
      ],
      "source": [
        "num = 2\n",
        "\n",
        "for i in range(num*10,num-1,-num):\n",
        "  print(i)"
      ]
    },
    {
      "cell_type": "code",
      "execution_count": null,
      "metadata": {
        "id": "gZznDGbBydJH"
      },
      "outputs": [],
      "source": []
    },
    {
      "cell_type": "code",
      "execution_count": null,
      "metadata": {
        "id": "gwbXaoL_DbiS"
      },
      "outputs": [],
      "source": []
    },
    {
      "cell_type": "code",
      "execution_count": null,
      "metadata": {
        "id": "EQVjnUamDbgP"
      },
      "outputs": [],
      "source": []
    },
    {
      "cell_type": "code",
      "execution_count": null,
      "metadata": {
        "id": "mNNYhvcrDbaC"
      },
      "outputs": [],
      "source": []
    },
    {
      "cell_type": "code",
      "execution_count": null,
      "metadata": {
        "id": "3irc4YkWDbX2"
      },
      "outputs": [],
      "source": []
    },
    {
      "cell_type": "markdown",
      "metadata": {
        "id": "mMR6lzkGyeKC"
      },
      "source": [
        "# Q. Find numbers between 1 to 100 and are divisible by both 3 and 5"
      ]
    },
    {
      "cell_type": "code",
      "execution_count": null,
      "metadata": {
        "colab": {
          "base_uri": "https://localhost:8080/"
        },
        "id": "cLtVxTt0ydGh",
        "outputId": "d6436b8b-e914-4f3b-85ce-3cf29730e826"
      },
      "outputs": [
        {
          "name": "stdout",
          "output_type": "stream",
          "text": [
            "15\n",
            "30\n",
            "45\n",
            "60\n",
            "75\n",
            "90\n"
          ]
        }
      ],
      "source": [
        "for i in range(1,101):\n",
        "  if (i%3==0 and i%5 == 0):\n",
        "    print(i)\n"
      ]
    },
    {
      "cell_type": "code",
      "execution_count": null,
      "metadata": {
        "id": "sqPB2imZIu1X"
      },
      "outputs": [],
      "source": []
    },
    {
      "cell_type": "code",
      "execution_count": null,
      "metadata": {
        "id": "4q4PEN6tItms"
      },
      "outputs": [],
      "source": []
    },
    {
      "cell_type": "code",
      "execution_count": null,
      "metadata": {
        "id": "FHRkozsmIti2"
      },
      "outputs": [],
      "source": []
    },
    {
      "cell_type": "code",
      "execution_count": null,
      "metadata": {
        "id": "zjhhbPizItac"
      },
      "outputs": [],
      "source": []
    },
    {
      "cell_type": "code",
      "execution_count": null,
      "metadata": {
        "id": "qlOudrZfItIl"
      },
      "outputs": [],
      "source": []
    },
    {
      "cell_type": "markdown",
      "metadata": {
        "id": "yR6Z67poys8b"
      },
      "source": [
        "# Q. Count the numbers between 1 to 100 and are divisible by both 3 and 5"
      ]
    },
    {
      "cell_type": "code",
      "execution_count": null,
      "metadata": {
        "colab": {
          "base_uri": "https://localhost:8080/"
        },
        "id": "i2cVcSXPKYur",
        "outputId": "ce638583-e9d2-4e26-866c-fc10772bd28f"
      },
      "outputs": [
        {
          "name": "stdout",
          "output_type": "stream",
          "text": [
            "15\n",
            "30\n",
            "45\n",
            "60\n",
            "75\n",
            "90\n",
            "The counter value is 1\n"
          ]
        }
      ],
      "source": [
        "counter = 0\n",
        "\n",
        "for i in range(1,101):\n",
        "  if (i%3 == 0 and i%5 == 0):\n",
        "    # print(i)\n",
        "    counter = counter + 1\n",
        "\n",
        "print(\"The counter value is\",counter)"
      ]
    },
    {
      "cell_type": "code",
      "execution_count": null,
      "metadata": {
        "id": "R7TD6NVYKYeI"
      },
      "outputs": [],
      "source": []
    },
    {
      "cell_type": "markdown",
      "metadata": {
        "id": "OjsOx2yhNt0L"
      },
      "source": [
        "# Q. FInd the sum of first N natural numbers"
      ]
    },
    {
      "cell_type": "code",
      "execution_count": null,
      "metadata": {
        "colab": {
          "base_uri": "https://localhost:8080/"
        },
        "id": "USEz_F61NtUL",
        "outputId": "dfc59bb1-1d29-436f-909d-19986aea36ab"
      },
      "outputs": [
        {
          "name": "stdout",
          "output_type": "stream",
          "text": [
            "210\n"
          ]
        }
      ],
      "source": [
        "N = 20\n",
        "counter = 0\n",
        "\n",
        "for i in range(1,N+1):\n",
        "  counter = counter + i\n",
        "\n",
        "print(counter)"
      ]
    },
    {
      "cell_type": "code",
      "execution_count": null,
      "metadata": {
        "id": "bXwn_qVzKYa9"
      },
      "outputs": [],
      "source": []
    },
    {
      "cell_type": "code",
      "execution_count": null,
      "metadata": {
        "id": "bVJaHRSoKXr0"
      },
      "outputs": [],
      "source": []
    },
    {
      "cell_type": "code",
      "execution_count": null,
      "metadata": {
        "id": "siILrANbKXo4"
      },
      "outputs": [],
      "source": []
    },
    {
      "cell_type": "code",
      "execution_count": null,
      "metadata": {
        "id": "xUIxzUfPKXhe"
      },
      "outputs": [],
      "source": []
    },
    {
      "cell_type": "code",
      "execution_count": null,
      "metadata": {
        "id": "elxSNYSOyvf8"
      },
      "outputs": [],
      "source": []
    },
    {
      "cell_type": "markdown",
      "metadata": {
        "id": "cBj36MR3zjX2"
      },
      "source": [
        "# Q. Find First 10 number between 1 and 10,000 those who are divisible by 3, 5 and 7"
      ]
    },
    {
      "cell_type": "code",
      "execution_count": null,
      "metadata": {
        "colab": {
          "base_uri": "https://localhost:8080/"
        },
        "id": "l8EDYEnBP-CB",
        "outputId": "0720e8b2-5d05-4ffa-a0a9-854fa23adab9"
      },
      "outputs": [
        {
          "name": "stdout",
          "output_type": "stream",
          "text": [
            "0\n"
          ]
        }
      ],
      "source": [
        "counter = 0\n",
        "\n",
        "for i in range(1,10000):\n",
        "  if (i%3 == 0 and i%5 == 0 and i%7 == 0):\n",
        "    counter += 1\n",
        "    print(i)\n",
        "\n",
        "  if (counter == 10):\n",
        "    break\n",
        "\n",
        "print(counter)"
      ]
    },
    {
      "cell_type": "code",
      "execution_count": null,
      "metadata": {
        "colab": {
          "base_uri": "https://localhost:8080/"
        },
        "id": "XVVO1qTkP9-4",
        "outputId": "720abf04-beeb-4d35-8c8f-f7af3a206e23"
      },
      "outputs": [
        {
          "name": "stdout",
          "output_type": "stream",
          "text": [
            "H\n",
            "a\n",
            "r\n",
            "s\n",
            "h\n"
          ]
        }
      ],
      "source": [
        "for i in \"Harsh\":\n",
        "  print(i)"
      ]
    },
    {
      "cell_type": "code",
      "execution_count": null,
      "metadata": {
        "colab": {
          "base_uri": "https://localhost:8080/"
        },
        "id": "REDMnAslDvCF",
        "outputId": "e6deee0d-d254-49aa-e9b0-7a326847b0ae"
      },
      "outputs": [
        {
          "name": "stdout",
          "output_type": "stream",
          "text": [
            "H\n",
            "a\n",
            "r\n",
            "s\n",
            "h\n",
            "v\n",
            "a\n",
            "r\n",
            "d\n",
            "h\n",
            "a\n",
            "n\n",
            " \n",
            "S\n",
            "i\n",
            "n\n",
            "g\n",
            "h\n"
          ]
        }
      ],
      "source": [
        "for i in \"Harshvardhan Singh\":\n",
        "  print(i)"
      ]
    },
    {
      "cell_type": "code",
      "execution_count": null,
      "metadata": {
        "id": "NqySFAh2P8B2"
      },
      "outputs": [],
      "source": []
    },
    {
      "cell_type": "code",
      "execution_count": null,
      "metadata": {
        "id": "rsRHG7tOzi86"
      },
      "outputs": [],
      "source": []
    },
    {
      "cell_type": "markdown",
      "metadata": {
        "id": "qCqpKXR22XkE"
      },
      "source": [
        "# Q. Print only the vowels from a given string using a for loop."
      ]
    },
    {
      "cell_type": "code",
      "execution_count": null,
      "metadata": {
        "colab": {
          "base_uri": "https://localhost:8080/"
        },
        "id": "L_5YX8wuFRSG",
        "outputId": "6faa71a5-886b-4113-aa75-89b97810443a"
      },
      "outputs": [
        {
          "name": "stdout",
          "output_type": "stream",
          "text": [
            "Give NameHarshvardhan\n",
            "3\n"
          ]
        }
      ],
      "source": [
        "s = input(\"Give Name\")\n",
        "v = 'aeiouAEIOU'\n",
        "c = 0\n",
        "\n",
        "for i in s:\n",
        "  if i in v:\n",
        "    c += 1\n",
        "\n",
        "print(c)"
      ]
    },
    {
      "cell_type": "code",
      "execution_count": null,
      "metadata": {
        "id": "Bu6ctyH6FTug"
      },
      "outputs": [],
      "source": []
    },
    {
      "cell_type": "code",
      "execution_count": null,
      "metadata": {
        "id": "LAQdHmGAFTrs"
      },
      "outputs": [],
      "source": []
    },
    {
      "cell_type": "code",
      "execution_count": null,
      "metadata": {
        "id": "Q2p4NDIMFToa"
      },
      "outputs": [],
      "source": []
    },
    {
      "cell_type": "code",
      "execution_count": null,
      "metadata": {
        "id": "R1Ca6hmjFTlX"
      },
      "outputs": [],
      "source": []
    },
    {
      "cell_type": "code",
      "execution_count": null,
      "metadata": {
        "id": "_Zk812FwFTgB"
      },
      "outputs": [],
      "source": []
    },
    {
      "cell_type": "code",
      "execution_count": null,
      "metadata": {
        "id": "v6Vh5_wXFTc-"
      },
      "outputs": [],
      "source": []
    },
    {
      "cell_type": "markdown",
      "metadata": {
        "id": "BZSJIdyC1GEH"
      },
      "source": [
        "# Pattern Printing"
      ]
    },
    {
      "cell_type": "code",
      "execution_count": null,
      "metadata": {
        "colab": {
          "base_uri": "https://localhost:8080/"
        },
        "id": "_UxEBc3KI3vH",
        "outputId": "d82c7dd7-ec04-4394-da27-6d8fc1a57878"
      },
      "outputs": [
        {
          "name": "stdout",
          "output_type": "stream",
          "text": [
            "* \n",
            "* * \n",
            "* * * \n",
            "* * * * \n",
            "* * * * * \n"
          ]
        }
      ],
      "source": [
        "num = 5\n",
        "\n",
        "for i in range(1,num+1):\n",
        "  print(\"* \"*i)"
      ]
    },
    {
      "cell_type": "code",
      "execution_count": null,
      "metadata": {
        "colab": {
          "base_uri": "https://localhost:8080/"
        },
        "id": "SqZA4BDxJmtE",
        "outputId": "8e30c9f1-349a-444b-ecdb-add5fc5cd4d9"
      },
      "outputs": [
        {
          "name": "stdout",
          "output_type": "stream",
          "text": [
            "* * * * * \n",
            "* * * * \n",
            "* * * \n",
            "* * \n",
            "* \n"
          ]
        }
      ],
      "source": [
        "num = 5\n",
        "\n",
        "for i in range(num,0,-1):\n",
        "  print(\"* \"*i)"
      ]
    },
    {
      "cell_type": "code",
      "execution_count": null,
      "metadata": {
        "colab": {
          "base_uri": "https://localhost:8080/"
        },
        "id": "3ctsPe7sMp5K",
        "outputId": "61d7661e-3b52-454e-c586-d4fea5926f95"
      },
      "outputs": [
        {
          "name": "stdout",
          "output_type": "stream",
          "text": [
            "* \n",
            "* * \n",
            "* * * \n",
            "* * * * \n",
            "* * * * * \n",
            "* * * * * \n",
            "* * * * \n",
            "* * * \n",
            "* * \n",
            "* \n"
          ]
        }
      ],
      "source": [
        "num = 5\n",
        "\n",
        "for i in range(1,num+1):\n",
        "  print(\"* \"*i)\n",
        "\n",
        "for i in range(num,0,-1):\n",
        "  print(\"* \"*i)"
      ]
    },
    {
      "cell_type": "code",
      "execution_count": null,
      "metadata": {
        "colab": {
          "base_uri": "https://localhost:8080/"
        },
        "id": "JiaAVh0eKeXY",
        "outputId": "de7f8ccd-63f9-4414-af7a-a1377a15b048"
      },
      "outputs": [
        {
          "name": "stdout",
          "output_type": "stream",
          "text": [
            "* * * * * \n",
            "* * * * * \n",
            "* * * * * \n",
            "* * * * * \n",
            "* * * * * \n"
          ]
        }
      ],
      "source": [
        "num = 5\n",
        "\n",
        "for i in range(1, num+1):\n",
        "  print(\"* \"*num)"
      ]
    },
    {
      "cell_type": "code",
      "execution_count": null,
      "metadata": {
        "id": "Cl5j-46FMm5o"
      },
      "outputs": [],
      "source": []
    },
    {
      "cell_type": "markdown",
      "metadata": {
        "id": "K_uRqrYkL1wE"
      },
      "source": [
        "******\n",
        "*    *\n",
        "*    *\n",
        "*    *\n",
        "*    *\n",
        "******"
      ]
    },
    {
      "cell_type": "code",
      "execution_count": null,
      "metadata": {
        "colab": {
          "base_uri": "https://localhost:8080/"
        },
        "id": "v_OhZI6pOEUM",
        "outputId": "38a4bd87-f19f-45c9-a1b3-f40188673130"
      },
      "outputs": [
        {
          "name": "stdout",
          "output_type": "stream",
          "text": [
            "A A A A A A A A A A \n",
            "|                 |\n",
            "|                 |\n",
            "|                 |\n",
            "|                 |\n",
            "|                 |\n",
            "|                 |\n",
            "|                 |\n",
            "|                 |\n",
            "A A A A A A A A A A \n"
          ]
        }
      ],
      "source": [
        "num = 10\n",
        "\n",
        "print(\"A \"*num)\n",
        "\n",
        "for i in range(num-2):\n",
        "  print(\"| \"+\"  \"*(num-2)+\"|\")\n",
        "\n",
        "print(\"A \"*num)"
      ]
    },
    {
      "cell_type": "markdown",
      "metadata": {
        "id": "7sgpRN0mR6mg"
      },
      "source": [
        "*\n",
        "**\n",
        "* *\n",
        "*  *\n",
        "*   *\n",
        "******"
      ]
    },
    {
      "cell_type": "code",
      "execution_count": null,
      "metadata": {
        "colab": {
          "base_uri": "https://localhost:8080/"
        },
        "id": "ZQhp5eYZQoJb",
        "outputId": "33007d46-670a-4076-9cd3-b144b878e0c6"
      },
      "outputs": [
        {
          "name": "stdout",
          "output_type": "stream",
          "text": [
            "*\n",
            "* *\n",
            "*  *\n",
            "*   *\n",
            "*    *\n",
            "*     *\n",
            "*      *\n",
            "*       *\n",
            "**********\n"
          ]
        }
      ],
      "source": [
        "num = 10\n",
        "\n",
        "print(\"*\"*1)\n",
        "\n",
        "for i in range(1, num - 2):\n",
        "    print(\"*\" + \" \" * i + \"*\")\n",
        "\n",
        "print(\"*\"*num)"
      ]
    },
    {
      "cell_type": "markdown",
      "metadata": {
        "id": "MECLpFiVVTGn"
      },
      "source": [
        "### Prime Numbers"
      ]
    },
    {
      "cell_type": "markdown",
      "metadata": {
        "id": "O5ky4kwju_0z"
      },
      "source": [
        "### Q. Find the sum of first 100 odd numbers"
      ]
    },
    {
      "cell_type": "code",
      "execution_count": null,
      "metadata": {
        "colab": {
          "base_uri": "https://localhost:8080/"
        },
        "id": "IqNAuljau6Kj",
        "outputId": "19c0fb58-6fac-4ded-cf99-7b0ce88c4867"
      },
      "outputs": [
        {
          "name": "stdout",
          "output_type": "stream",
          "text": [
            "The Sum is  10000\n"
          ]
        }
      ],
      "source": [
        "sum = 0\n",
        "count = 0\n",
        "\n",
        "for i in range(10000):\n",
        "  if i%2 != 0:\n",
        "    sum = sum + i\n",
        "    count = count + 1\n",
        "\n",
        "    if count == 100:\n",
        "      break\n",
        "\n",
        "\n",
        "print(\"The Sum is \",sum)"
      ]
    },
    {
      "cell_type": "markdown",
      "metadata": {
        "id": "JybURfv01NGw"
      },
      "source": [
        "# Prime Numbers"
      ]
    },
    {
      "cell_type": "code",
      "execution_count": null,
      "metadata": {
        "id": "x56fryFv4QXW"
      },
      "outputs": [],
      "source": []
    },
    {
      "cell_type": "code",
      "source": [
        "## Nested Loops\n",
        "\n",
        "for i in range(1,7):\n",
        "  for j in range(1,7):\n",
        "    for k in range(1,7):\n",
        "      print(i,j,k)\n",
        "  print(\"*\"*20)"
      ],
      "metadata": {
        "colab": {
          "base_uri": "https://localhost:8080/"
        },
        "id": "LfTKOZHw7_XM",
        "outputId": "40e5c247-2780-4dec-ee9b-1dba60e5c5ea"
      },
      "execution_count": null,
      "outputs": [
        {
          "output_type": "stream",
          "name": "stdout",
          "text": [
            "1 1 1\n",
            "1 1 2\n",
            "1 1 3\n",
            "1 1 4\n",
            "1 1 5\n",
            "1 1 6\n",
            "********************\n",
            "1 2 1\n",
            "1 2 2\n",
            "1 2 3\n",
            "1 2 4\n",
            "1 2 5\n",
            "1 2 6\n",
            "********************\n",
            "1 3 1\n",
            "1 3 2\n",
            "1 3 3\n",
            "1 3 4\n",
            "1 3 5\n",
            "1 3 6\n",
            "********************\n",
            "1 4 1\n",
            "1 4 2\n",
            "1 4 3\n",
            "1 4 4\n",
            "1 4 5\n",
            "1 4 6\n",
            "********************\n",
            "1 5 1\n",
            "1 5 2\n",
            "1 5 3\n",
            "1 5 4\n",
            "1 5 5\n",
            "1 5 6\n",
            "********************\n",
            "1 6 1\n",
            "1 6 2\n",
            "1 6 3\n",
            "1 6 4\n",
            "1 6 5\n",
            "1 6 6\n",
            "********************\n",
            "2 1 1\n",
            "2 1 2\n",
            "2 1 3\n",
            "2 1 4\n",
            "2 1 5\n",
            "2 1 6\n",
            "********************\n",
            "2 2 1\n",
            "2 2 2\n",
            "2 2 3\n",
            "2 2 4\n",
            "2 2 5\n",
            "2 2 6\n",
            "********************\n",
            "2 3 1\n",
            "2 3 2\n",
            "2 3 3\n",
            "2 3 4\n",
            "2 3 5\n",
            "2 3 6\n",
            "********************\n",
            "2 4 1\n",
            "2 4 2\n",
            "2 4 3\n",
            "2 4 4\n",
            "2 4 5\n",
            "2 4 6\n",
            "********************\n",
            "2 5 1\n",
            "2 5 2\n",
            "2 5 3\n",
            "2 5 4\n",
            "2 5 5\n",
            "2 5 6\n",
            "********************\n",
            "2 6 1\n",
            "2 6 2\n",
            "2 6 3\n",
            "2 6 4\n",
            "2 6 5\n",
            "2 6 6\n",
            "********************\n",
            "3 1 1\n",
            "3 1 2\n",
            "3 1 3\n",
            "3 1 4\n",
            "3 1 5\n",
            "3 1 6\n",
            "********************\n",
            "3 2 1\n",
            "3 2 2\n",
            "3 2 3\n",
            "3 2 4\n",
            "3 2 5\n",
            "3 2 6\n",
            "********************\n",
            "3 3 1\n",
            "3 3 2\n",
            "3 3 3\n",
            "3 3 4\n",
            "3 3 5\n",
            "3 3 6\n",
            "********************\n",
            "3 4 1\n",
            "3 4 2\n",
            "3 4 3\n",
            "3 4 4\n",
            "3 4 5\n",
            "3 4 6\n",
            "********************\n",
            "3 5 1\n",
            "3 5 2\n",
            "3 5 3\n",
            "3 5 4\n",
            "3 5 5\n",
            "3 5 6\n",
            "********************\n",
            "3 6 1\n",
            "3 6 2\n",
            "3 6 3\n",
            "3 6 4\n",
            "3 6 5\n",
            "3 6 6\n",
            "********************\n",
            "4 1 1\n",
            "4 1 2\n",
            "4 1 3\n",
            "4 1 4\n",
            "4 1 5\n",
            "4 1 6\n",
            "********************\n",
            "4 2 1\n",
            "4 2 2\n",
            "4 2 3\n",
            "4 2 4\n",
            "4 2 5\n",
            "4 2 6\n",
            "********************\n",
            "4 3 1\n",
            "4 3 2\n",
            "4 3 3\n",
            "4 3 4\n",
            "4 3 5\n",
            "4 3 6\n",
            "********************\n",
            "4 4 1\n",
            "4 4 2\n",
            "4 4 3\n",
            "4 4 4\n",
            "4 4 5\n",
            "4 4 6\n",
            "********************\n",
            "4 5 1\n",
            "4 5 2\n",
            "4 5 3\n",
            "4 5 4\n",
            "4 5 5\n",
            "4 5 6\n",
            "********************\n",
            "4 6 1\n",
            "4 6 2\n",
            "4 6 3\n",
            "4 6 4\n",
            "4 6 5\n",
            "4 6 6\n",
            "********************\n",
            "5 1 1\n",
            "5 1 2\n",
            "5 1 3\n",
            "5 1 4\n",
            "5 1 5\n",
            "5 1 6\n",
            "********************\n",
            "5 2 1\n",
            "5 2 2\n",
            "5 2 3\n",
            "5 2 4\n",
            "5 2 5\n",
            "5 2 6\n",
            "********************\n",
            "5 3 1\n",
            "5 3 2\n",
            "5 3 3\n",
            "5 3 4\n",
            "5 3 5\n",
            "5 3 6\n",
            "********************\n",
            "5 4 1\n",
            "5 4 2\n",
            "5 4 3\n",
            "5 4 4\n",
            "5 4 5\n",
            "5 4 6\n",
            "********************\n",
            "5 5 1\n",
            "5 5 2\n",
            "5 5 3\n",
            "5 5 4\n",
            "5 5 5\n",
            "5 5 6\n",
            "********************\n",
            "5 6 1\n",
            "5 6 2\n",
            "5 6 3\n",
            "5 6 4\n",
            "5 6 5\n",
            "5 6 6\n",
            "********************\n",
            "6 1 1\n",
            "6 1 2\n",
            "6 1 3\n",
            "6 1 4\n",
            "6 1 5\n",
            "6 1 6\n",
            "********************\n",
            "6 2 1\n",
            "6 2 2\n",
            "6 2 3\n",
            "6 2 4\n",
            "6 2 5\n",
            "6 2 6\n",
            "********************\n",
            "6 3 1\n",
            "6 3 2\n",
            "6 3 3\n",
            "6 3 4\n",
            "6 3 5\n",
            "6 3 6\n",
            "********************\n",
            "6 4 1\n",
            "6 4 2\n",
            "6 4 3\n",
            "6 4 4\n",
            "6 4 5\n",
            "6 4 6\n",
            "********************\n",
            "6 5 1\n",
            "6 5 2\n",
            "6 5 3\n",
            "6 5 4\n",
            "6 5 5\n",
            "6 5 6\n",
            "********************\n",
            "6 6 1\n",
            "6 6 2\n",
            "6 6 3\n",
            "6 6 4\n",
            "6 6 5\n",
            "6 6 6\n",
            "********************\n"
          ]
        }
      ]
    },
    {
      "cell_type": "code",
      "source": [
        "roll_number\n",
        "name\n",
        "class_\n",
        "phone_number\n",
        "address_\n",
        "stream_\n",
        "physics\n",
        "maths\n",
        "chem\n",
        "eng\n",
        "hindi"
      ],
      "metadata": {
        "id": "bLQfSMzL8ZJs"
      },
      "execution_count": null,
      "outputs": []
    },
    {
      "cell_type": "markdown",
      "source": [
        "# List"
      ],
      "metadata": {
        "id": "awe0UKfjAilp"
      }
    },
    {
      "cell_type": "code",
      "source": [
        "lst = []\n",
        "print(type(lst))"
      ],
      "metadata": {
        "colab": {
          "base_uri": "https://localhost:8080/"
        },
        "id": "I1Zjoh6pAiA7",
        "outputId": "0f4b9dc1-c431-4249-9b99-695562934482"
      },
      "execution_count": null,
      "outputs": [
        {
          "output_type": "stream",
          "name": "stdout",
          "text": [
            "<class 'list'>\n"
          ]
        }
      ]
    },
    {
      "cell_type": "code",
      "source": [
        "lst"
      ],
      "metadata": {
        "colab": {
          "base_uri": "https://localhost:8080/"
        },
        "id": "23z_J5UvAshE",
        "outputId": "ef43797b-7b30-45c2-e0bb-1fc07b3b57d5"
      },
      "execution_count": null,
      "outputs": [
        {
          "output_type": "execute_result",
          "data": {
            "text/plain": [
              "[]"
            ]
          },
          "metadata": {},
          "execution_count": 44
        }
      ]
    },
    {
      "cell_type": "code",
      "source": [
        "name = [1,2,3,4,5,6,23,34,245.65,'harsh','singh',4.123,True]"
      ],
      "metadata": {
        "id": "EcwnQk8LAtk8"
      },
      "execution_count": null,
      "outputs": []
    },
    {
      "cell_type": "code",
      "source": [
        "name[9]"
      ],
      "metadata": {
        "colab": {
          "base_uri": "https://localhost:8080/",
          "height": 35
        },
        "id": "IjBmVARa-F6K",
        "outputId": "725d6ce0-254f-409c-f288-07e3dd869486"
      },
      "execution_count": null,
      "outputs": [
        {
          "output_type": "execute_result",
          "data": {
            "text/plain": [
              "'harsh'"
            ],
            "application/vnd.google.colaboratory.intrinsic+json": {
              "type": "string"
            }
          },
          "metadata": {},
          "execution_count": 7
        }
      ]
    },
    {
      "cell_type": "code",
      "source": [
        "name[9] = \"Vidit\""
      ],
      "metadata": {
        "id": "Kp7_Wz3y-UPq"
      },
      "execution_count": null,
      "outputs": []
    },
    {
      "cell_type": "code",
      "source": [
        "name"
      ],
      "metadata": {
        "colab": {
          "base_uri": "https://localhost:8080/"
        },
        "id": "erBuUsfT-bUQ",
        "outputId": "abcdc152-12f0-4679-e7e0-f35001534e4f"
      },
      "execution_count": null,
      "outputs": [
        {
          "output_type": "execute_result",
          "data": {
            "text/plain": [
              "[1, 2, 3, 4, 5, 6, 23, 34, 245.65, 'Vidit', 'singh', 4.123, True]"
            ]
          },
          "metadata": {},
          "execution_count": 9
        }
      ]
    },
    {
      "cell_type": "code",
      "source": [
        "name.append(223)"
      ],
      "metadata": {
        "id": "9p5-MTPz-kDA"
      },
      "execution_count": null,
      "outputs": []
    },
    {
      "cell_type": "code",
      "source": [
        "name"
      ],
      "metadata": {
        "colab": {
          "base_uri": "https://localhost:8080/"
        },
        "id": "twh3zSFA-q0N",
        "outputId": "cb99f17c-f8b2-4e14-812e-e123165e329f"
      },
      "execution_count": null,
      "outputs": [
        {
          "output_type": "execute_result",
          "data": {
            "text/plain": [
              "[1, 2, 3, 4, 5, 6, 23, 34, 245.65, 'Vidit', 'singh', 4.123, True, 223]"
            ]
          },
          "metadata": {},
          "execution_count": 11
        }
      ]
    },
    {
      "cell_type": "markdown",
      "source": [
        "## Q. Create a list with numbers between 1 to 10 and the value should be squared"
      ],
      "metadata": {
        "id": "8Q0qlb-o-0Mi"
      }
    },
    {
      "cell_type": "code",
      "source": [
        "lst = []\n",
        "\n",
        "for i in range(1,11):\n",
        "  lst.append(i**2)\n",
        "\n",
        "lst"
      ],
      "metadata": {
        "colab": {
          "base_uri": "https://localhost:8080/"
        },
        "id": "pS65wPMtAL4n",
        "outputId": "a8bf82b8-c091-4091-8ef1-563290b729b8"
      },
      "execution_count": null,
      "outputs": [
        {
          "output_type": "execute_result",
          "data": {
            "text/plain": [
              "[1, 4, 9, 16, 25, 36, 49, 64, 81, 100]"
            ]
          },
          "metadata": {},
          "execution_count": 17
        }
      ]
    },
    {
      "cell_type": "markdown",
      "source": [
        "## Q. Create a list with numbers between 1 to 100 and the value should contain only even numbers"
      ],
      "metadata": {
        "id": "XDXgQE5wA8vo"
      }
    },
    {
      "cell_type": "code",
      "source": [
        "lst = []\n",
        "\n",
        "for i in range(1,101):\n",
        "  if i%2 == 0:\n",
        "    lst.append(i)\n",
        "\n",
        "print(lst)"
      ],
      "metadata": {
        "colab": {
          "base_uri": "https://localhost:8080/"
        },
        "id": "XL_z_JRbBE_a",
        "outputId": "d76d116a-1012-4596-8a8d-0094a725f3ec"
      },
      "execution_count": null,
      "outputs": [
        {
          "output_type": "stream",
          "name": "stdout",
          "text": [
            "[2, 4, 6, 8, 10, 12, 14, 16, 18, 20, 22, 24, 26, 28, 30, 32, 34, 36, 38, 40, 42, 44, 46, 48, 50, 52, 54, 56, 58, 60, 62, 64, 66, 68, 70, 72, 74, 76, 78, 80, 82, 84, 86, 88, 90, 92, 94, 96, 98, 100]\n"
          ]
        }
      ]
    },
    {
      "cell_type": "code",
      "source": [
        "flag = False\n",
        "\n",
        "for i in range(len(name)):\n",
        "  if str(name[i]).lower() == 'vidit':\n",
        "    flag = True\n",
        "\n",
        "if flag == True:\n",
        "  print(\"Found\")\n",
        "else:\n",
        "  print(\"Not Found\")"
      ],
      "metadata": {
        "colab": {
          "base_uri": "https://localhost:8080/"
        },
        "id": "SdOUxNzEDxhd",
        "outputId": "d6c6fa32-25a9-4364-e10c-578027765d74"
      },
      "execution_count": null,
      "outputs": [
        {
          "output_type": "stream",
          "name": "stdout",
          "text": [
            "Found\n"
          ]
        }
      ]
    },
    {
      "cell_type": "code",
      "source": [
        "print(name[-1].lower)"
      ],
      "metadata": {
        "colab": {
          "base_uri": "https://localhost:8080/"
        },
        "id": "Lc-8egupE83n",
        "outputId": "587dfb7b-841c-43ea-94b3-827a33f5bf1c"
      },
      "execution_count": null,
      "outputs": [
        {
          "output_type": "stream",
          "name": "stdout",
          "text": [
            "<built-in method lower of str object at 0x796bf34e7230>\n"
          ]
        }
      ]
    },
    {
      "cell_type": "code",
      "source": [],
      "metadata": {
        "id": "zoV9gINJ6eEm"
      },
      "execution_count": null,
      "outputs": []
    },
    {
      "cell_type": "markdown",
      "source": [
        "## List Comprehension\n",
        "\n",
        "* Basics Syantax [expression for item in iterable]\n",
        "\n",
        "* with conditional logic [expression for item in iterable if condition]\n",
        "\n",
        "* Nested List Comprehension [expression for item1 in iterable1 for item2 in iterable2]"
      ],
      "metadata": {
        "id": "wJweeJhd6RRA"
      }
    },
    {
      "cell_type": "code",
      "source": [
        "lst = [(i,j) for i in range(1,7) for j in range(1,7)]\n",
        "print(lst)"
      ],
      "metadata": {
        "colab": {
          "base_uri": "https://localhost:8080/"
        },
        "id": "c-0ilE6uEAtZ",
        "outputId": "96d7ea89-c470-4055-97f8-af3609b26cbd"
      },
      "execution_count": null,
      "outputs": [
        {
          "output_type": "stream",
          "name": "stdout",
          "text": [
            "[{1}, {1, 2}, {1, 3}, {1, 4}, {1, 5}, {1, 6}, {1, 2}, {2}, {2, 3}, {2, 4}, {2, 5}, {2, 6}, {1, 3}, {2, 3}, {3}, {3, 4}, {3, 5}, {3, 6}, {1, 4}, {2, 4}, {3, 4}, {4}, {4, 5}, {4, 6}, {1, 5}, {2, 5}, {3, 5}, {4, 5}, {5}, {5, 6}, {1, 6}, {2, 6}, {3, 6}, {4, 6}, {5, 6}, {6}]\n"
          ]
        }
      ]
    },
    {
      "cell_type": "code",
      "source": [
        "lst = []\n",
        "\n",
        "for i in range(1,7):\n",
        "  for j in range(1,7):\n",
        "    print"
      ],
      "metadata": {
        "colab": {
          "base_uri": "https://localhost:8080/"
        },
        "id": "MPSy-BD4D1Rt",
        "outputId": "0a34c9b2-5b6c-49fd-fe1d-250ac035e59c"
      },
      "execution_count": null,
      "outputs": [
        {
          "output_type": "stream",
          "name": "stdout",
          "text": [
            "1 1\n",
            "1 2\n",
            "1 3\n",
            "1 4\n",
            "1 5\n",
            "1 6\n",
            "2 1\n",
            "2 2\n",
            "2 3\n",
            "2 4\n",
            "2 5\n",
            "2 6\n",
            "3 1\n",
            "3 2\n",
            "3 3\n",
            "3 4\n",
            "3 5\n",
            "3 6\n",
            "4 1\n",
            "4 2\n",
            "4 3\n",
            "4 4\n",
            "4 5\n",
            "4 6\n",
            "5 1\n",
            "5 2\n",
            "5 3\n",
            "5 4\n",
            "5 5\n",
            "5 6\n",
            "6 1\n",
            "6 2\n",
            "6 3\n",
            "6 4\n",
            "6 5\n",
            "6 6\n"
          ]
        }
      ]
    },
    {
      "cell_type": "code",
      "source": [
        "lst = [i for i in range(1,101) if i%2 == 0]\n",
        "print(lst)"
      ],
      "metadata": {
        "colab": {
          "base_uri": "https://localhost:8080/"
        },
        "id": "-YuzqGu8DPKp",
        "outputId": "90e0c4d4-07a3-4d3d-90c4-afc13ce1c3fd"
      },
      "execution_count": null,
      "outputs": [
        {
          "output_type": "stream",
          "name": "stdout",
          "text": [
            "[2, 4, 6, 8, 10, 12, 14, 16, 18, 20, 22, 24, 26, 28, 30, 32, 34, 36, 38, 40, 42, 44, 46, 48, 50, 52, 54, 56, 58, 60, 62, 64, 66, 68, 70, 72, 74, 76, 78, 80, 82, 84, 86, 88, 90, 92, 94, 96, 98, 100]\n"
          ]
        }
      ]
    },
    {
      "cell_type": "code",
      "source": [
        "lst = []\n",
        "\n",
        "for i in range(10):\n",
        "  lst.append(i**2)\n",
        "\n",
        "print(lst)"
      ],
      "metadata": {
        "colab": {
          "base_uri": "https://localhost:8080/"
        },
        "id": "jSBRJsyVCEId",
        "outputId": "5111ba4f-63fd-4fa7-d23f-b72457424e93"
      },
      "execution_count": null,
      "outputs": [
        {
          "output_type": "stream",
          "name": "stdout",
          "text": [
            "[0, 1, 4, 9, 16, 25, 36, 49, 64, 81]\n"
          ]
        }
      ]
    },
    {
      "cell_type": "code",
      "source": [
        "lst = [i**3 for i in range(10)]\n",
        "print(lst)"
      ],
      "metadata": {
        "colab": {
          "base_uri": "https://localhost:8080/"
        },
        "id": "fezgcyiUC6Cl",
        "outputId": "755ec7f7-17a7-4dd2-e9a5-760d247093c7"
      },
      "execution_count": null,
      "outputs": [
        {
          "output_type": "stream",
          "name": "stdout",
          "text": [
            "[0, 1, 8, 27, 64, 125, 216, 343, 512, 729]\n"
          ]
        }
      ]
    },
    {
      "cell_type": "code",
      "source": [
        "lst = [i**2 for i in range(10)]\n",
        "print(lst)"
      ],
      "metadata": {
        "colab": {
          "base_uri": "https://localhost:8080/"
        },
        "id": "8jEhDf_sCD54",
        "outputId": "e98f6057-d520-4d25-a09c-609ff8e4ae6c"
      },
      "execution_count": null,
      "outputs": [
        {
          "output_type": "stream",
          "name": "stdout",
          "text": [
            "[0, 1, 4, 9, 16, 25, 36, 49, 64, 81]\n"
          ]
        }
      ]
    },
    {
      "cell_type": "code",
      "source": [
        "lst = []\n",
        "\n",
        "for i in range(1,101):\n",
        "  if i%2 == 0:\n",
        "    lst.append(i)\n",
        "\n",
        "print(lst)"
      ],
      "metadata": {
        "id": "S8WswIm4CD2N"
      },
      "execution_count": null,
      "outputs": []
    },
    {
      "cell_type": "code",
      "source": [
        "fruits = ['apple','mango','kiwi','orange','banana']"
      ],
      "metadata": {
        "id": "v-Pist6IFsUG"
      },
      "execution_count": null,
      "outputs": []
    },
    {
      "cell_type": "code",
      "source": [
        "fruits.append(\"Watermelon\")\n",
        "print(fruits)"
      ],
      "metadata": {
        "colab": {
          "base_uri": "https://localhost:8080/"
        },
        "id": "Jo9jRQdhF5fP",
        "outputId": "dbac96ba-00ff-4c0d-9cad-e9b7232db382"
      },
      "execution_count": null,
      "outputs": [
        {
          "output_type": "stream",
          "name": "stdout",
          "text": [
            "['apple', 'mango', 'kiwi', 'orange', 'banana', 'Watermelon']\n"
          ]
        }
      ]
    },
    {
      "cell_type": "code",
      "source": [
        "fruits.insert(1,'avacodo')"
      ],
      "metadata": {
        "id": "NUKZsWHwF4ym"
      },
      "execution_count": null,
      "outputs": []
    },
    {
      "cell_type": "code",
      "source": [
        "fruits"
      ],
      "metadata": {
        "colab": {
          "base_uri": "https://localhost:8080/"
        },
        "id": "FjGzzVP4FtgB",
        "outputId": "d2adcdde-aeaf-4f7e-8f7f-ddaa8635422e"
      },
      "execution_count": null,
      "outputs": [
        {
          "output_type": "execute_result",
          "data": {
            "text/plain": [
              "['apple', 'avacodo', 'mango', 'kiwi', 'orange', 'banana', 'Watermelon']"
            ]
          },
          "metadata": {},
          "execution_count": 45
        }
      ]
    },
    {
      "cell_type": "code",
      "source": [
        "fruits.reverse()"
      ],
      "metadata": {
        "id": "j0wrAvifGRL6"
      },
      "execution_count": null,
      "outputs": []
    },
    {
      "cell_type": "code",
      "source": [
        "fruits"
      ],
      "metadata": {
        "colab": {
          "base_uri": "https://localhost:8080/"
        },
        "id": "b4Imi4ajFtJW",
        "outputId": "ba91a48a-ee2b-47fd-86d5-aacac6a88a75"
      },
      "execution_count": null,
      "outputs": [
        {
          "output_type": "execute_result",
          "data": {
            "text/plain": [
              "['Watermelon', 'banana', 'orange', 'kiwi', 'mango', 'avacodo', 'apple']"
            ]
          },
          "metadata": {},
          "execution_count": 47
        }
      ]
    },
    {
      "cell_type": "code",
      "source": [
        "popped_value = fruits.pop()\n",
        "print(popped_value)\n",
        "print(fruits)"
      ],
      "metadata": {
        "colab": {
          "base_uri": "https://localhost:8080/",
          "height": 176
        },
        "id": "c11hkmR7GVjb",
        "outputId": "364542b7-52e8-45c1-833c-305c50ea4d7f"
      },
      "execution_count": null,
      "outputs": [
        {
          "output_type": "error",
          "ename": "IndexError",
          "evalue": "pop from empty list",
          "traceback": [
            "\u001b[0;31m---------------------------------------------------------------------------\u001b[0m",
            "\u001b[0;31mIndexError\u001b[0m                                Traceback (most recent call last)",
            "\u001b[0;32m<ipython-input-55-c6b20887d092>\u001b[0m in \u001b[0;36m<cell line: 0>\u001b[0;34m()\u001b[0m\n\u001b[0;32m----> 1\u001b[0;31m \u001b[0mpopped_value\u001b[0m \u001b[0;34m=\u001b[0m \u001b[0mfruits\u001b[0m\u001b[0;34m.\u001b[0m\u001b[0mpop\u001b[0m\u001b[0;34m(\u001b[0m\u001b[0;34m)\u001b[0m\u001b[0;34m\u001b[0m\u001b[0;34m\u001b[0m\u001b[0m\n\u001b[0m\u001b[1;32m      2\u001b[0m \u001b[0mprint\u001b[0m\u001b[0;34m(\u001b[0m\u001b[0mpopped_value\u001b[0m\u001b[0;34m)\u001b[0m\u001b[0;34m\u001b[0m\u001b[0;34m\u001b[0m\u001b[0m\n\u001b[1;32m      3\u001b[0m \u001b[0mprint\u001b[0m\u001b[0;34m(\u001b[0m\u001b[0mfruits\u001b[0m\u001b[0;34m)\u001b[0m\u001b[0;34m\u001b[0m\u001b[0;34m\u001b[0m\u001b[0m\n",
            "\u001b[0;31mIndexError\u001b[0m: pop from empty list"
          ]
        }
      ]
    },
    {
      "cell_type": "code",
      "source": [
        "fruits.remove('banana')"
      ],
      "metadata": {
        "id": "ZdeNDmFTGVgC"
      },
      "execution_count": null,
      "outputs": []
    },
    {
      "cell_type": "code",
      "source": [
        "fruits"
      ],
      "metadata": {
        "colab": {
          "base_uri": "https://localhost:8080/"
        },
        "id": "WHsNTKo915Bu",
        "outputId": "56d33322-3204-4a6c-d2d4-c40e74571173"
      },
      "execution_count": null,
      "outputs": [
        {
          "output_type": "execute_result",
          "data": {
            "text/plain": [
              "['apple', 'mango', 'kiwi', 'orange', 'banana']"
            ]
          },
          "metadata": {},
          "execution_count": 63
        }
      ]
    },
    {
      "cell_type": "code",
      "source": [
        "marks = [23,45,34,64,54,34]\n",
        "subject = [\"Hindi\",\"English\",\"Physics\",\"Chemistry\",\"Python\",\"Punjabi\"]"
      ],
      "metadata": {
        "id": "7wx769y3-bX8"
      },
      "execution_count": null,
      "outputs": []
    },
    {
      "cell_type": "code",
      "source": [
        "fruits = ['apple','mango','kiwi','orange','banana']"
      ],
      "metadata": {
        "id": "Et8pAfSGHC4b"
      },
      "execution_count": null,
      "outputs": []
    },
    {
      "cell_type": "code",
      "source": [
        "fruits[0:4:2]"
      ],
      "metadata": {
        "colab": {
          "base_uri": "https://localhost:8080/"
        },
        "id": "0rFiF0b_HC2g",
        "outputId": "654a5a05-69eb-4c56-c0b4-f7d406d6308e"
      },
      "execution_count": null,
      "outputs": [
        {
          "output_type": "execute_result",
          "data": {
            "text/plain": [
              "['apple', 'kiwi']"
            ]
          },
          "metadata": {},
          "execution_count": 71
        }
      ]
    },
    {
      "cell_type": "code",
      "source": [
        "len(lst)"
      ],
      "metadata": {
        "colab": {
          "base_uri": "https://localhost:8080/"
        },
        "id": "urCoiJ73LIcr",
        "outputId": "c6ecac69-607a-4bc8-800e-9f1eae6187d8"
      },
      "execution_count": null,
      "outputs": [
        {
          "output_type": "execute_result",
          "data": {
            "text/plain": [
              "4"
            ]
          },
          "metadata": {},
          "execution_count": 86
        }
      ]
    },
    {
      "cell_type": "code",
      "source": [
        "lst = [[1,2,3,3],\n",
        "       [2,3,4,6],\n",
        "       [5,6,3,5],\n",
        "       [3,5,7,7]]\n",
        "\n",
        "# for i in range(len(lst)):\n",
        "#   for j in range(len(lst)):\n",
        "#     print(lst[i][j])\n",
        "\n",
        "(0,3)\n",
        "(1,2)\n",
        "(2,1)\n",
        "(3,0)"
      ],
      "metadata": {
        "colab": {
          "base_uri": "https://localhost:8080/"
        },
        "id": "0bo40DDuLuff",
        "outputId": "7b5c82af-6a0a-4fe6-a71e-1f97ee1be501"
      },
      "execution_count": null,
      "outputs": [
        {
          "output_type": "stream",
          "name": "stdout",
          "text": [
            "1\n",
            "2\n",
            "3\n",
            "3\n",
            "2\n",
            "3\n",
            "4\n",
            "6\n",
            "5\n",
            "6\n",
            "3\n",
            "5\n",
            "3\n",
            "5\n",
            "7\n",
            "7\n"
          ]
        }
      ]
    },
    {
      "cell_type": "code",
      "source": [
        "lst = [[1,2,3],\n",
        "       [4,5,6],\n",
        "       [7,8,9]]\n",
        "\n",
        "(0,1)\n",
        "(0,2)\n",
        "(0,3)\n",
        "(1,1)\n",
        "(1,2)\n"
      ],
      "metadata": {
        "id": "G0auioh6HNht"
      },
      "execution_count": null,
      "outputs": []
    },
    {
      "cell_type": "code",
      "source": [
        "for i in range(len(lst)):\n",
        "  for j in range(len(lst)):\n",
        "    print(lst[i][j])"
      ],
      "metadata": {
        "colab": {
          "base_uri": "https://localhost:8080/"
        },
        "id": "_kHHzcwQHNfk",
        "outputId": "90b19410-557e-4465-8b2d-dc25c9766ad2"
      },
      "execution_count": null,
      "outputs": [
        {
          "output_type": "stream",
          "name": "stdout",
          "text": [
            "1\n",
            "2\n",
            "3\n",
            "4\n",
            "5\n",
            "6\n",
            "7\n",
            "8\n",
            "9\n"
          ]
        }
      ]
    },
    {
      "cell_type": "code",
      "source": [],
      "metadata": {
        "id": "f13UiUZeHNdL"
      },
      "execution_count": null,
      "outputs": []
    },
    {
      "cell_type": "code",
      "source": [],
      "metadata": {
        "id": "XmB80nItHCym"
      },
      "execution_count": null,
      "outputs": []
    },
    {
      "cell_type": "markdown",
      "source": [
        "## Find the average marks the student has scored\n"
      ],
      "metadata": {
        "id": "SaJFp-Hd-Di-"
      }
    },
    {
      "cell_type": "code",
      "source": [],
      "metadata": {
        "id": "Fg01HKQdIJPt"
      },
      "execution_count": null,
      "outputs": []
    },
    {
      "cell_type": "markdown",
      "source": [
        "## Check if the student failed in any exam. Count the frequency"
      ],
      "metadata": {
        "id": "DlaHXwhi-Tgp"
      }
    },
    {
      "cell_type": "code",
      "source": [],
      "metadata": {
        "id": "8ASU-N2l-YE-"
      },
      "execution_count": null,
      "outputs": []
    },
    {
      "cell_type": "markdown",
      "source": [
        "## Create a Credit History"
      ],
      "metadata": {
        "id": "jGuWCplQ_iHd"
      }
    },
    {
      "cell_type": "code",
      "source": [
        "'''\n",
        "80 - 100 A+\n",
        "60 - 80 B\n",
        "40 - 60 C\n",
        "50 - 60 D\n",
        "else F\n",
        "\n",
        "'''"
      ],
      "metadata": {
        "colab": {
          "base_uri": "https://localhost:8080/",
          "height": 35
        },
        "id": "FEe-rf-x_mhZ",
        "outputId": "5a5f4ffd-7504-48d2-81b0-09d0be761ce3"
      },
      "execution_count": null,
      "outputs": [
        {
          "output_type": "execute_result",
          "data": {
            "text/plain": [
              "'\\n80 - 100 A+\\n60 - 80 B\\n40 - 60 C\\n50 - 60 D\\nelse F\\n\\n'"
            ],
            "application/vnd.google.colaboratory.intrinsic+json": {
              "type": "string"
            }
          },
          "metadata": {},
          "execution_count": 4
        }
      ]
    },
    {
      "cell_type": "code",
      "source": [],
      "metadata": {
        "id": "yc9zTyti_722"
      },
      "execution_count": null,
      "outputs": []
    }
  ],
  "metadata": {
    "colab": {
      "provenance": []
    },
    "kernelspec": {
      "display_name": "Python 3",
      "name": "python3"
    },
    "language_info": {
      "name": "python"
    }
  },
  "nbformat": 4,
  "nbformat_minor": 0
}